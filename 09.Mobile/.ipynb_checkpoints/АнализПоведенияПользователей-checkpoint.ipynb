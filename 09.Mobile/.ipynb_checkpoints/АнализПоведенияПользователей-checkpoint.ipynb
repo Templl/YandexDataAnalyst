{
 "cells": [
  {
   "cell_type": "markdown",
   "metadata": {},
   "source": [
    "# Анализ пользовательского поведения в мобильном приложении"
   ]
  },
  {
   "cell_type": "markdown",
   "metadata": {},
   "source": [
    "На основе данных использования мобильного приложения для продажи продуктов питания проанализировать воронку продаж, а также оценить результаты A/A/B-тестирования.\n",
    "\n",
    "Этапы иследования. \n",
    "- Изучите воронку продаж. \n",
    "- Узнайте, как пользователи доходят до покупки. \n",
    "- Сколько пользователей доходит до покупки.\n",
    "- Сколько пользователей не доходит до цели."
   ]
  },
  {
   "cell_type": "markdown",
   "metadata": {},
   "source": [
    "Задача исследовать результаты A/A/B-эксперимента. Дизайнеры захотели поменять шрифты во всём приложении, а менеджеры испугались, что пользователям будет непривычно. Договорились принять решение по результатам A/A/B-теста. Пользователей разбили на 3 группы: 2 контрольные со старыми шрифтами и одну экспериментальную — с новыми. Нужно выяснить, какой шрифт лучше."
   ]
  },
  {
   "cell_type": "code",
   "execution_count": 37,
   "metadata": {},
   "outputs": [],
   "source": [
    "import pandas as pd\n",
    "import numpy as np\n",
    "import seaborn as sns\n",
    "from matplotlib import pyplot as plt\n",
    "from datetime import timedelta\n",
    "import datetime\n",
    "\n",
    "from scipy import stats as st\n",
    "import math as mth\n",
    "\n",
    "import warnings\n",
    "warnings.filterwarnings(\"ignore\")"
   ]
  },
  {
   "cell_type": "code",
   "execution_count": 38,
   "metadata": {},
   "outputs": [],
   "source": [
    "#отображение больших чисел в нормальном виде\n",
    "#pd.set_option('display.float_format', lambda x: '%.2f' % x)\n",
    "pd.options.display.float_format = \"{:.2f}\".format # отображение целого числа, а не \"е\" в степени\n",
    "pd.set_option('display.max_colwidth', -1)"
   ]
  },
  {
   "cell_type": "code",
   "execution_count": 39,
   "metadata": {},
   "outputs": [],
   "source": [
    "df = pd.read_csv('logs_exp.csv', sep='\\t')"
   ]
  },
  {
   "cell_type": "markdown",
   "metadata": {},
   "source": [
    "**Каждая запись в логе — это действие пользователя, или событие.**  \n",
    "EventName — название события;  \n",
    "DeviceIDHash — уникальный идентификатор пользователя;  \n",
    "EventTimestamp — время события;  \n",
    "ExpId — номер эксперимента: 246 и 247 — контрольные группы, а 248 — экспериментальная."
   ]
  },
  {
   "cell_type": "markdown",
   "metadata": {},
   "source": [
    "Цель определить полезность внедрения шрифтов. Это можно определить по параметрам:  \n",
    "   - сколько уникальных пользователей доходят до оплаты. \n",
    "   - взависимости того как пользователи реагирую на изменение шрифтов можно "
   ]
  },
  {
   "cell_type": "markdown",
   "metadata": {},
   "source": [
    "## Предобработка данных"
   ]
  },
  {
   "cell_type": "code",
   "execution_count": 40,
   "metadata": {
    "scrolled": false
   },
   "outputs": [
    {
     "name": "stdout",
     "output_type": "stream",
     "text": [
      "Информация о колонках\n",
      "\n",
      "<class 'pandas.core.frame.DataFrame'>\n",
      "RangeIndex: 244126 entries, 0 to 244125\n",
      "Data columns (total 4 columns):\n",
      " #   Column          Non-Null Count   Dtype \n",
      "---  ------          --------------   ----- \n",
      " 0   EventName       244126 non-null  object\n",
      " 1   DeviceIDHash    244126 non-null  int64 \n",
      " 2   EventTimestamp  244126 non-null  int64 \n",
      " 3   ExpId           244126 non-null  int64 \n",
      "dtypes: int64(3), object(1)\n",
      "memory usage: 7.5+ MB\n",
      "None\n",
      "\n",
      "Шапка таблицы\n",
      "          EventName         DeviceIDHash  EventTimestamp  ExpId\n",
      "0  MainScreenAppear  4575588528974610257  1564029816      246  \n",
      "1  MainScreenAppear  7416695313311560658  1564053102      246  \n",
      "\n",
      "Количество пропусков в колонках\n"
     ]
    },
    {
     "data": {
      "text/html": [
       "<div>\n",
       "<style scoped>\n",
       "    .dataframe tbody tr th:only-of-type {\n",
       "        vertical-align: middle;\n",
       "    }\n",
       "\n",
       "    .dataframe tbody tr th {\n",
       "        vertical-align: top;\n",
       "    }\n",
       "\n",
       "    .dataframe thead th {\n",
       "        text-align: right;\n",
       "    }\n",
       "</style>\n",
       "<table border=\"1\" class=\"dataframe\">\n",
       "  <thead>\n",
       "    <tr style=\"text-align: right;\">\n",
       "      <th></th>\n",
       "      <th>0</th>\n",
       "    </tr>\n",
       "  </thead>\n",
       "  <tbody>\n",
       "    <tr>\n",
       "      <th>EventName</th>\n",
       "      <td>0</td>\n",
       "    </tr>\n",
       "    <tr>\n",
       "      <th>DeviceIDHash</th>\n",
       "      <td>0</td>\n",
       "    </tr>\n",
       "    <tr>\n",
       "      <th>EventTimestamp</th>\n",
       "      <td>0</td>\n",
       "    </tr>\n",
       "    <tr>\n",
       "      <th>ExpId</th>\n",
       "      <td>0</td>\n",
       "    </tr>\n",
       "  </tbody>\n",
       "</table>\n",
       "</div>"
      ],
      "text/plain": [
       "                0\n",
       "EventName       0\n",
       "DeviceIDHash    0\n",
       "EventTimestamp  0\n",
       "ExpId           0"
      ]
     },
     "metadata": {},
     "output_type": "display_data"
    }
   ],
   "source": [
    "#Функция для вывода основных данных о предоставленном датафрейме, шапка, количество пропусков\n",
    "def dataframe_info(df):\n",
    "    print('Информация о колонках\\n')\n",
    "    print(df.info())\n",
    "    \n",
    "    print('\\nШапка таблицы')\n",
    "    print(df.head(2))\n",
    "    \n",
    "    print('\\nКоличество пропусков в колонках')\n",
    "    display(pd.DataFrame(df.isnull().sum()))\n",
    "    \n",
    "    return\n",
    "\n",
    "dataframe_info(df)"
   ]
  },
  {
   "cell_type": "markdown",
   "metadata": {},
   "source": [
    "Меняем названия колонок удобные."
   ]
  },
  {
   "cell_type": "code",
   "execution_count": 41,
   "metadata": {},
   "outputs": [],
   "source": [
    "df.rename(columns={'EventName': 'event', \n",
    "                   'DeviceIDHash': 'id', \n",
    "                   'EventTimestamp': 'datetime', \n",
    "                   'ExpId': 'group'}, \n",
    "          inplace=True)"
   ]
  },
  {
   "cell_type": "code",
   "execution_count": 42,
   "metadata": {},
   "outputs": [],
   "source": [
    "#изменение типов данных\n",
    "df['datetime'] = pd.to_datetime(df['datetime'], unit=\"s\")\n",
    "df['date'] = df['datetime'].dt.date"
   ]
  },
  {
   "cell_type": "code",
   "execution_count": 43,
   "metadata": {},
   "outputs": [
    {
     "data": {
      "text/html": [
       "<div>\n",
       "<style scoped>\n",
       "    .dataframe tbody tr th:only-of-type {\n",
       "        vertical-align: middle;\n",
       "    }\n",
       "\n",
       "    .dataframe tbody tr th {\n",
       "        vertical-align: top;\n",
       "    }\n",
       "\n",
       "    .dataframe thead th {\n",
       "        text-align: right;\n",
       "    }\n",
       "</style>\n",
       "<table border=\"1\" class=\"dataframe\">\n",
       "  <thead>\n",
       "    <tr style=\"text-align: right;\">\n",
       "      <th></th>\n",
       "      <th>event</th>\n",
       "      <th>id</th>\n",
       "      <th>datetime</th>\n",
       "      <th>group</th>\n",
       "      <th>date</th>\n",
       "    </tr>\n",
       "  </thead>\n",
       "  <tbody>\n",
       "    <tr>\n",
       "      <th>0</th>\n",
       "      <td>MainScreenAppear</td>\n",
       "      <td>4575588528974610257</td>\n",
       "      <td>2019-07-25 04:43:36</td>\n",
       "      <td>246</td>\n",
       "      <td>2019-07-25</td>\n",
       "    </tr>\n",
       "    <tr>\n",
       "      <th>1</th>\n",
       "      <td>MainScreenAppear</td>\n",
       "      <td>7416695313311560658</td>\n",
       "      <td>2019-07-25 11:11:42</td>\n",
       "      <td>246</td>\n",
       "      <td>2019-07-25</td>\n",
       "    </tr>\n",
       "    <tr>\n",
       "      <th>2</th>\n",
       "      <td>PaymentScreenSuccessful</td>\n",
       "      <td>3518123091307005509</td>\n",
       "      <td>2019-07-25 11:28:47</td>\n",
       "      <td>248</td>\n",
       "      <td>2019-07-25</td>\n",
       "    </tr>\n",
       "    <tr>\n",
       "      <th>3</th>\n",
       "      <td>CartScreenAppear</td>\n",
       "      <td>3518123091307005509</td>\n",
       "      <td>2019-07-25 11:28:47</td>\n",
       "      <td>248</td>\n",
       "      <td>2019-07-25</td>\n",
       "    </tr>\n",
       "    <tr>\n",
       "      <th>4</th>\n",
       "      <td>PaymentScreenSuccessful</td>\n",
       "      <td>6217807653094995999</td>\n",
       "      <td>2019-07-25 11:48:42</td>\n",
       "      <td>248</td>\n",
       "      <td>2019-07-25</td>\n",
       "    </tr>\n",
       "  </tbody>\n",
       "</table>\n",
       "</div>"
      ],
      "text/plain": [
       "                     event                   id            datetime  group  \\\n",
       "0  MainScreenAppear         4575588528974610257 2019-07-25 04:43:36  246     \n",
       "1  MainScreenAppear         7416695313311560658 2019-07-25 11:11:42  246     \n",
       "2  PaymentScreenSuccessful  3518123091307005509 2019-07-25 11:28:47  248     \n",
       "3  CartScreenAppear         3518123091307005509 2019-07-25 11:28:47  248     \n",
       "4  PaymentScreenSuccessful  6217807653094995999 2019-07-25 11:48:42  248     \n",
       "\n",
       "         date  \n",
       "0  2019-07-25  \n",
       "1  2019-07-25  \n",
       "2  2019-07-25  \n",
       "3  2019-07-25  \n",
       "4  2019-07-25  "
      ]
     },
     "execution_count": 43,
     "metadata": {},
     "output_type": "execute_result"
    }
   ],
   "source": [
    "df.head()"
   ]
  },
  {
   "cell_type": "code",
   "execution_count": 44,
   "metadata": {},
   "outputs": [
    {
     "name": "stdout",
     "output_type": "stream",
     "text": [
      "Всего дубликатов 413\n",
      "Всего дубликатов 0\n"
     ]
    }
   ],
   "source": [
    "print('Всего дубликатов', df.duplicated().sum())\n",
    "df.drop_duplicates( keep=False, inplace = True)\n",
    "print('Всего дубликатов', df.duplicated().sum())"
   ]
  },
  {
   "cell_type": "markdown",
   "metadata": {},
   "source": [
    "Количество дубликатов незначительное можно удалить."
   ]
  },
  {
   "cell_type": "markdown",
   "metadata": {},
   "source": [
    "## Проверка данных"
   ]
  },
  {
   "cell_type": "markdown",
   "metadata": {},
   "source": [
    "Сколько всего событий"
   ]
  },
  {
   "cell_type": "code",
   "execution_count": 45,
   "metadata": {},
   "outputs": [
    {
     "data": {
      "text/plain": [
       "array(['MainScreenAppear', 'PaymentScreenSuccessful', 'CartScreenAppear',\n",
       "       'OffersScreenAppear', 'Tutorial'], dtype=object)"
      ]
     },
     "execution_count": 45,
     "metadata": {},
     "output_type": "execute_result"
    }
   ],
   "source": [
    "df['event'].unique()"
   ]
  },
  {
   "cell_type": "code",
   "execution_count": 46,
   "metadata": {},
   "outputs": [
    {
     "data": {
      "text/plain": [
       "event\n",
       "MainScreenAppear           118998\n",
       "OffersScreenAppear         46792 \n",
       "CartScreenAppear           42605 \n",
       "PaymentScreenSuccessful    33965 \n",
       "Tutorial                   998   \n",
       "Name: date, dtype: int64"
      ]
     },
     "execution_count": 46,
     "metadata": {},
     "output_type": "execute_result"
    }
   ],
   "source": [
    "df.groupby('event')['date'].count().sort_values(ascending=False)"
   ]
  },
  {
   "cell_type": "markdown",
   "metadata": {},
   "source": [
    "Примерное назначение события"
   ]
  },
  {
   "cell_type": "markdown",
   "metadata": {},
   "source": [
    "MainScreenAppear - \"Появился Главный Экран\"  \n",
    "PaymentScreenSuccessful - \"Экран Оплаты Прошел Успешно\"  \n",
    "CartScreenAppear - \"Появился Экран Корзины\"  \n",
    "OffersScreenAppear - \"Появился Экран Предложений\"  \n",
    "Tutorial - \"Руководство\""
   ]
  },
  {
   "cell_type": "markdown",
   "metadata": {},
   "source": [
    "Пользователь открыл главный экран - Открыл экран предложений - Открыл экран корзины - Экран оплаты прошел успешно. В руководство можно (скорее всего) перейти с любого этапа."
   ]
  },
  {
   "cell_type": "markdown",
   "metadata": {},
   "source": [
    "Всего 5 событий. MainScreenAppear - больше всего событий."
   ]
  },
  {
   "cell_type": "markdown",
   "metadata": {},
   "source": [
    "### Сколько всего пользователей в логе?"
   ]
  },
  {
   "cell_type": "code",
   "execution_count": 47,
   "metadata": {},
   "outputs": [
    {
     "name": "stdout",
     "output_type": "stream",
     "text": [
      "Всего 7550 пользователей в текущем датафрейме\n"
     ]
    }
   ],
   "source": [
    "print(\"Всего {} пользователей в текущем датафрейме\".format(len(df['id'].unique())))"
   ]
  },
  {
   "cell_type": "markdown",
   "metadata": {},
   "source": [
    "### Сколько в среднем событий приходится на пользователя?"
   ]
  },
  {
   "cell_type": "code",
   "execution_count": 48,
   "metadata": {},
   "outputs": [
    {
     "data": {
      "text/plain": [
       "20.0"
      ]
     },
     "execution_count": 48,
     "metadata": {},
     "output_type": "execute_result"
    }
   ],
   "source": [
    "df.groupby('id')['event'].count().median()"
   ]
  },
  {
   "cell_type": "code",
   "execution_count": 49,
   "metadata": {},
   "outputs": [
    {
     "data": {
      "text/plain": [
       "32.23284768211921"
      ]
     },
     "execution_count": 49,
     "metadata": {},
     "output_type": "execute_result"
    }
   ],
   "source": [
    "df.groupby('id')['event'].count().mean()"
   ]
  },
  {
   "cell_type": "markdown",
   "metadata": {},
   "source": [
    "В среднем 20 событий на пользователя, но есть и выбросы. Кто то чаще руководством пользуеться?"
   ]
  },
  {
   "cell_type": "markdown",
   "metadata": {},
   "source": [
    "<div style=\"border:solid green 2px; padding: 20px\"> \n",
    "    \n",
    "**Комментарий ревьюера**\n",
    "\n",
    "**#ок**\n",
    "\n",
    "Отлично, все верно рассчитано\n",
    "</div>"
   ]
  },
  {
   "cell_type": "markdown",
   "metadata": {},
   "source": [
    "###  Период данных"
   ]
  },
  {
   "cell_type": "code",
   "execution_count": 50,
   "metadata": {},
   "outputs": [
    {
     "name": "stdout",
     "output_type": "stream",
     "text": [
      "Минимальная дата 2019-07-25\n",
      "Максимальная дата 2019-08-07\n"
     ]
    }
   ],
   "source": [
    "print(\"Минимальная дата\", df['date'].min())\n",
    "print(\"Максимальная дата\", df['date'].max())"
   ]
  },
  {
   "cell_type": "code",
   "execution_count": 51,
   "metadata": {},
   "outputs": [
    {
     "data": {
      "image/png": "[encoded data removed]",
      "text/plain": [
       "<Figure size 432x288 with 1 Axes>"
      ]
     },
     "metadata": {
      "needs_background": "light"
     },
     "output_type": "display_data"
    }
   ],
   "source": [
    "plt.hist(df['date'], bins=14)\n",
    "plt.xticks(rotation = 40)\n",
    "plt.xlabel('Даты')\n",
    "plt.ylabel('Количество')\n",
    "\n",
    "plt.title('Количество событий в логах')\n",
    "\n",
    "plt.show()"
   ]
  },
  {
   "cell_type": "code",
   "execution_count": 52,
   "metadata": {},
   "outputs": [
    {
     "data": {
      "text/plain": [
       "date\n",
       "2019-07-25    9    \n",
       "2019-07-26    31   \n",
       "2019-07-27    55   \n",
       "2019-07-28    105  \n",
       "2019-07-29    184  \n",
       "2019-07-30    411  \n",
       "2019-07-31    2029 \n",
       "2019-08-01    36074\n",
       "2019-08-02    35509\n",
       "2019-08-03    33224\n",
       "2019-08-04    32908\n",
       "2019-08-05    36011\n",
       "2019-08-06    35757\n",
       "2019-08-07    31051\n",
       "Name: id, dtype: int64"
      ]
     },
     "execution_count": 52,
     "metadata": {},
     "output_type": "execute_result"
    }
   ],
   "source": [
    "df.groupby('date')['id'].count()"
   ]
  },
  {
   "cell_type": "markdown",
   "metadata": {},
   "source": [
    "Судя по всему старые данные - это данные июля. Количество событий июля и августа сильно отличаються. Поэтому можно оставить только 7 дней августа с 2019-08-01 по 2019-08-07."
   ]
  },
  {
   "cell_type": "code",
   "execution_count": 53,
   "metadata": {},
   "outputs": [],
   "source": [
    "df_filter = df[df['date'] > datetime.date(2019,7,31)]"
   ]
  },
  {
   "cell_type": "code",
   "execution_count": 54,
   "metadata": {},
   "outputs": [
    {
     "name": "stdout",
     "output_type": "stream",
     "text": [
      "Отрезал 2824 строк в данных. Остались данные за период с 2019-08-01 по 2019-08-07. Всего 6 days, 0:00:00\n"
     ]
    }
   ],
   "source": [
    "print('Отрезал {} строк в данных. Остались данные за период с {} по {}. Всего {}'.format(\n",
    "    df.shape[0] - df_filter.shape[0], \n",
    "    df_filter['date'].min(), \n",
    "    df_filter['date'].max(),\n",
    "    df_filter['date'].max() - df_filter['date'].min()\n",
    "        )\n",
    "     )"
   ]
  },
  {
   "cell_type": "markdown",
   "metadata": {},
   "source": [
    "Количество пользователей в трех группах сопоставимы между группами"
   ]
  },
  {
   "cell_type": "markdown",
   "metadata": {},
   "source": [
    "## Воронку событий"
   ]
  },
  {
   "cell_type": "markdown",
   "metadata": {},
   "source": [
    "Воронка событий при использовании приложения"
   ]
  },
  {
   "cell_type": "code",
   "execution_count": 55,
   "metadata": {},
   "outputs": [
    {
     "data": {
      "text/plain": [
       "event\n",
       "MainScreenAppear           117226\n",
       "OffersScreenAppear         46317 \n",
       "CartScreenAppear           42241 \n",
       "PaymentScreenSuccessful    33765 \n",
       "Tutorial                   985   \n",
       "Name: id, dtype: int64"
      ]
     },
     "execution_count": 55,
     "metadata": {},
     "output_type": "execute_result"
    }
   ],
   "source": [
    "#Простая воронка Сколько всего было событий\n",
    "df_filter.groupby('event')['id'].count().sort_values(ascending=False)"
   ]
  },
  {
   "cell_type": "markdown",
   "metadata": {},
   "source": [
    "MainScreenAppear - \"Появился Главный Экран\"  \n",
    "OffersScreenAppear - \"Появился Экран Предложений\"  \n",
    "CartScreenAppear - \"Появился Экран Корзины\"  \n",
    "PaymentScreenSuccessful - \"Экран Оплаты Прошел Успешно\"  \n",
    "Tutorial - \"Руководство\""
   ]
  },
  {
   "cell_type": "code",
   "execution_count": 56,
   "metadata": {},
   "outputs": [
    {
     "data": {
      "text/plain": [
       "event\n",
       "MainScreenAppear           117226\n",
       "OffersScreenAppear         46317 \n",
       "CartScreenAppear           42241 \n",
       "PaymentScreenSuccessful    33765 \n",
       "Tutorial                   985   \n",
       "Name: id, dtype: int64"
      ]
     },
     "execution_count": 56,
     "metadata": {},
     "output_type": "execute_result"
    }
   ],
   "source": [
    "df_filter.groupby('event')['id'].count().sort_values(ascending=False)"
   ]
  },
  {
   "cell_type": "markdown",
   "metadata": {},
   "source": [
    "Простая воронка продаж по уникальным пользователям. События выстраиваються в последовательную цепочку. В событие Tutorial можно перейти на любом этапе так как это руководство или справка."
   ]
  },
  {
   "cell_type": "code",
   "execution_count": 57,
   "metadata": {},
   "outputs": [
    {
     "data": {
      "text/html": [
       "<div>\n",
       "<style scoped>\n",
       "    .dataframe tbody tr th:only-of-type {\n",
       "        vertical-align: middle;\n",
       "    }\n",
       "\n",
       "    .dataframe tbody tr th {\n",
       "        vertical-align: top;\n",
       "    }\n",
       "\n",
       "    .dataframe thead th {\n",
       "        text-align: right;\n",
       "    }\n",
       "</style>\n",
       "<table border=\"1\" class=\"dataframe\">\n",
       "  <thead>\n",
       "    <tr style=\"text-align: right;\">\n",
       "      <th></th>\n",
       "      <th>event</th>\n",
       "      <th>id</th>\n",
       "    </tr>\n",
       "  </thead>\n",
       "  <tbody>\n",
       "    <tr>\n",
       "      <th>0</th>\n",
       "      <td>MainScreenAppear</td>\n",
       "      <td>7418</td>\n",
       "    </tr>\n",
       "    <tr>\n",
       "      <th>1</th>\n",
       "      <td>OffersScreenAppear</td>\n",
       "      <td>4593</td>\n",
       "    </tr>\n",
       "    <tr>\n",
       "      <th>2</th>\n",
       "      <td>CartScreenAppear</td>\n",
       "      <td>3734</td>\n",
       "    </tr>\n",
       "    <tr>\n",
       "      <th>3</th>\n",
       "      <td>PaymentScreenSuccessful</td>\n",
       "      <td>3536</td>\n",
       "    </tr>\n",
       "    <tr>\n",
       "      <th>4</th>\n",
       "      <td>Tutorial</td>\n",
       "      <td>840</td>\n",
       "    </tr>\n",
       "  </tbody>\n",
       "</table>\n",
       "</div>"
      ],
      "text/plain": [
       "                     event    id\n",
       "0  MainScreenAppear         7418\n",
       "1  OffersScreenAppear       4593\n",
       "2  CartScreenAppear         3734\n",
       "3  PaymentScreenSuccessful  3536\n",
       "4  Tutorial                 840 "
      ]
     },
     "execution_count": 57,
     "metadata": {},
     "output_type": "execute_result"
    }
   ],
   "source": [
    "funnel = df_filter.groupby('event').agg({'id': 'nunique'}).sort_values(by='id',ascending=False).reset_index()\n",
    "funnel"
   ]
  },
  {
   "cell_type": "code",
   "execution_count": 58,
   "metadata": {},
   "outputs": [
    {
     "data": {
      "text/html": [
       "<div>\n",
       "<style scoped>\n",
       "    .dataframe tbody tr th:only-of-type {\n",
       "        vertical-align: middle;\n",
       "    }\n",
       "\n",
       "    .dataframe tbody tr th {\n",
       "        vertical-align: top;\n",
       "    }\n",
       "\n",
       "    .dataframe thead th {\n",
       "        text-align: right;\n",
       "    }\n",
       "</style>\n",
       "<table border=\"1\" class=\"dataframe\">\n",
       "  <thead>\n",
       "    <tr style=\"text-align: right;\">\n",
       "      <th></th>\n",
       "      <th>event</th>\n",
       "      <th>id</th>\n",
       "      <th>total_%</th>\n",
       "    </tr>\n",
       "  </thead>\n",
       "  <tbody>\n",
       "    <tr>\n",
       "      <th>0</th>\n",
       "      <td>MainScreenAppear</td>\n",
       "      <td>7418</td>\n",
       "      <td>98.47</td>\n",
       "    </tr>\n",
       "    <tr>\n",
       "      <th>1</th>\n",
       "      <td>OffersScreenAppear</td>\n",
       "      <td>4593</td>\n",
       "      <td>60.97</td>\n",
       "    </tr>\n",
       "    <tr>\n",
       "      <th>2</th>\n",
       "      <td>CartScreenAppear</td>\n",
       "      <td>3734</td>\n",
       "      <td>49.57</td>\n",
       "    </tr>\n",
       "    <tr>\n",
       "      <th>3</th>\n",
       "      <td>PaymentScreenSuccessful</td>\n",
       "      <td>3536</td>\n",
       "      <td>46.94</td>\n",
       "    </tr>\n",
       "    <tr>\n",
       "      <th>4</th>\n",
       "      <td>Tutorial</td>\n",
       "      <td>840</td>\n",
       "      <td>11.15</td>\n",
       "    </tr>\n",
       "  </tbody>\n",
       "</table>\n",
       "</div>"
      ],
      "text/plain": [
       "                     event    id  total_%\n",
       "0  MainScreenAppear         7418 98.47   \n",
       "1  OffersScreenAppear       4593 60.97   \n",
       "2  CartScreenAppear         3734 49.57   \n",
       "3  PaymentScreenSuccessful  3536 46.94   \n",
       "4  Tutorial                 840  11.15   "
      ]
     },
     "execution_count": 58,
     "metadata": {},
     "output_type": "execute_result"
    }
   ],
   "source": [
    "funnel['total_%'] = funnel['id']*100 / df_filter['id'].nunique()\n",
    "funnel"
   ]
  },
  {
   "cell_type": "markdown",
   "metadata": {},
   "source": [
    "### Конверсия воронки продаж"
   ]
  },
  {
   "cell_type": "code",
   "execution_count": 59,
   "metadata": {},
   "outputs": [
    {
     "data": {
      "text/html": [
       "<div>\n",
       "<style scoped>\n",
       "    .dataframe tbody tr th:only-of-type {\n",
       "        vertical-align: middle;\n",
       "    }\n",
       "\n",
       "    .dataframe tbody tr th {\n",
       "        vertical-align: top;\n",
       "    }\n",
       "\n",
       "    .dataframe thead th {\n",
       "        text-align: right;\n",
       "    }\n",
       "</style>\n",
       "<table border=\"1\" class=\"dataframe\">\n",
       "  <thead>\n",
       "    <tr style=\"text-align: right;\">\n",
       "      <th></th>\n",
       "      <th>event</th>\n",
       "      <th>id</th>\n",
       "      <th>total_%</th>\n",
       "      <th>per_step_%</th>\n",
       "    </tr>\n",
       "  </thead>\n",
       "  <tbody>\n",
       "    <tr>\n",
       "      <th>0</th>\n",
       "      <td>MainScreenAppear</td>\n",
       "      <td>7418</td>\n",
       "      <td>98.47</td>\n",
       "      <td>NaN</td>\n",
       "    </tr>\n",
       "    <tr>\n",
       "      <th>1</th>\n",
       "      <td>OffersScreenAppear</td>\n",
       "      <td>4593</td>\n",
       "      <td>60.97</td>\n",
       "      <td>61.92</td>\n",
       "    </tr>\n",
       "    <tr>\n",
       "      <th>2</th>\n",
       "      <td>CartScreenAppear</td>\n",
       "      <td>3734</td>\n",
       "      <td>49.57</td>\n",
       "      <td>81.30</td>\n",
       "    </tr>\n",
       "    <tr>\n",
       "      <th>3</th>\n",
       "      <td>PaymentScreenSuccessful</td>\n",
       "      <td>3536</td>\n",
       "      <td>46.94</td>\n",
       "      <td>94.70</td>\n",
       "    </tr>\n",
       "    <tr>\n",
       "      <th>4</th>\n",
       "      <td>Tutorial</td>\n",
       "      <td>840</td>\n",
       "      <td>11.15</td>\n",
       "      <td>23.76</td>\n",
       "    </tr>\n",
       "  </tbody>\n",
       "</table>\n",
       "</div>"
      ],
      "text/plain": [
       "                     event    id  total_%  per_step_%\n",
       "0  MainScreenAppear         7418 98.47    NaN        \n",
       "1  OffersScreenAppear       4593 60.97    61.92      \n",
       "2  CartScreenAppear         3734 49.57    81.30      \n",
       "3  PaymentScreenSuccessful  3536 46.94    94.70      \n",
       "4  Tutorial                 840  11.15    23.76      "
      ]
     },
     "execution_count": 59,
     "metadata": {},
     "output_type": "execute_result"
    }
   ],
   "source": [
    "one_step = 7418\n",
    "\n",
    "#total = funnel['id'].sum()\n",
    "#funnel['total_%'] = funnel['id']*100 / df_filter['id'].nunique()\n",
    "funnel['per_step_%'] = (funnel.id.pct_change() + 1)*100\n",
    "funnel"
   ]
  },
  {
   "cell_type": "code",
   "execution_count": 60,
   "metadata": {},
   "outputs": [],
   "source": [
    "users = df_filter.pivot_table(\n",
    "    index='id', \n",
    "    columns='event', \n",
    "    values='date',\n",
    "    aggfunc='min')"
   ]
  },
  {
   "cell_type": "code",
   "execution_count": 61,
   "metadata": {},
   "outputs": [],
   "source": [
    "step_1 = ~users['MainScreenAppear'].isna()\n",
    "step_2 = step_1 & (users['OffersScreenAppear'] > users['MainScreenAppear'])\n",
    "step_3 = step_2 & (users['CartScreenAppear'] > users['OffersScreenAppear'])\n",
    "step_4 = step_3 & (users['PaymentScreenSuccessful'] > users['CartScreenAppear'])"
   ]
  },
  {
   "cell_type": "code",
   "execution_count": 62,
   "metadata": {},
   "outputs": [
    {
     "name": "stdout",
     "output_type": "stream",
     "text": [
      "Главное меню: 7418\n",
      "Экран предложение: 688\n",
      "Экран корзины: 33\n",
      "Экран оплаты: 1\n"
     ]
    }
   ],
   "source": [
    "n_main = users[step_1].shape[0]\n",
    "n_offer = users[step_2].shape[0]\n",
    "n_cart = users[step_3].shape[0]\n",
    "n_pay = users[step_4].shape[0]\n",
    "\n",
    "print('Главное меню:', n_main)\n",
    "print('Экран предложение:', n_offer)\n",
    "print('Экран корзины:', n_cart)\n",
    "print('Экран оплаты:', n_pay)"
   ]
  },
  {
   "cell_type": "code",
   "execution_count": 63,
   "metadata": {},
   "outputs": [
    {
     "data": {
      "text/html": [
       "<div>\n",
       "<style scoped>\n",
       "    .dataframe tbody tr th:only-of-type {\n",
       "        vertical-align: middle;\n",
       "    }\n",
       "\n",
       "    .dataframe tbody tr th {\n",
       "        vertical-align: top;\n",
       "    }\n",
       "\n",
       "    .dataframe thead th {\n",
       "        text-align: right;\n",
       "    }\n",
       "</style>\n",
       "<table border=\"1\" class=\"dataframe\">\n",
       "  <thead>\n",
       "    <tr style=\"text-align: right;\">\n",
       "      <th>event</th>\n",
       "      <th>CartScreenAppear</th>\n",
       "      <th>MainScreenAppear</th>\n",
       "      <th>OffersScreenAppear</th>\n",
       "      <th>PaymentScreenSuccessful</th>\n",
       "      <th>Tutorial</th>\n",
       "    </tr>\n",
       "    <tr>\n",
       "      <th>id</th>\n",
       "      <th></th>\n",
       "      <th></th>\n",
       "      <th></th>\n",
       "      <th></th>\n",
       "      <th></th>\n",
       "    </tr>\n",
       "  </thead>\n",
       "  <tbody>\n",
       "    <tr>\n",
       "      <th>6888746892508752</th>\n",
       "      <td>NaN</td>\n",
       "      <td>2019-08-06</td>\n",
       "      <td>NaN</td>\n",
       "      <td>NaN</td>\n",
       "      <td>NaN</td>\n",
       "    </tr>\n",
       "    <tr>\n",
       "      <th>6909561520679493</th>\n",
       "      <td>2019-08-06</td>\n",
       "      <td>2019-08-06</td>\n",
       "      <td>2019-08-06</td>\n",
       "      <td>2019-08-06</td>\n",
       "      <td>NaN</td>\n",
       "    </tr>\n",
       "    <tr>\n",
       "      <th>6922444491712477</th>\n",
       "      <td>2019-08-04</td>\n",
       "      <td>2019-08-04</td>\n",
       "      <td>2019-08-04</td>\n",
       "      <td>2019-08-04</td>\n",
       "      <td>NaN</td>\n",
       "    </tr>\n",
       "    <tr>\n",
       "      <th>7435777799948366</th>\n",
       "      <td>NaN</td>\n",
       "      <td>2019-08-05</td>\n",
       "      <td>NaN</td>\n",
       "      <td>NaN</td>\n",
       "      <td>NaN</td>\n",
       "    </tr>\n",
       "    <tr>\n",
       "      <th>7702139951469979</th>\n",
       "      <td>2019-08-02</td>\n",
       "      <td>2019-08-01</td>\n",
       "      <td>2019-08-01</td>\n",
       "      <td>2019-08-02</td>\n",
       "      <td>NaN</td>\n",
       "    </tr>\n",
       "    <tr>\n",
       "      <th>...</th>\n",
       "      <td>...</td>\n",
       "      <td>...</td>\n",
       "      <td>...</td>\n",
       "      <td>...</td>\n",
       "      <td>...</td>\n",
       "    </tr>\n",
       "    <tr>\n",
       "      <th>9217594193087726423</th>\n",
       "      <td>2019-08-02</td>\n",
       "      <td>NaN</td>\n",
       "      <td>2019-08-02</td>\n",
       "      <td>2019-08-02</td>\n",
       "      <td>NaN</td>\n",
       "    </tr>\n",
       "    <tr>\n",
       "      <th>9219463515465815368</th>\n",
       "      <td>2019-08-06</td>\n",
       "      <td>2019-08-05</td>\n",
       "      <td>2019-08-06</td>\n",
       "      <td>2019-08-06</td>\n",
       "      <td>NaN</td>\n",
       "    </tr>\n",
       "    <tr>\n",
       "      <th>9220879493065341500</th>\n",
       "      <td>2019-08-02</td>\n",
       "      <td>2019-08-02</td>\n",
       "      <td>2019-08-02</td>\n",
       "      <td>NaN</td>\n",
       "      <td>NaN</td>\n",
       "    </tr>\n",
       "    <tr>\n",
       "      <th>9221926045299980007</th>\n",
       "      <td>NaN</td>\n",
       "      <td>2019-08-01</td>\n",
       "      <td>NaN</td>\n",
       "      <td>NaN</td>\n",
       "      <td>NaN</td>\n",
       "    </tr>\n",
       "    <tr>\n",
       "      <th>9222603179720523844</th>\n",
       "      <td>NaN</td>\n",
       "      <td>2019-08-01</td>\n",
       "      <td>NaN</td>\n",
       "      <td>NaN</td>\n",
       "      <td>NaN</td>\n",
       "    </tr>\n",
       "  </tbody>\n",
       "</table>\n",
       "<p>7533 rows × 5 columns</p>\n",
       "</div>"
      ],
      "text/plain": [
       "event               CartScreenAppear MainScreenAppear OffersScreenAppear  \\\n",
       "id                                                                         \n",
       "6888746892508752     NaN              2019-08-06       NaN                 \n",
       "6909561520679493     2019-08-06       2019-08-06       2019-08-06          \n",
       "6922444491712477     2019-08-04       2019-08-04       2019-08-04          \n",
       "7435777799948366     NaN              2019-08-05       NaN                 \n",
       "7702139951469979     2019-08-02       2019-08-01       2019-08-01          \n",
       "...                  ...                     ...       ...                 \n",
       "9217594193087726423  2019-08-02       NaN              2019-08-02          \n",
       "9219463515465815368  2019-08-06       2019-08-05       2019-08-06          \n",
       "9220879493065341500  2019-08-02       2019-08-02       2019-08-02          \n",
       "9221926045299980007  NaN              2019-08-01       NaN                 \n",
       "9222603179720523844  NaN              2019-08-01       NaN                 \n",
       "\n",
       "event               PaymentScreenSuccessful Tutorial  \n",
       "id                                                    \n",
       "6888746892508752     NaN                     NaN      \n",
       "6909561520679493     2019-08-06              NaN      \n",
       "6922444491712477     2019-08-04              NaN      \n",
       "7435777799948366     NaN                     NaN      \n",
       "7702139951469979     2019-08-02              NaN      \n",
       "...                  ...                     ...      \n",
       "9217594193087726423  2019-08-02              NaN      \n",
       "9219463515465815368  2019-08-06              NaN      \n",
       "9220879493065341500  NaN                     NaN      \n",
       "9221926045299980007  NaN                     NaN      \n",
       "9222603179720523844  NaN                     NaN      \n",
       "\n",
       "[7533 rows x 5 columns]"
      ]
     },
     "execution_count": 63,
     "metadata": {},
     "output_type": "execute_result"
    }
   ],
   "source": [
    "users"
   ]
  },
  {
   "cell_type": "markdown",
   "metadata": {},
   "source": [
    "Хорошая конверсия почти 50% процентов доходят до \"экрана оплаты\". Переход по шагам пользователей высокий. С каждым шагом процент перехода увеличиваеться. Возможно товар очень нужен пользователям. Или пользователи переходят в сервис по маркетинговой акции. "
   ]
  },
  {
   "cell_type": "markdown",
   "metadata": {},
   "source": [
    "Болше всего пользователей теряем на первом этапе почти 40%. Далее с каждым шагом конверсия увеличиваеться. До экрана оплаты доходит 48% пользователей."
   ]
  },
  {
   "cell_type": "code",
   "execution_count": 64,
   "metadata": {},
   "outputs": [
    {
     "data": {
      "image/png": "[encoded data removed]",
      "text/plain": [
       "<Figure size 432x288 with 1 Axes>"
      ]
     },
     "metadata": {
      "needs_background": "light"
     },
     "output_type": "display_data"
    }
   ],
   "source": [
    "sns.barplot(x='id', y='event', data=funnel, color='blue') \n",
    "\n",
    "plt.xlabel('Количество')\n",
    "plt.ylabel('События')\n",
    "plt.title('Воронка событий приложения')\n",
    "\n",
    "plt.show()"
   ]
  },
  {
   "cell_type": "markdown",
   "metadata": {},
   "source": [
    "## Анализ результата A/A/B-теста"
   ]
  },
  {
   "cell_type": "markdown",
   "metadata": {},
   "source": [
    "### Количество пользователей в группах тестирования"
   ]
  },
  {
   "cell_type": "code",
   "execution_count": 65,
   "metadata": {},
   "outputs": [
    {
     "data": {
      "text/html": [
       "<div>\n",
       "<style scoped>\n",
       "    .dataframe tbody tr th:only-of-type {\n",
       "        vertical-align: middle;\n",
       "    }\n",
       "\n",
       "    .dataframe tbody tr th {\n",
       "        vertical-align: top;\n",
       "    }\n",
       "\n",
       "    .dataframe thead th {\n",
       "        text-align: right;\n",
       "    }\n",
       "</style>\n",
       "<table border=\"1\" class=\"dataframe\">\n",
       "  <thead>\n",
       "    <tr style=\"text-align: right;\">\n",
       "      <th></th>\n",
       "      <th>event</th>\n",
       "      <th>id</th>\n",
       "      <th>datetime</th>\n",
       "      <th>group</th>\n",
       "      <th>date</th>\n",
       "    </tr>\n",
       "  </thead>\n",
       "  <tbody>\n",
       "    <tr>\n",
       "      <th>2828</th>\n",
       "      <td>Tutorial</td>\n",
       "      <td>3737462046622621720</td>\n",
       "      <td>2019-08-01 00:07:28</td>\n",
       "      <td>246</td>\n",
       "      <td>2019-08-01</td>\n",
       "    </tr>\n",
       "    <tr>\n",
       "      <th>2829</th>\n",
       "      <td>MainScreenAppear</td>\n",
       "      <td>3737462046622621720</td>\n",
       "      <td>2019-08-01 00:08:00</td>\n",
       "      <td>246</td>\n",
       "      <td>2019-08-01</td>\n",
       "    </tr>\n",
       "    <tr>\n",
       "      <th>2830</th>\n",
       "      <td>MainScreenAppear</td>\n",
       "      <td>3737462046622621720</td>\n",
       "      <td>2019-08-01 00:08:55</td>\n",
       "      <td>246</td>\n",
       "      <td>2019-08-01</td>\n",
       "    </tr>\n",
       "    <tr>\n",
       "      <th>2831</th>\n",
       "      <td>OffersScreenAppear</td>\n",
       "      <td>3737462046622621720</td>\n",
       "      <td>2019-08-01 00:08:58</td>\n",
       "      <td>246</td>\n",
       "      <td>2019-08-01</td>\n",
       "    </tr>\n",
       "    <tr>\n",
       "      <th>2832</th>\n",
       "      <td>MainScreenAppear</td>\n",
       "      <td>1433840883824088890</td>\n",
       "      <td>2019-08-01 00:08:59</td>\n",
       "      <td>247</td>\n",
       "      <td>2019-08-01</td>\n",
       "    </tr>\n",
       "  </tbody>\n",
       "</table>\n",
       "</div>"
      ],
      "text/plain": [
       "                   event                   id            datetime  group  \\\n",
       "2828  Tutorial            3737462046622621720 2019-08-01 00:07:28  246     \n",
       "2829  MainScreenAppear    3737462046622621720 2019-08-01 00:08:00  246     \n",
       "2830  MainScreenAppear    3737462046622621720 2019-08-01 00:08:55  246     \n",
       "2831  OffersScreenAppear  3737462046622621720 2019-08-01 00:08:58  246     \n",
       "2832  MainScreenAppear    1433840883824088890 2019-08-01 00:08:59  247     \n",
       "\n",
       "            date  \n",
       "2828  2019-08-01  \n",
       "2829  2019-08-01  \n",
       "2830  2019-08-01  \n",
       "2831  2019-08-01  \n",
       "2832  2019-08-01  "
      ]
     },
     "execution_count": 65,
     "metadata": {},
     "output_type": "execute_result"
    }
   ],
   "source": [
    "df_filter.head()"
   ]
  },
  {
   "cell_type": "code",
   "execution_count": 66,
   "metadata": {},
   "outputs": [
    {
     "data": {
      "text/html": [
       "<div>\n",
       "<style scoped>\n",
       "    .dataframe tbody tr th:only-of-type {\n",
       "        vertical-align: middle;\n",
       "    }\n",
       "\n",
       "    .dataframe tbody tr th {\n",
       "        vertical-align: top;\n",
       "    }\n",
       "\n",
       "    .dataframe thead th {\n",
       "        text-align: right;\n",
       "    }\n",
       "</style>\n",
       "<table border=\"1\" class=\"dataframe\">\n",
       "  <thead>\n",
       "    <tr style=\"text-align: right;\">\n",
       "      <th>event</th>\n",
       "      <th>group</th>\n",
       "      <th>CartScreenAppear</th>\n",
       "      <th>MainScreenAppear</th>\n",
       "      <th>OffersScreenAppear</th>\n",
       "      <th>PaymentScreenSuccessful</th>\n",
       "      <th>Tutorial</th>\n",
       "    </tr>\n",
       "  </thead>\n",
       "  <tbody>\n",
       "    <tr>\n",
       "      <th>0</th>\n",
       "      <td>246</td>\n",
       "      <td>1266</td>\n",
       "      <td>2449</td>\n",
       "      <td>1542</td>\n",
       "      <td>1199</td>\n",
       "      <td>278</td>\n",
       "    </tr>\n",
       "    <tr>\n",
       "      <th>1</th>\n",
       "      <td>247</td>\n",
       "      <td>1238</td>\n",
       "      <td>2476</td>\n",
       "      <td>1520</td>\n",
       "      <td>1156</td>\n",
       "      <td>283</td>\n",
       "    </tr>\n",
       "    <tr>\n",
       "      <th>2</th>\n",
       "      <td>248</td>\n",
       "      <td>1230</td>\n",
       "      <td>2493</td>\n",
       "      <td>1531</td>\n",
       "      <td>1181</td>\n",
       "      <td>279</td>\n",
       "    </tr>\n",
       "  </tbody>\n",
       "</table>\n",
       "</div>"
      ],
      "text/plain": [
       "event  group  CartScreenAppear  MainScreenAppear  OffersScreenAppear  \\\n",
       "0      246    1266              2449              1542                 \n",
       "1      247    1238              2476              1520                 \n",
       "2      248    1230              2493              1531                 \n",
       "\n",
       "event  PaymentScreenSuccessful  Tutorial  \n",
       "0      1199                     278       \n",
       "1      1156                     283       \n",
       "2      1181                     279       "
      ]
     },
     "execution_count": 66,
     "metadata": {},
     "output_type": "execute_result"
    }
   ],
   "source": [
    "#Общая таблица групп тестирования\n",
    "users_events = df_filter.pivot_table(index='group', columns='event', values = 'id', aggfunc = 'nunique').reset_index()\n",
    "users_events"
   ]
  },
  {
   "cell_type": "code",
   "execution_count": 67,
   "metadata": {},
   "outputs": [],
   "source": [
    "users_count = df_filter.groupby('group')['id'].nunique()\n",
    "users_events['count'] = users_events['group'].apply(lambda x: users_count.loc[x])\n",
    "users_events = users_events.set_index('group')\n",
    "#users_events[]"
   ]
  },
  {
   "cell_type": "code",
   "execution_count": 68,
   "metadata": {},
   "outputs": [
    {
     "name": "stdout",
     "output_type": "stream",
     "text": [
      "Количество пользователей:\n",
      " в контрольных группе 246 - 2483,\n",
      " в контрольных группе 247 - 2513,\n",
      " в экспериментальной группе 248 - 2537\n",
      "\n",
      "Группа 247 больше группы 246 на 1.19 процентов\n",
      "\n",
      "Группа 248 больше группы 246 на 2.13 процентов\n",
      "\n",
      "Группа 248 больше группы 247 на 0.95 процентов\n"
     ]
    }
   ],
   "source": [
    "\n",
    "#Выделение групп тестирования в отдельные переменные\n",
    "#Подсчет количества \n",
    "group_246 = df_filter.loc[df_filter['group'] == 246]\n",
    "users_count_246 = group_246.groupby('id').agg({'id': 'nunique'}).count().sum() \n",
    "group_247 = df_filter.loc[df_filter['group'] == 247]\n",
    "users_count_247 = group_247.groupby('id').agg({'id': 'nunique'}).count().sum()\n",
    "group_248 = df_filter.loc[df_filter['group'] == 248]\n",
    "users_count_248 = group_248.groupby('id').agg({'id': 'nunique'}).count().sum()\n",
    "total_user = df_filter.groupby('id').agg({'id': 'nunique'}).sum()\n",
    "\n",
    "print('Количество пользователей:' \n",
    "      '\\n в контрольных группе 246 - {},'     \n",
    "      '\\n в контрольных группе 247 - {},' \n",
    "      '\\n в экспериментальной группе 248 - {}'\n",
    "      .format(users_count_246, users_count_247, users_count_248))\n",
    "print()\n",
    "print('Группа 247 больше группы 246 на {:3.2f} процентов'.format(100 - users_count_246 * 100 / users_count_247))\n",
    "print()\n",
    "print('Группа 248 больше группы 246 на {:3.2f} процентов'.format(100 - users_count_246 * 100 / users_count_248))\n",
    "print()\n",
    "print('Группа 248 больше группы 247 на {:3.2f} процентов'.format(100 - users_count_247 * 100 / users_count_248))"
   ]
  },
  {
   "cell_type": "code",
   "execution_count": 69,
   "metadata": {},
   "outputs": [
    {
     "name": "stdout",
     "output_type": "stream",
     "text": [
      "Количество пользователей пересекающихся группы 246 с 247 -  0\n"
     ]
    }
   ],
   "source": [
    "print('Количество пользователей пересекающихся группы 246 с 247 - ', \n",
    "      group_246[group_246['id'].isin(group_247['id'])].shape[0])"
   ]
  },
  {
   "cell_type": "code",
   "execution_count": 70,
   "metadata": {},
   "outputs": [
    {
     "name": "stdout",
     "output_type": "stream",
     "text": [
      "Количество пользователей пересекающихся группы 247 с 246 -  0\n"
     ]
    }
   ],
   "source": [
    "print('Количество пользователей пересекающихся группы 247 с 246 - ', \n",
    "    group_247[group_247['id'].isin(group_246['id'])].shape[0])"
   ]
  },
  {
   "cell_type": "markdown",
   "metadata": {},
   "source": [
    "В контрольных группах нет пересекающихся пользвоателей"
   ]
  },
  {
   "cell_type": "code",
   "execution_count": 71,
   "metadata": {},
   "outputs": [
    {
     "name": "stdout",
     "output_type": "stream",
     "text": [
      "Количество пользователей пересекающихся группы 247 с 246 -  0\n"
     ]
    }
   ],
   "source": [
    "print('Количество пользователей пересекающихся группы 247 с 246 - ', \n",
    "    group_248[group_248['id'].isin(group_246['id'])].shape[0])"
   ]
  },
  {
   "cell_type": "code",
   "execution_count": 72,
   "metadata": {},
   "outputs": [
    {
     "name": "stdout",
     "output_type": "stream",
     "text": [
      "Количество пользователей пересекающихся группы 247 с 246 -  0\n"
     ]
    }
   ],
   "source": [
    "print('Количество пользователей пересекающихся группы 247 с 246 - ', \n",
    "    group_248[group_248['id'].isin(group_247['id'])].shape[0])"
   ]
  },
  {
   "cell_type": "markdown",
   "metadata": {},
   "source": [
    "### Контрольные группы тестирования"
   ]
  },
  {
   "cell_type": "code",
   "execution_count": 73,
   "metadata": {},
   "outputs": [
    {
     "data": {
      "text/html": [
       "<div>\n",
       "<style scoped>\n",
       "    .dataframe tbody tr th:only-of-type {\n",
       "        vertical-align: middle;\n",
       "    }\n",
       "\n",
       "    .dataframe tbody tr th {\n",
       "        vertical-align: top;\n",
       "    }\n",
       "\n",
       "    .dataframe thead th {\n",
       "        text-align: right;\n",
       "    }\n",
       "</style>\n",
       "<table border=\"1\" class=\"dataframe\">\n",
       "  <thead>\n",
       "    <tr style=\"text-align: right;\">\n",
       "      <th></th>\n",
       "      <th>event</th>\n",
       "      <th>id</th>\n",
       "      <th>datetime</th>\n",
       "      <th>group</th>\n",
       "      <th>date</th>\n",
       "    </tr>\n",
       "  </thead>\n",
       "  <tbody>\n",
       "    <tr>\n",
       "      <th>2828</th>\n",
       "      <td>Tutorial</td>\n",
       "      <td>3737462046622621720</td>\n",
       "      <td>2019-08-01 00:07:28</td>\n",
       "      <td>246</td>\n",
       "      <td>2019-08-01</td>\n",
       "    </tr>\n",
       "    <tr>\n",
       "      <th>2829</th>\n",
       "      <td>MainScreenAppear</td>\n",
       "      <td>3737462046622621720</td>\n",
       "      <td>2019-08-01 00:08:00</td>\n",
       "      <td>246</td>\n",
       "      <td>2019-08-01</td>\n",
       "    </tr>\n",
       "    <tr>\n",
       "      <th>2830</th>\n",
       "      <td>MainScreenAppear</td>\n",
       "      <td>3737462046622621720</td>\n",
       "      <td>2019-08-01 00:08:55</td>\n",
       "      <td>246</td>\n",
       "      <td>2019-08-01</td>\n",
       "    </tr>\n",
       "    <tr>\n",
       "      <th>2831</th>\n",
       "      <td>OffersScreenAppear</td>\n",
       "      <td>3737462046622621720</td>\n",
       "      <td>2019-08-01 00:08:58</td>\n",
       "      <td>246</td>\n",
       "      <td>2019-08-01</td>\n",
       "    </tr>\n",
       "    <tr>\n",
       "      <th>2834</th>\n",
       "      <td>OffersScreenAppear</td>\n",
       "      <td>3737462046622621720</td>\n",
       "      <td>2019-08-01 00:10:26</td>\n",
       "      <td>246</td>\n",
       "      <td>2019-08-01</td>\n",
       "    </tr>\n",
       "  </tbody>\n",
       "</table>\n",
       "</div>"
      ],
      "text/plain": [
       "                   event                   id            datetime  group  \\\n",
       "2828  Tutorial            3737462046622621720 2019-08-01 00:07:28  246     \n",
       "2829  MainScreenAppear    3737462046622621720 2019-08-01 00:08:00  246     \n",
       "2830  MainScreenAppear    3737462046622621720 2019-08-01 00:08:55  246     \n",
       "2831  OffersScreenAppear  3737462046622621720 2019-08-01 00:08:58  246     \n",
       "2834  OffersScreenAppear  3737462046622621720 2019-08-01 00:10:26  246     \n",
       "\n",
       "            date  \n",
       "2828  2019-08-01  \n",
       "2829  2019-08-01  \n",
       "2830  2019-08-01  \n",
       "2831  2019-08-01  \n",
       "2834  2019-08-01  "
      ]
     },
     "execution_count": 73,
     "metadata": {},
     "output_type": "execute_result"
    }
   ],
   "source": [
    "group_246.head()"
   ]
  },
  {
   "cell_type": "code",
   "execution_count": 74,
   "metadata": {},
   "outputs": [],
   "source": [
    "#count_success1_ = group_246.loc[group_246['event'] == 'PaymentScreenSuccessful'].agg({'id': 'nunique'})\n",
    "#count_success2_ = group_247.loc[group_247['event'] == 'PaymentScreenSuccessful'].agg({'id': 'nunique'})\n",
    "#total_group1 = users_count_246\n",
    "#total_group2 = users_count_247"
   ]
  },
  {
   "cell_type": "code",
   "execution_count": 75,
   "metadata": {},
   "outputs": [],
   "source": [
    "alpha = 0.05 # критический уровень статистической значимости"
   ]
  },
  {
   "cell_type": "markdown",
   "metadata": {},
   "source": [
    "Для себя из теории  \n",
    "В формуле n₁ и n₂ — размеры двух сравниваемых выборок, то есть количества наблюдений в них; P₁, P₂ — пропорции, наблюдаемые в выборках; P — пропорция в выборке, скомбинированной из двух наблюдаемых; π₁, π₂ — настоящие пропорции в сравниваемых генеральных совокупностях."
   ]
  },
  {
   "cell_type": "markdown",
   "metadata": {},
   "source": [
    "В A/B-тестировании чаще всего проверяют гипотезу о равенстве π₁ и π₂. Тогда при верной нулевой гипотезе выражение (π₁ - π₂) в числителе будет равно нулю, и критерий можно рассчитывать только по выборочным данным."
   ]
  },
  {
   "cell_type": "code",
   "execution_count": 76,
   "metadata": {},
   "outputs": [],
   "source": [
    "# статистический тест проверки на равеноство долей между выборками\n",
    "#в данном случае между группами тестирования.\n",
    "list_group = ['246', '247']\n",
    "list_event = ['CartScreenAppear', 'MainScreenAppear', ]\n",
    "def z_test(count_success1, count_success2, total_group1, total_group2):\n",
    "\n",
    "\n",
    "    # пропорция успехов в первой группе:\n",
    "    p1 = count_success1 / total_group1\n",
    "    # пропорция успехов во второй группе:\n",
    "    p2 = count_success2 / total_group2\n",
    "    # пропорция успехов в комбинированном датасете:\n",
    "    p_combined = (count_success1 + count_success1) / (total_group1 + total_group2)\n",
    "    # разница пропорций в датасетах\n",
    "    difference = p1 - p2     \n",
    "    \n",
    "    # считаем статистику в ст.отклонениях стандартного нормального распределения\n",
    "    z_value = difference / mth.sqrt(\n",
    "        p_combined * (1 - p_combined) * (1 / total_group1 + 1 / total_group2)\n",
    "    )\n",
    "\n",
    "    # задаем стандартное нормальное распределение (среднее 0, ст.отклонение 1)\n",
    "    distr = st.norm(0, 1)\n",
    "\n",
    "    p_value = (1 - distr.cdf(abs(z_value))) * 2    \n",
    "\n",
    "    #if p_value < alpha:\n",
    "     #   print('Отвергаем нулевую гипотезу: между долями есть значимая разница')\n",
    "   # else:\n",
    "    #    print('Не получилось отвергнуть нулевую гипотезу, нет оснований считать доли разными') \n",
    "        \n",
    "    result = {\n",
    "        'difference': difference,\n",
    "        'z_value': z_value,\n",
    "        'p_value': p_value,\n",
    "        }  \n",
    "   \n",
    "    return result"
   ]
  },
  {
   "cell_type": "markdown",
   "metadata": {},
   "source": [
    "**Сформулируем гипотезы:**  \n",
    "__Нулевая гипотеза:__ доли пользователей в группах 246 и 248, для всех событий одинаковые.  \n",
    "__Альтернативная гипотеза:__ доли пользователей в группах 246 и 248, для всех событий различаются.\n",
    "\n",
    "__Нулевая гипотеза:__ доли пользователей в группах 247 и 248, для всех событий одинаковые.  \n",
    "__Альтернативная гипотеза:__ доли пользователей в группах 247 и 248, для всех событий различаются."
   ]
  },
  {
   "cell_type": "code",
   "execution_count": 77,
   "metadata": {},
   "outputs": [
    {
     "data": {
      "text/html": [
       "<div>\n",
       "<style scoped>\n",
       "    .dataframe tbody tr th:only-of-type {\n",
       "        vertical-align: middle;\n",
       "    }\n",
       "\n",
       "    .dataframe tbody tr th {\n",
       "        vertical-align: top;\n",
       "    }\n",
       "\n",
       "    .dataframe thead th {\n",
       "        text-align: right;\n",
       "    }\n",
       "</style>\n",
       "<table border=\"1\" class=\"dataframe\">\n",
       "  <thead>\n",
       "    <tr style=\"text-align: right;\">\n",
       "      <th>event</th>\n",
       "      <th>CartScreenAppear</th>\n",
       "      <th>MainScreenAppear</th>\n",
       "      <th>OffersScreenAppear</th>\n",
       "      <th>PaymentScreenSuccessful</th>\n",
       "      <th>Tutorial</th>\n",
       "      <th>count</th>\n",
       "    </tr>\n",
       "    <tr>\n",
       "      <th>group</th>\n",
       "      <th></th>\n",
       "      <th></th>\n",
       "      <th></th>\n",
       "      <th></th>\n",
       "      <th></th>\n",
       "      <th></th>\n",
       "    </tr>\n",
       "  </thead>\n",
       "  <tbody>\n",
       "    <tr>\n",
       "      <th>246</th>\n",
       "      <td>1266</td>\n",
       "      <td>2449</td>\n",
       "      <td>1542</td>\n",
       "      <td>1199</td>\n",
       "      <td>278</td>\n",
       "      <td>2483</td>\n",
       "    </tr>\n",
       "    <tr>\n",
       "      <th>247</th>\n",
       "      <td>1238</td>\n",
       "      <td>2476</td>\n",
       "      <td>1520</td>\n",
       "      <td>1156</td>\n",
       "      <td>283</td>\n",
       "      <td>2513</td>\n",
       "    </tr>\n",
       "    <tr>\n",
       "      <th>248</th>\n",
       "      <td>1230</td>\n",
       "      <td>2493</td>\n",
       "      <td>1531</td>\n",
       "      <td>1181</td>\n",
       "      <td>279</td>\n",
       "      <td>2537</td>\n",
       "    </tr>\n",
       "  </tbody>\n",
       "</table>\n",
       "</div>"
      ],
      "text/plain": [
       "event  CartScreenAppear  MainScreenAppear  OffersScreenAppear  \\\n",
       "group                                                           \n",
       "246    1266              2449              1542                 \n",
       "247    1238              2476              1520                 \n",
       "248    1230              2493              1531                 \n",
       "\n",
       "event  PaymentScreenSuccessful  Tutorial  count  \n",
       "group                                            \n",
       "246    1199                     278       2483   \n",
       "247    1156                     283       2513   \n",
       "248    1181                     279       2537   "
      ]
     },
     "execution_count": 77,
     "metadata": {},
     "output_type": "execute_result"
    }
   ],
   "source": [
    "users_events"
   ]
  },
  {
   "cell_type": "code",
   "execution_count": 78,
   "metadata": {},
   "outputs": [],
   "source": [
    "group_1 = users_events.loc[246] #контрольная группа\n",
    "group_2 = users_events.loc[247] #контрольная группа\n",
    "group_3 = users_events.loc[248] #Экперементальная группа. С измененными шрифтами"
   ]
  },
  {
   "cell_type": "code",
   "execution_count": 79,
   "metadata": {},
   "outputs": [
    {
     "data": {
      "text/plain": [
       "event\n",
       "CartScreenAppear           1238\n",
       "MainScreenAppear           2476\n",
       "OffersScreenAppear         1520\n",
       "PaymentScreenSuccessful    1156\n",
       "Tutorial                   283 \n",
       "count                      2513\n",
       "Name: 247, dtype: int64"
      ]
     },
     "execution_count": 79,
     "metadata": {},
     "output_type": "execute_result"
    }
   ],
   "source": [
    "group_2"
   ]
  },
  {
   "cell_type": "code",
   "execution_count": 80,
   "metadata": {},
   "outputs": [
    {
     "data": {
      "text/html": [
       "<div>\n",
       "<style scoped>\n",
       "    .dataframe tbody tr th:only-of-type {\n",
       "        vertical-align: middle;\n",
       "    }\n",
       "\n",
       "    .dataframe tbody tr th {\n",
       "        vertical-align: top;\n",
       "    }\n",
       "\n",
       "    .dataframe thead th {\n",
       "        text-align: right;\n",
       "    }\n",
       "</style>\n",
       "<table border=\"1\" class=\"dataframe\">\n",
       "  <thead>\n",
       "    <tr style=\"text-align: right;\">\n",
       "      <th></th>\n",
       "      <th>event</th>\n",
       "      <th>difference</th>\n",
       "      <th>z_value</th>\n",
       "      <th>alpha</th>\n",
       "      <th>p_value</th>\n",
       "      <th>result</th>\n",
       "    </tr>\n",
       "  </thead>\n",
       "  <tbody>\n",
       "    <tr>\n",
       "      <th>0</th>\n",
       "      <td>CartScreenAppear</td>\n",
       "      <td>0.02</td>\n",
       "      <td>1.22</td>\n",
       "      <td>0.05</td>\n",
       "      <td>0.22</td>\n",
       "      <td>Не получилось отвергнуть нулевую гипотезу, нет оснований считать доли разными</td>\n",
       "    </tr>\n",
       "    <tr>\n",
       "      <th>1</th>\n",
       "      <td>MainScreenAppear</td>\n",
       "      <td>0.00</td>\n",
       "      <td>0.26</td>\n",
       "      <td>0.05</td>\n",
       "      <td>0.79</td>\n",
       "      <td>Не получилось отвергнуть нулевую гипотезу, нет оснований считать доли разными</td>\n",
       "    </tr>\n",
       "    <tr>\n",
       "      <th>2</th>\n",
       "      <td>OffersScreenAppear</td>\n",
       "      <td>0.02</td>\n",
       "      <td>1.18</td>\n",
       "      <td>0.05</td>\n",
       "      <td>0.24</td>\n",
       "      <td>Не получилось отвергнуть нулевую гипотезу, нет оснований считать доли разными</td>\n",
       "    </tr>\n",
       "    <tr>\n",
       "      <th>3</th>\n",
       "      <td>PaymentScreenSuccessful</td>\n",
       "      <td>0.02</td>\n",
       "      <td>1.62</td>\n",
       "      <td>0.05</td>\n",
       "      <td>0.11</td>\n",
       "      <td>Не получилось отвергнуть нулевую гипотезу, нет оснований считать доли разными</td>\n",
       "    </tr>\n",
       "  </tbody>\n",
       "</table>\n",
       "</div>"
      ],
      "text/plain": [
       "                     event  difference  z_value  alpha  p_value  \\\n",
       "0  CartScreenAppear        0.02        1.22     0.05   0.22       \n",
       "1  MainScreenAppear        0.00        0.26     0.05   0.79       \n",
       "2  OffersScreenAppear      0.02        1.18     0.05   0.24       \n",
       "3  PaymentScreenSuccessful 0.02        1.62     0.05   0.11       \n",
       "\n",
       "                                                                          result  \n",
       "0  Не получилось отвергнуть нулевую гипотезу, нет оснований считать доли разными  \n",
       "1  Не получилось отвергнуть нулевую гипотезу, нет оснований считать доли разными  \n",
       "2  Не получилось отвергнуть нулевую гипотезу, нет оснований считать доли разными  \n",
       "3  Не получилось отвергнуть нулевую гипотезу, нет оснований считать доли разными  "
      ]
     },
     "metadata": {},
     "output_type": "display_data"
    }
   ],
   "source": [
    "test_246_247 = pd.DataFrame(columns=['event', 'difference', 'z_value', 'alpha', 'p_value',  'result'])\n",
    "\n",
    "\n",
    "for row in range(4):\n",
    "    event = users_events.columns[row] \n",
    "    new_row = z_test(group_1[event], group_2[event], group_1['count'], group_2['count'])\n",
    "    new_row['event'] = event\n",
    "    \n",
    "    if new_row['p_value'] < alpha:\n",
    "        new_row['result'] = 'Отвергаем нулевую гипотезу: между долями есть значимая разница'       \n",
    "    else:\n",
    "        new_row['result'] = 'Не получилось отвергнуть нулевую гипотезу, нет оснований считать доли разными'        \n",
    "    \n",
    "    new_row['alpha'] = alpha\n",
    "    \n",
    "    test_246_247 = test_246_247.append(new_row, ignore_index=True)\n",
    "    \n",
    "display(test_246_247)"
   ]
  },
  {
   "cell_type": "markdown",
   "metadata": {},
   "source": [
    "По результатам тестирования видим что выборки в двух контрольных группах 246 и 247 совпадают. Разбиение на группы было сделано кореектно."
   ]
  },
  {
   "cell_type": "markdown",
   "metadata": {},
   "source": [
    "Можно проводить тесты с эксперементаольной группой"
   ]
  },
  {
   "cell_type": "markdown",
   "metadata": {},
   "source": [
    "**Нулевая гипотеза:** доли пользователей в группах 246 и 248, для всех событий одинаковые.  \n",
    "**Альтернативная гипотеза:** доли пользователей в группах 246 и 248, для всех событий различаются."
   ]
  },
  {
   "cell_type": "code",
   "execution_count": 81,
   "metadata": {},
   "outputs": [
    {
     "data": {
      "text/html": [
       "<div>\n",
       "<style scoped>\n",
       "    .dataframe tbody tr th:only-of-type {\n",
       "        vertical-align: middle;\n",
       "    }\n",
       "\n",
       "    .dataframe tbody tr th {\n",
       "        vertical-align: top;\n",
       "    }\n",
       "\n",
       "    .dataframe thead th {\n",
       "        text-align: right;\n",
       "    }\n",
       "</style>\n",
       "<table border=\"1\" class=\"dataframe\">\n",
       "  <thead>\n",
       "    <tr style=\"text-align: right;\">\n",
       "      <th></th>\n",
       "      <th>event</th>\n",
       "      <th>difference</th>\n",
       "      <th>z_value</th>\n",
       "      <th>alpha</th>\n",
       "      <th>p_value</th>\n",
       "      <th>result</th>\n",
       "    </tr>\n",
       "  </thead>\n",
       "  <tbody>\n",
       "    <tr>\n",
       "      <th>0</th>\n",
       "      <td>CartScreenAppear</td>\n",
       "      <td>0.03</td>\n",
       "      <td>1.77</td>\n",
       "      <td>0.05</td>\n",
       "      <td>0.08</td>\n",
       "      <td>Не получилось отвергнуть нулевую гипотезу, нет оснований считать доли разными</td>\n",
       "    </tr>\n",
       "    <tr>\n",
       "      <th>1</th>\n",
       "      <td>MainScreenAppear</td>\n",
       "      <td>0.00</td>\n",
       "      <td>0.84</td>\n",
       "      <td>0.05</td>\n",
       "      <td>0.40</td>\n",
       "      <td>Не получилось отвергнуть нулевую гипотезу, нет оснований считать доли разными</td>\n",
       "    </tr>\n",
       "    <tr>\n",
       "      <th>2</th>\n",
       "      <td>OffersScreenAppear</td>\n",
       "      <td>0.02</td>\n",
       "      <td>1.28</td>\n",
       "      <td>0.05</td>\n",
       "      <td>0.20</td>\n",
       "      <td>Не получилось отвергнуть нулевую гипотезу, нет оснований считать доли разными</td>\n",
       "    </tr>\n",
       "    <tr>\n",
       "      <th>3</th>\n",
       "      <td>PaymentScreenSuccessful</td>\n",
       "      <td>0.02</td>\n",
       "      <td>1.23</td>\n",
       "      <td>0.05</td>\n",
       "      <td>0.22</td>\n",
       "      <td>Не получилось отвергнуть нулевую гипотезу, нет оснований считать доли разными</td>\n",
       "    </tr>\n",
       "  </tbody>\n",
       "</table>\n",
       "</div>"
      ],
      "text/plain": [
       "                     event  difference  z_value  alpha  p_value  \\\n",
       "0  CartScreenAppear        0.03        1.77     0.05   0.08       \n",
       "1  MainScreenAppear        0.00        0.84     0.05   0.40       \n",
       "2  OffersScreenAppear      0.02        1.28     0.05   0.20       \n",
       "3  PaymentScreenSuccessful 0.02        1.23     0.05   0.22       \n",
       "\n",
       "                                                                          result  \n",
       "0  Не получилось отвергнуть нулевую гипотезу, нет оснований считать доли разными  \n",
       "1  Не получилось отвергнуть нулевую гипотезу, нет оснований считать доли разными  \n",
       "2  Не получилось отвергнуть нулевую гипотезу, нет оснований считать доли разными  \n",
       "3  Не получилось отвергнуть нулевую гипотезу, нет оснований считать доли разными  "
      ]
     },
     "metadata": {},
     "output_type": "display_data"
    }
   ],
   "source": [
    "test_246_248 = pd.DataFrame(columns=['event', 'difference', 'z_value', 'alpha', 'p_value',  'result'])\n",
    "\n",
    "name_1 = 246\n",
    "name_2 = 248\n",
    "group_1 = users_events.loc[name_1] #контрольная группа\n",
    "group_2 = users_events.loc[name_2] #эксперементальная группа\n",
    "\n",
    "new_row = {} \n",
    "for row in range(4):\n",
    "    event = users_events.columns[row] \n",
    "    new_row = z_test(group_1[event], group_2[event], group_1['count'], group_2['count'])\n",
    "    new_row['event'] = event\n",
    "    \n",
    "    if new_row['p_value'] < alpha:\n",
    "        new_row['result'] = 'Отвергаем нулевую гипотезу: между долями есть значимая разница'       \n",
    "    else:\n",
    "        new_row['result'] = 'Не получилось отвергнуть нулевую гипотезу, нет оснований считать доли разными'        \n",
    "    \n",
    "    new_row['alpha'] = alpha\n",
    "    \n",
    "    test_246_248 = test_246_248.append(new_row, ignore_index=True)\n",
    "    \n",
    "display(test_246_248)"
   ]
  },
  {
   "cell_type": "markdown",
   "metadata": {},
   "source": [
    "**Нулевая гипотеза:** доли пользователей в группах 247 и 248, для всех событий одинаковые.  \n",
    "**Альтернативная гипотеза:** доли пользователей в группах 247 и 248, для всех событий различаются."
   ]
  },
  {
   "cell_type": "code",
   "execution_count": 82,
   "metadata": {},
   "outputs": [
    {
     "data": {
      "text/html": [
       "<div>\n",
       "<style scoped>\n",
       "    .dataframe tbody tr th:only-of-type {\n",
       "        vertical-align: middle;\n",
       "    }\n",
       "\n",
       "    .dataframe tbody tr th {\n",
       "        vertical-align: top;\n",
       "    }\n",
       "\n",
       "    .dataframe thead th {\n",
       "        text-align: right;\n",
       "    }\n",
       "</style>\n",
       "<table border=\"1\" class=\"dataframe\">\n",
       "  <thead>\n",
       "    <tr style=\"text-align: right;\">\n",
       "      <th></th>\n",
       "      <th>event</th>\n",
       "      <th>difference</th>\n",
       "      <th>z_value</th>\n",
       "      <th>alpha</th>\n",
       "      <th>p_value</th>\n",
       "      <th>result</th>\n",
       "    </tr>\n",
       "  </thead>\n",
       "  <tbody>\n",
       "    <tr>\n",
       "      <th>0</th>\n",
       "      <td>CartScreenAppear</td>\n",
       "      <td>0.01</td>\n",
       "      <td>0.56</td>\n",
       "      <td>0.05</td>\n",
       "      <td>0.58</td>\n",
       "      <td>Не получилось отвергнуть нулевую гипотезу, нет оснований считать доли разными</td>\n",
       "    </tr>\n",
       "    <tr>\n",
       "      <th>1</th>\n",
       "      <td>MainScreenAppear</td>\n",
       "      <td>0.00</td>\n",
       "      <td>0.67</td>\n",
       "      <td>0.05</td>\n",
       "      <td>0.50</td>\n",
       "      <td>Не получилось отвергнуть нулевую гипотезу, нет оснований считать доли разными</td>\n",
       "    </tr>\n",
       "    <tr>\n",
       "      <th>2</th>\n",
       "      <td>OffersScreenAppear</td>\n",
       "      <td>0.00</td>\n",
       "      <td>0.10</td>\n",
       "      <td>0.05</td>\n",
       "      <td>0.92</td>\n",
       "      <td>Не получилось отвергнуть нулевую гипотезу, нет оснований считать доли разными</td>\n",
       "    </tr>\n",
       "    <tr>\n",
       "      <th>3</th>\n",
       "      <td>PaymentScreenSuccessful</td>\n",
       "      <td>-0.01</td>\n",
       "      <td>-0.39</td>\n",
       "      <td>0.05</td>\n",
       "      <td>0.69</td>\n",
       "      <td>Не получилось отвергнуть нулевую гипотезу, нет оснований считать доли разными</td>\n",
       "    </tr>\n",
       "  </tbody>\n",
       "</table>\n",
       "</div>"
      ],
      "text/plain": [
       "                     event  difference  z_value  alpha  p_value  \\\n",
       "0  CartScreenAppear        0.01        0.56     0.05   0.58       \n",
       "1  MainScreenAppear        0.00        0.67     0.05   0.50       \n",
       "2  OffersScreenAppear      0.00        0.10     0.05   0.92       \n",
       "3  PaymentScreenSuccessful -0.01       -0.39    0.05   0.69       \n",
       "\n",
       "                                                                          result  \n",
       "0  Не получилось отвергнуть нулевую гипотезу, нет оснований считать доли разными  \n",
       "1  Не получилось отвергнуть нулевую гипотезу, нет оснований считать доли разными  \n",
       "2  Не получилось отвергнуть нулевую гипотезу, нет оснований считать доли разными  \n",
       "3  Не получилось отвергнуть нулевую гипотезу, нет оснований считать доли разными  "
      ]
     },
     "metadata": {},
     "output_type": "display_data"
    }
   ],
   "source": [
    "test_247_248 = pd.DataFrame(columns=['event', 'difference', 'z_value', 'alpha', 'p_value',  'result'])\n",
    "\n",
    "name_1 = 247\n",
    "name_2 = 248\n",
    "group_1 = users_events.loc[name_1] #контрольная группа\n",
    "group_2 = users_events.loc[name_2] #эксперементальная группа\n",
    "\n",
    "new_row = {} \n",
    "for row in range(4):\n",
    "    event = users_events.columns[row] \n",
    "    new_row = z_test(group_1[event], group_2[event], group_1['count'], group_2['count'])\n",
    "    new_row['event'] = event\n",
    "    \n",
    "    if new_row['p_value'] < alpha:\n",
    "        new_row['result'] = 'Отвергаем нулевую гипотезу: между долями есть значимая разница'       \n",
    "    else:\n",
    "        new_row['result'] = 'Не получилось отвергнуть нулевую гипотезу, нет оснований считать доли разными'        \n",
    "    \n",
    "    new_row['alpha'] = alpha\n",
    "    \n",
    "    test_247_248 = test_247_248.append(new_row, ignore_index=True)\n",
    "    \n",
    "display(test_247_248)"
   ]
  },
  {
   "cell_type": "markdown",
   "metadata": {},
   "source": [
    "Повторное тестирование групп 247 и 248"
   ]
  },
  {
   "cell_type": "code",
   "execution_count": 83,
   "metadata": {},
   "outputs": [
    {
     "data": {
      "text/html": [
       "<div>\n",
       "<style scoped>\n",
       "    .dataframe tbody tr th:only-of-type {\n",
       "        vertical-align: middle;\n",
       "    }\n",
       "\n",
       "    .dataframe tbody tr th {\n",
       "        vertical-align: top;\n",
       "    }\n",
       "\n",
       "    .dataframe thead th {\n",
       "        text-align: right;\n",
       "    }\n",
       "</style>\n",
       "<table border=\"1\" class=\"dataframe\">\n",
       "  <thead>\n",
       "    <tr style=\"text-align: right;\">\n",
       "      <th></th>\n",
       "      <th>event</th>\n",
       "      <th>difference</th>\n",
       "      <th>z_value</th>\n",
       "      <th>alpha</th>\n",
       "      <th>p_value</th>\n",
       "      <th>result</th>\n",
       "    </tr>\n",
       "  </thead>\n",
       "  <tbody>\n",
       "    <tr>\n",
       "      <th>0</th>\n",
       "      <td>CartScreenAppear</td>\n",
       "      <td>0.01</td>\n",
       "      <td>0.56</td>\n",
       "      <td>0.05</td>\n",
       "      <td>0.58</td>\n",
       "      <td>Не получилось отвергнуть нулевую гипотезу, нет оснований считать доли разными</td>\n",
       "    </tr>\n",
       "    <tr>\n",
       "      <th>1</th>\n",
       "      <td>MainScreenAppear</td>\n",
       "      <td>0.00</td>\n",
       "      <td>0.67</td>\n",
       "      <td>0.05</td>\n",
       "      <td>0.50</td>\n",
       "      <td>Не получилось отвергнуть нулевую гипотезу, нет оснований считать доли разными</td>\n",
       "    </tr>\n",
       "    <tr>\n",
       "      <th>2</th>\n",
       "      <td>OffersScreenAppear</td>\n",
       "      <td>0.00</td>\n",
       "      <td>0.10</td>\n",
       "      <td>0.05</td>\n",
       "      <td>0.92</td>\n",
       "      <td>Не получилось отвергнуть нулевую гипотезу, нет оснований считать доли разными</td>\n",
       "    </tr>\n",
       "    <tr>\n",
       "      <th>3</th>\n",
       "      <td>PaymentScreenSuccessful</td>\n",
       "      <td>-0.01</td>\n",
       "      <td>-0.39</td>\n",
       "      <td>0.05</td>\n",
       "      <td>0.69</td>\n",
       "      <td>Не получилось отвергнуть нулевую гипотезу, нет оснований считать доли разными</td>\n",
       "    </tr>\n",
       "  </tbody>\n",
       "</table>\n",
       "</div>"
      ],
      "text/plain": [
       "                     event  difference  z_value  alpha  p_value  \\\n",
       "0  CartScreenAppear        0.01        0.56     0.05   0.58       \n",
       "1  MainScreenAppear        0.00        0.67     0.05   0.50       \n",
       "2  OffersScreenAppear      0.00        0.10     0.05   0.92       \n",
       "3  PaymentScreenSuccessful -0.01       -0.39    0.05   0.69       \n",
       "\n",
       "                                                                          result  \n",
       "0  Не получилось отвергнуть нулевую гипотезу, нет оснований считать доли разными  \n",
       "1  Не получилось отвергнуть нулевую гипотезу, нет оснований считать доли разными  \n",
       "2  Не получилось отвергнуть нулевую гипотезу, нет оснований считать доли разными  \n",
       "3  Не получилось отвергнуть нулевую гипотезу, нет оснований считать доли разными  "
      ]
     },
     "metadata": {},
     "output_type": "display_data"
    }
   ],
   "source": [
    "test_247_248_1 = pd.DataFrame(columns=['event', 'difference', 'z_value', 'alpha', 'p_value',  'result'])\n",
    "\n",
    "name_1 = 247\n",
    "name_2 = 248\n",
    "group_1 = users_events.loc[name_1] #контрольная группа\n",
    "group_2 = users_events.loc[name_2] #эксперементальная группа\n",
    "\n",
    "new_row = {} \n",
    "for row in range(4):\n",
    "    event = users_events.columns[row] \n",
    "    new_row = z_test(group_1[event], group_2[event], group_1['count'], group_2['count'])\n",
    "    new_row['event'] = event\n",
    "    \n",
    "    if new_row['p_value'] < alpha:\n",
    "        new_row['result'] = 'Отвергаем нулевую гипотезу: между долями есть значимая разница'       \n",
    "    else:\n",
    "        new_row['result'] = 'Не получилось отвергнуть нулевую гипотезу, нет оснований считать доли разными'        \n",
    "    \n",
    "    new_row['alpha'] = alpha\n",
    "    \n",
    "    test_247_248_1 = test_247_248_1.append(new_row, ignore_index=True)\n",
    "    \n",
    "display(test_247_248_1)"
   ]
  },
  {
   "cell_type": "markdown",
   "metadata": {},
   "source": [
    "Значение **p_value** не поменялись"
   ]
  },
  {
   "cell_type": "markdown",
   "metadata": {},
   "source": [
    "# Вывод"
   ]
  },
  {
   "cell_type": "markdown",
   "metadata": {},
   "source": [
    "Тестирование показало что пользователи никак не отреагировали на изменение шрифтов. Чего опасались менеджеры. Это значит нет изменений ни в худшую ни в лучшую сторону. Поэтому можно изменить в приложении шрифт если дизайнеры считают что он лучше. \n",
    "Возможно шрифт скажеться только на определенной группе пользователей."
   ]
  },
  {
   "cell_type": "code",
   "execution_count": null,
   "metadata": {},
   "outputs": [],
   "source": []
  },
  {
   "cell_type": "code",
   "execution_count": null,
   "metadata": {},
   "outputs": [],
   "source": []
  },
  {
   "cell_type": "code",
   "execution_count": null,
   "metadata": {},
   "outputs": [],
   "source": []
  },
  {
   "cell_type": "code",
   "execution_count": null,
   "metadata": {},
   "outputs": [],
   "source": []
  },
  {
   "cell_type": "code",
   "execution_count": null,
   "metadata": {},
   "outputs": [],
   "source": []
  }
 ],
 "metadata": {
  "ExecuteTimeLog": [
   {
    "duration": 1520,
    "start_time": "2021-11-08T18:06:13.616Z"
   },
   {
    "duration": 4,
    "start_time": "2021-11-08T18:06:33.943Z"
   },
   {
    "duration": 334,
    "start_time": "2021-11-08T18:07:54.149Z"
   },
   {
    "duration": 13,
    "start_time": "2021-11-08T18:08:02.753Z"
   },
   {
    "duration": 117,
    "start_time": "2021-11-08T18:11:09.836Z"
   },
   {
    "duration": 123,
    "start_time": "2021-11-08T18:12:00.305Z"
   },
   {
    "duration": 366,
    "start_time": "2021-11-08T18:12:50.813Z"
   },
   {
    "duration": 9,
    "start_time": "2021-11-08T18:12:54.754Z"
   },
   {
    "duration": 126,
    "start_time": "2021-11-08T18:13:01.950Z"
   },
   {
    "duration": 365,
    "start_time": "2021-11-08T18:16:00.050Z"
   },
   {
    "duration": 10,
    "start_time": "2021-11-08T18:16:01.990Z"
   },
   {
    "duration": 423,
    "start_time": "2021-11-08T18:17:52.296Z"
   },
   {
    "duration": 1646,
    "start_time": "2021-11-08T18:20:40.835Z"
   },
   {
    "duration": 327,
    "start_time": "2021-11-08T18:20:47.050Z"
   },
   {
    "duration": 120,
    "start_time": "2021-11-08T18:20:54.058Z"
   },
   {
    "duration": 318,
    "start_time": "2021-11-08T18:29:39.151Z"
   },
   {
    "duration": 170,
    "start_time": "2021-11-08T18:30:56.591Z"
   },
   {
    "duration": 366,
    "start_time": "2021-11-08T18:42:37.540Z"
   },
   {
    "duration": 5,
    "start_time": "2021-11-08T18:42:49.061Z"
   },
   {
    "duration": 21,
    "start_time": "2021-11-08T18:44:31.905Z"
   },
   {
    "duration": 44,
    "start_time": "2021-11-08T18:46:22.942Z"
   },
   {
    "duration": 4,
    "start_time": "2021-11-08T18:47:17.234Z"
   },
   {
    "duration": 50,
    "start_time": "2021-11-08T18:49:03.030Z"
   },
   {
    "duration": 21,
    "start_time": "2021-11-08T18:49:13.077Z"
   },
   {
    "duration": 77,
    "start_time": "2021-11-08T18:52:08.495Z"
   },
   {
    "duration": 78,
    "start_time": "2021-11-08T18:53:00.159Z"
   },
   {
    "duration": 85,
    "start_time": "2021-11-08T18:53:09.702Z"
   },
   {
    "duration": 71,
    "start_time": "2021-11-08T18:54:04.112Z"
   },
   {
    "duration": 8,
    "start_time": "2021-11-08T18:54:17.681Z"
   },
   {
    "duration": 452,
    "start_time": "2021-11-08T18:55:18.385Z"
   },
   {
    "duration": 93,
    "start_time": "2021-11-08T18:55:53.999Z"
   },
   {
    "duration": 89,
    "start_time": "2021-11-08T18:56:17.437Z"
   },
   {
    "duration": 86,
    "start_time": "2021-11-08T18:58:05.156Z"
   },
   {
    "duration": 108,
    "start_time": "2021-11-08T19:08:01.219Z"
   },
   {
    "duration": 12,
    "start_time": "2021-11-08T19:08:09.508Z"
   },
   {
    "duration": 114,
    "start_time": "2021-11-08T19:08:47.937Z"
   },
   {
    "duration": 15,
    "start_time": "2021-11-08T19:08:50.467Z"
   },
   {
    "duration": 366,
    "start_time": "2021-11-08T19:19:12.653Z"
   },
   {
    "duration": 115,
    "start_time": "2021-11-08T19:28:27.010Z"
   },
   {
    "duration": 457,
    "start_time": "2021-11-09T07:24:15.231Z"
   },
   {
    "duration": 1237,
    "start_time": "2021-11-09T07:24:24.131Z"
   },
   {
    "duration": 3,
    "start_time": "2021-11-09T07:24:26.835Z"
   },
   {
    "duration": 129,
    "start_time": "2021-11-09T07:24:28.411Z"
   },
   {
    "duration": 38,
    "start_time": "2021-11-09T07:24:33.647Z"
   },
   {
    "duration": 3,
    "start_time": "2021-11-09T07:24:38.794Z"
   },
   {
    "duration": 42,
    "start_time": "2021-11-09T07:24:39.579Z"
   },
   {
    "duration": 6,
    "start_time": "2021-11-09T07:24:42.423Z"
   },
   {
    "duration": 22,
    "start_time": "2021-11-09T07:24:44.660Z"
   },
   {
    "duration": 9,
    "start_time": "2021-11-09T07:25:02.372Z"
   },
   {
    "duration": 6,
    "start_time": "2021-11-09T07:26:55.139Z"
   },
   {
    "duration": 9,
    "start_time": "2021-11-09T07:26:56.539Z"
   },
   {
    "duration": 5,
    "start_time": "2021-11-09T07:27:07.885Z"
   },
   {
    "duration": 9,
    "start_time": "2021-11-09T07:27:08.452Z"
   },
   {
    "duration": 13,
    "start_time": "2021-11-09T07:34:52.228Z"
   },
   {
    "duration": 9,
    "start_time": "2021-11-09T07:34:54.040Z"
   },
   {
    "duration": 128,
    "start_time": "2021-11-09T10:17:27.103Z"
   },
   {
    "duration": 175,
    "start_time": "2021-11-09T10:17:35.721Z"
   },
   {
    "duration": 170,
    "start_time": "2021-11-09T10:19:37.677Z"
   },
   {
    "duration": 166,
    "start_time": "2021-11-09T10:19:47.557Z"
   },
   {
    "duration": 4,
    "start_time": "2021-11-09T17:45:36.121Z"
   },
   {
    "duration": 5,
    "start_time": "2021-11-09T17:45:36.128Z"
   },
   {
    "duration": 131,
    "start_time": "2021-11-09T17:45:36.136Z"
   },
   {
    "duration": 40,
    "start_time": "2021-11-09T17:45:36.269Z"
   },
   {
    "duration": 4,
    "start_time": "2021-11-09T17:45:36.311Z"
   },
   {
    "duration": 41,
    "start_time": "2021-11-09T17:45:36.317Z"
   },
   {
    "duration": 110,
    "start_time": "2021-11-09T17:45:36.360Z"
   },
   {
    "duration": 18,
    "start_time": "2021-11-09T17:45:36.472Z"
   },
   {
    "duration": 10,
    "start_time": "2021-11-09T17:45:36.507Z"
   },
   {
    "duration": 262,
    "start_time": "2021-11-09T17:45:36.519Z"
   },
   {
    "duration": 15,
    "start_time": "2021-11-09T17:47:08.576Z"
   },
   {
    "duration": 3,
    "start_time": "2021-11-09T17:48:16.066Z"
   },
   {
    "duration": 23,
    "start_time": "2021-11-09T17:48:16.071Z"
   },
   {
    "duration": 131,
    "start_time": "2021-11-09T17:48:16.097Z"
   },
   {
    "duration": 34,
    "start_time": "2021-11-09T17:48:16.230Z"
   },
   {
    "duration": 3,
    "start_time": "2021-11-09T17:48:16.266Z"
   },
   {
    "duration": 63,
    "start_time": "2021-11-09T17:48:16.271Z"
   },
   {
    "duration": 88,
    "start_time": "2021-11-09T17:48:16.336Z"
   },
   {
    "duration": 15,
    "start_time": "2021-11-09T17:48:16.426Z"
   },
   {
    "duration": 11,
    "start_time": "2021-11-09T17:48:16.444Z"
   },
   {
    "duration": 271,
    "start_time": "2021-11-09T17:48:16.457Z"
   },
   {
    "duration": 15,
    "start_time": "2021-11-09T17:48:16.730Z"
   },
   {
    "duration": 3,
    "start_time": "2021-11-09T17:51:40.780Z"
   },
   {
    "duration": 11,
    "start_time": "2021-11-09T17:51:40.785Z"
   },
   {
    "duration": 133,
    "start_time": "2021-11-09T17:51:40.798Z"
   },
   {
    "duration": 34,
    "start_time": "2021-11-09T17:51:40.933Z"
   },
   {
    "duration": 3,
    "start_time": "2021-11-09T17:51:40.969Z"
   },
   {
    "duration": 63,
    "start_time": "2021-11-09T17:51:40.974Z"
   },
   {
    "duration": 88,
    "start_time": "2021-11-09T17:51:41.039Z"
   },
   {
    "duration": 15,
    "start_time": "2021-11-09T17:51:41.130Z"
   },
   {
    "duration": 11,
    "start_time": "2021-11-09T17:51:41.147Z"
   },
   {
    "duration": 234,
    "start_time": "2021-11-09T17:51:41.160Z"
   },
   {
    "duration": 23,
    "start_time": "2021-11-09T17:51:41.397Z"
   },
   {
    "duration": 21,
    "start_time": "2021-11-09T18:02:10.400Z"
   },
   {
    "duration": 6,
    "start_time": "2021-11-09T18:13:53.648Z"
   },
   {
    "duration": 120,
    "start_time": "2021-11-09T18:15:37.972Z"
   },
   {
    "duration": 246,
    "start_time": "2021-11-09T18:15:47.832Z"
   },
   {
    "duration": 6,
    "start_time": "2021-11-09T18:16:09.455Z"
   },
   {
    "duration": 18,
    "start_time": "2021-11-09T18:18:45.146Z"
   },
   {
    "duration": 22,
    "start_time": "2021-11-09T18:19:03.778Z"
   },
   {
    "duration": 20,
    "start_time": "2021-11-09T18:19:37.610Z"
   },
   {
    "duration": 474,
    "start_time": "2021-11-09T18:22:03.940Z"
   },
   {
    "duration": 21,
    "start_time": "2021-11-09T18:22:50.004Z"
   },
   {
    "duration": 5522,
    "start_time": "2021-11-09T18:23:20.203Z"
   },
   {
    "duration": 19,
    "start_time": "2021-11-09T18:26:34.585Z"
   },
   {
    "duration": 19,
    "start_time": "2021-11-09T18:26:47.518Z"
   },
   {
    "duration": 194,
    "start_time": "2021-11-09T18:28:52.769Z"
   },
   {
    "duration": 210,
    "start_time": "2021-11-09T18:29:04.774Z"
   },
   {
    "duration": 226,
    "start_time": "2021-11-09T18:29:13.913Z"
   },
   {
    "duration": 18,
    "start_time": "2021-11-09T18:38:31.856Z"
   },
   {
    "duration": 34,
    "start_time": "2021-11-09T18:39:01.260Z"
   },
   {
    "duration": 3,
    "start_time": "2021-11-09T18:42:18.486Z"
   },
   {
    "duration": 5,
    "start_time": "2021-11-09T18:42:20.534Z"
   },
   {
    "duration": 10,
    "start_time": "2021-11-09T18:42:24.787Z"
   },
   {
    "duration": 129,
    "start_time": "2021-11-09T18:42:38.744Z"
   },
   {
    "duration": 9,
    "start_time": "2021-11-09T18:42:42.209Z"
   },
   {
    "duration": 4,
    "start_time": "2021-11-09T18:42:46.648Z"
   },
   {
    "duration": 8,
    "start_time": "2021-11-09T18:42:52.245Z"
   },
   {
    "duration": 33,
    "start_time": "2021-11-09T18:43:02.143Z"
   },
   {
    "duration": 9,
    "start_time": "2021-11-09T18:43:05.351Z"
   },
   {
    "duration": 7,
    "start_time": "2021-11-09T18:43:21.669Z"
   },
   {
    "duration": 130,
    "start_time": "2021-11-09T18:47:35.881Z"
   },
   {
    "duration": 10,
    "start_time": "2021-11-09T18:53:06.002Z"
   },
   {
    "duration": 10325,
    "start_time": "2021-11-09T18:53:10.953Z"
   },
   {
    "duration": 6,
    "start_time": "2021-11-09T18:53:21.274Z"
   },
   {
    "duration": 8,
    "start_time": "2021-11-09T18:53:35.583Z"
   },
   {
    "duration": 3,
    "start_time": "2021-11-09T18:53:40.242Z"
   },
   {
    "duration": 10,
    "start_time": "2021-11-09T18:53:41.078Z"
   },
   {
    "duration": 10,
    "start_time": "2021-11-09T18:53:43.841Z"
   },
   {
    "duration": 37,
    "start_time": "2021-11-09T19:01:21.574Z"
   },
   {
    "duration": 35,
    "start_time": "2021-11-09T19:01:32.938Z"
   },
   {
    "duration": 201,
    "start_time": "2021-11-09T19:01:33.726Z"
   },
   {
    "duration": 21,
    "start_time": "2021-11-09T19:03:38.318Z"
   },
   {
    "duration": 127,
    "start_time": "2021-11-09T19:04:22.457Z"
   },
   {
    "duration": 34,
    "start_time": "2021-11-09T19:04:25.541Z"
   },
   {
    "duration": 8,
    "start_time": "2021-11-09T19:04:45.338Z"
   },
   {
    "duration": 8,
    "start_time": "2021-11-09T19:06:47.733Z"
   },
   {
    "duration": 27,
    "start_time": "2021-11-09T19:06:52.356Z"
   },
   {
    "duration": 7,
    "start_time": "2021-11-09T19:07:04.202Z"
   },
   {
    "duration": 9,
    "start_time": "2021-11-09T19:07:07.643Z"
   },
   {
    "duration": 7,
    "start_time": "2021-11-09T19:07:18.556Z"
   },
   {
    "duration": 8,
    "start_time": "2021-11-09T19:07:21.306Z"
   },
   {
    "duration": 12,
    "start_time": "2021-11-09T19:08:13.845Z"
   },
   {
    "duration": 9,
    "start_time": "2021-11-09T19:08:26.709Z"
   },
   {
    "duration": 128,
    "start_time": "2021-11-09T19:09:53.892Z"
   },
   {
    "duration": 8,
    "start_time": "2021-11-09T19:10:01.018Z"
   },
   {
    "duration": 6,
    "start_time": "2021-11-09T19:10:04.146Z"
   },
   {
    "duration": 8,
    "start_time": "2021-11-09T19:10:07.405Z"
   },
   {
    "duration": 12,
    "start_time": "2021-11-09T19:10:11.960Z"
   },
   {
    "duration": 8,
    "start_time": "2021-11-09T19:10:16.172Z"
   },
   {
    "duration": 87,
    "start_time": "2021-11-09T19:10:21.211Z"
   },
   {
    "duration": 9,
    "start_time": "2021-11-09T19:10:23.636Z"
   },
   {
    "duration": 18,
    "start_time": "2021-11-09T19:11:10.778Z"
   },
   {
    "duration": 56,
    "start_time": "2021-11-09T19:11:11.887Z"
   },
   {
    "duration": 7,
    "start_time": "2021-11-09T19:11:20.260Z"
   },
   {
    "duration": 21,
    "start_time": "2021-11-09T19:11:39.092Z"
   },
   {
    "duration": 20,
    "start_time": "2021-11-09T19:11:47.661Z"
   },
   {
    "duration": 35,
    "start_time": "2021-11-09T19:12:09.861Z"
   },
   {
    "duration": 271,
    "start_time": "2021-11-09T19:13:48.127Z"
   },
   {
    "duration": 317,
    "start_time": "2021-11-09T19:14:12.599Z"
   },
   {
    "duration": 367,
    "start_time": "2021-11-09T19:14:38.510Z"
   },
   {
    "duration": 234,
    "start_time": "2021-11-09T19:15:55.921Z"
   },
   {
    "duration": 228,
    "start_time": "2021-11-09T19:16:06.472Z"
   },
   {
    "duration": 252,
    "start_time": "2021-11-09T19:16:16.058Z"
   },
   {
    "duration": 261,
    "start_time": "2021-11-09T19:16:23.194Z"
   },
   {
    "duration": 258,
    "start_time": "2021-11-09T19:18:26.626Z"
   },
   {
    "duration": 36,
    "start_time": "2021-11-09T20:05:46.065Z"
   },
   {
    "duration": 270,
    "start_time": "2021-11-09T20:06:01.007Z"
   },
   {
    "duration": 22,
    "start_time": "2021-11-09T20:08:44.843Z"
   },
   {
    "duration": 1926,
    "start_time": "2021-11-09T20:19:16.001Z"
   },
   {
    "duration": 2772,
    "start_time": "2021-11-09T20:20:32.408Z"
   },
   {
    "duration": 407,
    "start_time": "2021-11-09T20:21:41.087Z"
   },
   {
    "duration": 3,
    "start_time": "2021-11-09T20:22:48.878Z"
   },
   {
    "duration": 34,
    "start_time": "2021-11-09T20:22:54.535Z"
   },
   {
    "duration": 143,
    "start_time": "2021-11-09T20:23:51.407Z"
   },
   {
    "duration": 26,
    "start_time": "2021-11-09T20:23:58.952Z"
   },
   {
    "duration": 4,
    "start_time": "2021-11-09T20:24:07.681Z"
   },
   {
    "duration": 5,
    "start_time": "2021-11-09T20:24:27.144Z"
   },
   {
    "duration": 30,
    "start_time": "2021-11-09T20:24:49.367Z"
   },
   {
    "duration": 3,
    "start_time": "2021-11-10T10:12:53.588Z"
   },
   {
    "duration": 17,
    "start_time": "2021-11-10T10:12:53.593Z"
   },
   {
    "duration": 133,
    "start_time": "2021-11-10T10:12:53.613Z"
   },
   {
    "duration": 36,
    "start_time": "2021-11-10T10:12:53.748Z"
   },
   {
    "duration": 8,
    "start_time": "2021-11-10T10:12:53.786Z"
   },
   {
    "duration": 104,
    "start_time": "2021-11-10T10:12:53.807Z"
   },
   {
    "duration": 9,
    "start_time": "2021-11-10T10:12:53.913Z"
   },
   {
    "duration": 233,
    "start_time": "2021-11-10T10:12:53.924Z"
   },
   {
    "duration": 15,
    "start_time": "2021-11-10T10:12:54.160Z"
   },
   {
    "duration": 47,
    "start_time": "2021-11-10T10:12:54.177Z"
   },
   {
    "duration": 5,
    "start_time": "2021-11-10T10:12:54.226Z"
   },
   {
    "duration": 25,
    "start_time": "2021-11-10T10:12:54.233Z"
   },
   {
    "duration": 19,
    "start_time": "2021-11-10T10:12:54.260Z"
   },
   {
    "duration": 55,
    "start_time": "2021-11-10T10:12:54.281Z"
   },
   {
    "duration": 282,
    "start_time": "2021-11-10T10:12:54.338Z"
   },
   {
    "duration": 21,
    "start_time": "2021-11-10T10:12:54.622Z"
   },
   {
    "duration": 34,
    "start_time": "2021-11-10T10:12:54.645Z"
   },
   {
    "duration": 24,
    "start_time": "2021-11-10T10:13:05.298Z"
   },
   {
    "duration": 4,
    "start_time": "2021-11-10T10:15:51.763Z"
   },
   {
    "duration": 5,
    "start_time": "2021-11-10T10:16:21.006Z"
   },
   {
    "duration": 23,
    "start_time": "2021-11-10T10:16:29.850Z"
   },
   {
    "duration": 35,
    "start_time": "2021-11-10T10:18:16.382Z"
   },
   {
    "duration": 34,
    "start_time": "2021-11-10T10:18:37.399Z"
   },
   {
    "duration": 33,
    "start_time": "2021-11-10T10:18:55.962Z"
   },
   {
    "duration": 60,
    "start_time": "2021-11-10T10:19:29.092Z"
   },
   {
    "duration": 32,
    "start_time": "2021-11-10T10:20:45.101Z"
   },
   {
    "duration": 34,
    "start_time": "2021-11-10T10:20:52.336Z"
   },
   {
    "duration": 9,
    "start_time": "2021-11-10T10:21:25.260Z"
   },
   {
    "duration": 10,
    "start_time": "2021-11-10T10:22:14.732Z"
   },
   {
    "duration": 8,
    "start_time": "2021-11-10T10:22:56.075Z"
   },
   {
    "duration": 25,
    "start_time": "2021-11-10T10:23:34.692Z"
   },
   {
    "duration": 19,
    "start_time": "2021-11-10T10:23:44.837Z"
   },
   {
    "duration": 11,
    "start_time": "2021-11-10T10:24:14.411Z"
   },
   {
    "duration": 11,
    "start_time": "2021-11-10T10:24:24.851Z"
   },
   {
    "duration": 11,
    "start_time": "2021-11-10T10:24:41.905Z"
   },
   {
    "duration": 9,
    "start_time": "2021-11-10T10:25:32.055Z"
   },
   {
    "duration": 10,
    "start_time": "2021-11-10T10:25:32.503Z"
   },
   {
    "duration": 10,
    "start_time": "2021-11-10T10:25:32.924Z"
   },
   {
    "duration": 10,
    "start_time": "2021-11-10T10:25:42.902Z"
   },
   {
    "duration": 9,
    "start_time": "2021-11-10T10:25:43.365Z"
   },
   {
    "duration": 9,
    "start_time": "2021-11-10T10:25:43.767Z"
   },
   {
    "duration": 391,
    "start_time": "2021-11-10T10:30:45.992Z"
   },
   {
    "duration": 400,
    "start_time": "2021-11-10T10:30:57.631Z"
   },
   {
    "duration": 18,
    "start_time": "2021-11-10T10:32:56.838Z"
   },
   {
    "duration": 18,
    "start_time": "2021-11-10T10:34:23.943Z"
   },
   {
    "duration": 16,
    "start_time": "2021-11-10T10:34:39.694Z"
   },
   {
    "duration": 17,
    "start_time": "2021-11-10T10:34:43.936Z"
   },
   {
    "duration": 16,
    "start_time": "2021-11-10T10:35:01.478Z"
   },
   {
    "duration": 18,
    "start_time": "2021-11-10T10:35:07.141Z"
   },
   {
    "duration": 4,
    "start_time": "2021-11-10T10:37:44.859Z"
   },
   {
    "duration": 4,
    "start_time": "2021-11-10T10:38:24.703Z"
   },
   {
    "duration": 4,
    "start_time": "2021-11-10T10:38:31.774Z"
   },
   {
    "duration": 4,
    "start_time": "2021-11-10T10:38:44.614Z"
   },
   {
    "duration": 131,
    "start_time": "2021-11-10T10:38:52.739Z"
   },
   {
    "duration": 125,
    "start_time": "2021-11-10T10:39:09.612Z"
   },
   {
    "duration": 3,
    "start_time": "2021-11-10T10:39:23.015Z"
   },
   {
    "duration": 16,
    "start_time": "2021-11-10T10:39:44.245Z"
   },
   {
    "duration": 15,
    "start_time": "2021-11-10T10:39:45.773Z"
   },
   {
    "duration": 16,
    "start_time": "2021-11-10T10:39:47.277Z"
   },
   {
    "duration": 4,
    "start_time": "2021-11-10T10:40:27.286Z"
   },
   {
    "duration": 4,
    "start_time": "2021-11-10T10:44:44.393Z"
   },
   {
    "duration": 168,
    "start_time": "2021-11-10T11:06:14.318Z"
   },
   {
    "duration": 4,
    "start_time": "2021-11-10T11:06:21.586Z"
   },
   {
    "duration": 14,
    "start_time": "2021-11-10T11:16:11.079Z"
   },
   {
    "duration": 548,
    "start_time": "2021-11-10T11:16:20.170Z"
   },
   {
    "duration": 22,
    "start_time": "2021-11-10T11:17:13.876Z"
   },
   {
    "duration": 51,
    "start_time": "2021-11-10T11:17:29.242Z"
   },
   {
    "duration": 4,
    "start_time": "2021-11-10T11:17:31.260Z"
   },
   {
    "duration": 52,
    "start_time": "2021-11-10T11:20:07.122Z"
   },
   {
    "duration": 10,
    "start_time": "2021-11-10T11:25:17.939Z"
   },
   {
    "duration": 24,
    "start_time": "2021-11-10T11:25:27.717Z"
   },
   {
    "duration": 22,
    "start_time": "2021-11-10T11:25:40.388Z"
   },
   {
    "duration": 21,
    "start_time": "2021-11-10T11:25:50.713Z"
   },
   {
    "duration": 29,
    "start_time": "2021-11-10T13:53:12.434Z"
   },
   {
    "duration": 334,
    "start_time": "2021-11-10T18:17:06.792Z"
   },
   {
    "duration": 1639,
    "start_time": "2021-11-10T18:17:18.328Z"
   },
   {
    "duration": 4,
    "start_time": "2021-11-10T18:17:19.971Z"
   },
   {
    "duration": 177,
    "start_time": "2021-11-10T18:17:19.979Z"
   },
   {
    "duration": 50,
    "start_time": "2021-11-10T18:17:20.158Z"
   },
   {
    "duration": 12,
    "start_time": "2021-11-10T18:17:20.222Z"
   },
   {
    "duration": 143,
    "start_time": "2021-11-10T18:17:20.237Z"
   },
   {
    "duration": 13,
    "start_time": "2021-11-10T18:17:20.382Z"
   },
   {
    "duration": 354,
    "start_time": "2021-11-10T18:17:20.397Z"
   },
   {
    "duration": 21,
    "start_time": "2021-11-10T18:17:20.755Z"
   },
   {
    "duration": 87,
    "start_time": "2021-11-10T18:17:20.780Z"
   },
   {
    "duration": 10,
    "start_time": "2021-11-10T18:17:20.869Z"
   },
   {
    "duration": 46,
    "start_time": "2021-11-10T18:17:20.882Z"
   },
   {
    "duration": 24,
    "start_time": "2021-11-10T18:17:20.931Z"
   },
   {
    "duration": 71,
    "start_time": "2021-11-10T18:17:20.957Z"
   },
   {
    "duration": 552,
    "start_time": "2021-11-10T18:17:21.031Z"
   },
   {
    "duration": 38,
    "start_time": "2021-11-10T18:17:21.586Z"
   },
   {
    "duration": 35,
    "start_time": "2021-11-10T18:17:21.626Z"
   },
   {
    "duration": 68,
    "start_time": "2021-11-10T18:17:21.663Z"
   },
   {
    "duration": 13,
    "start_time": "2021-11-10T18:17:21.733Z"
   },
   {
    "duration": 91,
    "start_time": "2021-11-10T18:17:21.748Z"
   },
   {
    "duration": 28,
    "start_time": "2021-11-10T18:17:21.842Z"
   },
   {
    "duration": 52,
    "start_time": "2021-11-10T18:17:21.872Z"
   },
   {
    "duration": 64,
    "start_time": "2021-11-10T18:17:21.927Z"
   },
   {
    "duration": 513,
    "start_time": "2021-11-10T18:17:42.351Z"
   },
   {
    "duration": 63,
    "start_time": "2021-11-10T18:17:55.172Z"
   },
   {
    "duration": 64,
    "start_time": "2021-11-10T18:18:16.086Z"
   },
   {
    "duration": 68,
    "start_time": "2021-11-10T18:18:47.621Z"
   },
   {
    "duration": 58,
    "start_time": "2021-11-10T18:21:14.581Z"
   },
   {
    "duration": 9,
    "start_time": "2021-11-10T18:21:20.551Z"
   },
   {
    "duration": 89,
    "start_time": "2021-11-10T18:34:01.619Z"
   },
   {
    "duration": 86,
    "start_time": "2021-11-10T18:53:39.311Z"
   },
   {
    "duration": 16,
    "start_time": "2021-11-10T18:55:04.897Z"
   },
   {
    "duration": 21,
    "start_time": "2021-11-10T19:01:07.229Z"
   },
   {
    "duration": 6994,
    "start_time": "2021-11-10T19:15:07.192Z"
   },
   {
    "duration": 17,
    "start_time": "2021-11-10T19:15:21.522Z"
   },
   {
    "duration": 9,
    "start_time": "2021-11-10T19:16:05.243Z"
   },
   {
    "duration": 7,
    "start_time": "2021-11-10T19:18:10.478Z"
   },
   {
    "duration": 10,
    "start_time": "2021-11-10T19:18:15.099Z"
   },
   {
    "duration": 8012,
    "start_time": "2021-11-10T19:20:17.648Z"
   },
   {
    "duration": 7,
    "start_time": "2021-11-10T19:21:09.153Z"
   },
   {
    "duration": 12,
    "start_time": "2021-11-10T19:21:23.769Z"
   },
   {
    "duration": 294,
    "start_time": "2021-11-10T19:22:17.190Z"
   },
   {
    "duration": 324,
    "start_time": "2021-11-10T19:23:14.116Z"
   },
   {
    "duration": 12,
    "start_time": "2021-11-10T19:23:28.657Z"
   },
   {
    "duration": 11,
    "start_time": "2021-11-10T19:23:33.528Z"
   },
   {
    "duration": 8,
    "start_time": "2021-11-10T19:25:34.499Z"
   },
   {
    "duration": 13,
    "start_time": "2021-11-10T19:28:26.406Z"
   },
   {
    "duration": 9,
    "start_time": "2021-11-10T19:31:40.538Z"
   },
   {
    "duration": 12,
    "start_time": "2021-11-10T19:33:41.964Z"
   },
   {
    "duration": 66,
    "start_time": "2021-11-10T19:36:55.877Z"
   },
   {
    "duration": 15,
    "start_time": "2021-11-10T19:37:57.889Z"
   },
   {
    "duration": 324,
    "start_time": "2021-11-11T06:55:40.474Z"
   },
   {
    "duration": 1489,
    "start_time": "2021-11-11T06:55:47.006Z"
   },
   {
    "duration": 3,
    "start_time": "2021-11-11T06:55:48.498Z"
   },
   {
    "duration": 167,
    "start_time": "2021-11-11T06:55:48.504Z"
   },
   {
    "duration": 54,
    "start_time": "2021-11-11T06:55:48.674Z"
   },
   {
    "duration": 11,
    "start_time": "2021-11-11T06:55:48.730Z"
   },
   {
    "duration": 138,
    "start_time": "2021-11-11T06:55:48.743Z"
   },
   {
    "duration": 13,
    "start_time": "2021-11-11T06:55:48.883Z"
   },
   {
    "duration": 371,
    "start_time": "2021-11-11T06:55:48.900Z"
   },
   {
    "duration": 20,
    "start_time": "2021-11-11T06:55:49.274Z"
   },
   {
    "duration": 57,
    "start_time": "2021-11-11T06:55:49.297Z"
   },
   {
    "duration": 7,
    "start_time": "2021-11-11T06:55:49.357Z"
   },
   {
    "duration": 24,
    "start_time": "2021-11-11T06:55:49.366Z"
   },
   {
    "duration": 51,
    "start_time": "2021-11-11T06:55:49.392Z"
   },
   {
    "duration": 43,
    "start_time": "2021-11-11T06:55:49.445Z"
   },
   {
    "duration": 435,
    "start_time": "2021-11-11T06:55:49.491Z"
   },
   {
    "duration": 34,
    "start_time": "2021-11-11T06:55:49.929Z"
   },
   {
    "duration": 29,
    "start_time": "2021-11-11T06:55:49.966Z"
   },
   {
    "duration": 45,
    "start_time": "2021-11-11T06:55:50.023Z"
   },
   {
    "duration": 13,
    "start_time": "2021-11-11T06:55:50.070Z"
   },
   {
    "duration": 99,
    "start_time": "2021-11-11T06:55:50.086Z"
   },
   {
    "duration": 39,
    "start_time": "2021-11-11T06:55:50.187Z"
   },
   {
    "duration": 26,
    "start_time": "2021-11-11T06:55:50.229Z"
   },
   {
    "duration": 85,
    "start_time": "2021-11-11T06:55:50.260Z"
   },
   {
    "duration": 17,
    "start_time": "2021-11-11T06:55:50.347Z"
   },
   {
    "duration": 6922,
    "start_time": "2021-11-11T06:55:50.368Z"
   },
   {
    "duration": 11,
    "start_time": "2021-11-11T06:55:57.293Z"
   },
   {
    "duration": 26,
    "start_time": "2021-11-11T06:55:57.308Z"
   },
   {
    "duration": 8,
    "start_time": "2021-11-11T06:56:00.621Z"
   },
   {
    "duration": 10,
    "start_time": "2021-11-11T06:56:16.351Z"
   },
   {
    "duration": 8,
    "start_time": "2021-11-11T06:57:47.627Z"
   },
   {
    "duration": 8,
    "start_time": "2021-11-11T07:04:00.394Z"
   },
   {
    "duration": 10,
    "start_time": "2021-11-11T07:04:17.906Z"
   },
   {
    "duration": 9,
    "start_time": "2021-11-11T07:04:31.920Z"
   },
   {
    "duration": 8,
    "start_time": "2021-11-11T07:05:13.811Z"
   },
   {
    "duration": 1146,
    "start_time": "2021-11-11T07:15:31.348Z"
   },
   {
    "duration": 8,
    "start_time": "2021-11-11T07:15:38.450Z"
   },
   {
    "duration": 7,
    "start_time": "2021-11-11T07:19:40.710Z"
   },
   {
    "duration": 12,
    "start_time": "2021-11-11T07:19:45.194Z"
   },
   {
    "duration": 16,
    "start_time": "2021-11-11T07:20:49.240Z"
   },
   {
    "duration": 68,
    "start_time": "2021-11-11T07:26:14.671Z"
   },
   {
    "duration": 16,
    "start_time": "2021-11-11T07:26:19.827Z"
   },
   {
    "duration": 14,
    "start_time": "2021-11-11T07:33:14.595Z"
   },
   {
    "duration": 15,
    "start_time": "2021-11-11T07:34:33.706Z"
   },
   {
    "duration": 14,
    "start_time": "2021-11-11T07:34:39.432Z"
   },
   {
    "duration": 15,
    "start_time": "2021-11-11T07:35:06.912Z"
   },
   {
    "duration": 14,
    "start_time": "2021-11-11T07:35:25.674Z"
   },
   {
    "duration": 13,
    "start_time": "2021-11-11T07:35:40.769Z"
   },
   {
    "duration": 94,
    "start_time": "2021-11-11T07:36:09.847Z"
   },
   {
    "duration": 13,
    "start_time": "2021-11-11T07:36:14.087Z"
   },
   {
    "duration": 13,
    "start_time": "2021-11-11T10:53:44.631Z"
   },
   {
    "duration": 15,
    "start_time": "2021-11-11T10:54:28.918Z"
   },
   {
    "duration": 70,
    "start_time": "2021-11-11T10:59:44.123Z"
   },
   {
    "duration": 13,
    "start_time": "2021-11-11T11:39:22.647Z"
   },
   {
    "duration": 4,
    "start_time": "2021-11-12T06:25:47.371Z"
   },
   {
    "duration": 16,
    "start_time": "2021-11-12T06:25:47.378Z"
   },
   {
    "duration": 170,
    "start_time": "2021-11-12T06:25:47.398Z"
   },
   {
    "duration": 55,
    "start_time": "2021-11-12T06:25:47.570Z"
   },
   {
    "duration": 9,
    "start_time": "2021-11-12T06:25:47.627Z"
   },
   {
    "duration": 127,
    "start_time": "2021-11-12T06:25:47.639Z"
   },
   {
    "duration": 18,
    "start_time": "2021-11-12T06:25:47.769Z"
   },
   {
    "duration": 348,
    "start_time": "2021-11-12T06:25:47.791Z"
   },
   {
    "duration": 20,
    "start_time": "2021-11-12T06:25:48.142Z"
   },
   {
    "duration": 39,
    "start_time": "2021-11-12T06:25:48.164Z"
   },
   {
    "duration": 7,
    "start_time": "2021-11-12T06:25:48.223Z"
   },
   {
    "duration": 34,
    "start_time": "2021-11-12T06:25:48.232Z"
   },
   {
    "duration": 23,
    "start_time": "2021-11-12T06:25:48.269Z"
   },
   {
    "duration": 68,
    "start_time": "2021-11-12T06:25:48.295Z"
   },
   {
    "duration": 417,
    "start_time": "2021-11-12T06:25:48.366Z"
   },
   {
    "duration": 43,
    "start_time": "2021-11-12T06:25:48.785Z"
   },
   {
    "duration": 30,
    "start_time": "2021-11-12T06:25:48.830Z"
   },
   {
    "duration": 68,
    "start_time": "2021-11-12T06:25:48.862Z"
   },
   {
    "duration": 29,
    "start_time": "2021-11-12T06:25:48.933Z"
   },
   {
    "duration": 28,
    "start_time": "2021-11-12T06:25:48.964Z"
   },
   {
    "duration": 95,
    "start_time": "2021-11-12T06:25:48.995Z"
   },
   {
    "duration": 31,
    "start_time": "2021-11-12T06:25:49.093Z"
   },
   {
    "duration": 6964,
    "start_time": "2021-11-12T06:25:49.129Z"
   },
   {
    "duration": 27,
    "start_time": "2021-11-12T06:25:56.096Z"
   },
   {
    "duration": 20,
    "start_time": "2021-11-12T06:25:56.126Z"
   },
   {
    "duration": 13,
    "start_time": "2021-11-12T06:25:56.148Z"
   },
   {
    "duration": 190,
    "start_time": "2021-11-12T06:25:56.163Z"
   },
   {
    "duration": 12,
    "start_time": "2021-11-12T06:25:56.355Z"
   },
   {
    "duration": 490,
    "start_time": "2021-11-12T06:25:56.370Z"
   },
   {
    "duration": 4,
    "start_time": "2021-11-12T10:26:34.777Z"
   },
   {
    "duration": 5,
    "start_time": "2021-11-12T10:37:17.696Z"
   },
   {
    "duration": 6,
    "start_time": "2021-11-12T10:37:29.486Z"
   },
   {
    "duration": 28,
    "start_time": "2021-11-12T10:55:17.422Z"
   },
   {
    "duration": 16,
    "start_time": "2021-11-12T10:55:41.822Z"
   },
   {
    "duration": 28,
    "start_time": "2021-11-12T10:56:12.047Z"
   },
   {
    "duration": 16,
    "start_time": "2021-11-12T10:58:01.112Z"
   },
   {
    "duration": 16,
    "start_time": "2021-11-12T10:58:09.348Z"
   },
   {
    "duration": 700,
    "start_time": "2021-11-12T10:58:35.023Z"
   },
   {
    "duration": 434,
    "start_time": "2021-11-12T11:00:22.484Z"
   },
   {
    "duration": 32,
    "start_time": "2021-11-12T11:00:41.786Z"
   },
   {
    "duration": 34,
    "start_time": "2021-11-12T11:01:09.791Z"
   },
   {
    "duration": 32,
    "start_time": "2021-11-12T11:01:36.878Z"
   },
   {
    "duration": 33,
    "start_time": "2021-11-12T11:01:45.911Z"
   },
   {
    "duration": 4,
    "start_time": "2021-11-12T11:02:52.818Z"
   },
   {
    "duration": 4,
    "start_time": "2021-11-12T11:03:15.603Z"
   },
   {
    "duration": 32,
    "start_time": "2021-11-12T11:05:19.249Z"
   },
   {
    "duration": 36,
    "start_time": "2021-11-12T11:06:08.813Z"
   },
   {
    "duration": 33,
    "start_time": "2021-11-12T11:06:16.683Z"
   },
   {
    "duration": 33,
    "start_time": "2021-11-12T11:10:39.903Z"
   },
   {
    "duration": 35,
    "start_time": "2021-11-12T11:11:53.919Z"
   },
   {
    "duration": 35,
    "start_time": "2021-11-12T11:12:06.674Z"
   },
   {
    "duration": 34,
    "start_time": "2021-11-12T11:12:18.678Z"
   },
   {
    "duration": 361,
    "start_time": "2021-11-12T11:31:07.019Z"
   },
   {
    "duration": 377,
    "start_time": "2021-11-12T11:31:11.369Z"
   },
   {
    "duration": 275,
    "start_time": "2021-11-12T11:31:53.148Z"
   },
   {
    "duration": 292,
    "start_time": "2021-11-12T11:32:02.134Z"
   },
   {
    "duration": 388,
    "start_time": "2021-11-12T18:14:46.404Z"
   },
   {
    "duration": 37,
    "start_time": "2021-11-12T18:16:28.042Z"
   },
   {
    "duration": 513,
    "start_time": "2021-11-12T18:16:51.383Z"
   },
   {
    "duration": 6890,
    "start_time": "2021-11-12T18:16:54.100Z"
   },
   {
    "duration": 394,
    "start_time": "2021-11-12T18:18:06.522Z"
   },
   {
    "duration": 1486,
    "start_time": "2021-11-12T18:18:10.708Z"
   },
   {
    "duration": 44,
    "start_time": "2021-11-12T18:18:32.597Z"
   },
   {
    "duration": 46,
    "start_time": "2021-11-12T18:19:59.856Z"
   },
   {
    "duration": 45,
    "start_time": "2021-11-12T18:21:47.169Z"
   },
   {
    "duration": 13,
    "start_time": "2021-11-12T18:25:20.487Z"
   },
   {
    "duration": 14,
    "start_time": "2021-11-12T18:25:42.983Z"
   },
   {
    "duration": 15,
    "start_time": "2021-11-12T18:25:53.064Z"
   },
   {
    "duration": 14,
    "start_time": "2021-11-12T18:25:54.517Z"
   },
   {
    "duration": 12,
    "start_time": "2021-11-12T18:26:01.002Z"
   },
   {
    "duration": 15,
    "start_time": "2021-11-12T18:26:24.816Z"
   },
   {
    "duration": 46,
    "start_time": "2021-11-12T18:26:33.258Z"
   },
   {
    "duration": 14,
    "start_time": "2021-11-12T18:26:36.919Z"
   },
   {
    "duration": 43,
    "start_time": "2021-11-12T18:26:39.972Z"
   },
   {
    "duration": 44,
    "start_time": "2021-11-12T18:26:58.010Z"
   },
   {
    "duration": 14,
    "start_time": "2021-11-12T18:27:09.257Z"
   },
   {
    "duration": 68,
    "start_time": "2021-11-12T18:28:22.111Z"
   },
   {
    "duration": 45,
    "start_time": "2021-11-12T18:28:34.974Z"
   },
   {
    "duration": 12,
    "start_time": "2021-11-12T18:28:47.487Z"
   },
   {
    "duration": 43,
    "start_time": "2021-11-12T18:28:58.643Z"
   },
   {
    "duration": 12,
    "start_time": "2021-11-12T18:29:03.233Z"
   },
   {
    "duration": 43,
    "start_time": "2021-11-12T18:29:11.807Z"
   },
   {
    "duration": 12,
    "start_time": "2021-11-12T18:29:13.040Z"
   },
   {
    "duration": 300,
    "start_time": "2021-11-12T18:29:41.917Z"
   },
   {
    "duration": 46,
    "start_time": "2021-11-12T18:29:46.766Z"
   },
   {
    "duration": 13,
    "start_time": "2021-11-12T18:29:54.597Z"
   },
   {
    "duration": 305,
    "start_time": "2021-11-12T18:30:02.681Z"
   },
   {
    "duration": 305,
    "start_time": "2021-11-12T18:30:33.276Z"
   },
   {
    "duration": 564,
    "start_time": "2021-11-12T18:30:40.016Z"
   },
   {
    "duration": 296,
    "start_time": "2021-11-12T18:30:57.171Z"
   },
   {
    "duration": 6629,
    "start_time": "2021-11-12T18:31:15.612Z"
   },
   {
    "duration": 298,
    "start_time": "2021-11-12T18:31:44.029Z"
   },
   {
    "duration": 48,
    "start_time": "2021-11-12T18:31:58.043Z"
   },
   {
    "duration": 23,
    "start_time": "2021-11-12T18:40:22.446Z"
   },
   {
    "duration": 97,
    "start_time": "2021-11-12T18:43:55.180Z"
   },
   {
    "duration": 8,
    "start_time": "2021-11-12T18:44:07.506Z"
   },
   {
    "duration": 4,
    "start_time": "2021-11-12T18:56:24.207Z"
   },
   {
    "duration": 4,
    "start_time": "2021-11-12T18:57:01.962Z"
   },
   {
    "duration": 9,
    "start_time": "2021-11-12T18:58:52.343Z"
   },
   {
    "duration": 7,
    "start_time": "2021-11-12T19:27:39.169Z"
   },
   {
    "duration": 7,
    "start_time": "2021-11-12T19:27:54.736Z"
   },
   {
    "duration": 9,
    "start_time": "2021-11-12T19:34:46.544Z"
   },
   {
    "duration": 5,
    "start_time": "2021-11-12T19:34:58.288Z"
   },
   {
    "duration": 303,
    "start_time": "2021-11-12T19:35:19.449Z"
   },
   {
    "duration": 50,
    "start_time": "2021-11-12T19:35:30.425Z"
   },
   {
    "duration": 43,
    "start_time": "2021-11-12T19:35:48.188Z"
   },
   {
    "duration": 13,
    "start_time": "2021-11-12T19:35:52.165Z"
   },
   {
    "duration": 11,
    "start_time": "2021-11-12T19:36:49.470Z"
   },
   {
    "duration": 97,
    "start_time": "2021-11-12T19:38:25.336Z"
   },
   {
    "duration": 11,
    "start_time": "2021-11-12T19:38:34.287Z"
   },
   {
    "duration": 10,
    "start_time": "2021-11-12T19:38:41.745Z"
   },
   {
    "duration": 13,
    "start_time": "2021-11-12T19:39:02.503Z"
   },
   {
    "duration": 10,
    "start_time": "2021-11-12T19:39:14.225Z"
   },
   {
    "duration": 10,
    "start_time": "2021-11-12T19:39:26.564Z"
   },
   {
    "duration": 8,
    "start_time": "2021-11-12T19:40:03.848Z"
   },
   {
    "duration": 603,
    "start_time": "2021-11-12T19:40:26.727Z"
   },
   {
    "duration": 17,
    "start_time": "2021-11-12T19:40:41.901Z"
   },
   {
    "duration": 48,
    "start_time": "2021-11-12T19:40:49.155Z"
   },
   {
    "duration": 10,
    "start_time": "2021-11-12T19:41:01.359Z"
   },
   {
    "duration": 8,
    "start_time": "2021-11-12T19:41:40.827Z"
   },
   {
    "duration": 284,
    "start_time": "2021-11-12T19:41:52.137Z"
   },
   {
    "duration": 301,
    "start_time": "2021-11-12T19:43:08.936Z"
   },
   {
    "duration": 10,
    "start_time": "2021-11-12T19:43:16.224Z"
   },
   {
    "duration": 15,
    "start_time": "2021-11-12T19:43:25.306Z"
   },
   {
    "duration": 14,
    "start_time": "2021-11-12T19:43:30.094Z"
   },
   {
    "duration": 15,
    "start_time": "2021-11-12T19:43:38.477Z"
   },
   {
    "duration": 303,
    "start_time": "2021-11-12T19:43:47.227Z"
   },
   {
    "duration": 51,
    "start_time": "2021-11-12T19:43:56.669Z"
   },
   {
    "duration": 14,
    "start_time": "2021-11-12T19:44:30.339Z"
   },
   {
    "duration": 12,
    "start_time": "2021-11-12T19:44:40.551Z"
   },
   {
    "duration": 4,
    "start_time": "2021-11-12T19:49:14.746Z"
   },
   {
    "duration": 11,
    "start_time": "2021-11-12T19:50:28.870Z"
   },
   {
    "duration": 305,
    "start_time": "2021-11-12T19:52:04.641Z"
   },
   {
    "duration": 5,
    "start_time": "2021-11-12T19:52:17.138Z"
   },
   {
    "duration": 5,
    "start_time": "2021-11-12T19:52:48.685Z"
   },
   {
    "duration": 5,
    "start_time": "2021-11-12T19:53:19.301Z"
   },
   {
    "duration": 290,
    "start_time": "2021-11-12T19:53:46.063Z"
   },
   {
    "duration": 6,
    "start_time": "2021-11-12T19:53:55.974Z"
   },
   {
    "duration": 45,
    "start_time": "2021-11-12T19:54:35.902Z"
   },
   {
    "duration": 5,
    "start_time": "2021-11-12T19:54:45.935Z"
   },
   {
    "duration": 263,
    "start_time": "2021-11-12T19:54:53.942Z"
   },
   {
    "duration": 5,
    "start_time": "2021-11-12T19:55:00.133Z"
   },
   {
    "duration": 177,
    "start_time": "2021-11-12T19:58:32.425Z"
   },
   {
    "duration": 108,
    "start_time": "2021-11-12T19:59:03.028Z"
   },
   {
    "duration": 5,
    "start_time": "2021-11-12T19:59:59.506Z"
   },
   {
    "duration": 8,
    "start_time": "2021-11-12T20:00:16.362Z"
   },
   {
    "duration": 8,
    "start_time": "2021-11-12T20:00:34.837Z"
   },
   {
    "duration": 11,
    "start_time": "2021-11-12T20:01:44.118Z"
   },
   {
    "duration": 10,
    "start_time": "2021-11-12T20:01:51.458Z"
   },
   {
    "duration": 4254,
    "start_time": "2021-11-12T20:02:42.599Z"
   },
   {
    "duration": 7,
    "start_time": "2021-11-12T20:02:50.640Z"
   },
   {
    "duration": 6,
    "start_time": "2021-11-12T20:06:09.073Z"
   },
   {
    "duration": 574,
    "start_time": "2021-11-12T20:06:44.760Z"
   },
   {
    "duration": 542,
    "start_time": "2021-11-12T20:07:25.745Z"
   },
   {
    "duration": 10,
    "start_time": "2021-11-12T20:07:59.246Z"
   },
   {
    "duration": 7,
    "start_time": "2021-11-12T20:12:00.769Z"
   },
   {
    "duration": 12,
    "start_time": "2021-11-12T20:12:32.867Z"
   },
   {
    "duration": 7,
    "start_time": "2021-11-12T20:13:16.939Z"
   },
   {
    "duration": 11,
    "start_time": "2021-11-12T20:13:36.151Z"
   },
   {
    "duration": 8,
    "start_time": "2021-11-12T20:13:56.190Z"
   },
   {
    "duration": 12,
    "start_time": "2021-11-12T20:14:32.912Z"
   },
   {
    "duration": 14,
    "start_time": "2021-11-12T20:14:40.910Z"
   },
   {
    "duration": 12,
    "start_time": "2021-11-12T20:14:50.210Z"
   },
   {
    "duration": 15,
    "start_time": "2021-11-12T20:16:23.635Z"
   },
   {
    "duration": 4578,
    "start_time": "2021-11-12T20:16:37.312Z"
   },
   {
    "duration": 4497,
    "start_time": "2021-11-12T20:16:55.510Z"
   },
   {
    "duration": 6,
    "start_time": "2021-11-12T20:17:08.280Z"
   },
   {
    "duration": 4573,
    "start_time": "2021-11-12T20:17:43.175Z"
   },
   {
    "duration": 4264,
    "start_time": "2021-11-12T20:18:22.578Z"
   },
   {
    "duration": 5215,
    "start_time": "2021-11-12T20:18:32.998Z"
   },
   {
    "duration": 10,
    "start_time": "2021-11-12T20:18:52.378Z"
   },
   {
    "duration": 6,
    "start_time": "2021-11-12T20:19:11.360Z"
   },
   {
    "duration": 5331,
    "start_time": "2021-11-12T20:21:51.088Z"
   },
   {
    "duration": 24,
    "start_time": "2021-11-12T20:22:16.692Z"
   },
   {
    "duration": 105,
    "start_time": "2021-11-12T20:23:05.580Z"
   },
   {
    "duration": 6,
    "start_time": "2021-11-12T20:23:12.627Z"
   },
   {
    "duration": 4189,
    "start_time": "2021-11-12T20:23:22.904Z"
   },
   {
    "duration": 6,
    "start_time": "2021-11-12T20:23:30.157Z"
   },
   {
    "duration": 7219,
    "start_time": "2021-11-12T20:24:38.125Z"
   },
   {
    "duration": 7,
    "start_time": "2021-11-12T20:24:51.372Z"
   },
   {
    "duration": 5,
    "start_time": "2021-11-12T20:26:13.023Z"
   },
   {
    "duration": 1064,
    "start_time": "2021-11-12T20:26:23.187Z"
   },
   {
    "duration": 5,
    "start_time": "2021-11-12T20:28:20.434Z"
   },
   {
    "duration": 5,
    "start_time": "2021-11-12T20:28:42.265Z"
   },
   {
    "duration": 6,
    "start_time": "2021-11-12T20:28:54.584Z"
   },
   {
    "duration": 9,
    "start_time": "2021-11-12T20:30:06.705Z"
   },
   {
    "duration": 7130,
    "start_time": "2021-11-12T20:31:14.416Z"
   },
   {
    "duration": 1482,
    "start_time": "2021-11-12T20:31:47.301Z"
   },
   {
    "duration": 3,
    "start_time": "2021-11-12T20:31:48.786Z"
   },
   {
    "duration": 168,
    "start_time": "2021-11-12T20:31:48.792Z"
   },
   {
    "duration": 59,
    "start_time": "2021-11-12T20:31:48.963Z"
   },
   {
    "duration": 10,
    "start_time": "2021-11-12T20:31:49.025Z"
   },
   {
    "duration": 137,
    "start_time": "2021-11-12T20:31:49.037Z"
   },
   {
    "duration": 13,
    "start_time": "2021-11-12T20:31:49.176Z"
   },
   {
    "duration": 336,
    "start_time": "2021-11-12T20:31:49.191Z"
   },
   {
    "duration": 20,
    "start_time": "2021-11-12T20:31:49.532Z"
   },
   {
    "duration": 36,
    "start_time": "2021-11-12T20:31:49.555Z"
   },
   {
    "duration": 7,
    "start_time": "2021-11-12T20:31:49.622Z"
   },
   {
    "duration": 27,
    "start_time": "2021-11-12T20:31:49.631Z"
   },
   {
    "duration": 23,
    "start_time": "2021-11-12T20:31:49.660Z"
   },
   {
    "duration": 71,
    "start_time": "2021-11-12T20:31:49.686Z"
   },
   {
    "duration": 427,
    "start_time": "2021-11-12T20:31:49.759Z"
   },
   {
    "duration": 35,
    "start_time": "2021-11-12T20:31:50.189Z"
   },
   {
    "duration": 30,
    "start_time": "2021-11-12T20:31:50.227Z"
   },
   {
    "duration": 66,
    "start_time": "2021-11-12T20:31:50.260Z"
   },
   {
    "duration": 28,
    "start_time": "2021-11-12T20:31:50.328Z"
   },
   {
    "duration": 27,
    "start_time": "2021-11-12T20:31:50.358Z"
   },
   {
    "duration": 91,
    "start_time": "2021-11-12T20:31:50.387Z"
   },
   {
    "duration": 22,
    "start_time": "2021-11-12T20:31:50.481Z"
   },
   {
    "duration": 6966,
    "start_time": "2021-11-12T20:31:50.506Z"
   },
   {
    "duration": 13,
    "start_time": "2021-11-12T20:31:57.475Z"
   },
   {
    "duration": 36,
    "start_time": "2021-11-12T20:31:57.491Z"
   },
   {
    "duration": 15,
    "start_time": "2021-11-12T20:32:01.917Z"
   },
   {
    "duration": 313,
    "start_time": "2021-11-12T20:32:02.422Z"
   },
   {
    "duration": 47,
    "start_time": "2021-11-12T20:32:02.738Z"
   },
   {
    "duration": 404,
    "start_time": "2021-11-12T20:32:08.227Z"
   },
   {
    "duration": 68,
    "start_time": "2021-11-12T20:32:21.369Z"
   },
   {
    "duration": 13,
    "start_time": "2021-11-12T20:32:26.644Z"
   },
   {
    "duration": 3,
    "start_time": "2021-11-12T20:32:31.479Z"
   },
   {
    "duration": 7,
    "start_time": "2021-11-12T20:32:34.110Z"
   },
   {
    "duration": 13,
    "start_time": "2021-11-12T20:32:37.973Z"
   },
   {
    "duration": 11,
    "start_time": "2021-11-12T20:32:48.388Z"
   },
   {
    "duration": 332,
    "start_time": "2021-11-12T20:33:14.175Z"
   },
   {
    "duration": 4,
    "start_time": "2021-11-12T20:33:28.380Z"
   },
   {
    "duration": 4,
    "start_time": "2021-11-12T20:33:39.056Z"
   },
   {
    "duration": 280,
    "start_time": "2021-11-12T20:33:45.540Z"
   },
   {
    "duration": 6891,
    "start_time": "2021-11-12T20:33:56.799Z"
   },
   {
    "duration": 11,
    "start_time": "2021-11-12T20:34:10.193Z"
   },
   {
    "duration": 291,
    "start_time": "2021-11-12T20:34:19.407Z"
   },
   {
    "duration": 298,
    "start_time": "2021-11-12T20:34:26.940Z"
   },
   {
    "duration": 8,
    "start_time": "2021-11-12T20:34:40.136Z"
   },
   {
    "duration": 11,
    "start_time": "2021-11-12T20:34:41.939Z"
   },
   {
    "duration": 10,
    "start_time": "2021-11-12T20:34:42.497Z"
   },
   {
    "duration": 279,
    "start_time": "2021-11-12T20:34:47.520Z"
   },
   {
    "duration": 319,
    "start_time": "2021-11-12T20:35:04.830Z"
   },
   {
    "duration": 389,
    "start_time": "2021-11-13T07:52:17.068Z"
   },
   {
    "duration": 339,
    "start_time": "2021-11-13T07:52:45.229Z"
   },
   {
    "duration": 351,
    "start_time": "2021-11-13T07:53:01.943Z"
   },
   {
    "duration": 455,
    "start_time": "2021-11-13T07:53:09.137Z"
   },
   {
    "duration": 1142,
    "start_time": "2021-11-13T07:53:17.868Z"
   },
   {
    "duration": 2,
    "start_time": "2021-11-13T07:53:19.012Z"
   },
   {
    "duration": 120,
    "start_time": "2021-11-13T07:53:19.016Z"
   },
   {
    "duration": 32,
    "start_time": "2021-11-13T07:53:19.643Z"
   },
   {
    "duration": 8,
    "start_time": "2021-11-13T07:53:20.055Z"
   },
   {
    "duration": 77,
    "start_time": "2021-11-13T07:53:20.331Z"
   },
   {
    "duration": 8,
    "start_time": "2021-11-13T07:53:20.573Z"
   },
   {
    "duration": 195,
    "start_time": "2021-11-13T07:53:20.794Z"
   },
   {
    "duration": 13,
    "start_time": "2021-11-13T07:53:21.517Z"
   },
   {
    "duration": 25,
    "start_time": "2021-11-13T07:53:21.747Z"
   },
   {
    "duration": 4,
    "start_time": "2021-11-13T07:53:22.860Z"
   },
   {
    "duration": 18,
    "start_time": "2021-11-13T07:53:23.556Z"
   },
   {
    "duration": 16,
    "start_time": "2021-11-13T07:53:23.584Z"
   },
   {
    "duration": 29,
    "start_time": "2021-11-13T07:53:23.679Z"
   },
   {
    "duration": 237,
    "start_time": "2021-11-13T07:53:23.710Z"
   },
   {
    "duration": 18,
    "start_time": "2021-11-13T07:53:23.949Z"
   },
   {
    "duration": 36,
    "start_time": "2021-11-13T07:53:23.969Z"
   },
   {
    "duration": 29,
    "start_time": "2021-11-13T07:53:24.007Z"
   },
   {
    "duration": 20,
    "start_time": "2021-11-13T07:53:27.006Z"
   },
   {
    "duration": 18,
    "start_time": "2021-11-13T07:53:27.587Z"
   },
   {
    "duration": 50,
    "start_time": "2021-11-13T07:53:28.088Z"
   },
   {
    "duration": 15,
    "start_time": "2021-11-13T07:53:29.948Z"
   },
   {
    "duration": 3151,
    "start_time": "2021-11-13T07:53:30.155Z"
   },
   {
    "duration": 8,
    "start_time": "2021-11-13T07:53:33.308Z"
   },
   {
    "duration": 11,
    "start_time": "2021-11-13T07:53:33.317Z"
   },
   {
    "duration": 10,
    "start_time": "2021-11-13T07:53:33.330Z"
   },
   {
    "duration": 209,
    "start_time": "2021-11-13T07:53:33.341Z"
   },
   {
    "duration": 31,
    "start_time": "2021-11-13T07:53:33.551Z"
   },
   {
    "duration": 42,
    "start_time": "2021-11-13T07:53:40.661Z"
   },
   {
    "duration": 8,
    "start_time": "2021-11-13T07:53:41.708Z"
   },
   {
    "duration": 2,
    "start_time": "2021-11-13T07:53:42.271Z"
   },
   {
    "duration": 3,
    "start_time": "2021-11-13T07:53:42.792Z"
   },
   {
    "duration": 5,
    "start_time": "2021-11-13T07:53:45.701Z"
   },
   {
    "duration": 7,
    "start_time": "2021-11-13T07:53:57.032Z"
   },
   {
    "duration": 7,
    "start_time": "2021-11-13T07:54:02.062Z"
   },
   {
    "duration": 3,
    "start_time": "2021-11-13T07:54:10.532Z"
   },
   {
    "duration": 5,
    "start_time": "2021-11-13T07:54:34.483Z"
   },
   {
    "duration": 5,
    "start_time": "2021-11-13T07:55:05.479Z"
   },
   {
    "duration": 735,
    "start_time": "2021-11-13T07:55:28.701Z"
   },
   {
    "duration": 1127,
    "start_time": "2021-11-13T07:56:51.084Z"
   },
   {
    "duration": 3,
    "start_time": "2021-11-13T07:56:52.212Z"
   },
   {
    "duration": 114,
    "start_time": "2021-11-13T07:56:52.218Z"
   },
   {
    "duration": 32,
    "start_time": "2021-11-13T07:56:52.334Z"
   },
   {
    "duration": 7,
    "start_time": "2021-11-13T07:56:52.367Z"
   },
   {
    "duration": 98,
    "start_time": "2021-11-13T07:56:52.376Z"
   },
   {
    "duration": 9,
    "start_time": "2021-11-13T07:56:52.476Z"
   },
   {
    "duration": 211,
    "start_time": "2021-11-13T07:56:52.487Z"
   },
   {
    "duration": 14,
    "start_time": "2021-11-13T07:56:52.705Z"
   },
   {
    "duration": 27,
    "start_time": "2021-11-13T07:56:52.722Z"
   },
   {
    "duration": 6,
    "start_time": "2021-11-13T07:56:52.751Z"
   },
   {
    "duration": 48,
    "start_time": "2021-11-13T07:56:52.759Z"
   },
   {
    "duration": 19,
    "start_time": "2021-11-13T07:56:52.809Z"
   },
   {
    "duration": 29,
    "start_time": "2021-11-13T07:56:52.830Z"
   },
   {
    "duration": 255,
    "start_time": "2021-11-13T07:56:52.861Z"
   },
   {
    "duration": 20,
    "start_time": "2021-11-13T07:56:53.118Z"
   },
   {
    "duration": 20,
    "start_time": "2021-11-13T07:56:53.140Z"
   },
   {
    "duration": 54,
    "start_time": "2021-11-13T07:56:53.162Z"
   },
   {
    "duration": 20,
    "start_time": "2021-11-13T07:56:53.218Z"
   },
   {
    "duration": 18,
    "start_time": "2021-11-13T07:56:53.240Z"
   },
   {
    "duration": 73,
    "start_time": "2021-11-13T07:56:53.260Z"
   },
   {
    "duration": 15,
    "start_time": "2021-11-13T07:56:53.335Z"
   },
   {
    "duration": 3208,
    "start_time": "2021-11-13T07:56:53.352Z"
   },
   {
    "duration": 8,
    "start_time": "2021-11-13T07:56:56.562Z"
   },
   {
    "duration": 10,
    "start_time": "2021-11-13T07:56:56.572Z"
   },
   {
    "duration": 24,
    "start_time": "2021-11-13T07:56:56.583Z"
   },
   {
    "duration": 198,
    "start_time": "2021-11-13T07:56:56.611Z"
   },
   {
    "duration": 31,
    "start_time": "2021-11-13T07:56:56.811Z"
   },
   {
    "duration": 41,
    "start_time": "2021-11-13T07:56:56.843Z"
   },
   {
    "duration": 24,
    "start_time": "2021-11-13T07:56:56.885Z"
   },
   {
    "duration": 4,
    "start_time": "2021-11-13T07:56:56.911Z"
   },
   {
    "duration": 5,
    "start_time": "2021-11-13T07:56:56.917Z"
   },
   {
    "duration": 5,
    "start_time": "2021-11-13T07:57:07.034Z"
   },
   {
    "duration": 6,
    "start_time": "2021-11-13T07:57:08.046Z"
   },
   {
    "duration": 3,
    "start_time": "2021-11-13T07:57:11.824Z"
   },
   {
    "duration": 8870,
    "start_time": "2021-11-13T07:57:13.422Z"
   },
   {
    "duration": 5,
    "start_time": "2021-11-13T07:57:39.248Z"
   },
   {
    "duration": 789,
    "start_time": "2021-11-13T07:57:43.552Z"
   },
   {
    "duration": 4,
    "start_time": "2021-11-13T07:59:13.656Z"
   },
   {
    "duration": 3,
    "start_time": "2021-11-13T07:59:45.889Z"
   },
   {
    "duration": 6,
    "start_time": "2021-11-13T08:00:30.632Z"
   },
   {
    "duration": 3,
    "start_time": "2021-11-13T08:01:38.947Z"
   },
   {
    "duration": 4,
    "start_time": "2021-11-13T08:02:25.444Z"
   },
   {
    "duration": 4,
    "start_time": "2021-11-13T08:03:05.994Z"
   },
   {
    "duration": 4,
    "start_time": "2021-11-13T08:03:25.299Z"
   },
   {
    "duration": 701,
    "start_time": "2021-11-13T08:04:58.102Z"
   },
   {
    "duration": 4,
    "start_time": "2021-11-13T08:06:30.270Z"
   },
   {
    "duration": 8855,
    "start_time": "2021-11-13T08:06:34.572Z"
   },
   {
    "duration": 721,
    "start_time": "2021-11-13T08:06:48.503Z"
   },
   {
    "duration": 5,
    "start_time": "2021-11-13T08:07:30.289Z"
   },
   {
    "duration": 334,
    "start_time": "2021-11-13T08:07:34.955Z"
   },
   {
    "duration": 7,
    "start_time": "2021-11-13T08:07:46.695Z"
   },
   {
    "duration": 8,
    "start_time": "2021-11-13T08:10:19.355Z"
   },
   {
    "duration": 358,
    "start_time": "2021-11-13T08:25:18.063Z"
   },
   {
    "duration": 346,
    "start_time": "2021-11-13T08:25:31.637Z"
   },
   {
    "duration": 19,
    "start_time": "2021-11-13T08:25:52.925Z"
   },
   {
    "duration": 18,
    "start_time": "2021-11-13T08:26:18.379Z"
   },
   {
    "duration": 410,
    "start_time": "2021-11-13T08:45:33.078Z"
   },
   {
    "duration": 122,
    "start_time": "2021-11-13T08:49:29.445Z"
   },
   {
    "duration": 363,
    "start_time": "2021-11-13T08:49:52.311Z"
   },
   {
    "duration": 11,
    "start_time": "2021-11-13T08:51:24.700Z"
   },
   {
    "duration": 359,
    "start_time": "2021-11-13T08:52:06.409Z"
   },
   {
    "duration": 10,
    "start_time": "2021-11-13T08:52:15.591Z"
   },
   {
    "duration": 12,
    "start_time": "2021-11-13T08:54:19.020Z"
   },
   {
    "duration": 11,
    "start_time": "2021-11-13T08:54:28.425Z"
   },
   {
    "duration": 774,
    "start_time": "2021-11-13T08:54:46.622Z"
   },
   {
    "duration": 21,
    "start_time": "2021-11-13T08:55:10.945Z"
   },
   {
    "duration": 367,
    "start_time": "2021-11-13T08:58:42.199Z"
   },
   {
    "duration": 14,
    "start_time": "2021-11-13T08:59:59.890Z"
   },
   {
    "duration": 14,
    "start_time": "2021-11-13T09:00:23.452Z"
   },
   {
    "duration": 21,
    "start_time": "2021-11-13T09:00:39.889Z"
   },
   {
    "duration": 23,
    "start_time": "2021-11-13T09:02:53.215Z"
   },
   {
    "duration": 366,
    "start_time": "2021-11-13T09:04:58.309Z"
   },
   {
    "duration": 23,
    "start_time": "2021-11-13T09:05:37.576Z"
   },
   {
    "duration": 23,
    "start_time": "2021-11-13T09:07:11.344Z"
   },
   {
    "duration": 23,
    "start_time": "2021-11-13T09:07:32.565Z"
   },
   {
    "duration": 24,
    "start_time": "2021-11-13T09:11:40.717Z"
   },
   {
    "duration": 23,
    "start_time": "2021-11-13T09:26:59.503Z"
   },
   {
    "duration": 4,
    "start_time": "2021-11-13T11:41:50.456Z"
   },
   {
    "duration": 6,
    "start_time": "2021-11-13T11:41:59.396Z"
   },
   {
    "duration": 11,
    "start_time": "2021-11-13T11:42:44.070Z"
   },
   {
    "duration": 21,
    "start_time": "2021-11-13T11:43:53.268Z"
   },
   {
    "duration": 23,
    "start_time": "2021-11-13T11:46:01.597Z"
   },
   {
    "duration": 460,
    "start_time": "2021-11-13T11:46:49.092Z"
   },
   {
    "duration": 25,
    "start_time": "2021-11-13T11:47:03.330Z"
   },
   {
    "duration": 3,
    "start_time": "2021-11-13T11:48:34.978Z"
   },
   {
    "duration": 29,
    "start_time": "2021-11-13T11:50:07.406Z"
   },
   {
    "duration": 27,
    "start_time": "2021-11-13T11:51:51.492Z"
   },
   {
    "duration": 26,
    "start_time": "2021-11-13T11:52:33.548Z"
   },
   {
    "duration": 3,
    "start_time": "2021-11-13T11:55:20.805Z"
   },
   {
    "duration": 28,
    "start_time": "2021-11-13T11:55:25.858Z"
   },
   {
    "duration": 4,
    "start_time": "2021-11-13T12:22:31.500Z"
   },
   {
    "duration": 33,
    "start_time": "2021-11-13T12:26:41.311Z"
   },
   {
    "duration": 5,
    "start_time": "2021-11-13T12:27:18.439Z"
   },
   {
    "duration": 5,
    "start_time": "2021-11-13T12:28:46.563Z"
   },
   {
    "duration": 3,
    "start_time": "2021-11-13T12:28:48.806Z"
   },
   {
    "duration": 4,
    "start_time": "2021-11-13T12:28:51.432Z"
   },
   {
    "duration": 3,
    "start_time": "2021-11-13T12:29:58.483Z"
   },
   {
    "duration": 4,
    "start_time": "2021-11-13T12:30:01.799Z"
   },
   {
    "duration": 8,
    "start_time": "2021-11-13T12:30:40.880Z"
   },
   {
    "duration": 3,
    "start_time": "2021-11-13T12:31:09.976Z"
   },
   {
    "duration": 29,
    "start_time": "2021-11-13T12:32:02.113Z"
   },
   {
    "duration": 32,
    "start_time": "2021-11-13T12:32:11.066Z"
   },
   {
    "duration": 32,
    "start_time": "2021-11-13T12:33:17.719Z"
   },
   {
    "duration": 8,
    "start_time": "2021-11-13T12:56:28.136Z"
   },
   {
    "duration": 30,
    "start_time": "2021-11-13T12:56:41.288Z"
   },
   {
    "duration": 104,
    "start_time": "2021-11-13T12:56:50.545Z"
   },
   {
    "duration": 30,
    "start_time": "2021-11-13T12:56:57.386Z"
   },
   {
    "duration": 4,
    "start_time": "2021-11-13T13:18:36.337Z"
   },
   {
    "duration": 29,
    "start_time": "2021-11-13T13:18:36.342Z"
   },
   {
    "duration": 133,
    "start_time": "2021-11-13T13:18:36.373Z"
   },
   {
    "duration": 30,
    "start_time": "2021-11-13T13:18:36.508Z"
   },
   {
    "duration": 7,
    "start_time": "2021-11-13T13:18:36.539Z"
   },
   {
    "duration": 95,
    "start_time": "2021-11-13T13:18:36.548Z"
   },
   {
    "duration": 8,
    "start_time": "2021-11-13T13:18:36.645Z"
   },
   {
    "duration": 223,
    "start_time": "2021-11-13T13:18:36.656Z"
   },
   {
    "duration": 15,
    "start_time": "2021-11-13T13:18:36.881Z"
   },
   {
    "duration": 31,
    "start_time": "2021-11-13T13:18:36.907Z"
   },
   {
    "duration": 6,
    "start_time": "2021-11-13T13:18:36.940Z"
   },
   {
    "duration": 30,
    "start_time": "2021-11-13T13:18:36.947Z"
   },
   {
    "duration": 40,
    "start_time": "2021-11-13T13:18:36.979Z"
   },
   {
    "duration": 31,
    "start_time": "2021-11-13T13:18:37.021Z"
   },
   {
    "duration": 324,
    "start_time": "2021-11-13T13:18:37.054Z"
   },
   {
    "duration": 39,
    "start_time": "2021-11-13T13:18:37.380Z"
   },
   {
    "duration": 36,
    "start_time": "2021-11-13T13:18:37.422Z"
   },
   {
    "duration": 55,
    "start_time": "2021-11-13T13:18:37.467Z"
   },
   {
    "duration": 33,
    "start_time": "2021-11-13T13:18:37.525Z"
   },
   {
    "duration": 30,
    "start_time": "2021-11-13T13:18:37.560Z"
   },
   {
    "duration": 74,
    "start_time": "2021-11-13T13:18:37.606Z"
   },
   {
    "duration": 9,
    "start_time": "2021-11-13T13:18:37.682Z"
   },
   {
    "duration": 3059,
    "start_time": "2021-11-13T13:18:37.694Z"
   },
   {
    "duration": 8,
    "start_time": "2021-11-13T13:18:40.756Z"
   },
   {
    "duration": 19,
    "start_time": "2021-11-13T13:18:40.766Z"
   },
   {
    "duration": 8,
    "start_time": "2021-11-13T13:18:40.787Z"
   },
   {
    "duration": 220,
    "start_time": "2021-11-13T13:18:40.807Z"
   },
   {
    "duration": 33,
    "start_time": "2021-11-13T13:18:41.029Z"
   },
   {
    "duration": 68,
    "start_time": "2021-11-13T13:18:41.064Z"
   },
   {
    "duration": 11,
    "start_time": "2021-11-13T13:18:41.134Z"
   },
   {
    "duration": 22,
    "start_time": "2021-11-13T13:18:41.147Z"
   },
   {
    "duration": 12,
    "start_time": "2021-11-13T13:18:41.171Z"
   },
   {
    "duration": 20,
    "start_time": "2021-11-13T13:18:41.185Z"
   },
   {
    "duration": 29,
    "start_time": "2021-11-13T13:18:41.207Z"
   },
   {
    "duration": 10,
    "start_time": "2021-11-13T13:18:41.238Z"
   },
   {
    "duration": 9523,
    "start_time": "2021-11-13T13:18:41.250Z"
   },
   {
    "duration": 36,
    "start_time": "2021-11-13T13:18:50.738Z"
   },
   {
    "duration": 34,
    "start_time": "2021-11-13T13:18:50.741Z"
   },
   {
    "duration": 31,
    "start_time": "2021-11-13T13:18:50.745Z"
   },
   {
    "duration": 31,
    "start_time": "2021-11-13T13:18:50.746Z"
   },
   {
    "duration": 29,
    "start_time": "2021-11-13T13:18:50.749Z"
   },
   {
    "duration": 28,
    "start_time": "2021-11-13T13:18:50.751Z"
   },
   {
    "duration": 30,
    "start_time": "2021-11-13T13:21:51.875Z"
   },
   {
    "duration": 32,
    "start_time": "2021-11-13T13:22:34.704Z"
   },
   {
    "duration": 1205,
    "start_time": "2021-11-13T13:23:44.584Z"
   },
   {
    "duration": 4,
    "start_time": "2021-11-13T13:23:45.791Z"
   },
   {
    "duration": 134,
    "start_time": "2021-11-13T13:23:45.805Z"
   },
   {
    "duration": 36,
    "start_time": "2021-11-13T13:23:45.941Z"
   },
   {
    "duration": 7,
    "start_time": "2021-11-13T13:23:45.979Z"
   },
   {
    "duration": 113,
    "start_time": "2021-11-13T13:23:45.988Z"
   },
   {
    "duration": 12,
    "start_time": "2021-11-13T13:23:46.107Z"
   },
   {
    "duration": 288,
    "start_time": "2021-11-13T13:23:46.122Z"
   },
   {
    "duration": 14,
    "start_time": "2021-11-13T13:23:46.413Z"
   },
   {
    "duration": 28,
    "start_time": "2021-11-13T13:23:46.429Z"
   },
   {
    "duration": 7,
    "start_time": "2021-11-13T13:23:46.458Z"
   },
   {
    "duration": 52,
    "start_time": "2021-11-13T13:23:46.467Z"
   },
   {
    "duration": 21,
    "start_time": "2021-11-13T13:23:46.522Z"
   },
   {
    "duration": 42,
    "start_time": "2021-11-13T13:23:46.545Z"
   },
   {
    "duration": 273,
    "start_time": "2021-11-13T13:23:46.590Z"
   },
   {
    "duration": 21,
    "start_time": "2021-11-13T13:23:46.865Z"
   },
   {
    "duration": 36,
    "start_time": "2021-11-13T13:23:46.888Z"
   },
   {
    "duration": 36,
    "start_time": "2021-11-13T13:23:46.926Z"
   },
   {
    "duration": 22,
    "start_time": "2021-11-13T13:23:46.964Z"
   },
   {
    "duration": 20,
    "start_time": "2021-11-13T13:23:47.007Z"
   },
   {
    "duration": 51,
    "start_time": "2021-11-13T13:23:47.029Z"
   },
   {
    "duration": 37,
    "start_time": "2021-11-13T13:23:47.082Z"
   },
   {
    "duration": 3243,
    "start_time": "2021-11-13T13:23:47.121Z"
   },
   {
    "duration": 10,
    "start_time": "2021-11-13T13:23:50.366Z"
   },
   {
    "duration": 16,
    "start_time": "2021-11-13T13:23:50.378Z"
   },
   {
    "duration": 19,
    "start_time": "2021-11-13T13:23:50.396Z"
   },
   {
    "duration": 223,
    "start_time": "2021-11-13T13:23:50.419Z"
   },
   {
    "duration": 36,
    "start_time": "2021-11-13T13:23:50.644Z"
   },
   {
    "duration": 64,
    "start_time": "2021-11-13T13:23:50.682Z"
   },
   {
    "duration": 9,
    "start_time": "2021-11-13T13:23:50.748Z"
   },
   {
    "duration": 19,
    "start_time": "2021-11-13T13:23:50.760Z"
   },
   {
    "duration": 24,
    "start_time": "2021-11-13T13:23:50.781Z"
   },
   {
    "duration": 16,
    "start_time": "2021-11-13T13:23:50.806Z"
   },
   {
    "duration": 36,
    "start_time": "2021-11-13T13:23:50.824Z"
   },
   {
    "duration": 18,
    "start_time": "2021-11-13T13:23:50.862Z"
   },
   {
    "duration": 22,
    "start_time": "2021-11-13T13:23:50.882Z"
   },
   {
    "duration": 55,
    "start_time": "2021-11-13T13:23:50.905Z"
   },
   {
    "duration": 38,
    "start_time": "2021-11-13T13:23:50.962Z"
   },
   {
    "duration": 36,
    "start_time": "2021-11-13T13:23:51.002Z"
   },
   {
    "duration": 39,
    "start_time": "2021-11-13T13:23:51.040Z"
   },
   {
    "duration": 98,
    "start_time": "2021-11-14T07:00:35.641Z"
   },
   {
    "duration": 423,
    "start_time": "2021-11-14T14:17:02.060Z"
   },
   {
    "duration": 1539,
    "start_time": "2021-11-14T14:17:11.664Z"
   },
   {
    "duration": 4,
    "start_time": "2021-11-14T14:17:13.206Z"
   },
   {
    "duration": 177,
    "start_time": "2021-11-14T14:17:13.213Z"
   },
   {
    "duration": 51,
    "start_time": "2021-11-14T14:17:13.393Z"
   },
   {
    "duration": 10,
    "start_time": "2021-11-14T14:17:13.447Z"
   },
   {
    "duration": 147,
    "start_time": "2021-11-14T14:17:13.460Z"
   },
   {
    "duration": 13,
    "start_time": "2021-11-14T14:17:13.609Z"
   },
   {
    "duration": 350,
    "start_time": "2021-11-14T14:17:13.624Z"
   },
   {
    "duration": 33,
    "start_time": "2021-11-14T14:17:13.977Z"
   },
   {
    "duration": 38,
    "start_time": "2021-11-14T14:17:14.013Z"
   },
   {
    "duration": 7,
    "start_time": "2021-11-14T14:17:14.054Z"
   },
   {
    "duration": 57,
    "start_time": "2021-11-14T14:17:14.063Z"
   },
   {
    "duration": 24,
    "start_time": "2021-11-14T14:17:14.123Z"
   },
   {
    "duration": 69,
    "start_time": "2021-11-14T14:17:14.150Z"
   },
   {
    "duration": 406,
    "start_time": "2021-11-14T14:17:19.577Z"
   },
   {
    "duration": 407,
    "start_time": "2021-11-14T14:17:32.963Z"
   },
   {
    "duration": 438,
    "start_time": "2021-11-14T15:07:43.104Z"
   },
   {
    "duration": 5,
    "start_time": "2021-11-14T15:07:48.764Z"
   },
   {
    "duration": 8,
    "start_time": "2021-11-14T15:07:48.772Z"
   },
   {
    "duration": 192,
    "start_time": "2021-11-14T15:07:48.783Z"
   },
   {
    "duration": 47,
    "start_time": "2021-11-14T15:07:48.977Z"
   },
   {
    "duration": 10,
    "start_time": "2021-11-14T15:07:49.026Z"
   },
   {
    "duration": 140,
    "start_time": "2021-11-14T15:07:49.038Z"
   },
   {
    "duration": 20,
    "start_time": "2021-11-14T15:07:49.180Z"
   },
   {
    "duration": 336,
    "start_time": "2021-11-14T15:07:49.203Z"
   },
   {
    "duration": 21,
    "start_time": "2021-11-14T15:07:49.543Z"
   },
   {
    "duration": 57,
    "start_time": "2021-11-14T15:07:49.568Z"
   },
   {
    "duration": 7,
    "start_time": "2021-11-14T15:07:49.628Z"
   },
   {
    "duration": 27,
    "start_time": "2021-11-14T15:07:49.637Z"
   },
   {
    "duration": 57,
    "start_time": "2021-11-14T15:07:49.667Z"
   },
   {
    "duration": 47,
    "start_time": "2021-11-14T15:07:49.727Z"
   },
   {
    "duration": 444,
    "start_time": "2021-11-14T15:07:49.776Z"
   },
   {
    "duration": 33,
    "start_time": "2021-11-14T15:07:50.223Z"
   },
   {
    "duration": 50,
    "start_time": "2021-11-14T15:07:50.259Z"
   },
   {
    "duration": 43,
    "start_time": "2021-11-14T15:07:50.312Z"
   },
   {
    "duration": 53,
    "start_time": "2021-11-14T15:07:50.358Z"
   },
   {
    "duration": 27,
    "start_time": "2021-11-14T15:07:50.413Z"
   },
   {
    "duration": 95,
    "start_time": "2021-11-14T15:07:50.442Z"
   },
   {
    "duration": 8,
    "start_time": "2021-11-14T15:07:50.539Z"
   },
   {
    "duration": 30,
    "start_time": "2021-11-14T15:07:50.550Z"
   },
   {
    "duration": 6743,
    "start_time": "2021-11-14T15:07:50.583Z"
   },
   {
    "duration": 12,
    "start_time": "2021-11-14T15:07:57.328Z"
   },
   {
    "duration": 12,
    "start_time": "2021-11-14T15:07:57.342Z"
   },
   {
    "duration": 41,
    "start_time": "2021-11-14T15:07:57.360Z"
   },
   {
    "duration": 415,
    "start_time": "2021-11-14T15:07:57.403Z"
   },
   {
    "duration": 48,
    "start_time": "2021-11-14T15:07:57.820Z"
   },
   {
    "duration": 85,
    "start_time": "2021-11-14T15:07:57.870Z"
   },
   {
    "duration": 13,
    "start_time": "2021-11-14T15:07:57.958Z"
   },
   {
    "duration": 25,
    "start_time": "2021-11-14T15:07:57.974Z"
   },
   {
    "duration": 3,
    "start_time": "2021-11-14T15:07:58.002Z"
   },
   {
    "duration": 14,
    "start_time": "2021-11-14T15:07:58.008Z"
   },
   {
    "duration": 26,
    "start_time": "2021-11-14T15:07:58.025Z"
   },
   {
    "duration": 17,
    "start_time": "2021-11-14T15:07:58.053Z"
   },
   {
    "duration": 22,
    "start_time": "2021-11-14T15:07:58.072Z"
   },
   {
    "duration": 54,
    "start_time": "2021-11-14T15:07:58.097Z"
   },
   {
    "duration": 51,
    "start_time": "2021-11-14T15:07:58.153Z"
   },
   {
    "duration": 62,
    "start_time": "2021-11-14T15:07:58.207Z"
   },
   {
    "duration": 57,
    "start_time": "2021-11-14T15:07:58.272Z"
   },
   {
    "duration": 82,
    "start_time": "2021-11-14T15:10:03.613Z"
   },
   {
    "duration": 431,
    "start_time": "2021-11-14T15:10:52.090Z"
   },
   {
    "duration": 398,
    "start_time": "2021-11-14T15:11:07.345Z"
   },
   {
    "duration": 74,
    "start_time": "2021-11-14T15:15:51.395Z"
   },
   {
    "duration": 77,
    "start_time": "2021-11-14T15:25:52.187Z"
   },
   {
    "duration": 443,
    "start_time": "2021-11-14T15:26:36.845Z"
   },
   {
    "duration": 75,
    "start_time": "2021-11-14T15:26:50.784Z"
   },
   {
    "duration": 76,
    "start_time": "2021-11-14T15:27:24.594Z"
   },
   {
    "duration": 74,
    "start_time": "2021-11-14T15:27:38.740Z"
   },
   {
    "duration": 14,
    "start_time": "2021-11-14T15:27:59.760Z"
   },
   {
    "duration": 12,
    "start_time": "2021-11-14T15:56:24.101Z"
   },
   {
    "duration": 69,
    "start_time": "2021-11-14T15:56:52.804Z"
   },
   {
    "duration": 10,
    "start_time": "2021-11-14T15:56:55.328Z"
   },
   {
    "duration": 14208,
    "start_time": "2021-11-14T15:57:17.654Z"
   },
   {
    "duration": 11,
    "start_time": "2021-11-14T15:59:01.188Z"
   },
   {
    "duration": 10209,
    "start_time": "2021-11-14T15:59:15.830Z"
   },
   {
    "duration": 7091,
    "start_time": "2021-11-14T16:06:18.487Z"
   },
   {
    "duration": 130,
    "start_time": "2021-11-14T16:07:27.512Z"
   },
   {
    "duration": 9,
    "start_time": "2021-11-14T16:07:32.291Z"
   },
   {
    "duration": 380,
    "start_time": "2021-11-14T16:08:35.453Z"
   },
   {
    "duration": 16,
    "start_time": "2021-11-14T16:09:03.659Z"
   },
   {
    "duration": 11,
    "start_time": "2021-11-14T16:09:15.613Z"
   },
   {
    "duration": 9,
    "start_time": "2021-11-14T16:09:25.551Z"
   },
   {
    "duration": 11,
    "start_time": "2021-11-14T16:11:37.937Z"
   },
   {
    "duration": 22,
    "start_time": "2021-11-14T16:12:01.801Z"
   },
   {
    "duration": 11,
    "start_time": "2021-11-14T16:13:30.338Z"
   },
   {
    "duration": 68,
    "start_time": "2021-11-14T16:14:09.524Z"
   },
   {
    "duration": 8,
    "start_time": "2021-11-14T16:14:12.728Z"
   },
   {
    "duration": 13,
    "start_time": "2021-11-14T16:14:18.465Z"
   },
   {
    "duration": 15,
    "start_time": "2021-11-14T16:16:50.426Z"
   },
   {
    "duration": 432,
    "start_time": "2021-11-14T16:36:38.563Z"
   },
   {
    "duration": 413,
    "start_time": "2021-11-14T16:37:50.147Z"
   },
   {
    "duration": 386,
    "start_time": "2021-11-14T16:38:05.875Z"
   },
   {
    "duration": 389,
    "start_time": "2021-11-14T16:38:14.771Z"
   },
   {
    "duration": 420,
    "start_time": "2021-11-14T16:38:22.567Z"
   },
   {
    "duration": 424,
    "start_time": "2021-11-14T16:38:40.477Z"
   },
   {
    "duration": 397,
    "start_time": "2021-11-14T16:40:36.069Z"
   },
   {
    "duration": 678,
    "start_time": "2021-11-14T16:40:44.548Z"
   },
   {
    "duration": 391,
    "start_time": "2021-11-14T16:40:50.432Z"
   },
   {
    "duration": 346,
    "start_time": "2021-11-14T17:22:09.485Z"
   },
   {
    "duration": 349,
    "start_time": "2021-11-14T17:22:32.626Z"
   },
   {
    "duration": 677,
    "start_time": "2021-11-14T17:25:22.113Z"
   },
   {
    "duration": 279,
    "start_time": "2021-11-14T17:25:30.659Z"
   },
   {
    "duration": 288,
    "start_time": "2021-11-14T17:25:48.125Z"
   },
   {
    "duration": 272,
    "start_time": "2021-11-14T17:26:57.838Z"
   },
   {
    "duration": 11,
    "start_time": "2021-11-14T17:29:36.289Z"
   },
   {
    "duration": 12,
    "start_time": "2021-11-14T17:29:49.587Z"
   },
   {
    "duration": 71,
    "start_time": "2021-11-14T17:37:40.367Z"
   },
   {
    "duration": 136,
    "start_time": "2021-11-14T17:37:52.975Z"
   },
   {
    "duration": 71,
    "start_time": "2021-11-14T17:38:01.027Z"
   },
   {
    "duration": 70,
    "start_time": "2021-11-14T17:38:24.217Z"
   },
   {
    "duration": 159,
    "start_time": "2021-11-14T17:40:02.625Z"
   },
   {
    "duration": 85,
    "start_time": "2021-11-14T17:40:47.356Z"
   },
   {
    "duration": 49,
    "start_time": "2021-11-14T17:44:28.936Z"
   },
   {
    "duration": 39,
    "start_time": "2021-11-14T17:44:39.520Z"
   },
   {
    "duration": 99,
    "start_time": "2021-11-14T17:53:37.013Z"
   },
   {
    "duration": 104,
    "start_time": "2021-11-14T17:54:25.061Z"
   },
   {
    "duration": 102,
    "start_time": "2021-11-14T17:54:34.296Z"
   },
   {
    "duration": 99,
    "start_time": "2021-11-14T17:57:47.276Z"
   },
   {
    "duration": 100,
    "start_time": "2021-11-14T17:57:58.715Z"
   },
   {
    "duration": 106,
    "start_time": "2021-11-14T17:58:11.000Z"
   },
   {
    "duration": 102,
    "start_time": "2021-11-14T18:00:29.325Z"
   },
   {
    "duration": 109,
    "start_time": "2021-11-14T18:01:33.500Z"
   },
   {
    "duration": 106,
    "start_time": "2021-11-14T18:01:56.794Z"
   },
   {
    "duration": 122,
    "start_time": "2021-11-14T18:02:57.584Z"
   },
   {
    "duration": 22,
    "start_time": "2021-11-14T18:16:20.682Z"
   },
   {
    "duration": 7,
    "start_time": "2021-11-14T18:16:26.595Z"
   },
   {
    "duration": 126,
    "start_time": "2021-11-14T18:17:41.869Z"
   },
   {
    "duration": 6,
    "start_time": "2021-11-14T18:19:48.146Z"
   },
   {
    "duration": 379,
    "start_time": "2021-11-14T18:21:54.023Z"
   },
   {
    "duration": 8,
    "start_time": "2021-11-14T18:22:07.117Z"
   },
   {
    "duration": 152,
    "start_time": "2021-11-14T18:22:29.109Z"
   },
   {
    "duration": 382,
    "start_time": "2021-11-14T18:23:40.071Z"
   },
   {
    "duration": 384,
    "start_time": "2021-11-14T18:24:17.900Z"
   },
   {
    "duration": 122,
    "start_time": "2021-11-14T18:25:24.033Z"
   },
   {
    "duration": 119,
    "start_time": "2021-11-14T18:25:29.025Z"
   },
   {
    "duration": 5,
    "start_time": "2021-11-14T18:25:44.490Z"
   },
   {
    "duration": 5,
    "start_time": "2021-11-14T18:25:56.573Z"
   },
   {
    "duration": 6280,
    "start_time": "2021-11-14T18:31:46.925Z"
   },
   {
    "duration": 9,
    "start_time": "2021-11-14T18:32:02.979Z"
   },
   {
    "duration": 11,
    "start_time": "2021-11-14T18:32:22.958Z"
   },
   {
    "duration": 453,
    "start_time": "2021-11-14T18:32:28.260Z"
   },
   {
    "duration": 11,
    "start_time": "2021-11-14T18:32:33.092Z"
   },
   {
    "duration": 13,
    "start_time": "2021-11-14T18:32:54.113Z"
   },
   {
    "duration": 9,
    "start_time": "2021-11-14T18:33:54.836Z"
   },
   {
    "duration": 8,
    "start_time": "2021-11-14T18:33:59.888Z"
   },
   {
    "duration": 7,
    "start_time": "2021-11-14T18:34:11.756Z"
   },
   {
    "duration": 9,
    "start_time": "2021-11-14T18:40:08.664Z"
   },
   {
    "duration": 7,
    "start_time": "2021-11-14T18:40:18.046Z"
   },
   {
    "duration": 127,
    "start_time": "2021-11-14T18:40:54.826Z"
   },
   {
    "duration": 8,
    "start_time": "2021-11-14T18:41:05.076Z"
   },
   {
    "duration": 7,
    "start_time": "2021-11-14T18:42:26.758Z"
   },
   {
    "duration": 9,
    "start_time": "2021-11-14T18:43:51.573Z"
   },
   {
    "duration": 8,
    "start_time": "2021-11-14T18:44:32.064Z"
   },
   {
    "duration": 9,
    "start_time": "2021-11-14T18:45:10.917Z"
   },
   {
    "duration": 137,
    "start_time": "2021-11-14T18:49:39.307Z"
   },
   {
    "duration": 162,
    "start_time": "2021-11-15T06:10:33.857Z"
   },
   {
    "duration": 128,
    "start_time": "2021-11-15T06:11:36.016Z"
   },
   {
    "duration": 297,
    "start_time": "2022-02-07T13:18:38.540Z"
   },
   {
    "duration": 1180,
    "start_time": "2022-02-07T13:18:43.495Z"
   },
   {
    "duration": 3,
    "start_time": "2022-02-07T13:18:44.677Z"
   },
   {
    "duration": 696,
    "start_time": "2022-02-07T13:18:44.682Z"
   },
   {
    "duration": 37,
    "start_time": "2022-02-07T13:18:45.380Z"
   },
   {
    "duration": 7,
    "start_time": "2022-02-07T13:18:45.419Z"
   },
   {
    "duration": 100,
    "start_time": "2022-02-07T13:18:45.428Z"
   },
   {
    "duration": 9,
    "start_time": "2022-02-07T13:18:45.530Z"
   },
   {
    "duration": 240,
    "start_time": "2022-02-07T13:18:45.541Z"
   },
   {
    "duration": 15,
    "start_time": "2022-02-07T13:18:45.783Z"
   },
   {
    "duration": 39,
    "start_time": "2022-02-07T13:18:45.799Z"
   },
   {
    "duration": 5,
    "start_time": "2022-02-07T13:18:45.840Z"
   },
   {
    "duration": 20,
    "start_time": "2022-02-07T13:18:45.847Z"
   },
   {
    "duration": 17,
    "start_time": "2022-02-07T13:18:45.869Z"
   },
   {
    "duration": 59,
    "start_time": "2022-02-07T13:18:45.888Z"
   },
   {
    "duration": 271,
    "start_time": "2022-02-07T13:18:45.949Z"
   },
   {
    "duration": 20,
    "start_time": "2022-02-07T13:18:46.222Z"
   },
   {
    "duration": 22,
    "start_time": "2022-02-07T13:18:46.243Z"
   },
   {
    "duration": 80,
    "start_time": "2022-02-07T13:18:46.267Z"
   },
   {
    "duration": 20,
    "start_time": "2022-02-07T13:18:46.349Z"
   },
   {
    "duration": 21,
    "start_time": "2022-02-07T13:18:46.370Z"
   },
   {
    "duration": 72,
    "start_time": "2022-02-07T13:18:46.392Z"
   },
   {
    "duration": 14,
    "start_time": "2022-02-07T13:18:46.466Z"
   },
   {
    "duration": 9,
    "start_time": "2022-02-07T13:18:46.484Z"
   },
   {
    "duration": 3436,
    "start_time": "2022-02-07T13:18:46.495Z"
   },
   {
    "duration": 9,
    "start_time": "2022-02-07T13:18:49.933Z"
   },
   {
    "duration": 13,
    "start_time": "2022-02-07T13:18:49.943Z"
   },
   {
    "duration": 262,
    "start_time": "2022-02-07T13:18:49.959Z"
   },
   {
    "duration": 12,
    "start_time": "2022-02-07T13:18:50.223Z"
   },
   {
    "duration": 268,
    "start_time": "2022-02-07T13:18:50.237Z"
   },
   {
    "duration": 68,
    "start_time": "2022-02-07T13:18:50.506Z"
   },
   {
    "duration": 720,
    "start_time": "2022-02-07T13:18:49.857Z"
   },
   {
    "duration": 715,
    "start_time": "2022-02-07T13:18:49.863Z"
   },
   {
    "duration": 710,
    "start_time": "2022-02-07T13:18:49.869Z"
   },
   {
    "duration": 706,
    "start_time": "2022-02-07T13:18:49.875Z"
   },
   {
    "duration": 703,
    "start_time": "2022-02-07T13:18:49.879Z"
   },
   {
    "duration": 696,
    "start_time": "2022-02-07T13:18:49.887Z"
   },
   {
    "duration": 694,
    "start_time": "2022-02-07T13:18:49.891Z"
   },
   {
    "duration": 692,
    "start_time": "2022-02-07T13:18:49.894Z"
   },
   {
    "duration": 689,
    "start_time": "2022-02-07T13:18:49.898Z"
   },
   {
    "duration": 686,
    "start_time": "2022-02-07T13:18:49.902Z"
   },
   {
    "duration": 684,
    "start_time": "2022-02-07T13:18:49.906Z"
   },
   {
    "duration": 681,
    "start_time": "2022-02-07T13:18:49.910Z"
   },
   {
    "duration": 678,
    "start_time": "2022-02-07T13:18:49.914Z"
   },
   {
    "duration": 676,
    "start_time": "2022-02-07T13:18:49.918Z"
   },
   {
    "duration": 673,
    "start_time": "2022-02-07T13:18:49.922Z"
   },
   {
    "duration": 670,
    "start_time": "2022-02-07T13:18:49.926Z"
   },
   {
    "duration": 11,
    "start_time": "2022-02-07T13:27:09.760Z"
   }
  ],
  "kernelspec": {
   "display_name": "Python 3 (ipykernel)",
   "language": "python",
   "name": "python3"
  },
  "language_info": {
   "codemirror_mode": {
    "name": "ipython",
    "version": 3
   },
   "file_extension": ".py",
   "mimetype": "text/x-python",
   "name": "python",
   "nbconvert_exporter": "python",
   "pygments_lexer": "ipython3",
   "version": "3.9.7"
  },
  "toc": {
   "base_numbering": 1,
   "nav_menu": {},
   "number_sections": true,
   "sideBar": true,
   "skip_h1_title": true,
   "title_cell": "Table of Contents",
   "title_sidebar": "Contents",
   "toc_cell": false,
   "toc_position": {},
   "toc_section_display": true,
   "toc_window_display": false
  }
 },
 "nbformat": 4,
 "nbformat_minor": 2
}
