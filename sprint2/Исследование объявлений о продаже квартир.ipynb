{
 "cells": [
  {
   "cell_type": "markdown",
   "id": "840195c4",
   "metadata": {},
   "source": [
    "<div class=\"alert alert-success\">\n",
    "<b> Комментарий от ревьюера 4</b>\n",
    "\n",
    "Спасибо, что доделал работу. Оформление комментариев по работе сохраняется. Только обозначим, что это четвертая итерация. \n",
    "\n",
    "</div>\n"
   ]
  },
  {
   "cell_type": "markdown",
   "id": "6d46467d",
   "metadata": {},
   "source": [
    "<div class=\"alert alert-success\">\n",
    "<b> Комментарий от ревьюера 3</b>\n",
    "\n",
    "Спасибо, что доделал работу. Оформление комментариев по работе сохраняется. Только обозначим, что это третья итерация. \n",
    "\n",
    "</div>\n"
   ]
  },
  {
   "cell_type": "markdown",
   "id": "6ce7829b",
   "metadata": {},
   "source": [
    "<div class=\"alert alert-success\">\n",
    "<b> Комментарий от ревьюера 2</b>\n",
    "\n",
    "Привет еще раз. Спасибо, что доделал работу. Оформление комментариев по работе сохраняется. Только обозначим, что это вторая итерация. \n",
    "\n",
    "</div>"
   ]
  },
  {
   "cell_type": "markdown",
   "id": "fbd6df52",
   "metadata": {},
   "source": [
    "<b>Комментарий от ревьюера</b>\n",
    "\n",
    "Привет! Меня зовут Ярослав Кальманов, я буду делать ревью твоего проекта. Давай будем общаться на «ты».\n",
    "\n",
    "Мои комментарии будут в ячейках \"Комментарий от ревьюера\".\n",
    "\n",
    "<div class=\"alert alert-danger\"> \n",
    "Красным цветом обозначены комментарии, на которые тебе нужно обратить внимание в первую очередь, чтобы я принял проект. \n",
    "</div>\n",
    "<div class=\"alert alert-warning\">\n",
    "Желтым цветом отмечено то, что ты можешь сделать немного по-другому. Ты можешь учесть эти комментарии при выполнении следующих проектов.\n",
    "</div>\n",
    "<div class=\"alert alert-success\">\n",
    "Зелёным цветом обозначены твои удачные решения, которые ты без сомнения можешь применять в будущих проектах.  \n",
    "</div>\n",
    "\n",
    "Если ты вносишь изменения в проект по моим рекомендациям, указывай, пожалуйста, это в своих комментариях. Будет удобно, если обозначишь свои комментарии заметным цветом или поместишь \n",
    "\n",
    "<div class=\"alert alert-info\">\n",
    "    \n",
    "в такую ячейку\n",
    "</div>\n",
    "\n",
    "Давай при работе с проектом мы будем общаться с тобой в диалоге, поэтому не удаляй и не перемещай мои комментарии, это поможет мне сделать повторную  проверку проекта быстрее.\n",
    "___"
   ]
  },
  {
   "cell_type": "markdown",
   "id": "d2bfa619",
   "metadata": {},
   "source": [
    "## Описание.\n",
    "Модуль 1. Спринт 2. \n",
    "В наличии есть данные сервиса Яндекс.Недвижимость — архив объявлений о продаже квартир в Санкт-Петербурге и соседних населённых пунктах за несколько лет. Нужно научиться определять рыночную стоимость объектов недвижимости. Задача — установить параметры. "
   ]
  },
  {
   "cell_type": "code",
   "execution_count": 2,
   "id": "3a5965e0",
   "metadata": {},
   "outputs": [],
   "source": [
    "import pandas as pd\n",
    "import seaborn as sns\n",
    "import matplotlib.pyplot as plt\n",
    "\n",
    "import warnings\n",
    "warnings.filterwarnings('ignore')"
   ]
  },
  {
   "cell_type": "markdown",
   "id": "99a28301",
   "metadata": {},
   "source": [
    "Добрый день, Алина.  Что нужно еще сделать? или чего не хватает? Уже голова кругом идет. Отправляю на проверку то что сделал. Если успею то отчет дополню или уже получу комментарий что где неправильно. И внесу изменения вместе с дополнениям по комментариям."
   ]
  },
  {
   "cell_type": "code",
   "execution_count": 3,
   "id": "22d1f3d0",
   "metadata": {},
   "outputs": [],
   "source": [
    "pth1 = '/datasets/real_estate_data.csv'\n",
    "pth2 = 'real_estate_data.csv'\n",
    "try:\n",
    "    df = pd.read_csv(pth1, sep='\\t')\n",
    "except:\n",
    "    df = pd.read_csv(pth2, sep='\\t')"
   ]
  },
  {
   "cell_type": "code",
   "execution_count": 4,
   "id": "4a725e67",
   "metadata": {},
   "outputs": [
    {
     "data": {
      "text/html": [
       "<div>\n",
       "<style scoped>\n",
       "    .dataframe tbody tr th:only-of-type {\n",
       "        vertical-align: middle;\n",
       "    }\n",
       "\n",
       "    .dataframe tbody tr th {\n",
       "        vertical-align: top;\n",
       "    }\n",
       "\n",
       "    .dataframe thead th {\n",
       "        text-align: right;\n",
       "    }\n",
       "</style>\n",
       "<table border=\"1\" class=\"dataframe\">\n",
       "  <thead>\n",
       "    <tr style=\"text-align: right;\">\n",
       "      <th></th>\n",
       "      <th>total_images</th>\n",
       "      <th>last_price</th>\n",
       "      <th>total_area</th>\n",
       "      <th>first_day_exposition</th>\n",
       "      <th>rooms</th>\n",
       "      <th>ceiling_height</th>\n",
       "      <th>floors_total</th>\n",
       "      <th>living_area</th>\n",
       "      <th>floor</th>\n",
       "      <th>is_apartment</th>\n",
       "      <th>...</th>\n",
       "      <th>kitchen_area</th>\n",
       "      <th>balcony</th>\n",
       "      <th>locality_name</th>\n",
       "      <th>airports_nearest</th>\n",
       "      <th>cityCenters_nearest</th>\n",
       "      <th>parks_around3000</th>\n",
       "      <th>parks_nearest</th>\n",
       "      <th>ponds_around3000</th>\n",
       "      <th>ponds_nearest</th>\n",
       "      <th>days_exposition</th>\n",
       "    </tr>\n",
       "  </thead>\n",
       "  <tbody>\n",
       "    <tr>\n",
       "      <th>0</th>\n",
       "      <td>20</td>\n",
       "      <td>13000000.0</td>\n",
       "      <td>108.0</td>\n",
       "      <td>2019-03-07T00:00:00</td>\n",
       "      <td>3</td>\n",
       "      <td>2.70</td>\n",
       "      <td>16.0</td>\n",
       "      <td>51.0</td>\n",
       "      <td>8</td>\n",
       "      <td>NaN</td>\n",
       "      <td>...</td>\n",
       "      <td>25.0</td>\n",
       "      <td>NaN</td>\n",
       "      <td>Санкт-Петербург</td>\n",
       "      <td>18863.0</td>\n",
       "      <td>16028.0</td>\n",
       "      <td>1.0</td>\n",
       "      <td>482.0</td>\n",
       "      <td>2.0</td>\n",
       "      <td>755.0</td>\n",
       "      <td>NaN</td>\n",
       "    </tr>\n",
       "    <tr>\n",
       "      <th>1</th>\n",
       "      <td>7</td>\n",
       "      <td>3350000.0</td>\n",
       "      <td>40.4</td>\n",
       "      <td>2018-12-04T00:00:00</td>\n",
       "      <td>1</td>\n",
       "      <td>NaN</td>\n",
       "      <td>11.0</td>\n",
       "      <td>18.6</td>\n",
       "      <td>1</td>\n",
       "      <td>NaN</td>\n",
       "      <td>...</td>\n",
       "      <td>11.0</td>\n",
       "      <td>2.0</td>\n",
       "      <td>посёлок Шушары</td>\n",
       "      <td>12817.0</td>\n",
       "      <td>18603.0</td>\n",
       "      <td>0.0</td>\n",
       "      <td>NaN</td>\n",
       "      <td>0.0</td>\n",
       "      <td>NaN</td>\n",
       "      <td>81.0</td>\n",
       "    </tr>\n",
       "    <tr>\n",
       "      <th>2</th>\n",
       "      <td>10</td>\n",
       "      <td>5196000.0</td>\n",
       "      <td>56.0</td>\n",
       "      <td>2015-08-20T00:00:00</td>\n",
       "      <td>2</td>\n",
       "      <td>NaN</td>\n",
       "      <td>5.0</td>\n",
       "      <td>34.3</td>\n",
       "      <td>4</td>\n",
       "      <td>NaN</td>\n",
       "      <td>...</td>\n",
       "      <td>8.3</td>\n",
       "      <td>0.0</td>\n",
       "      <td>Санкт-Петербург</td>\n",
       "      <td>21741.0</td>\n",
       "      <td>13933.0</td>\n",
       "      <td>1.0</td>\n",
       "      <td>90.0</td>\n",
       "      <td>2.0</td>\n",
       "      <td>574.0</td>\n",
       "      <td>558.0</td>\n",
       "    </tr>\n",
       "    <tr>\n",
       "      <th>3</th>\n",
       "      <td>0</td>\n",
       "      <td>64900000.0</td>\n",
       "      <td>159.0</td>\n",
       "      <td>2015-07-24T00:00:00</td>\n",
       "      <td>3</td>\n",
       "      <td>NaN</td>\n",
       "      <td>14.0</td>\n",
       "      <td>NaN</td>\n",
       "      <td>9</td>\n",
       "      <td>NaN</td>\n",
       "      <td>...</td>\n",
       "      <td>NaN</td>\n",
       "      <td>0.0</td>\n",
       "      <td>Санкт-Петербург</td>\n",
       "      <td>28098.0</td>\n",
       "      <td>6800.0</td>\n",
       "      <td>2.0</td>\n",
       "      <td>84.0</td>\n",
       "      <td>3.0</td>\n",
       "      <td>234.0</td>\n",
       "      <td>424.0</td>\n",
       "    </tr>\n",
       "    <tr>\n",
       "      <th>4</th>\n",
       "      <td>2</td>\n",
       "      <td>10000000.0</td>\n",
       "      <td>100.0</td>\n",
       "      <td>2018-06-19T00:00:00</td>\n",
       "      <td>2</td>\n",
       "      <td>3.03</td>\n",
       "      <td>14.0</td>\n",
       "      <td>32.0</td>\n",
       "      <td>13</td>\n",
       "      <td>NaN</td>\n",
       "      <td>...</td>\n",
       "      <td>41.0</td>\n",
       "      <td>NaN</td>\n",
       "      <td>Санкт-Петербург</td>\n",
       "      <td>31856.0</td>\n",
       "      <td>8098.0</td>\n",
       "      <td>2.0</td>\n",
       "      <td>112.0</td>\n",
       "      <td>1.0</td>\n",
       "      <td>48.0</td>\n",
       "      <td>121.0</td>\n",
       "    </tr>\n",
       "  </tbody>\n",
       "</table>\n",
       "<p>5 rows × 22 columns</p>\n",
       "</div>"
      ],
      "text/plain": [
       "   total_images  last_price  total_area first_day_exposition  rooms  \\\n",
       "0            20  13000000.0       108.0  2019-03-07T00:00:00      3   \n",
       "1             7   3350000.0        40.4  2018-12-04T00:00:00      1   \n",
       "2            10   5196000.0        56.0  2015-08-20T00:00:00      2   \n",
       "3             0  64900000.0       159.0  2015-07-24T00:00:00      3   \n",
       "4             2  10000000.0       100.0  2018-06-19T00:00:00      2   \n",
       "\n",
       "   ceiling_height  floors_total  living_area  floor is_apartment  ...  \\\n",
       "0            2.70          16.0         51.0      8          NaN  ...   \n",
       "1             NaN          11.0         18.6      1          NaN  ...   \n",
       "2             NaN           5.0         34.3      4          NaN  ...   \n",
       "3             NaN          14.0          NaN      9          NaN  ...   \n",
       "4            3.03          14.0         32.0     13          NaN  ...   \n",
       "\n",
       "   kitchen_area  balcony    locality_name  airports_nearest  \\\n",
       "0          25.0      NaN  Санкт-Петербург           18863.0   \n",
       "1          11.0      2.0   посёлок Шушары           12817.0   \n",
       "2           8.3      0.0  Санкт-Петербург           21741.0   \n",
       "3           NaN      0.0  Санкт-Петербург           28098.0   \n",
       "4          41.0      NaN  Санкт-Петербург           31856.0   \n",
       "\n",
       "  cityCenters_nearest  parks_around3000  parks_nearest  ponds_around3000  \\\n",
       "0             16028.0               1.0          482.0               2.0   \n",
       "1             18603.0               0.0            NaN               0.0   \n",
       "2             13933.0               1.0           90.0               2.0   \n",
       "3              6800.0               2.0           84.0               3.0   \n",
       "4              8098.0               2.0          112.0               1.0   \n",
       "\n",
       "   ponds_nearest  days_exposition  \n",
       "0          755.0              NaN  \n",
       "1            NaN             81.0  \n",
       "2          574.0            558.0  \n",
       "3          234.0            424.0  \n",
       "4           48.0            121.0  \n",
       "\n",
       "[5 rows x 22 columns]"
      ]
     },
     "execution_count": 4,
     "metadata": {},
     "output_type": "execute_result"
    }
   ],
   "source": [
    "df.head()"
   ]
  },
  {
   "cell_type": "markdown",
   "id": "0fa1c847",
   "metadata": {},
   "source": [
    "__Список всех колонок__"
   ]
  },
  {
   "cell_type": "code",
   "execution_count": 5,
   "id": "1dca0d3c",
   "metadata": {},
   "outputs": [
    {
     "data": {
      "text/plain": [
       "array(['total_images', 'last_price', 'total_area', 'first_day_exposition',\n",
       "       'rooms', 'ceiling_height', 'floors_total', 'living_area', 'floor',\n",
       "       'is_apartment', 'studio', 'open_plan', 'kitchen_area', 'balcony',\n",
       "       'locality_name', 'airports_nearest', 'cityCenters_nearest',\n",
       "       'parks_around3000', 'parks_nearest', 'ponds_around3000',\n",
       "       'ponds_nearest', 'days_exposition'], dtype=object)"
      ]
     },
     "execution_count": 5,
     "metadata": {},
     "output_type": "execute_result"
    }
   ],
   "source": [
    "df.columns.values"
   ]
  },
  {
   "cell_type": "code",
   "execution_count": 6,
   "id": "683ed095",
   "metadata": {},
   "outputs": [
    {
     "data": {
      "text/plain": [
       "['total_images',\n",
       " 'last_price',\n",
       " 'total_area',\n",
       " 'first_day_exposition',\n",
       " 'rooms',\n",
       " 'ceiling_height',\n",
       " 'floors_total',\n",
       " 'living_area',\n",
       " 'floor',\n",
       " 'is_apartment',\n",
       " 'studio',\n",
       " 'open_plan',\n",
       " 'kitchen_area',\n",
       " 'balcony',\n",
       " 'locality_name',\n",
       " 'airports_nearest',\n",
       " 'cityCenters_nearest',\n",
       " 'parks_around3000',\n",
       " 'parks_nearest',\n",
       " 'ponds_around3000',\n",
       " 'ponds_nearest',\n",
       " 'days_exposition']"
      ]
     },
     "execution_count": 6,
     "metadata": {},
     "output_type": "execute_result"
    }
   ],
   "source": [
    "df.columns.tolist()"
   ]
  },
  {
   "cell_type": "markdown",
   "id": "156b97b9",
   "metadata": {},
   "source": [
    "**Описание данных**  \n",
    "`airports_nearest` — расстояние до ближайшего аэропорта в метрах (м) **18157 non-null float64**  \n",
    "`balcony` — число балконов                                           **12180 non-null float64**      \n",
    "    `ceiling_height` — высота потолков (м)                            **14504 non-null float64**  \n",
    "`cityCenters_nearest` — расстояние до центра города (м)              **18180 non-null float64**  \n",
    "`days_exposition` — сколько дней было размещено объявление (от публикации до снятия)  **20518 non-null float64**  \n",
    "`first_day_exposition` — дата публикации     **строка  должна быть тип дата**   \n",
    "`floor` — этаж                                \n",
    "`floors_total` — всего этажей в доме  \n",
    "`is_apartment` — апартаменты (булев тип) **строка**      **2775 non-null object**  изменить на булево  \n",
    "`kitchen_area` — площадь кухни в квадратных метрах (м²)  \n",
    "`last_price` — цена на момент снятия с публикации\n",
    "`living_area` — жилая площадь в квадратных метрах(м²)  \n",
    "`locality_name` — название населённого пункта                         **23650 non-null object**  \n",
    "    `open_plan` — свободная планировка (булев тип)                    **23699 non-null bool**  \n",
    "`parks_around3000` — число парков в радиусе 3 км                      **parks_around3000** \n",
    "`parks_nearest` — расстояние до ближайшего парка (м)                 **8079 non-null float64**   \n",
    "`ponds_around3000` — число водоёмов в радиусе 3 км  \n",
    "`ponds_nearest` — расстояние до ближайшего водоёма (м)  \n",
    "`rooms` — число комнат  \n",
    "`studio` — квартира-студия (булев тип)                               **23699 non-null bool**  \n",
    "`total_area` — площадь квартиры в квадратных метрах (м²)  \n",
    "`total_images` — число фотографий квартиры в объявлении  "
   ]
  },
  {
   "cell_type": "code",
   "execution_count": 7,
   "id": "ae2ff400",
   "metadata": {},
   "outputs": [
    {
     "name": "stdout",
     "output_type": "stream",
     "text": [
      "<class 'pandas.core.frame.DataFrame'>\n",
      "RangeIndex: 23699 entries, 0 to 23698\n",
      "Data columns (total 22 columns):\n",
      " #   Column                Non-Null Count  Dtype  \n",
      "---  ------                --------------  -----  \n",
      " 0   total_images          23699 non-null  int64  \n",
      " 1   last_price            23699 non-null  float64\n",
      " 2   total_area            23699 non-null  float64\n",
      " 3   first_day_exposition  23699 non-null  object \n",
      " 4   rooms                 23699 non-null  int64  \n",
      " 5   ceiling_height        14504 non-null  float64\n",
      " 6   floors_total          23613 non-null  float64\n",
      " 7   living_area           21796 non-null  float64\n",
      " 8   floor                 23699 non-null  int64  \n",
      " 9   is_apartment          2775 non-null   object \n",
      " 10  studio                23699 non-null  bool   \n",
      " 11  open_plan             23699 non-null  bool   \n",
      " 12  kitchen_area          21421 non-null  float64\n",
      " 13  balcony               12180 non-null  float64\n",
      " 14  locality_name         23650 non-null  object \n",
      " 15  airports_nearest      18157 non-null  float64\n",
      " 16  cityCenters_nearest   18180 non-null  float64\n",
      " 17  parks_around3000      18181 non-null  float64\n",
      " 18  parks_nearest         8079 non-null   float64\n",
      " 19  ponds_around3000      18181 non-null  float64\n",
      " 20  ponds_nearest         9110 non-null   float64\n",
      " 21  days_exposition       20518 non-null  float64\n",
      "dtypes: bool(2), float64(14), int64(3), object(3)\n",
      "memory usage: 3.7+ MB\n"
     ]
    }
   ],
   "source": [
    "df.info()"
   ]
  },
  {
   "cell_type": "markdown",
   "id": "254577ae",
   "metadata": {},
   "source": [
    "__Пропуски в данных__"
   ]
  },
  {
   "cell_type": "code",
   "execution_count": 8,
   "id": "5ab30231",
   "metadata": {},
   "outputs": [
    {
     "data": {
      "text/plain": [
       "total_images                0\n",
       "last_price                  0\n",
       "total_area                  0\n",
       "first_day_exposition        0\n",
       "rooms                       0\n",
       "ceiling_height           9195\n",
       "floors_total               86\n",
       "living_area              1903\n",
       "floor                       0\n",
       "is_apartment            20924\n",
       "studio                      0\n",
       "open_plan                   0\n",
       "kitchen_area             2278\n",
       "balcony                 11519\n",
       "locality_name              49\n",
       "airports_nearest         5542\n",
       "cityCenters_nearest      5519\n",
       "parks_around3000         5518\n",
       "parks_nearest           15620\n",
       "ponds_around3000         5518\n",
       "ponds_nearest           14589\n",
       "days_exposition          3181\n",
       "dtype: int64"
      ]
     },
     "execution_count": 8,
     "metadata": {},
     "output_type": "execute_result"
    }
   ],
   "source": [
    "df.isnull().sum()"
   ]
  },
  {
   "cell_type": "code",
   "execution_count": 9,
   "id": "5f210c91",
   "metadata": {},
   "outputs": [
    {
     "data": {
      "text/html": [
       "<div>\n",
       "<style scoped>\n",
       "    .dataframe tbody tr th:only-of-type {\n",
       "        vertical-align: middle;\n",
       "    }\n",
       "\n",
       "    .dataframe tbody tr th {\n",
       "        vertical-align: top;\n",
       "    }\n",
       "\n",
       "    .dataframe thead th {\n",
       "        text-align: right;\n",
       "    }\n",
       "</style>\n",
       "<table border=\"1\" class=\"dataframe\">\n",
       "  <thead>\n",
       "    <tr style=\"text-align: right;\">\n",
       "      <th></th>\n",
       "      <th>total_images</th>\n",
       "      <th>last_price</th>\n",
       "      <th>total_area</th>\n",
       "      <th>first_day_exposition</th>\n",
       "      <th>rooms</th>\n",
       "      <th>ceiling_height</th>\n",
       "      <th>floors_total</th>\n",
       "      <th>living_area</th>\n",
       "      <th>floor</th>\n",
       "      <th>is_apartment</th>\n",
       "      <th>...</th>\n",
       "      <th>kitchen_area</th>\n",
       "      <th>balcony</th>\n",
       "      <th>locality_name</th>\n",
       "      <th>airports_nearest</th>\n",
       "      <th>cityCenters_nearest</th>\n",
       "      <th>parks_around3000</th>\n",
       "      <th>parks_nearest</th>\n",
       "      <th>ponds_around3000</th>\n",
       "      <th>ponds_nearest</th>\n",
       "      <th>days_exposition</th>\n",
       "    </tr>\n",
       "  </thead>\n",
       "  <tbody>\n",
       "    <tr>\n",
       "      <th>0</th>\n",
       "      <td>20</td>\n",
       "      <td>13000000.0</td>\n",
       "      <td>108.0</td>\n",
       "      <td>2019-03-07T00:00:00</td>\n",
       "      <td>3</td>\n",
       "      <td>2.70</td>\n",
       "      <td>16.0</td>\n",
       "      <td>51.0</td>\n",
       "      <td>8</td>\n",
       "      <td>NaN</td>\n",
       "      <td>...</td>\n",
       "      <td>25.0</td>\n",
       "      <td>NaN</td>\n",
       "      <td>Санкт-Петербург</td>\n",
       "      <td>18863.0</td>\n",
       "      <td>16028.0</td>\n",
       "      <td>1.0</td>\n",
       "      <td>482.0</td>\n",
       "      <td>2.0</td>\n",
       "      <td>755.0</td>\n",
       "      <td>NaN</td>\n",
       "    </tr>\n",
       "    <tr>\n",
       "      <th>1</th>\n",
       "      <td>7</td>\n",
       "      <td>3350000.0</td>\n",
       "      <td>40.4</td>\n",
       "      <td>2018-12-04T00:00:00</td>\n",
       "      <td>1</td>\n",
       "      <td>NaN</td>\n",
       "      <td>11.0</td>\n",
       "      <td>18.6</td>\n",
       "      <td>1</td>\n",
       "      <td>NaN</td>\n",
       "      <td>...</td>\n",
       "      <td>11.0</td>\n",
       "      <td>2.0</td>\n",
       "      <td>посёлок Шушары</td>\n",
       "      <td>12817.0</td>\n",
       "      <td>18603.0</td>\n",
       "      <td>0.0</td>\n",
       "      <td>NaN</td>\n",
       "      <td>0.0</td>\n",
       "      <td>NaN</td>\n",
       "      <td>81.0</td>\n",
       "    </tr>\n",
       "    <tr>\n",
       "      <th>2</th>\n",
       "      <td>10</td>\n",
       "      <td>5196000.0</td>\n",
       "      <td>56.0</td>\n",
       "      <td>2015-08-20T00:00:00</td>\n",
       "      <td>2</td>\n",
       "      <td>NaN</td>\n",
       "      <td>5.0</td>\n",
       "      <td>34.3</td>\n",
       "      <td>4</td>\n",
       "      <td>NaN</td>\n",
       "      <td>...</td>\n",
       "      <td>8.3</td>\n",
       "      <td>0.0</td>\n",
       "      <td>Санкт-Петербург</td>\n",
       "      <td>21741.0</td>\n",
       "      <td>13933.0</td>\n",
       "      <td>1.0</td>\n",
       "      <td>90.0</td>\n",
       "      <td>2.0</td>\n",
       "      <td>574.0</td>\n",
       "      <td>558.0</td>\n",
       "    </tr>\n",
       "    <tr>\n",
       "      <th>3</th>\n",
       "      <td>0</td>\n",
       "      <td>64900000.0</td>\n",
       "      <td>159.0</td>\n",
       "      <td>2015-07-24T00:00:00</td>\n",
       "      <td>3</td>\n",
       "      <td>NaN</td>\n",
       "      <td>14.0</td>\n",
       "      <td>NaN</td>\n",
       "      <td>9</td>\n",
       "      <td>NaN</td>\n",
       "      <td>...</td>\n",
       "      <td>NaN</td>\n",
       "      <td>0.0</td>\n",
       "      <td>Санкт-Петербург</td>\n",
       "      <td>28098.0</td>\n",
       "      <td>6800.0</td>\n",
       "      <td>2.0</td>\n",
       "      <td>84.0</td>\n",
       "      <td>3.0</td>\n",
       "      <td>234.0</td>\n",
       "      <td>424.0</td>\n",
       "    </tr>\n",
       "    <tr>\n",
       "      <th>4</th>\n",
       "      <td>2</td>\n",
       "      <td>10000000.0</td>\n",
       "      <td>100.0</td>\n",
       "      <td>2018-06-19T00:00:00</td>\n",
       "      <td>2</td>\n",
       "      <td>3.03</td>\n",
       "      <td>14.0</td>\n",
       "      <td>32.0</td>\n",
       "      <td>13</td>\n",
       "      <td>NaN</td>\n",
       "      <td>...</td>\n",
       "      <td>41.0</td>\n",
       "      <td>NaN</td>\n",
       "      <td>Санкт-Петербург</td>\n",
       "      <td>31856.0</td>\n",
       "      <td>8098.0</td>\n",
       "      <td>2.0</td>\n",
       "      <td>112.0</td>\n",
       "      <td>1.0</td>\n",
       "      <td>48.0</td>\n",
       "      <td>121.0</td>\n",
       "    </tr>\n",
       "  </tbody>\n",
       "</table>\n",
       "<p>5 rows × 22 columns</p>\n",
       "</div>"
      ],
      "text/plain": [
       "   total_images  last_price  total_area first_day_exposition  rooms  \\\n",
       "0            20  13000000.0       108.0  2019-03-07T00:00:00      3   \n",
       "1             7   3350000.0        40.4  2018-12-04T00:00:00      1   \n",
       "2            10   5196000.0        56.0  2015-08-20T00:00:00      2   \n",
       "3             0  64900000.0       159.0  2015-07-24T00:00:00      3   \n",
       "4             2  10000000.0       100.0  2018-06-19T00:00:00      2   \n",
       "\n",
       "   ceiling_height  floors_total  living_area  floor is_apartment  ...  \\\n",
       "0            2.70          16.0         51.0      8          NaN  ...   \n",
       "1             NaN          11.0         18.6      1          NaN  ...   \n",
       "2             NaN           5.0         34.3      4          NaN  ...   \n",
       "3             NaN          14.0          NaN      9          NaN  ...   \n",
       "4            3.03          14.0         32.0     13          NaN  ...   \n",
       "\n",
       "   kitchen_area  balcony    locality_name  airports_nearest  \\\n",
       "0          25.0      NaN  Санкт-Петербург           18863.0   \n",
       "1          11.0      2.0   посёлок Шушары           12817.0   \n",
       "2           8.3      0.0  Санкт-Петербург           21741.0   \n",
       "3           NaN      0.0  Санкт-Петербург           28098.0   \n",
       "4          41.0      NaN  Санкт-Петербург           31856.0   \n",
       "\n",
       "  cityCenters_nearest  parks_around3000  parks_nearest  ponds_around3000  \\\n",
       "0             16028.0               1.0          482.0               2.0   \n",
       "1             18603.0               0.0            NaN               0.0   \n",
       "2             13933.0               1.0           90.0               2.0   \n",
       "3              6800.0               2.0           84.0               3.0   \n",
       "4              8098.0               2.0          112.0               1.0   \n",
       "\n",
       "   ponds_nearest  days_exposition  \n",
       "0          755.0              NaN  \n",
       "1            NaN             81.0  \n",
       "2          574.0            558.0  \n",
       "3          234.0            424.0  \n",
       "4           48.0            121.0  \n",
       "\n",
       "[5 rows x 22 columns]"
      ]
     },
     "execution_count": 9,
     "metadata": {},
     "output_type": "execute_result"
    }
   ],
   "source": [
    "df.head()"
   ]
  },
  {
   "cell_type": "markdown",
   "id": "235115c0",
   "metadata": {},
   "source": [
    "# 1. Предобработка данных"
   ]
  },
  {
   "cell_type": "markdown",
   "id": "47dbad43",
   "metadata": {},
   "source": [
    "## Создание категории по общей площади квартиры."
   ]
  },
  {
   "cell_type": "markdown",
   "id": "41c60b0d",
   "metadata": {},
   "source": [
    "Категория нужна для заполнения пропусков"
   ]
  },
  {
   "cell_type": "code",
   "execution_count": 10,
   "id": "dab6386b",
   "metadata": {},
   "outputs": [],
   "source": [
    "df['total_area_group'] = pd.qcut(df['total_area'],\n",
    "                              q = [0, 0.25, 0.5, 0.75, 1], # процент разделение данных\n",
    "                              labels = ['1 кат', '2 кат', '3 кат', '4 кат'] #наименование \n",
    "                              )"
   ]
  },
  {
   "cell_type": "code",
   "execution_count": 11,
   "id": "7aa51368",
   "metadata": {
    "scrolled": true
   },
   "outputs": [
    {
     "data": {
      "text/html": [
       "<div>\n",
       "<style scoped>\n",
       "    .dataframe tbody tr th:only-of-type {\n",
       "        vertical-align: middle;\n",
       "    }\n",
       "\n",
       "    .dataframe tbody tr th {\n",
       "        vertical-align: top;\n",
       "    }\n",
       "\n",
       "    .dataframe thead th {\n",
       "        text-align: right;\n",
       "    }\n",
       "</style>\n",
       "<table border=\"1\" class=\"dataframe\">\n",
       "  <thead>\n",
       "    <tr style=\"text-align: right;\">\n",
       "      <th></th>\n",
       "      <th>count</th>\n",
       "      <th>mean</th>\n",
       "      <th>std</th>\n",
       "      <th>min</th>\n",
       "      <th>25%</th>\n",
       "      <th>50%</th>\n",
       "      <th>75%</th>\n",
       "      <th>max</th>\n",
       "    </tr>\n",
       "    <tr>\n",
       "      <th>total_area_group</th>\n",
       "      <th></th>\n",
       "      <th></th>\n",
       "      <th></th>\n",
       "      <th></th>\n",
       "      <th></th>\n",
       "      <th></th>\n",
       "      <th></th>\n",
       "      <th></th>\n",
       "    </tr>\n",
       "  </thead>\n",
       "  <tbody>\n",
       "    <tr>\n",
       "      <th>1 кат</th>\n",
       "      <td>6042.0</td>\n",
       "      <td>33.910634</td>\n",
       "      <td>4.116621</td>\n",
       "      <td>12.00</td>\n",
       "      <td>31.1</td>\n",
       "      <td>34.0</td>\n",
       "      <td>37.0</td>\n",
       "      <td>40.0</td>\n",
       "    </tr>\n",
       "    <tr>\n",
       "      <th>2 кат</th>\n",
       "      <td>5913.0</td>\n",
       "      <td>45.609812</td>\n",
       "      <td>3.295669</td>\n",
       "      <td>40.08</td>\n",
       "      <td>43.0</td>\n",
       "      <td>45.0</td>\n",
       "      <td>48.0</td>\n",
       "      <td>52.0</td>\n",
       "    </tr>\n",
       "    <tr>\n",
       "      <th>3 кат</th>\n",
       "      <td>5823.0</td>\n",
       "      <td>60.058173</td>\n",
       "      <td>4.707743</td>\n",
       "      <td>52.03</td>\n",
       "      <td>56.0</td>\n",
       "      <td>60.0</td>\n",
       "      <td>63.8</td>\n",
       "      <td>69.9</td>\n",
       "    </tr>\n",
       "    <tr>\n",
       "      <th>4 кат</th>\n",
       "      <td>5921.0</td>\n",
       "      <td>102.331544</td>\n",
       "      <td>48.430263</td>\n",
       "      <td>70.00</td>\n",
       "      <td>76.1</td>\n",
       "      <td>87.0</td>\n",
       "      <td>108.0</td>\n",
       "      <td>900.0</td>\n",
       "    </tr>\n",
       "  </tbody>\n",
       "</table>\n",
       "</div>"
      ],
      "text/plain": [
       "                   count        mean        std    min   25%   50%    75%  \\\n",
       "total_area_group                                                            \n",
       "1 кат             6042.0   33.910634   4.116621  12.00  31.1  34.0   37.0   \n",
       "2 кат             5913.0   45.609812   3.295669  40.08  43.0  45.0   48.0   \n",
       "3 кат             5823.0   60.058173   4.707743  52.03  56.0  60.0   63.8   \n",
       "4 кат             5921.0  102.331544  48.430263  70.00  76.1  87.0  108.0   \n",
       "\n",
       "                    max  \n",
       "total_area_group         \n",
       "1 кат              40.0  \n",
       "2 кат              52.0  \n",
       "3 кат              69.9  \n",
       "4 кат             900.0  "
      ]
     },
     "execution_count": 11,
     "metadata": {},
     "output_type": "execute_result"
    }
   ],
   "source": [
    "df.groupby('total_area_group')['total_area'].describe()"
   ]
  },
  {
   "cell_type": "markdown",
   "id": "b513c750",
   "metadata": {},
   "source": [
    "### Заполнение пропусков"
   ]
  },
  {
   "cell_type": "markdown",
   "id": "d4014385",
   "metadata": {},
   "source": [
    "**ceiling_height**    Тип данных 14504 non-null float64; Описание -   высота потолков (м) \n",
    "пропусков - 9195. пропуски означает нет данных от продавца или по тех. причинам."
   ]
  },
  {
   "cell_type": "markdown",
   "id": "c5294dfb",
   "metadata": {},
   "source": [
    "**is_apartment** булево это аппартаменты или нет. Там где указано это аппартаменты, где не указано обычные квартиры. Так как \n",
    "Обычно апартаментов меньше."
   ]
  },
  {
   "cell_type": "code",
   "execution_count": 12,
   "id": "de9d1043",
   "metadata": {},
   "outputs": [],
   "source": [
    "df['is_apartment'].fillna(False, inplace = True)"
   ]
  },
  {
   "cell_type": "markdown",
   "id": "fb75dcf9",
   "metadata": {},
   "source": [
    "**days_exposition** - описание - сколько дней было размещено объявление (от публикации до снятия)\n",
    "20518 non-null float64. Данные зависят от пользователя. Могли сразу снять объявление по разным причинам. Отказ от продажи, снятие для уточнение параметров и так далее."
   ]
  },
  {
   "cell_type": "code",
   "execution_count": 13,
   "id": "128bd763",
   "metadata": {},
   "outputs": [],
   "source": [
    "df.loc[df['days_exposition'].isna(), 'days_exposition'] = 0"
   ]
  },
  {
   "cell_type": "markdown",
   "id": "9d5770ff",
   "metadata": {},
   "source": [
    "**balcony** -  число балконов 12180 non-null float64  Пропущенные значения принимаем как нет балкона. **изменить тип**"
   ]
  },
  {
   "cell_type": "code",
   "execution_count": 14,
   "id": "f3b6ed72",
   "metadata": {},
   "outputs": [],
   "source": [
    "df['balcony'].fillna(0, inplace = True)"
   ]
  },
  {
   "cell_type": "markdown",
   "id": "dc5abf75",
   "metadata": {},
   "source": [
    "**locality_name** название населённого пункта 23650 non-null object. Ключевой показатель который влияет на цену. Должен быть обязательно заполнен продавцом. пропущенные строки - 49. По отношению ко всему фрейму незначительное количество можно удалить."
   ]
  },
  {
   "cell_type": "code",
   "execution_count": 15,
   "id": "e734e052",
   "metadata": {},
   "outputs": [],
   "source": [
    "df.dropna(subset = ['locality_name'], inplace = True)"
   ]
  },
  {
   "cell_type": "markdown",
   "id": "06e689b1",
   "metadata": {},
   "source": [
    "**floors_total**  - Описание всего этаже в доме. 23565 non-null float64; Всего 85 пропусков. Не значительное количество по отношению ко всему фрейму. Много пропусков в связанных показателей: ceiling_height - высота потолков."
   ]
  },
  {
   "cell_type": "code",
   "execution_count": 16,
   "id": "96d60d25",
   "metadata": {},
   "outputs": [
    {
     "data": {
      "text/plain": [
       "85"
      ]
     },
     "execution_count": 16,
     "metadata": {},
     "output_type": "execute_result"
    }
   ],
   "source": [
    "df['floors_total'].isnull().sum() "
   ]
  },
  {
   "cell_type": "code",
   "execution_count": 17,
   "id": "47b49fcd",
   "metadata": {},
   "outputs": [],
   "source": [
    "df.dropna(subset = ['floors_total'], inplace = True)"
   ]
  },
  {
   "cell_type": "markdown",
   "id": "cdcca4d6",
   "metadata": {},
   "source": [
    "**airports_nearest**  расстояние до ближайшего аэропорта в метрах (м) 18157 non-null float64 "
   ]
  },
  {
   "cell_type": "markdown",
   "id": "880e39de",
   "metadata": {},
   "source": [
    "Заполним пропуски медианой по области"
   ]
  },
  {
   "cell_type": "code",
   "execution_count": 18,
   "id": "d21831da",
   "metadata": {},
   "outputs": [],
   "source": [
    "df['oblast'] = df['locality_name'].where( df['locality_name'] == 'Санкт-Петербург', 'Область')\n",
    "#df['oblast'] = df['locality_name'].where( df['locality_name'] != 'Санкт-Петербург', 'Город')"
   ]
  },
  {
   "cell_type": "code",
   "execution_count": 19,
   "id": "1208228f",
   "metadata": {},
   "outputs": [
    {
     "data": {
      "text/html": [
       "<div>\n",
       "<style scoped>\n",
       "    .dataframe tbody tr th:only-of-type {\n",
       "        vertical-align: middle;\n",
       "    }\n",
       "\n",
       "    .dataframe tbody tr th {\n",
       "        vertical-align: top;\n",
       "    }\n",
       "\n",
       "    .dataframe thead th {\n",
       "        text-align: right;\n",
       "    }\n",
       "</style>\n",
       "<table border=\"1\" class=\"dataframe\">\n",
       "  <thead>\n",
       "    <tr style=\"text-align: right;\">\n",
       "      <th></th>\n",
       "      <th>total_images</th>\n",
       "      <th>last_price</th>\n",
       "      <th>total_area</th>\n",
       "      <th>first_day_exposition</th>\n",
       "      <th>rooms</th>\n",
       "      <th>ceiling_height</th>\n",
       "      <th>floors_total</th>\n",
       "      <th>living_area</th>\n",
       "      <th>floor</th>\n",
       "      <th>is_apartment</th>\n",
       "      <th>...</th>\n",
       "      <th>locality_name</th>\n",
       "      <th>airports_nearest</th>\n",
       "      <th>cityCenters_nearest</th>\n",
       "      <th>parks_around3000</th>\n",
       "      <th>parks_nearest</th>\n",
       "      <th>ponds_around3000</th>\n",
       "      <th>ponds_nearest</th>\n",
       "      <th>days_exposition</th>\n",
       "      <th>total_area_group</th>\n",
       "      <th>oblast</th>\n",
       "    </tr>\n",
       "  </thead>\n",
       "  <tbody>\n",
       "    <tr>\n",
       "      <th>0</th>\n",
       "      <td>20</td>\n",
       "      <td>13000000.0</td>\n",
       "      <td>108.0</td>\n",
       "      <td>2019-03-07T00:00:00</td>\n",
       "      <td>3</td>\n",
       "      <td>2.70</td>\n",
       "      <td>16.0</td>\n",
       "      <td>51.0</td>\n",
       "      <td>8</td>\n",
       "      <td>False</td>\n",
       "      <td>...</td>\n",
       "      <td>Санкт-Петербург</td>\n",
       "      <td>18863.0</td>\n",
       "      <td>16028.0</td>\n",
       "      <td>1.0</td>\n",
       "      <td>482.0</td>\n",
       "      <td>2.0</td>\n",
       "      <td>755.0</td>\n",
       "      <td>0.0</td>\n",
       "      <td>4 кат</td>\n",
       "      <td>Санкт-Петербург</td>\n",
       "    </tr>\n",
       "    <tr>\n",
       "      <th>1</th>\n",
       "      <td>7</td>\n",
       "      <td>3350000.0</td>\n",
       "      <td>40.4</td>\n",
       "      <td>2018-12-04T00:00:00</td>\n",
       "      <td>1</td>\n",
       "      <td>NaN</td>\n",
       "      <td>11.0</td>\n",
       "      <td>18.6</td>\n",
       "      <td>1</td>\n",
       "      <td>False</td>\n",
       "      <td>...</td>\n",
       "      <td>посёлок Шушары</td>\n",
       "      <td>12817.0</td>\n",
       "      <td>18603.0</td>\n",
       "      <td>0.0</td>\n",
       "      <td>NaN</td>\n",
       "      <td>0.0</td>\n",
       "      <td>NaN</td>\n",
       "      <td>81.0</td>\n",
       "      <td>2 кат</td>\n",
       "      <td>Область</td>\n",
       "    </tr>\n",
       "    <tr>\n",
       "      <th>2</th>\n",
       "      <td>10</td>\n",
       "      <td>5196000.0</td>\n",
       "      <td>56.0</td>\n",
       "      <td>2015-08-20T00:00:00</td>\n",
       "      <td>2</td>\n",
       "      <td>NaN</td>\n",
       "      <td>5.0</td>\n",
       "      <td>34.3</td>\n",
       "      <td>4</td>\n",
       "      <td>False</td>\n",
       "      <td>...</td>\n",
       "      <td>Санкт-Петербург</td>\n",
       "      <td>21741.0</td>\n",
       "      <td>13933.0</td>\n",
       "      <td>1.0</td>\n",
       "      <td>90.0</td>\n",
       "      <td>2.0</td>\n",
       "      <td>574.0</td>\n",
       "      <td>558.0</td>\n",
       "      <td>3 кат</td>\n",
       "      <td>Санкт-Петербург</td>\n",
       "    </tr>\n",
       "    <tr>\n",
       "      <th>3</th>\n",
       "      <td>0</td>\n",
       "      <td>64900000.0</td>\n",
       "      <td>159.0</td>\n",
       "      <td>2015-07-24T00:00:00</td>\n",
       "      <td>3</td>\n",
       "      <td>NaN</td>\n",
       "      <td>14.0</td>\n",
       "      <td>NaN</td>\n",
       "      <td>9</td>\n",
       "      <td>False</td>\n",
       "      <td>...</td>\n",
       "      <td>Санкт-Петербург</td>\n",
       "      <td>28098.0</td>\n",
       "      <td>6800.0</td>\n",
       "      <td>2.0</td>\n",
       "      <td>84.0</td>\n",
       "      <td>3.0</td>\n",
       "      <td>234.0</td>\n",
       "      <td>424.0</td>\n",
       "      <td>4 кат</td>\n",
       "      <td>Санкт-Петербург</td>\n",
       "    </tr>\n",
       "    <tr>\n",
       "      <th>4</th>\n",
       "      <td>2</td>\n",
       "      <td>10000000.0</td>\n",
       "      <td>100.0</td>\n",
       "      <td>2018-06-19T00:00:00</td>\n",
       "      <td>2</td>\n",
       "      <td>3.03</td>\n",
       "      <td>14.0</td>\n",
       "      <td>32.0</td>\n",
       "      <td>13</td>\n",
       "      <td>False</td>\n",
       "      <td>...</td>\n",
       "      <td>Санкт-Петербург</td>\n",
       "      <td>31856.0</td>\n",
       "      <td>8098.0</td>\n",
       "      <td>2.0</td>\n",
       "      <td>112.0</td>\n",
       "      <td>1.0</td>\n",
       "      <td>48.0</td>\n",
       "      <td>121.0</td>\n",
       "      <td>4 кат</td>\n",
       "      <td>Санкт-Петербург</td>\n",
       "    </tr>\n",
       "  </tbody>\n",
       "</table>\n",
       "<p>5 rows × 24 columns</p>\n",
       "</div>"
      ],
      "text/plain": [
       "   total_images  last_price  total_area first_day_exposition  rooms  \\\n",
       "0            20  13000000.0       108.0  2019-03-07T00:00:00      3   \n",
       "1             7   3350000.0        40.4  2018-12-04T00:00:00      1   \n",
       "2            10   5196000.0        56.0  2015-08-20T00:00:00      2   \n",
       "3             0  64900000.0       159.0  2015-07-24T00:00:00      3   \n",
       "4             2  10000000.0       100.0  2018-06-19T00:00:00      2   \n",
       "\n",
       "   ceiling_height  floors_total  living_area  floor  is_apartment  ...  \\\n",
       "0            2.70          16.0         51.0      8         False  ...   \n",
       "1             NaN          11.0         18.6      1         False  ...   \n",
       "2             NaN           5.0         34.3      4         False  ...   \n",
       "3             NaN          14.0          NaN      9         False  ...   \n",
       "4            3.03          14.0         32.0     13         False  ...   \n",
       "\n",
       "     locality_name  airports_nearest  cityCenters_nearest  parks_around3000  \\\n",
       "0  Санкт-Петербург           18863.0              16028.0               1.0   \n",
       "1   посёлок Шушары           12817.0              18603.0               0.0   \n",
       "2  Санкт-Петербург           21741.0              13933.0               1.0   \n",
       "3  Санкт-Петербург           28098.0               6800.0               2.0   \n",
       "4  Санкт-Петербург           31856.0               8098.0               2.0   \n",
       "\n",
       "  parks_nearest  ponds_around3000  ponds_nearest  days_exposition  \\\n",
       "0         482.0               2.0          755.0              0.0   \n",
       "1           NaN               0.0            NaN             81.0   \n",
       "2          90.0               2.0          574.0            558.0   \n",
       "3          84.0               3.0          234.0            424.0   \n",
       "4         112.0               1.0           48.0            121.0   \n",
       "\n",
       "   total_area_group           oblast  \n",
       "0             4 кат  Санкт-Петербург  \n",
       "1             2 кат          Область  \n",
       "2             3 кат  Санкт-Петербург  \n",
       "3             4 кат  Санкт-Петербург  \n",
       "4             4 кат  Санкт-Петербург  \n",
       "\n",
       "[5 rows x 24 columns]"
      ]
     },
     "execution_count": 19,
     "metadata": {},
     "output_type": "execute_result"
    }
   ],
   "source": [
    "df.head()"
   ]
  },
  {
   "cell_type": "code",
   "execution_count": 20,
   "id": "ef7fb60e",
   "metadata": {},
   "outputs": [],
   "source": [
    "df['airports_nearest'] = df['airports_nearest'].fillna(\n",
    "    (df.groupby('oblast')['airports_nearest'].transform('median')) \n",
    ")"
   ]
  },
  {
   "cell_type": "code",
   "execution_count": 21,
   "id": "644e083e",
   "metadata": {},
   "outputs": [
    {
     "data": {
      "text/plain": [
       "total_images                0\n",
       "last_price                  0\n",
       "total_area                  0\n",
       "first_day_exposition        0\n",
       "rooms                       0\n",
       "ceiling_height           9084\n",
       "floors_total                0\n",
       "living_area              1865\n",
       "floor                       0\n",
       "is_apartment                0\n",
       "studio                      0\n",
       "open_plan                   0\n",
       "kitchen_area             2222\n",
       "balcony                     0\n",
       "locality_name               0\n",
       "airports_nearest            0\n",
       "cityCenters_nearest      5501\n",
       "parks_around3000         5500\n",
       "parks_nearest           15535\n",
       "ponds_around3000         5500\n",
       "ponds_nearest           14529\n",
       "days_exposition             0\n",
       "total_area_group            0\n",
       "oblast                      0\n",
       "dtype: int64"
      ]
     },
     "execution_count": 21,
     "metadata": {},
     "output_type": "execute_result"
    }
   ],
   "source": [
    "df.isnull().sum()"
   ]
  },
  {
   "cell_type": "markdown",
   "id": "3fd7d090",
   "metadata": {},
   "source": [
    "**cityCenters_nearest**  - расстояние до центра города (м) 18180 non-null float64 "
   ]
  },
  {
   "cell_type": "markdown",
   "id": "34be5aae",
   "metadata": {},
   "source": [
    "**Заполнение пропусков kitchen_area**"
   ]
  },
  {
   "cell_type": "code",
   "execution_count": 22,
   "id": "45bf58e1",
   "metadata": {},
   "outputs": [
    {
     "data": {
      "text/plain": [
       "total_images                0\n",
       "last_price                  0\n",
       "total_area                  0\n",
       "first_day_exposition        0\n",
       "rooms                       0\n",
       "ceiling_height           9084\n",
       "floors_total                0\n",
       "living_area              1865\n",
       "floor                       0\n",
       "is_apartment                0\n",
       "studio                      0\n",
       "open_plan                   0\n",
       "kitchen_area             2222\n",
       "balcony                     0\n",
       "locality_name               0\n",
       "airports_nearest            0\n",
       "cityCenters_nearest      5501\n",
       "parks_around3000         5500\n",
       "parks_nearest           15535\n",
       "ponds_around3000         5500\n",
       "ponds_nearest           14529\n",
       "days_exposition             0\n",
       "total_area_group            0\n",
       "oblast                      0\n",
       "dtype: int64"
      ]
     },
     "execution_count": 22,
     "metadata": {},
     "output_type": "execute_result"
    }
   ],
   "source": [
    "df.isna().sum()"
   ]
  },
  {
   "cell_type": "markdown",
   "id": "a2468202",
   "metadata": {},
   "source": [
    "**Заполнение пропусков kitchen_area**  \n",
    "Заполняем в два этапа Первый раз с группировкой по двум признакам, второй раз после по одному признаку."
   ]
  },
  {
   "cell_type": "code",
   "execution_count": 23,
   "id": "85eaa145",
   "metadata": {},
   "outputs": [],
   "source": [
    "df['kitchen_area'] = df['kitchen_area'].fillna(\n",
    "    df.groupby(['total_area_group', 'rooms'])['kitchen_area'].transform('median') \n",
    ")"
   ]
  },
  {
   "cell_type": "code",
   "execution_count": 24,
   "id": "ec698669",
   "metadata": {},
   "outputs": [],
   "source": [
    "df['kitchen_area'] = df['kitchen_area'].fillna(\n",
    "    df.groupby(['total_area_group'])['kitchen_area'].transform('median') \n",
    ")"
   ]
  },
  {
   "cell_type": "markdown",
   "id": "0ed2126b",
   "metadata": {},
   "source": [
    "**Заполнение пропусков living_area**  \n",
    "Заполняем в два этапа Первый раз с группировкой по двум признакам, второй раз после по одному признаку."
   ]
  },
  {
   "cell_type": "code",
   "execution_count": 25,
   "id": "21956628",
   "metadata": {},
   "outputs": [],
   "source": [
    "\n",
    "df['living_area'] = df['living_area'].fillna(\n",
    "    df.groupby(['total_area_group', 'rooms'])['living_area'].transform('median') \n",
    ")"
   ]
  },
  {
   "cell_type": "code",
   "execution_count": 26,
   "id": "a7ddadf5",
   "metadata": {},
   "outputs": [],
   "source": [
    "df['living_area'] = df['living_area'].fillna(\n",
    "    df.groupby(['total_area_group'])['living_area'].transform('median') \n",
    ")"
   ]
  },
  {
   "cell_type": "code",
   "execution_count": 27,
   "id": "5eff9cc7",
   "metadata": {},
   "outputs": [
    {
     "data": {
      "text/plain": [
       "total_images                0\n",
       "last_price                  0\n",
       "total_area                  0\n",
       "first_day_exposition        0\n",
       "rooms                       0\n",
       "ceiling_height           9084\n",
       "floors_total                0\n",
       "living_area                 0\n",
       "floor                       0\n",
       "is_apartment                0\n",
       "studio                      0\n",
       "open_plan                   0\n",
       "kitchen_area                0\n",
       "balcony                     0\n",
       "locality_name               0\n",
       "airports_nearest            0\n",
       "cityCenters_nearest      5501\n",
       "parks_around3000         5500\n",
       "parks_nearest           15535\n",
       "ponds_around3000         5500\n",
       "ponds_nearest           14529\n",
       "days_exposition             0\n",
       "total_area_group            0\n",
       "oblast                      0\n",
       "dtype: int64"
      ]
     },
     "execution_count": 27,
     "metadata": {},
     "output_type": "execute_result"
    }
   ],
   "source": [
    "df.isna().sum()"
   ]
  },
  {
   "cell_type": "markdown",
   "id": "69b8f050",
   "metadata": {},
   "source": [
    "**Заполнение пропусков ceiling_height** "
   ]
  },
  {
   "cell_type": "code",
   "execution_count": 28,
   "id": "42e9929f",
   "metadata": {},
   "outputs": [],
   "source": [
    "df['ceiling_height'] = df['ceiling_height'].fillna(\n",
    "    df.groupby(['total_area_group', 'rooms'])['ceiling_height'].transform('median') \n",
    ")"
   ]
  },
  {
   "cell_type": "code",
   "execution_count": 29,
   "id": "9d465065",
   "metadata": {},
   "outputs": [],
   "source": [
    "df['ceiling_height'] = df['ceiling_height'].fillna(\n",
    "    df.groupby(['total_area_group'])['ceiling_height'].transform('median') \n",
    ")"
   ]
  },
  {
   "cell_type": "code",
   "execution_count": 30,
   "id": "d2ac6ea8",
   "metadata": {},
   "outputs": [
    {
     "data": {
      "text/plain": [
       "total_images                0\n",
       "last_price                  0\n",
       "total_area                  0\n",
       "first_day_exposition        0\n",
       "rooms                       0\n",
       "ceiling_height              0\n",
       "floors_total                0\n",
       "living_area                 0\n",
       "floor                       0\n",
       "is_apartment                0\n",
       "studio                      0\n",
       "open_plan                   0\n",
       "kitchen_area                0\n",
       "balcony                     0\n",
       "locality_name               0\n",
       "airports_nearest            0\n",
       "cityCenters_nearest      5501\n",
       "parks_around3000         5500\n",
       "parks_nearest           15535\n",
       "ponds_around3000         5500\n",
       "ponds_nearest           14529\n",
       "days_exposition             0\n",
       "total_area_group            0\n",
       "oblast                      0\n",
       "dtype: int64"
      ]
     },
     "execution_count": 30,
     "metadata": {},
     "output_type": "execute_result"
    }
   ],
   "source": [
    "df.isna().sum()"
   ]
  },
  {
   "cell_type": "markdown",
   "id": "ab4eb158",
   "metadata": {},
   "source": [
    "## Изменение типов данных"
   ]
  },
  {
   "cell_type": "code",
   "execution_count": 31,
   "id": "341c6958",
   "metadata": {},
   "outputs": [
    {
     "name": "stdout",
     "output_type": "stream",
     "text": [
      "<class 'pandas.core.frame.DataFrame'>\n",
      "Int64Index: 23565 entries, 0 to 23698\n",
      "Data columns (total 24 columns):\n",
      " #   Column                Non-Null Count  Dtype   \n",
      "---  ------                --------------  -----   \n",
      " 0   total_images          23565 non-null  int64   \n",
      " 1   last_price            23565 non-null  float64 \n",
      " 2   total_area            23565 non-null  float64 \n",
      " 3   first_day_exposition  23565 non-null  object  \n",
      " 4   rooms                 23565 non-null  int64   \n",
      " 5   ceiling_height        23565 non-null  float64 \n",
      " 6   floors_total          23565 non-null  float64 \n",
      " 7   living_area           23565 non-null  float64 \n",
      " 8   floor                 23565 non-null  int64   \n",
      " 9   is_apartment          23565 non-null  bool    \n",
      " 10  studio                23565 non-null  bool    \n",
      " 11  open_plan             23565 non-null  bool    \n",
      " 12  kitchen_area          23565 non-null  float64 \n",
      " 13  balcony               23565 non-null  float64 \n",
      " 14  locality_name         23565 non-null  object  \n",
      " 15  airports_nearest      23565 non-null  float64 \n",
      " 16  cityCenters_nearest   18064 non-null  float64 \n",
      " 17  parks_around3000      18065 non-null  float64 \n",
      " 18  parks_nearest         8030 non-null   float64 \n",
      " 19  ponds_around3000      18065 non-null  float64 \n",
      " 20  ponds_nearest         9036 non-null   float64 \n",
      " 21  days_exposition       23565 non-null  float64 \n",
      " 22  total_area_group      23565 non-null  category\n",
      " 23  oblast                23565 non-null  object  \n",
      "dtypes: bool(3), category(1), float64(14), int64(3), object(3)\n",
      "memory usage: 3.9+ MB\n"
     ]
    }
   ],
   "source": [
    "df.info()"
   ]
  },
  {
   "cell_type": "code",
   "execution_count": 32,
   "id": "8675afa2",
   "metadata": {},
   "outputs": [],
   "source": [
    "df1 = df.copy()"
   ]
  },
  {
   "cell_type": "markdown",
   "id": "78d39e6b",
   "metadata": {},
   "source": [
    "#### floors_total  living_area balcony\n",
    "Изменение типа данных \"количесвто этажей\" на целочисленное. Не может быть в доме 2.5 этажа. "
   ]
  },
  {
   "cell_type": "code",
   "execution_count": 33,
   "id": "565b9a54",
   "metadata": {},
   "outputs": [
    {
     "data": {
      "text/html": [
       "<div>\n",
       "<style scoped>\n",
       "    .dataframe tbody tr th:only-of-type {\n",
       "        vertical-align: middle;\n",
       "    }\n",
       "\n",
       "    .dataframe tbody tr th {\n",
       "        vertical-align: top;\n",
       "    }\n",
       "\n",
       "    .dataframe thead th {\n",
       "        text-align: right;\n",
       "    }\n",
       "</style>\n",
       "<table border=\"1\" class=\"dataframe\">\n",
       "  <thead>\n",
       "    <tr style=\"text-align: right;\">\n",
       "      <th></th>\n",
       "      <th>0</th>\n",
       "      <th>1</th>\n",
       "      <th>2</th>\n",
       "      <th>3</th>\n",
       "      <th>4</th>\n",
       "    </tr>\n",
       "  </thead>\n",
       "  <tbody>\n",
       "    <tr>\n",
       "      <th>total_images</th>\n",
       "      <td>20</td>\n",
       "      <td>7</td>\n",
       "      <td>10</td>\n",
       "      <td>0</td>\n",
       "      <td>2</td>\n",
       "    </tr>\n",
       "    <tr>\n",
       "      <th>last_price</th>\n",
       "      <td>13000000.0</td>\n",
       "      <td>3350000.0</td>\n",
       "      <td>5196000.0</td>\n",
       "      <td>64900000.0</td>\n",
       "      <td>10000000.0</td>\n",
       "    </tr>\n",
       "    <tr>\n",
       "      <th>total_area</th>\n",
       "      <td>108.0</td>\n",
       "      <td>40.4</td>\n",
       "      <td>56.0</td>\n",
       "      <td>159.0</td>\n",
       "      <td>100.0</td>\n",
       "    </tr>\n",
       "    <tr>\n",
       "      <th>first_day_exposition</th>\n",
       "      <td>2019-03-07T00:00:00</td>\n",
       "      <td>2018-12-04T00:00:00</td>\n",
       "      <td>2015-08-20T00:00:00</td>\n",
       "      <td>2015-07-24T00:00:00</td>\n",
       "      <td>2018-06-19T00:00:00</td>\n",
       "    </tr>\n",
       "    <tr>\n",
       "      <th>rooms</th>\n",
       "      <td>3</td>\n",
       "      <td>1</td>\n",
       "      <td>2</td>\n",
       "      <td>3</td>\n",
       "      <td>2</td>\n",
       "    </tr>\n",
       "    <tr>\n",
       "      <th>ceiling_height</th>\n",
       "      <td>2.7</td>\n",
       "      <td>2.72</td>\n",
       "      <td>2.7</td>\n",
       "      <td>2.78</td>\n",
       "      <td>3.03</td>\n",
       "    </tr>\n",
       "    <tr>\n",
       "      <th>floors_total</th>\n",
       "      <td>16.0</td>\n",
       "      <td>11.0</td>\n",
       "      <td>5.0</td>\n",
       "      <td>14.0</td>\n",
       "      <td>14.0</td>\n",
       "    </tr>\n",
       "    <tr>\n",
       "      <th>living_area</th>\n",
       "      <td>51.0</td>\n",
       "      <td>18.6</td>\n",
       "      <td>34.3</td>\n",
       "      <td>50.0</td>\n",
       "      <td>32.0</td>\n",
       "    </tr>\n",
       "    <tr>\n",
       "      <th>floor</th>\n",
       "      <td>8</td>\n",
       "      <td>1</td>\n",
       "      <td>4</td>\n",
       "      <td>9</td>\n",
       "      <td>13</td>\n",
       "    </tr>\n",
       "    <tr>\n",
       "      <th>is_apartment</th>\n",
       "      <td>False</td>\n",
       "      <td>False</td>\n",
       "      <td>False</td>\n",
       "      <td>False</td>\n",
       "      <td>False</td>\n",
       "    </tr>\n",
       "    <tr>\n",
       "      <th>studio</th>\n",
       "      <td>False</td>\n",
       "      <td>False</td>\n",
       "      <td>False</td>\n",
       "      <td>False</td>\n",
       "      <td>False</td>\n",
       "    </tr>\n",
       "    <tr>\n",
       "      <th>open_plan</th>\n",
       "      <td>False</td>\n",
       "      <td>False</td>\n",
       "      <td>False</td>\n",
       "      <td>False</td>\n",
       "      <td>False</td>\n",
       "    </tr>\n",
       "    <tr>\n",
       "      <th>kitchen_area</th>\n",
       "      <td>25.0</td>\n",
       "      <td>11.0</td>\n",
       "      <td>8.3</td>\n",
       "      <td>12.0</td>\n",
       "      <td>41.0</td>\n",
       "    </tr>\n",
       "    <tr>\n",
       "      <th>balcony</th>\n",
       "      <td>0.0</td>\n",
       "      <td>2.0</td>\n",
       "      <td>0.0</td>\n",
       "      <td>0.0</td>\n",
       "      <td>0.0</td>\n",
       "    </tr>\n",
       "    <tr>\n",
       "      <th>locality_name</th>\n",
       "      <td>Санкт-Петербург</td>\n",
       "      <td>посёлок Шушары</td>\n",
       "      <td>Санкт-Петербург</td>\n",
       "      <td>Санкт-Петербург</td>\n",
       "      <td>Санкт-Петербург</td>\n",
       "    </tr>\n",
       "    <tr>\n",
       "      <th>airports_nearest</th>\n",
       "      <td>18863.0</td>\n",
       "      <td>12817.0</td>\n",
       "      <td>21741.0</td>\n",
       "      <td>28098.0</td>\n",
       "      <td>31856.0</td>\n",
       "    </tr>\n",
       "    <tr>\n",
       "      <th>cityCenters_nearest</th>\n",
       "      <td>16028.0</td>\n",
       "      <td>18603.0</td>\n",
       "      <td>13933.0</td>\n",
       "      <td>6800.0</td>\n",
       "      <td>8098.0</td>\n",
       "    </tr>\n",
       "    <tr>\n",
       "      <th>parks_around3000</th>\n",
       "      <td>1.0</td>\n",
       "      <td>0.0</td>\n",
       "      <td>1.0</td>\n",
       "      <td>2.0</td>\n",
       "      <td>2.0</td>\n",
       "    </tr>\n",
       "    <tr>\n",
       "      <th>parks_nearest</th>\n",
       "      <td>482.0</td>\n",
       "      <td>NaN</td>\n",
       "      <td>90.0</td>\n",
       "      <td>84.0</td>\n",
       "      <td>112.0</td>\n",
       "    </tr>\n",
       "    <tr>\n",
       "      <th>ponds_around3000</th>\n",
       "      <td>2.0</td>\n",
       "      <td>0.0</td>\n",
       "      <td>2.0</td>\n",
       "      <td>3.0</td>\n",
       "      <td>1.0</td>\n",
       "    </tr>\n",
       "    <tr>\n",
       "      <th>ponds_nearest</th>\n",
       "      <td>755.0</td>\n",
       "      <td>NaN</td>\n",
       "      <td>574.0</td>\n",
       "      <td>234.0</td>\n",
       "      <td>48.0</td>\n",
       "    </tr>\n",
       "    <tr>\n",
       "      <th>days_exposition</th>\n",
       "      <td>0.0</td>\n",
       "      <td>81.0</td>\n",
       "      <td>558.0</td>\n",
       "      <td>424.0</td>\n",
       "      <td>121.0</td>\n",
       "    </tr>\n",
       "    <tr>\n",
       "      <th>total_area_group</th>\n",
       "      <td>4 кат</td>\n",
       "      <td>2 кат</td>\n",
       "      <td>3 кат</td>\n",
       "      <td>4 кат</td>\n",
       "      <td>4 кат</td>\n",
       "    </tr>\n",
       "    <tr>\n",
       "      <th>oblast</th>\n",
       "      <td>Санкт-Петербург</td>\n",
       "      <td>Область</td>\n",
       "      <td>Санкт-Петербург</td>\n",
       "      <td>Санкт-Петербург</td>\n",
       "      <td>Санкт-Петербург</td>\n",
       "    </tr>\n",
       "  </tbody>\n",
       "</table>\n",
       "</div>"
      ],
      "text/plain": [
       "                                        0                    1  \\\n",
       "total_images                           20                    7   \n",
       "last_price                     13000000.0            3350000.0   \n",
       "total_area                          108.0                 40.4   \n",
       "first_day_exposition  2019-03-07T00:00:00  2018-12-04T00:00:00   \n",
       "rooms                                   3                    1   \n",
       "ceiling_height                        2.7                 2.72   \n",
       "floors_total                         16.0                 11.0   \n",
       "living_area                          51.0                 18.6   \n",
       "floor                                   8                    1   \n",
       "is_apartment                        False                False   \n",
       "studio                              False                False   \n",
       "open_plan                           False                False   \n",
       "kitchen_area                         25.0                 11.0   \n",
       "balcony                               0.0                  2.0   \n",
       "locality_name             Санкт-Петербург       посёлок Шушары   \n",
       "airports_nearest                  18863.0              12817.0   \n",
       "cityCenters_nearest               16028.0              18603.0   \n",
       "parks_around3000                      1.0                  0.0   \n",
       "parks_nearest                       482.0                  NaN   \n",
       "ponds_around3000                      2.0                  0.0   \n",
       "ponds_nearest                       755.0                  NaN   \n",
       "days_exposition                       0.0                 81.0   \n",
       "total_area_group                    4 кат                2 кат   \n",
       "oblast                    Санкт-Петербург              Область   \n",
       "\n",
       "                                        2                    3  \\\n",
       "total_images                           10                    0   \n",
       "last_price                      5196000.0           64900000.0   \n",
       "total_area                           56.0                159.0   \n",
       "first_day_exposition  2015-08-20T00:00:00  2015-07-24T00:00:00   \n",
       "rooms                                   2                    3   \n",
       "ceiling_height                        2.7                 2.78   \n",
       "floors_total                          5.0                 14.0   \n",
       "living_area                          34.3                 50.0   \n",
       "floor                                   4                    9   \n",
       "is_apartment                        False                False   \n",
       "studio                              False                False   \n",
       "open_plan                           False                False   \n",
       "kitchen_area                          8.3                 12.0   \n",
       "balcony                               0.0                  0.0   \n",
       "locality_name             Санкт-Петербург      Санкт-Петербург   \n",
       "airports_nearest                  21741.0              28098.0   \n",
       "cityCenters_nearest               13933.0               6800.0   \n",
       "parks_around3000                      1.0                  2.0   \n",
       "parks_nearest                        90.0                 84.0   \n",
       "ponds_around3000                      2.0                  3.0   \n",
       "ponds_nearest                       574.0                234.0   \n",
       "days_exposition                     558.0                424.0   \n",
       "total_area_group                    3 кат                4 кат   \n",
       "oblast                    Санкт-Петербург      Санкт-Петербург   \n",
       "\n",
       "                                        4  \n",
       "total_images                            2  \n",
       "last_price                     10000000.0  \n",
       "total_area                          100.0  \n",
       "first_day_exposition  2018-06-19T00:00:00  \n",
       "rooms                                   2  \n",
       "ceiling_height                       3.03  \n",
       "floors_total                         14.0  \n",
       "living_area                          32.0  \n",
       "floor                                  13  \n",
       "is_apartment                        False  \n",
       "studio                              False  \n",
       "open_plan                           False  \n",
       "kitchen_area                         41.0  \n",
       "balcony                               0.0  \n",
       "locality_name             Санкт-Петербург  \n",
       "airports_nearest                  31856.0  \n",
       "cityCenters_nearest                8098.0  \n",
       "parks_around3000                      2.0  \n",
       "parks_nearest                       112.0  \n",
       "ponds_around3000                      1.0  \n",
       "ponds_nearest                        48.0  \n",
       "days_exposition                     121.0  \n",
       "total_area_group                    4 кат  \n",
       "oblast                    Санкт-Петербург  "
      ]
     },
     "execution_count": 33,
     "metadata": {},
     "output_type": "execute_result"
    }
   ],
   "source": [
    "df.head().T"
   ]
  },
  {
   "cell_type": "code",
   "execution_count": 34,
   "id": "f21da4dc",
   "metadata": {},
   "outputs": [],
   "source": [
    "df['floors_total'] = df['floors_total'].astype(int)\n",
    "df['last_price'] = df['last_price'].astype(int)\n",
    "df['balcony'] = df['balcony'].astype(int)"
   ]
  },
  {
   "cell_type": "markdown",
   "id": "e5715f9a",
   "metadata": {},
   "source": [
    "<div class=\"alert alert-info\">\n",
    "Заполнил пропуски. Скорее всего данные не заполнены, так как значения при выгрузке не найдены. Заполнил нулем.\n",
    "    Также изменил типы данных parks_around3000, ponds_around3000, days_exposition\n",
    "</div>    "
   ]
  },
  {
   "cell_type": "code",
   "execution_count": 35,
   "id": "1eacd9df",
   "metadata": {},
   "outputs": [],
   "source": [
    "df['parks_around3000'].fillna(0, inplace = True)\n",
    "df['ponds_around3000'].fillna(0, inplace = True)"
   ]
  },
  {
   "cell_type": "code",
   "execution_count": 36,
   "id": "2a7ed17e",
   "metadata": {},
   "outputs": [],
   "source": [
    "df['parks_around3000'] = df['parks_around3000'].astype(int)\n",
    "df['ponds_around3000'] = df['ponds_around3000'].astype(int)"
   ]
  },
  {
   "cell_type": "code",
   "execution_count": 37,
   "id": "c0b3ee06",
   "metadata": {},
   "outputs": [],
   "source": [
    "df['days_exposition'] = df['days_exposition'].astype(int)"
   ]
  },
  {
   "cell_type": "code",
   "execution_count": 38,
   "id": "808a0e62",
   "metadata": {},
   "outputs": [
    {
     "name": "stdout",
     "output_type": "stream",
     "text": [
      "<class 'pandas.core.frame.DataFrame'>\n",
      "Int64Index: 23565 entries, 0 to 23698\n",
      "Data columns (total 24 columns):\n",
      " #   Column                Non-Null Count  Dtype   \n",
      "---  ------                --------------  -----   \n",
      " 0   total_images          23565 non-null  int64   \n",
      " 1   last_price            23565 non-null  int32   \n",
      " 2   total_area            23565 non-null  float64 \n",
      " 3   first_day_exposition  23565 non-null  object  \n",
      " 4   rooms                 23565 non-null  int64   \n",
      " 5   ceiling_height        23565 non-null  float64 \n",
      " 6   floors_total          23565 non-null  int32   \n",
      " 7   living_area           23565 non-null  float64 \n",
      " 8   floor                 23565 non-null  int64   \n",
      " 9   is_apartment          23565 non-null  bool    \n",
      " 10  studio                23565 non-null  bool    \n",
      " 11  open_plan             23565 non-null  bool    \n",
      " 12  kitchen_area          23565 non-null  float64 \n",
      " 13  balcony               23565 non-null  int32   \n",
      " 14  locality_name         23565 non-null  object  \n",
      " 15  airports_nearest      23565 non-null  float64 \n",
      " 16  cityCenters_nearest   18064 non-null  float64 \n",
      " 17  parks_around3000      23565 non-null  int32   \n",
      " 18  parks_nearest         8030 non-null   float64 \n",
      " 19  ponds_around3000      23565 non-null  int32   \n",
      " 20  ponds_nearest         9036 non-null   float64 \n",
      " 21  days_exposition       23565 non-null  int32   \n",
      " 22  total_area_group      23565 non-null  category\n",
      " 23  oblast                23565 non-null  object  \n",
      "dtypes: bool(3), category(1), float64(8), int32(6), int64(3), object(3)\n",
      "memory usage: 3.3+ MB\n"
     ]
    }
   ],
   "source": [
    "df.info()"
   ]
  },
  {
   "cell_type": "markdown",
   "id": "2004edaa",
   "metadata": {},
   "source": [
    "### first_day_exposition  \n",
    "исходный тип данных строка - сконвертировать в дату"
   ]
  },
  {
   "cell_type": "code",
   "execution_count": 39,
   "id": "cde017ba",
   "metadata": {},
   "outputs": [],
   "source": [
    "#Рабочий \n",
    "df['first_day_exposition'] = pd.to_datetime(df['first_day_exposition'], format='%Y-%m-%dT%H:%M:%S')"
   ]
  },
  {
   "cell_type": "markdown",
   "id": "c15f0939",
   "metadata": {},
   "source": [
    "## Шаг 3. Подсчёт и добавление данных в таблицу"
   ]
  },
  {
   "cell_type": "markdown",
   "id": "d9053850",
   "metadata": {},
   "source": [
    "Категория или свойства этажа - первый последний или другой"
   ]
  },
  {
   "cell_type": "code",
   "execution_count": 40,
   "id": "d266ad67",
   "metadata": {},
   "outputs": [],
   "source": [
    "def type_floor(row):\n",
    "    floor = row['floor']\n",
    "    if floor == 1:\n",
    "        return 'Первый'\n",
    "    elif floor == row['floors_total']:\n",
    "        return 'Последний'\n",
    "    return 'Другой' "
   ]
  },
  {
   "cell_type": "code",
   "execution_count": 41,
   "id": "23e5e758",
   "metadata": {},
   "outputs": [],
   "source": [
    "df['type_floor'] = df.apply(type_floor, axis = 1)"
   ]
  },
  {
   "cell_type": "code",
   "execution_count": 42,
   "id": "12d48267",
   "metadata": {},
   "outputs": [
    {
     "data": {
      "text/html": [
       "<div>\n",
       "<style scoped>\n",
       "    .dataframe tbody tr th:only-of-type {\n",
       "        vertical-align: middle;\n",
       "    }\n",
       "\n",
       "    .dataframe tbody tr th {\n",
       "        vertical-align: top;\n",
       "    }\n",
       "\n",
       "    .dataframe thead th {\n",
       "        text-align: right;\n",
       "    }\n",
       "</style>\n",
       "<table border=\"1\" class=\"dataframe\">\n",
       "  <thead>\n",
       "    <tr style=\"text-align: right;\">\n",
       "      <th></th>\n",
       "      <th>total_images</th>\n",
       "      <th>last_price</th>\n",
       "      <th>total_area</th>\n",
       "      <th>first_day_exposition</th>\n",
       "      <th>rooms</th>\n",
       "      <th>ceiling_height</th>\n",
       "      <th>floors_total</th>\n",
       "      <th>living_area</th>\n",
       "      <th>floor</th>\n",
       "      <th>is_apartment</th>\n",
       "      <th>...</th>\n",
       "      <th>airports_nearest</th>\n",
       "      <th>cityCenters_nearest</th>\n",
       "      <th>parks_around3000</th>\n",
       "      <th>parks_nearest</th>\n",
       "      <th>ponds_around3000</th>\n",
       "      <th>ponds_nearest</th>\n",
       "      <th>days_exposition</th>\n",
       "      <th>total_area_group</th>\n",
       "      <th>oblast</th>\n",
       "      <th>type_floor</th>\n",
       "    </tr>\n",
       "  </thead>\n",
       "  <tbody>\n",
       "    <tr>\n",
       "      <th>0</th>\n",
       "      <td>20</td>\n",
       "      <td>13000000</td>\n",
       "      <td>108.0</td>\n",
       "      <td>2019-03-07</td>\n",
       "      <td>3</td>\n",
       "      <td>2.70</td>\n",
       "      <td>16</td>\n",
       "      <td>51.0</td>\n",
       "      <td>8</td>\n",
       "      <td>False</td>\n",
       "      <td>...</td>\n",
       "      <td>18863.0</td>\n",
       "      <td>16028.0</td>\n",
       "      <td>1</td>\n",
       "      <td>482.0</td>\n",
       "      <td>2</td>\n",
       "      <td>755.0</td>\n",
       "      <td>0</td>\n",
       "      <td>4 кат</td>\n",
       "      <td>Санкт-Петербург</td>\n",
       "      <td>Другой</td>\n",
       "    </tr>\n",
       "    <tr>\n",
       "      <th>1</th>\n",
       "      <td>7</td>\n",
       "      <td>3350000</td>\n",
       "      <td>40.4</td>\n",
       "      <td>2018-12-04</td>\n",
       "      <td>1</td>\n",
       "      <td>2.72</td>\n",
       "      <td>11</td>\n",
       "      <td>18.6</td>\n",
       "      <td>1</td>\n",
       "      <td>False</td>\n",
       "      <td>...</td>\n",
       "      <td>12817.0</td>\n",
       "      <td>18603.0</td>\n",
       "      <td>0</td>\n",
       "      <td>NaN</td>\n",
       "      <td>0</td>\n",
       "      <td>NaN</td>\n",
       "      <td>81</td>\n",
       "      <td>2 кат</td>\n",
       "      <td>Область</td>\n",
       "      <td>Первый</td>\n",
       "    </tr>\n",
       "    <tr>\n",
       "      <th>2</th>\n",
       "      <td>10</td>\n",
       "      <td>5196000</td>\n",
       "      <td>56.0</td>\n",
       "      <td>2015-08-20</td>\n",
       "      <td>2</td>\n",
       "      <td>2.70</td>\n",
       "      <td>5</td>\n",
       "      <td>34.3</td>\n",
       "      <td>4</td>\n",
       "      <td>False</td>\n",
       "      <td>...</td>\n",
       "      <td>21741.0</td>\n",
       "      <td>13933.0</td>\n",
       "      <td>1</td>\n",
       "      <td>90.0</td>\n",
       "      <td>2</td>\n",
       "      <td>574.0</td>\n",
       "      <td>558</td>\n",
       "      <td>3 кат</td>\n",
       "      <td>Санкт-Петербург</td>\n",
       "      <td>Другой</td>\n",
       "    </tr>\n",
       "    <tr>\n",
       "      <th>3</th>\n",
       "      <td>0</td>\n",
       "      <td>64900000</td>\n",
       "      <td>159.0</td>\n",
       "      <td>2015-07-24</td>\n",
       "      <td>3</td>\n",
       "      <td>2.78</td>\n",
       "      <td>14</td>\n",
       "      <td>50.0</td>\n",
       "      <td>9</td>\n",
       "      <td>False</td>\n",
       "      <td>...</td>\n",
       "      <td>28098.0</td>\n",
       "      <td>6800.0</td>\n",
       "      <td>2</td>\n",
       "      <td>84.0</td>\n",
       "      <td>3</td>\n",
       "      <td>234.0</td>\n",
       "      <td>424</td>\n",
       "      <td>4 кат</td>\n",
       "      <td>Санкт-Петербург</td>\n",
       "      <td>Другой</td>\n",
       "    </tr>\n",
       "    <tr>\n",
       "      <th>4</th>\n",
       "      <td>2</td>\n",
       "      <td>10000000</td>\n",
       "      <td>100.0</td>\n",
       "      <td>2018-06-19</td>\n",
       "      <td>2</td>\n",
       "      <td>3.03</td>\n",
       "      <td>14</td>\n",
       "      <td>32.0</td>\n",
       "      <td>13</td>\n",
       "      <td>False</td>\n",
       "      <td>...</td>\n",
       "      <td>31856.0</td>\n",
       "      <td>8098.0</td>\n",
       "      <td>2</td>\n",
       "      <td>112.0</td>\n",
       "      <td>1</td>\n",
       "      <td>48.0</td>\n",
       "      <td>121</td>\n",
       "      <td>4 кат</td>\n",
       "      <td>Санкт-Петербург</td>\n",
       "      <td>Другой</td>\n",
       "    </tr>\n",
       "  </tbody>\n",
       "</table>\n",
       "<p>5 rows × 25 columns</p>\n",
       "</div>"
      ],
      "text/plain": [
       "   total_images  last_price  total_area first_day_exposition  rooms  \\\n",
       "0            20    13000000       108.0           2019-03-07      3   \n",
       "1             7     3350000        40.4           2018-12-04      1   \n",
       "2            10     5196000        56.0           2015-08-20      2   \n",
       "3             0    64900000       159.0           2015-07-24      3   \n",
       "4             2    10000000       100.0           2018-06-19      2   \n",
       "\n",
       "   ceiling_height  floors_total  living_area  floor  is_apartment  ...  \\\n",
       "0            2.70            16         51.0      8         False  ...   \n",
       "1            2.72            11         18.6      1         False  ...   \n",
       "2            2.70             5         34.3      4         False  ...   \n",
       "3            2.78            14         50.0      9         False  ...   \n",
       "4            3.03            14         32.0     13         False  ...   \n",
       "\n",
       "   airports_nearest  cityCenters_nearest  parks_around3000  parks_nearest  \\\n",
       "0           18863.0              16028.0                 1          482.0   \n",
       "1           12817.0              18603.0                 0            NaN   \n",
       "2           21741.0              13933.0                 1           90.0   \n",
       "3           28098.0               6800.0                 2           84.0   \n",
       "4           31856.0               8098.0                 2          112.0   \n",
       "\n",
       "  ponds_around3000  ponds_nearest  days_exposition  total_area_group  \\\n",
       "0                2          755.0                0             4 кат   \n",
       "1                0            NaN               81             2 кат   \n",
       "2                2          574.0              558             3 кат   \n",
       "3                3          234.0              424             4 кат   \n",
       "4                1           48.0              121             4 кат   \n",
       "\n",
       "            oblast  type_floor  \n",
       "0  Санкт-Петербург      Другой  \n",
       "1          Область      Первый  \n",
       "2  Санкт-Петербург      Другой  \n",
       "3  Санкт-Петербург      Другой  \n",
       "4  Санкт-Петербург      Другой  \n",
       "\n",
       "[5 rows x 25 columns]"
      ]
     },
     "execution_count": 42,
     "metadata": {},
     "output_type": "execute_result"
    }
   ],
   "source": [
    "df.head()"
   ]
  },
  {
   "cell_type": "markdown",
   "id": "ada4e36a",
   "metadata": {},
   "source": [
    "**Выделяем из даты значения день недели, месяц, год**"
   ]
  },
  {
   "cell_type": "code",
   "execution_count": 43,
   "id": "5a0f152e",
   "metadata": {},
   "outputs": [],
   "source": [
    "#Рабочий код\n",
    "df['day_week'] = df['first_day_exposition'].dt.weekday\n",
    "df['month'] = df['first_day_exposition'].dt.month\n",
    "df['year'] = df['first_day_exposition'].dt.year"
   ]
  },
  {
   "cell_type": "markdown",
   "id": "c57e9787",
   "metadata": {},
   "source": [
    "***Цена за квадратный метр***"
   ]
  },
  {
   "cell_type": "code",
   "execution_count": 44,
   "id": "4baaa4a2",
   "metadata": {},
   "outputs": [],
   "source": [
    "df['price_m2'] = df['last_price'] / df['total_area']  "
   ]
  },
  {
   "cell_type": "markdown",
   "id": "9381259d",
   "metadata": {},
   "source": [
    "**Соотношение жилой площади и общей площади**"
   ]
  },
  {
   "cell_type": "code",
   "execution_count": 45,
   "id": "5be5abdc",
   "metadata": {},
   "outputs": [],
   "source": [
    "df['% living'] = df['living_area'] / df['total_area']  "
   ]
  },
  {
   "cell_type": "markdown",
   "id": "6c99f455",
   "metadata": {},
   "source": [
    "Соотношение кухни к общей площади"
   ]
  },
  {
   "cell_type": "code",
   "execution_count": 46,
   "id": "26b12d87",
   "metadata": {},
   "outputs": [],
   "source": [
    "df['% kitchen'] = df['kitchen_area'] / df['total_area']  "
   ]
  },
  {
   "cell_type": "code",
   "execution_count": 48,
   "id": "a75a5fd6",
   "metadata": {},
   "outputs": [
    {
     "data": {
      "text/html": [
       "<div>\n",
       "<style scoped>\n",
       "    .dataframe tbody tr th:only-of-type {\n",
       "        vertical-align: middle;\n",
       "    }\n",
       "\n",
       "    .dataframe tbody tr th {\n",
       "        vertical-align: top;\n",
       "    }\n",
       "\n",
       "    .dataframe thead th {\n",
       "        text-align: right;\n",
       "    }\n",
       "</style>\n",
       "<table border=\"1\" class=\"dataframe\">\n",
       "  <thead>\n",
       "    <tr style=\"text-align: right;\">\n",
       "      <th></th>\n",
       "      <th>total_images</th>\n",
       "      <th>last_price</th>\n",
       "      <th>total_area</th>\n",
       "      <th>first_day_exposition</th>\n",
       "      <th>rooms</th>\n",
       "      <th>ceiling_height</th>\n",
       "      <th>floors_total</th>\n",
       "      <th>living_area</th>\n",
       "      <th>floor</th>\n",
       "      <th>is_apartment</th>\n",
       "      <th>...</th>\n",
       "      <th>days_exposition</th>\n",
       "      <th>total_area_group</th>\n",
       "      <th>oblast</th>\n",
       "      <th>type_floor</th>\n",
       "      <th>day_week</th>\n",
       "      <th>month</th>\n",
       "      <th>year</th>\n",
       "      <th>price_m2</th>\n",
       "      <th>% living</th>\n",
       "      <th>% kitchen</th>\n",
       "    </tr>\n",
       "  </thead>\n",
       "  <tbody>\n",
       "    <tr>\n",
       "      <th>0</th>\n",
       "      <td>20</td>\n",
       "      <td>13000000</td>\n",
       "      <td>108.0</td>\n",
       "      <td>2019-03-07</td>\n",
       "      <td>3</td>\n",
       "      <td>2.70</td>\n",
       "      <td>16</td>\n",
       "      <td>51.0</td>\n",
       "      <td>8</td>\n",
       "      <td>False</td>\n",
       "      <td>...</td>\n",
       "      <td>0</td>\n",
       "      <td>4 кат</td>\n",
       "      <td>Санкт-Петербург</td>\n",
       "      <td>Другой</td>\n",
       "      <td>3</td>\n",
       "      <td>3</td>\n",
       "      <td>2019</td>\n",
       "      <td>120370.370370</td>\n",
       "      <td>0.472222</td>\n",
       "      <td>0.231481</td>\n",
       "    </tr>\n",
       "    <tr>\n",
       "      <th>1</th>\n",
       "      <td>7</td>\n",
       "      <td>3350000</td>\n",
       "      <td>40.4</td>\n",
       "      <td>2018-12-04</td>\n",
       "      <td>1</td>\n",
       "      <td>2.72</td>\n",
       "      <td>11</td>\n",
       "      <td>18.6</td>\n",
       "      <td>1</td>\n",
       "      <td>False</td>\n",
       "      <td>...</td>\n",
       "      <td>81</td>\n",
       "      <td>2 кат</td>\n",
       "      <td>Область</td>\n",
       "      <td>Первый</td>\n",
       "      <td>1</td>\n",
       "      <td>12</td>\n",
       "      <td>2018</td>\n",
       "      <td>82920.792079</td>\n",
       "      <td>0.460396</td>\n",
       "      <td>0.272277</td>\n",
       "    </tr>\n",
       "    <tr>\n",
       "      <th>2</th>\n",
       "      <td>10</td>\n",
       "      <td>5196000</td>\n",
       "      <td>56.0</td>\n",
       "      <td>2015-08-20</td>\n",
       "      <td>2</td>\n",
       "      <td>2.70</td>\n",
       "      <td>5</td>\n",
       "      <td>34.3</td>\n",
       "      <td>4</td>\n",
       "      <td>False</td>\n",
       "      <td>...</td>\n",
       "      <td>558</td>\n",
       "      <td>3 кат</td>\n",
       "      <td>Санкт-Петербург</td>\n",
       "      <td>Другой</td>\n",
       "      <td>3</td>\n",
       "      <td>8</td>\n",
       "      <td>2015</td>\n",
       "      <td>92785.714286</td>\n",
       "      <td>0.612500</td>\n",
       "      <td>0.148214</td>\n",
       "    </tr>\n",
       "    <tr>\n",
       "      <th>3</th>\n",
       "      <td>0</td>\n",
       "      <td>64900000</td>\n",
       "      <td>159.0</td>\n",
       "      <td>2015-07-24</td>\n",
       "      <td>3</td>\n",
       "      <td>2.78</td>\n",
       "      <td>14</td>\n",
       "      <td>50.0</td>\n",
       "      <td>9</td>\n",
       "      <td>False</td>\n",
       "      <td>...</td>\n",
       "      <td>424</td>\n",
       "      <td>4 кат</td>\n",
       "      <td>Санкт-Петербург</td>\n",
       "      <td>Другой</td>\n",
       "      <td>4</td>\n",
       "      <td>7</td>\n",
       "      <td>2015</td>\n",
       "      <td>408176.100629</td>\n",
       "      <td>0.314465</td>\n",
       "      <td>0.075472</td>\n",
       "    </tr>\n",
       "    <tr>\n",
       "      <th>4</th>\n",
       "      <td>2</td>\n",
       "      <td>10000000</td>\n",
       "      <td>100.0</td>\n",
       "      <td>2018-06-19</td>\n",
       "      <td>2</td>\n",
       "      <td>3.03</td>\n",
       "      <td>14</td>\n",
       "      <td>32.0</td>\n",
       "      <td>13</td>\n",
       "      <td>False</td>\n",
       "      <td>...</td>\n",
       "      <td>121</td>\n",
       "      <td>4 кат</td>\n",
       "      <td>Санкт-Петербург</td>\n",
       "      <td>Другой</td>\n",
       "      <td>1</td>\n",
       "      <td>6</td>\n",
       "      <td>2018</td>\n",
       "      <td>100000.000000</td>\n",
       "      <td>0.320000</td>\n",
       "      <td>0.410000</td>\n",
       "    </tr>\n",
       "  </tbody>\n",
       "</table>\n",
       "<p>5 rows × 31 columns</p>\n",
       "</div>"
      ],
      "text/plain": [
       "   total_images  last_price  total_area first_day_exposition  rooms  \\\n",
       "0            20    13000000       108.0           2019-03-07      3   \n",
       "1             7     3350000        40.4           2018-12-04      1   \n",
       "2            10     5196000        56.0           2015-08-20      2   \n",
       "3             0    64900000       159.0           2015-07-24      3   \n",
       "4             2    10000000       100.0           2018-06-19      2   \n",
       "\n",
       "   ceiling_height  floors_total  living_area  floor  is_apartment  ...  \\\n",
       "0            2.70            16         51.0      8         False  ...   \n",
       "1            2.72            11         18.6      1         False  ...   \n",
       "2            2.70             5         34.3      4         False  ...   \n",
       "3            2.78            14         50.0      9         False  ...   \n",
       "4            3.03            14         32.0     13         False  ...   \n",
       "\n",
       "   days_exposition  total_area_group           oblast  type_floor day_week  \\\n",
       "0                0             4 кат  Санкт-Петербург      Другой        3   \n",
       "1               81             2 кат          Область      Первый        1   \n",
       "2              558             3 кат  Санкт-Петербург      Другой        3   \n",
       "3              424             4 кат  Санкт-Петербург      Другой        4   \n",
       "4              121             4 кат  Санкт-Петербург      Другой        1   \n",
       "\n",
       "   month  year       price_m2  % living  % kitchen  \n",
       "0      3  2019  120370.370370  0.472222   0.231481  \n",
       "1     12  2018   82920.792079  0.460396   0.272277  \n",
       "2      8  2015   92785.714286  0.612500   0.148214  \n",
       "3      7  2015  408176.100629  0.314465   0.075472  \n",
       "4      6  2018  100000.000000  0.320000   0.410000  \n",
       "\n",
       "[5 rows x 31 columns]"
      ]
     },
     "execution_count": 48,
     "metadata": {},
     "output_type": "execute_result"
    }
   ],
   "source": [
    "df.head()"
   ]
  },
  {
   "cell_type": "markdown",
   "id": "181e6607",
   "metadata": {},
   "source": [
    "# Шаг4. Анализ данных. Графики"
   ]
  },
  {
   "cell_type": "markdown",
   "id": "4f895b24",
   "metadata": {},
   "source": [
    "Гистограммы площади"
   ]
  },
  {
   "cell_type": "code",
   "execution_count": 49,
   "id": "2bd5f0d4",
   "metadata": {},
   "outputs": [
    {
     "data": {
      "image/png": "[encoded data removed]",
      "text/plain": [
       "<Figure size 432x288 with 1 Axes>"
      ]
     },
     "metadata": {
      "needs_background": "light"
     },
     "output_type": "display_data"
    }
   ],
   "source": [
    "df['total_area'].hist(bins=35, range=[0,350])\n",
    "plt.title('Гистограмма площади')\n",
    "plt.xlabel('Площадь')\n",
    "plt.show()"
   ]
  },
  {
   "cell_type": "code",
   "execution_count": 50,
   "id": "8095ed69",
   "metadata": {},
   "outputs": [
    {
     "data": {
      "image/png": "[encoded data removed]",
      "text/plain": [
       "<Figure size 432x288 with 1 Axes>"
      ]
     },
     "metadata": {
      "needs_background": "light"
     },
     "output_type": "display_data"
    }
   ],
   "source": [
    "df['total_area'].plot.hist(bins=30, range=[0,350], )\n",
    "plt.title('Гистограмма площади')\n",
    "plt.xlabel('Площадь')\n",
    "plt.show()"
   ]
  },
  {
   "cell_type": "code",
   "execution_count": 51,
   "id": "bc5903bd",
   "metadata": {},
   "outputs": [
    {
     "data": {
      "text/plain": [
       "197.4520000000004"
      ]
     },
     "execution_count": 51,
     "metadata": {},
     "output_type": "execute_result"
    }
   ],
   "source": [
    "df['total_area'].quantile(0.99) # 99%"
   ]
  },
  {
   "cell_type": "markdown",
   "id": "a325d65a",
   "metadata": {},
   "source": [
    "Общая площадь "
   ]
  },
  {
   "cell_type": "code",
   "execution_count": 52,
   "id": "f2c69c84",
   "metadata": {},
   "outputs": [
    {
     "data": {
      "text/html": [
       "<style type=\"text/css\">\n",
       "</style>\n",
       "<table id=\"T_34aec_\">\n",
       "  <thead>\n",
       "    <tr>\n",
       "      <th class=\"blank level0\" >&nbsp;</th>\n",
       "      <th class=\"col_heading level0 col0\" >total_area</th>\n",
       "    </tr>\n",
       "  </thead>\n",
       "  <tbody>\n",
       "    <tr>\n",
       "      <th id=\"T_34aec_level0_row0\" class=\"row_heading level0 row0\" >count</th>\n",
       "      <td id=\"T_34aec_row0_col0\" class=\"data row0 col0\" >23565.0</td>\n",
       "    </tr>\n",
       "    <tr>\n",
       "      <th id=\"T_34aec_level0_row1\" class=\"row_heading level0 row1\" >mean</th>\n",
       "      <td id=\"T_34aec_row1_col0\" class=\"data row1 col0\" >60.3</td>\n",
       "    </tr>\n",
       "    <tr>\n",
       "      <th id=\"T_34aec_level0_row2\" class=\"row_heading level0 row2\" >std</th>\n",
       "      <td id=\"T_34aec_row2_col0\" class=\"data row2 col0\" >35.7</td>\n",
       "    </tr>\n",
       "    <tr>\n",
       "      <th id=\"T_34aec_level0_row3\" class=\"row_heading level0 row3\" >min</th>\n",
       "      <td id=\"T_34aec_row3_col0\" class=\"data row3 col0\" >12.0</td>\n",
       "    </tr>\n",
       "    <tr>\n",
       "      <th id=\"T_34aec_level0_row4\" class=\"row_heading level0 row4\" >25%</th>\n",
       "      <td id=\"T_34aec_row4_col0\" class=\"data row4 col0\" >40.0</td>\n",
       "    </tr>\n",
       "    <tr>\n",
       "      <th id=\"T_34aec_level0_row5\" class=\"row_heading level0 row5\" >50%</th>\n",
       "      <td id=\"T_34aec_row5_col0\" class=\"data row5 col0\" >52.0</td>\n",
       "    </tr>\n",
       "    <tr>\n",
       "      <th id=\"T_34aec_level0_row6\" class=\"row_heading level0 row6\" >75%</th>\n",
       "      <td id=\"T_34aec_row6_col0\" class=\"data row6 col0\" >69.7</td>\n",
       "    </tr>\n",
       "    <tr>\n",
       "      <th id=\"T_34aec_level0_row7\" class=\"row_heading level0 row7\" >max</th>\n",
       "      <td id=\"T_34aec_row7_col0\" class=\"data row7 col0\" >900.0</td>\n",
       "    </tr>\n",
       "  </tbody>\n",
       "</table>\n"
      ],
      "text/plain": [
       "<pandas.io.formats.style.Styler at 0x2136c9f2c10>"
      ]
     },
     "execution_count": 52,
     "metadata": {},
     "output_type": "execute_result"
    }
   ],
   "source": [
    "df[['total_area']].describe().style.format({'total_area': '{:.1f}'})"
   ]
  },
  {
   "cell_type": "code",
   "execution_count": 53,
   "id": "dcb39417",
   "metadata": {},
   "outputs": [
    {
     "data": {
      "image/png": "[encoded data removed]",
      "text/plain": [
       "<Figure size 432x288 with 1 Axes>"
      ]
     },
     "metadata": {
      "needs_background": "light"
     },
     "output_type": "display_data"
    }
   ],
   "source": [
    "#Гистограмма\n",
    "ax = plt.axes()\n",
    "ax.set_title('Общая площадь') #подписали график\n",
    "ax.grid() #сделали сетку на осях\n",
    "plt.Figure(figsize=(15,30)) #задали размер графика\n",
    "plt.hist(df['total_area'], bins=40, range=[0,200])\n",
    "plt.show()"
   ]
  },
  {
   "cell_type": "code",
   "execution_count": 54,
   "id": "e6c7dc04",
   "metadata": {},
   "outputs": [
    {
     "data": {
      "image/png": "[encoded data removed]",
      "text/plain": [
       "<Figure size 432x288 with 1 Axes>"
      ]
     },
     "metadata": {
      "needs_background": "light"
     },
     "output_type": "display_data"
    }
   ],
   "source": [
    "plt.boxplot(df['total_area'])\n",
    "plt.title('Общая площадь')\n",
    "#df['last_price'].boxplot()\n",
    "plt.ylim(0, 200)\n",
    "plt.show()"
   ]
  },
  {
   "cell_type": "code",
   "execution_count": 55,
   "id": "316517ab",
   "metadata": {},
   "outputs": [],
   "source": [
    "df1 = df.loc[df['total_area'] <= 197]"
   ]
  },
  {
   "cell_type": "code",
   "execution_count": 56,
   "id": "4641c44a",
   "metadata": {},
   "outputs": [
    {
     "data": {
      "text/plain": [
       "197.4520000000004"
      ]
     },
     "execution_count": 56,
     "metadata": {},
     "output_type": "execute_result"
    }
   ],
   "source": [
    "df['total_area'].quantile(0.99) # 99%"
   ]
  },
  {
   "cell_type": "code",
   "execution_count": 57,
   "id": "7575cf53",
   "metadata": {},
   "outputs": [
    {
     "data": {
      "image/png": "[encoded data removed]",
      "text/plain": [
       "<Figure size 432x288 with 1 Axes>"
      ]
     },
     "metadata": {
      "needs_background": "light"
     },
     "output_type": "display_data"
    }
   ],
   "source": [
    "#Гистограмма\n",
    "ax = plt.axes()\n",
    "ax.set_title('Общая площадь') #подписали график\n",
    "ax.grid() #сделали сетку на осях\n",
    "plt.Figure(figsize=(15,30)) #задали размер графика\n",
    "plt.hist((df1['total_area']), bins=100, range=[5,200])\n",
    "plt.show()"
   ]
  },
  {
   "cell_type": "markdown",
   "id": "a730c4bd",
   "metadata": {},
   "source": [
    "Жилая площадь "
   ]
  },
  {
   "cell_type": "code",
   "execution_count": 58,
   "id": "01957095",
   "metadata": {},
   "outputs": [
    {
     "data": {
      "text/html": [
       "<style type=\"text/css\">\n",
       "</style>\n",
       "<table id=\"T_30386_\">\n",
       "  <thead>\n",
       "    <tr>\n",
       "      <th class=\"blank level0\" >&nbsp;</th>\n",
       "      <th class=\"col_heading level0 col0\" >living_area</th>\n",
       "    </tr>\n",
       "  </thead>\n",
       "  <tbody>\n",
       "    <tr>\n",
       "      <th id=\"T_30386_level0_row0\" class=\"row_heading level0 row0\" >count</th>\n",
       "      <td id=\"T_30386_row0_col0\" class=\"data row0 col0\" >23565.0</td>\n",
       "    </tr>\n",
       "    <tr>\n",
       "      <th id=\"T_30386_level0_row1\" class=\"row_heading level0 row1\" >mean</th>\n",
       "      <td id=\"T_30386_row1_col0\" class=\"data row1 col0\" >34.4</td>\n",
       "    </tr>\n",
       "    <tr>\n",
       "      <th id=\"T_30386_level0_row2\" class=\"row_heading level0 row2\" >std</th>\n",
       "      <td id=\"T_30386_row2_col0\" class=\"data row2 col0\" >21.8</td>\n",
       "    </tr>\n",
       "    <tr>\n",
       "      <th id=\"T_30386_level0_row3\" class=\"row_heading level0 row3\" >min</th>\n",
       "      <td id=\"T_30386_row3_col0\" class=\"data row3 col0\" >2.0</td>\n",
       "    </tr>\n",
       "    <tr>\n",
       "      <th id=\"T_30386_level0_row4\" class=\"row_heading level0 row4\" >25%</th>\n",
       "      <td id=\"T_30386_row4_col0\" class=\"data row4 col0\" >18.6</td>\n",
       "    </tr>\n",
       "    <tr>\n",
       "      <th id=\"T_30386_level0_row5\" class=\"row_heading level0 row5\" >50%</th>\n",
       "      <td id=\"T_30386_row5_col0\" class=\"data row5 col0\" >30.0</td>\n",
       "    </tr>\n",
       "    <tr>\n",
       "      <th id=\"T_30386_level0_row6\" class=\"row_heading level0 row6\" >75%</th>\n",
       "      <td id=\"T_30386_row6_col0\" class=\"data row6 col0\" >42.1</td>\n",
       "    </tr>\n",
       "    <tr>\n",
       "      <th id=\"T_30386_level0_row7\" class=\"row_heading level0 row7\" >max</th>\n",
       "      <td id=\"T_30386_row7_col0\" class=\"data row7 col0\" >409.7</td>\n",
       "    </tr>\n",
       "  </tbody>\n",
       "</table>\n"
      ],
      "text/plain": [
       "<pandas.io.formats.style.Styler at 0x2136d5245e0>"
      ]
     },
     "execution_count": 58,
     "metadata": {},
     "output_type": "execute_result"
    }
   ],
   "source": [
    "df[['living_area']].describe().style.format({'living_area': '{:.1f}'})"
   ]
  },
  {
   "cell_type": "code",
   "execution_count": 59,
   "id": "1d84bead",
   "metadata": {},
   "outputs": [
    {
     "data": {
      "image/png": "[encoded data removed]",
      "text/plain": [
       "<Figure size 432x288 with 1 Axes>"
      ]
     },
     "metadata": {
      "needs_background": "light"
     },
     "output_type": "display_data"
    }
   ],
   "source": [
    "#df['living_area'].hist(bins=40, range=[0,200])\n",
    "ax = plt.axes()\n",
    "ax.set_title('Жилая площадь') #подписали график\n",
    "ax.grid() #сделали сетку на осях\n",
    "plt.Figure(figsize=(15,30)) #задали размер графика\n",
    "plt.hist(df['living_area'], bins=40, range=[0,150])\n",
    "plt.show()"
   ]
  },
  {
   "cell_type": "code",
   "execution_count": 60,
   "id": "abcf1d0a",
   "metadata": {},
   "outputs": [
    {
     "data": {
      "image/png": "[encoded data removed]",
      "text/plain": [
       "<Figure size 432x288 with 1 Axes>"
      ]
     },
     "metadata": {
      "needs_background": "light"
     },
     "output_type": "display_data"
    }
   ],
   "source": [
    "plt.boxplot(df['living_area'])\n",
    "#df['last_price'].boxplot()\n",
    "plt.title('Жилая площадь')\n",
    "plt.ylim(0, 150)\n",
    "plt.show()"
   ]
  },
  {
   "cell_type": "markdown",
   "id": "c9eb7c8e",
   "metadata": {},
   "source": [
    "Визуализация цены"
   ]
  },
  {
   "cell_type": "code",
   "execution_count": 61,
   "id": "dc420345",
   "metadata": {},
   "outputs": [
    {
     "data": {
      "text/html": [
       "<style type=\"text/css\">\n",
       "</style>\n",
       "<table id=\"T_30e18_\">\n",
       "  <thead>\n",
       "    <tr>\n",
       "      <th class=\"blank level0\" >&nbsp;</th>\n",
       "      <th class=\"col_heading level0 col0\" >last_price</th>\n",
       "    </tr>\n",
       "  </thead>\n",
       "  <tbody>\n",
       "    <tr>\n",
       "      <th id=\"T_30e18_level0_row0\" class=\"row_heading level0 row0\" >count</th>\n",
       "      <td id=\"T_30e18_row0_col0\" class=\"data row0 col0\" >23565.0</td>\n",
       "    </tr>\n",
       "    <tr>\n",
       "      <th id=\"T_30e18_level0_row1\" class=\"row_heading level0 row1\" >mean</th>\n",
       "      <td id=\"T_30e18_row1_col0\" class=\"data row1 col0\" >6540058.3</td>\n",
       "    </tr>\n",
       "    <tr>\n",
       "      <th id=\"T_30e18_level0_row2\" class=\"row_heading level0 row2\" >std</th>\n",
       "      <td id=\"T_30e18_row2_col0\" class=\"data row2 col0\" >10910934.7</td>\n",
       "    </tr>\n",
       "    <tr>\n",
       "      <th id=\"T_30e18_level0_row3\" class=\"row_heading level0 row3\" >min</th>\n",
       "      <td id=\"T_30e18_row3_col0\" class=\"data row3 col0\" >12190.0</td>\n",
       "    </tr>\n",
       "    <tr>\n",
       "      <th id=\"T_30e18_level0_row4\" class=\"row_heading level0 row4\" >25%</th>\n",
       "      <td id=\"T_30e18_row4_col0\" class=\"data row4 col0\" >3400000.0</td>\n",
       "    </tr>\n",
       "    <tr>\n",
       "      <th id=\"T_30e18_level0_row5\" class=\"row_heading level0 row5\" >50%</th>\n",
       "      <td id=\"T_30e18_row5_col0\" class=\"data row5 col0\" >4646000.0</td>\n",
       "    </tr>\n",
       "    <tr>\n",
       "      <th id=\"T_30e18_level0_row6\" class=\"row_heading level0 row6\" >75%</th>\n",
       "      <td id=\"T_30e18_row6_col0\" class=\"data row6 col0\" >6790000.0</td>\n",
       "    </tr>\n",
       "    <tr>\n",
       "      <th id=\"T_30e18_level0_row7\" class=\"row_heading level0 row7\" >max</th>\n",
       "      <td id=\"T_30e18_row7_col0\" class=\"data row7 col0\" >763000000.0</td>\n",
       "    </tr>\n",
       "  </tbody>\n",
       "</table>\n"
      ],
      "text/plain": [
       "<pandas.io.formats.style.Styler at 0x2136cb1b940>"
      ]
     },
     "execution_count": 61,
     "metadata": {},
     "output_type": "execute_result"
    }
   ],
   "source": [
    "df[['last_price']].describe().style.format({'last_price': '{:.1f}'})"
   ]
  },
  {
   "cell_type": "code",
   "execution_count": 62,
   "id": "f0689ae3",
   "metadata": {},
   "outputs": [
    {
     "data": {
      "image/png": "[encoded data removed]",
      "text/plain": [
       "<Figure size 432x288 with 1 Axes>"
      ]
     },
     "metadata": {
      "needs_background": "light"
     },
     "output_type": "display_data"
    }
   ],
   "source": [
    "#df['last_price'].hist(bins=200, range=[0,60000000])\n",
    "ax = plt.axes()\n",
    "ax.set_title('Цена') #подписали график\n",
    "ax.grid() #сделали сетку на осях\n",
    "plt.Figure(figsize=(15,30)) #задали размер графика\n",
    "plt.hist(df['last_price'], bins=40, range=[0,60000000])\n",
    "plt.show()"
   ]
  },
  {
   "cell_type": "code",
   "execution_count": 63,
   "id": "c803f891",
   "metadata": {},
   "outputs": [
    {
     "data": {
      "image/png": "[encoded data removed]",
      "text/plain": [
       "<Figure size 432x288 with 1 Axes>"
      ]
     },
     "metadata": {
      "needs_background": "light"
     },
     "output_type": "display_data"
    }
   ],
   "source": [
    "plt.boxplot(df['last_price'])\n",
    "plt.title('Цена')\n",
    "#df['last_price'].boxplot()\n",
    "plt.ylim(0, 20000000)\n",
    "plt.show()"
   ]
  },
  {
   "cell_type": "markdown",
   "id": "978acbb7",
   "metadata": {},
   "source": [
    "Высота потолков"
   ]
  },
  {
   "cell_type": "code",
   "execution_count": 64,
   "id": "d13ee823",
   "metadata": {},
   "outputs": [
    {
     "data": {
      "text/html": [
       "<style type=\"text/css\">\n",
       "</style>\n",
       "<table id=\"T_ae94a_\">\n",
       "  <thead>\n",
       "    <tr>\n",
       "      <th class=\"blank level0\" >&nbsp;</th>\n",
       "      <th class=\"col_heading level0 col0\" >ceiling_height</th>\n",
       "    </tr>\n",
       "  </thead>\n",
       "  <tbody>\n",
       "    <tr>\n",
       "      <th id=\"T_ae94a_level0_row0\" class=\"row_heading level0 row0\" >count</th>\n",
       "      <td id=\"T_ae94a_row0_col0\" class=\"data row0 col0\" >23565.0</td>\n",
       "    </tr>\n",
       "    <tr>\n",
       "      <th id=\"T_ae94a_level0_row1\" class=\"row_heading level0 row1\" >mean</th>\n",
       "      <td id=\"T_ae94a_row1_col0\" class=\"data row1 col0\" >2.7</td>\n",
       "    </tr>\n",
       "    <tr>\n",
       "      <th id=\"T_ae94a_level0_row2\" class=\"row_heading level0 row2\" >std</th>\n",
       "      <td id=\"T_ae94a_row2_col0\" class=\"data row2 col0\" >1.0</td>\n",
       "    </tr>\n",
       "    <tr>\n",
       "      <th id=\"T_ae94a_level0_row3\" class=\"row_heading level0 row3\" >min</th>\n",
       "      <td id=\"T_ae94a_row3_col0\" class=\"data row3 col0\" >1.0</td>\n",
       "    </tr>\n",
       "    <tr>\n",
       "      <th id=\"T_ae94a_level0_row4\" class=\"row_heading level0 row4\" >25%</th>\n",
       "      <td id=\"T_ae94a_row4_col0\" class=\"data row4 col0\" >2.5</td>\n",
       "    </tr>\n",
       "    <tr>\n",
       "      <th id=\"T_ae94a_level0_row5\" class=\"row_heading level0 row5\" >50%</th>\n",
       "      <td id=\"T_ae94a_row5_col0\" class=\"data row5 col0\" >2.6</td>\n",
       "    </tr>\n",
       "    <tr>\n",
       "      <th id=\"T_ae94a_level0_row6\" class=\"row_heading level0 row6\" >75%</th>\n",
       "      <td id=\"T_ae94a_row6_col0\" class=\"data row6 col0\" >2.8</td>\n",
       "    </tr>\n",
       "    <tr>\n",
       "      <th id=\"T_ae94a_level0_row7\" class=\"row_heading level0 row7\" >max</th>\n",
       "      <td id=\"T_ae94a_row7_col0\" class=\"data row7 col0\" >100.0</td>\n",
       "    </tr>\n",
       "  </tbody>\n",
       "</table>\n"
      ],
      "text/plain": [
       "<pandas.io.formats.style.Styler at 0x2136d5974c0>"
      ]
     },
     "execution_count": 64,
     "metadata": {},
     "output_type": "execute_result"
    }
   ],
   "source": [
    "df[['ceiling_height']].describe().style.format({'ceiling_height': '{:.1f}'})"
   ]
  },
  {
   "cell_type": "code",
   "execution_count": 65,
   "id": "7ef5a11b",
   "metadata": {},
   "outputs": [
    {
     "data": {
      "image/png": "[encoded data removed]",
      "text/plain": [
       "<Figure size 432x288 with 1 Axes>"
      ]
     },
     "metadata": {
      "needs_background": "light"
     },
     "output_type": "display_data"
    }
   ],
   "source": [
    "#df['last_price'].hist(bins=200, range=[0,60000000])\n",
    "ax = plt.axes()\n",
    "ax.set_title('Высота потлоков') #подписали график\n",
    "ax.grid() #сделали сетку на осях\n",
    "plt.Figure(figsize=(15,30)) #задали размер графика\n",
    "plt.hist(df['ceiling_height'], bins=40, range=[2.2,4])\n",
    "plt.show()"
   ]
  },
  {
   "cell_type": "code",
   "execution_count": 66,
   "id": "8d0a32a9",
   "metadata": {},
   "outputs": [
    {
     "data": {
      "image/png": "[encoded data removed]",
      "text/plain": [
       "<Figure size 432x288 with 1 Axes>"
      ]
     },
     "metadata": {
      "needs_background": "light"
     },
     "output_type": "display_data"
    }
   ],
   "source": [
    "plt.boxplot(df['ceiling_height'])\n",
    "plt.title('Высота потолков')\n",
    "#df['last_price'].boxplot()\n",
    "plt.ylim(2, 4)\n",
    "plt.show()"
   ]
  },
  {
   "cell_type": "markdown",
   "id": "1ffa7b7b",
   "metadata": {},
   "source": [
    "По составленным графикам видно основная масса предложений находиться в левой части графика. И имееться небольшое количество предложений которые сильно выходят за рамки среднеего предложения. 1% верхней части значений можно спокой отрезать."
   ]
  },
  {
   "cell_type": "code",
   "execution_count": 67,
   "id": "cbadf8f2",
   "metadata": {},
   "outputs": [
    {
     "data": {
      "text/plain": [
       "3.6"
      ]
     },
     "execution_count": 67,
     "metadata": {},
     "output_type": "execute_result"
    }
   ],
   "source": [
    "df['ceiling_height'].quantile(0.99) # 99%"
   ]
  },
  {
   "cell_type": "code",
   "execution_count": 68,
   "id": "4da41b55",
   "metadata": {},
   "outputs": [
    {
     "data": {
      "text/plain": [
       "3.15"
      ]
     },
     "execution_count": 68,
     "metadata": {},
     "output_type": "execute_result"
    }
   ],
   "source": [
    "df['ceiling_height'].quantile(0.95) # 95%"
   ]
  },
  {
   "cell_type": "code",
   "execution_count": 69,
   "id": "7fc87742",
   "metadata": {},
   "outputs": [
    {
     "data": {
      "text/plain": [
       "197.4520000000004"
      ]
     },
     "execution_count": 69,
     "metadata": {},
     "output_type": "execute_result"
    }
   ],
   "source": [
    "df['total_area'].quantile(0.99) # 99%"
   ]
  },
  {
   "cell_type": "code",
   "execution_count": 70,
   "id": "d3dd9571",
   "metadata": {},
   "outputs": [
    {
     "data": {
      "text/plain": [
       "159.0"
      ]
     },
     "execution_count": 70,
     "metadata": {},
     "output_type": "execute_result"
    }
   ],
   "source": [
    "df['total_area'].quantile(0.98) # 98%"
   ]
  },
  {
   "cell_type": "code",
   "execution_count": 71,
   "id": "f3b47e55",
   "metadata": {},
   "outputs": [
    {
     "data": {
      "text/plain": [
       "36000000.0"
      ]
     },
     "execution_count": 71,
     "metadata": {},
     "output_type": "execute_result"
    }
   ],
   "source": [
    "df['last_price'].quantile(0.99) # 99%"
   ]
  },
  {
   "cell_type": "code",
   "execution_count": 72,
   "id": "b32f34ef",
   "metadata": {},
   "outputs": [
    {
     "data": {
      "text/plain": [
       "15300000.0"
      ]
     },
     "execution_count": 72,
     "metadata": {},
     "output_type": "execute_result"
    }
   ],
   "source": [
    "df['last_price'].quantile(0.95) # 95%"
   ]
  },
  {
   "cell_type": "code",
   "execution_count": 73,
   "id": "35a0c39b",
   "metadata": {},
   "outputs": [
    {
     "data": {
      "text/plain": [
       "118.93600000000006"
      ]
     },
     "execution_count": 73,
     "metadata": {},
     "output_type": "execute_result"
    }
   ],
   "source": [
    "df['living_area'].quantile(0.99) # 99%"
   ]
  },
  {
   "cell_type": "code",
   "execution_count": 74,
   "id": "6e2b1d57",
   "metadata": {},
   "outputs": [
    {
     "data": {
      "text/plain": [
       "68.0"
      ]
     },
     "execution_count": 74,
     "metadata": {},
     "output_type": "execute_result"
    }
   ],
   "source": [
    "df['living_area'].quantile(0.95) # 95%"
   ]
  },
  {
   "cell_type": "code",
   "execution_count": 75,
   "id": "f6345476",
   "metadata": {},
   "outputs": [],
   "source": [
    "df_filter = df.loc[\n",
    "    (df['living_area'] <= 115) & \n",
    "    (df['last_price'] <= 36000000) & \n",
    "    (df['total_area'] <= 159) & \n",
    "    (df['ceiling_height'] <= 3.6)\n",
    "] "
   ]
  },
  {
   "cell_type": "code",
   "execution_count": 76,
   "id": "556197d8",
   "metadata": {},
   "outputs": [
    {
     "data": {
      "text/plain": [
       "22836"
      ]
     },
     "execution_count": 76,
     "metadata": {},
     "output_type": "execute_result"
    }
   ],
   "source": [
    "df_filter.shape[0]"
   ]
  },
  {
   "cell_type": "code",
   "execution_count": 78,
   "id": "ec2a60e3",
   "metadata": {},
   "outputs": [
    {
     "data": {
      "text/plain": [
       "726"
      ]
     },
     "execution_count": 78,
     "metadata": {},
     "output_type": "execute_result"
    }
   ],
   "source": [
    "df.shape[0] - df_filter.shape[0]"
   ]
  },
  {
   "cell_type": "markdown",
   "id": "d15787c6",
   "metadata": {},
   "source": [
    "Структура графиков по 4 ключевым параметрам недвижимости одинаковая. Основная масса предложения находиться между значениями в левой части графика, с длинным узким хвостом. Убрал выбросы по **\"общей жилой площади\"** так как параметры взамосвязаны. \n",
    "Мне кажеться что убрать выбросы в 1% справа будет недостаточно, а 5% уже слишком много. Остановлся на 2% \n",
    "После отсева выбросов датафрейм уменьшился на 726 значений. \n"
   ]
  },
  {
   "cell_type": "code",
   "execution_count": 79,
   "id": "c8c551f4",
   "metadata": {},
   "outputs": [],
   "source": [
    "table = df_filter[\n",
    "    ['living_area', 'last_price', 'total_area', 'ceiling_height', 'price_m2', '% living', '% kitchen']\n",
    "].describe()"
   ]
  },
  {
   "cell_type": "code",
   "execution_count": 80,
   "id": "d8d625f8",
   "metadata": {},
   "outputs": [
    {
     "data": {
      "text/html": [
       "<style  type=\"text/css\" >\n",
       "</style><table id=\"T_ce302384_d3fc_11eb_bfde_02420a390e37\" ><thead>    <tr>        <th class=\"blank level0\" ></th>        <th class=\"col_heading level0 col0\" >living_area</th>        <th class=\"col_heading level0 col1\" >last_price</th>        <th class=\"col_heading level0 col2\" >total_area</th>        <th class=\"col_heading level0 col3\" >ceiling_height</th>        <th class=\"col_heading level0 col4\" >price_m2</th>        <th class=\"col_heading level0 col5\" >% living</th>        <th class=\"col_heading level0 col6\" >% kitchen</th>    </tr></thead><tbody>\n",
       "                <tr>\n",
       "                        <th id=\"T_ce302384_d3fc_11eb_bfde_02420a390e37level0_row0\" class=\"row_heading level0 row0\" >count</th>\n",
       "                        <td id=\"T_ce302384_d3fc_11eb_bfde_02420a390e37row0_col0\" class=\"data row0 col0\" >22839.0</td>\n",
       "                        <td id=\"T_ce302384_d3fc_11eb_bfde_02420a390e37row0_col1\" class=\"data row0 col1\" >22839.0</td>\n",
       "                        <td id=\"T_ce302384_d3fc_11eb_bfde_02420a390e37row0_col2\" class=\"data row0 col2\" >22839.0</td>\n",
       "                        <td id=\"T_ce302384_d3fc_11eb_bfde_02420a390e37row0_col3\" class=\"data row0 col3\" >22839.0</td>\n",
       "                        <td id=\"T_ce302384_d3fc_11eb_bfde_02420a390e37row0_col4\" class=\"data row0 col4\" >22839.0</td>\n",
       "                        <td id=\"T_ce302384_d3fc_11eb_bfde_02420a390e37row0_col5\" class=\"data row0 col5\" >22839.0</td>\n",
       "                        <td id=\"T_ce302384_d3fc_11eb_bfde_02420a390e37row0_col6\" class=\"data row0 col6\" >22839.0</td>\n",
       "            </tr>\n",
       "            <tr>\n",
       "                        <th id=\"T_ce302384_d3fc_11eb_bfde_02420a390e37level0_row1\" class=\"row_heading level0 row1\" >mean</th>\n",
       "                        <td id=\"T_ce302384_d3fc_11eb_bfde_02420a390e37row1_col0\" class=\"data row1 col0\" >31.8</td>\n",
       "                        <td id=\"T_ce302384_d3fc_11eb_bfde_02420a390e37row1_col1\" class=\"data row1 col1\" >5580731.7</td>\n",
       "                        <td id=\"T_ce302384_d3fc_11eb_bfde_02420a390e37row1_col2\" class=\"data row1 col2\" >56.5</td>\n",
       "                        <td id=\"T_ce302384_d3fc_11eb_bfde_02420a390e37row1_col3\" class=\"data row1 col3\" >2.7</td>\n",
       "                        <td id=\"T_ce302384_d3fc_11eb_bfde_02420a390e37row1_col4\" class=\"data row1 col4\" >96390.0</td>\n",
       "                        <td id=\"T_ce302384_d3fc_11eb_bfde_02420a390e37row1_col5\" class=\"data row1 col5\" >0.6</td>\n",
       "                        <td id=\"T_ce302384_d3fc_11eb_bfde_02420a390e37row1_col6\" class=\"data row1 col6\" >0.2</td>\n",
       "            </tr>\n",
       "            <tr>\n",
       "                        <th id=\"T_ce302384_d3fc_11eb_bfde_02420a390e37level0_row2\" class=\"row_heading level0 row2\" >std</th>\n",
       "                        <td id=\"T_ce302384_d3fc_11eb_bfde_02420a390e37row2_col0\" class=\"data row2 col0\" >15.1</td>\n",
       "                        <td id=\"T_ce302384_d3fc_11eb_bfde_02420a390e37row2_col1\" class=\"data row2 col1\" >3829494.7</td>\n",
       "                        <td id=\"T_ce302384_d3fc_11eb_bfde_02420a390e37row2_col2\" class=\"data row2 col2\" >23.1</td>\n",
       "                        <td id=\"T_ce302384_d3fc_11eb_bfde_02420a390e37row2_col3\" class=\"data row2 col3\" >0.2</td>\n",
       "                        <td id=\"T_ce302384_d3fc_11eb_bfde_02420a390e37row2_col4\" class=\"data row2 col4\" >36685.8</td>\n",
       "                        <td id=\"T_ce302384_d3fc_11eb_bfde_02420a390e37row2_col5\" class=\"data row2 col5\" >0.1</td>\n",
       "                        <td id=\"T_ce302384_d3fc_11eb_bfde_02420a390e37row2_col6\" class=\"data row2 col6\" >0.1</td>\n",
       "            </tr>\n",
       "            <tr>\n",
       "                        <th id=\"T_ce302384_d3fc_11eb_bfde_02420a390e37level0_row3\" class=\"row_heading level0 row3\" >min</th>\n",
       "                        <td id=\"T_ce302384_d3fc_11eb_bfde_02420a390e37row3_col0\" class=\"data row3 col0\" >2.0</td>\n",
       "                        <td id=\"T_ce302384_d3fc_11eb_bfde_02420a390e37row3_col1\" class=\"data row3 col1\" >12190.0</td>\n",
       "                        <td id=\"T_ce302384_d3fc_11eb_bfde_02420a390e37row3_col2\" class=\"data row3 col2\" >12.0</td>\n",
       "                        <td id=\"T_ce302384_d3fc_11eb_bfde_02420a390e37row3_col3\" class=\"data row3 col3\" >1.0</td>\n",
       "                        <td id=\"T_ce302384_d3fc_11eb_bfde_02420a390e37row3_col4\" class=\"data row3 col4\" >111.8</td>\n",
       "                        <td id=\"T_ce302384_d3fc_11eb_bfde_02420a390e37row3_col5\" class=\"data row3 col5\" >0.0</td>\n",
       "                        <td id=\"T_ce302384_d3fc_11eb_bfde_02420a390e37row3_col6\" class=\"data row3 col6\" >0.0</td>\n",
       "            </tr>\n",
       "            <tr>\n",
       "                        <th id=\"T_ce302384_d3fc_11eb_bfde_02420a390e37level0_row4\" class=\"row_heading level0 row4\" >25%</th>\n",
       "                        <td id=\"T_ce302384_d3fc_11eb_bfde_02420a390e37row4_col0\" class=\"data row4 col0\" >18.5</td>\n",
       "                        <td id=\"T_ce302384_d3fc_11eb_bfde_02420a390e37row4_col1\" class=\"data row4 col1\" >3400000.0</td>\n",
       "                        <td id=\"T_ce302384_d3fc_11eb_bfde_02420a390e37row4_col2\" class=\"data row4 col2\" >40.0</td>\n",
       "                        <td id=\"T_ce302384_d3fc_11eb_bfde_02420a390e37row4_col3\" class=\"data row4 col3\" >2.6</td>\n",
       "                        <td id=\"T_ce302384_d3fc_11eb_bfde_02420a390e37row4_col4\" class=\"data row4 col4\" >76087.0</td>\n",
       "                        <td id=\"T_ce302384_d3fc_11eb_bfde_02420a390e37row4_col5\" class=\"data row4 col5\" >0.5</td>\n",
       "                        <td id=\"T_ce302384_d3fc_11eb_bfde_02420a390e37row4_col6\" class=\"data row4 col6\" >0.1</td>\n",
       "            </tr>\n",
       "            <tr>\n",
       "                        <th id=\"T_ce302384_d3fc_11eb_bfde_02420a390e37level0_row5\" class=\"row_heading level0 row5\" >50%</th>\n",
       "                        <td id=\"T_ce302384_d3fc_11eb_bfde_02420a390e37row5_col0\" class=\"data row5 col0\" >29.5</td>\n",
       "                        <td id=\"T_ce302384_d3fc_11eb_bfde_02420a390e37row5_col1\" class=\"data row5 col1\" >4550000.0</td>\n",
       "                        <td id=\"T_ce302384_d3fc_11eb_bfde_02420a390e37row5_col2\" class=\"data row5 col2\" >51.0</td>\n",
       "                        <td id=\"T_ce302384_d3fc_11eb_bfde_02420a390e37row5_col3\" class=\"data row5 col3\" >2.6</td>\n",
       "                        <td id=\"T_ce302384_d3fc_11eb_bfde_02420a390e37row5_col4\" class=\"data row5 col4\" >94444.4</td>\n",
       "                        <td id=\"T_ce302384_d3fc_11eb_bfde_02420a390e37row5_col5\" class=\"data row5 col5\" >0.6</td>\n",
       "                        <td id=\"T_ce302384_d3fc_11eb_bfde_02420a390e37row5_col6\" class=\"data row5 col6\" >0.2</td>\n",
       "            </tr>\n",
       "            <tr>\n",
       "                        <th id=\"T_ce302384_d3fc_11eb_bfde_02420a390e37level0_row6\" class=\"row_heading level0 row6\" >75%</th>\n",
       "                        <td id=\"T_ce302384_d3fc_11eb_bfde_02420a390e37row6_col0\" class=\"data row6 col0\" >40.0</td>\n",
       "                        <td id=\"T_ce302384_d3fc_11eb_bfde_02420a390e37row6_col1\" class=\"data row6 col1\" >6500000.0</td>\n",
       "                        <td id=\"T_ce302384_d3fc_11eb_bfde_02420a390e37row6_col2\" class=\"data row6 col2\" >67.4</td>\n",
       "                        <td id=\"T_ce302384_d3fc_11eb_bfde_02420a390e37row6_col3\" class=\"data row6 col3\" >2.7</td>\n",
       "                        <td id=\"T_ce302384_d3fc_11eb_bfde_02420a390e37row6_col4\" class=\"data row6 col4\" >113051.8</td>\n",
       "                        <td id=\"T_ce302384_d3fc_11eb_bfde_02420a390e37row6_col5\" class=\"data row6 col5\" >0.6</td>\n",
       "                        <td id=\"T_ce302384_d3fc_11eb_bfde_02420a390e37row6_col6\" class=\"data row6 col6\" >0.2</td>\n",
       "            </tr>\n",
       "            <tr>\n",
       "                        <th id=\"T_ce302384_d3fc_11eb_bfde_02420a390e37level0_row7\" class=\"row_heading level0 row7\" >max</th>\n",
       "                        <td id=\"T_ce302384_d3fc_11eb_bfde_02420a390e37row7_col0\" class=\"data row7 col0\" >115.0</td>\n",
       "                        <td id=\"T_ce302384_d3fc_11eb_bfde_02420a390e37row7_col1\" class=\"data row7 col1\" >36000000.0</td>\n",
       "                        <td id=\"T_ce302384_d3fc_11eb_bfde_02420a390e37row7_col2\" class=\"data row7 col2\" >159.0</td>\n",
       "                        <td id=\"T_ce302384_d3fc_11eb_bfde_02420a390e37row7_col3\" class=\"data row7 col3\" >3.6</td>\n",
       "                        <td id=\"T_ce302384_d3fc_11eb_bfde_02420a390e37row7_col4\" class=\"data row7 col4\" >848484.8</td>\n",
       "                        <td id=\"T_ce302384_d3fc_11eb_bfde_02420a390e37row7_col5\" class=\"data row7 col5\" >1.3</td>\n",
       "                        <td id=\"T_ce302384_d3fc_11eb_bfde_02420a390e37row7_col6\" class=\"data row7 col6\" >0.8</td>\n",
       "            </tr>\n",
       "    </tbody></table>"
      ],
      "text/plain": [
       "<pandas.io.formats.style.Styler at 0x7fb7a08059d0>"
      ]
     },
     "execution_count": 80,
     "metadata": {},
     "output_type": "execute_result"
    }
   ],
   "source": [
    "table.style.format('{:.1f}')"
   ]
  },
  {
   "cell_type": "markdown",
   "id": "a34b5d0d",
   "metadata": {},
   "source": [
    "## Исследование количества времени для продажи квартиры"
   ]
  },
  {
   "cell_type": "markdown",
   "id": "d56a3d18",
   "metadata": {},
   "source": [
    "Параметры которые могут понадобиться: first_day_exposition, days_exposition.  \n",
    "Производные от них: \n",
    "  - среднее время продажи(снятие с публикации), в днях, в месяцах, в годах\n",
    "  - группировка данных по времени продажи в днях, в месяцах, в годах. \n",
    "  - Как долго обявления находиться на публикации? с чем связано?\n",
    "  - Какие объявления быстрее всего уходят?"
   ]
  },
  {
   "cell_type": "code",
   "execution_count": 81,
   "id": "13100107",
   "metadata": {},
   "outputs": [
    {
     "data": {
      "text/html": [
       "<div>\n",
       "<style scoped>\n",
       "    .dataframe tbody tr th:only-of-type {\n",
       "        vertical-align: middle;\n",
       "    }\n",
       "\n",
       "    .dataframe tbody tr th {\n",
       "        vertical-align: top;\n",
       "    }\n",
       "\n",
       "    .dataframe thead th {\n",
       "        text-align: right;\n",
       "    }\n",
       "</style>\n",
       "<table border=\"1\" class=\"dataframe\">\n",
       "  <thead>\n",
       "    <tr style=\"text-align: right;\">\n",
       "      <th></th>\n",
       "      <th>total_images</th>\n",
       "      <th>last_price</th>\n",
       "      <th>total_area</th>\n",
       "      <th>first_day_exposition</th>\n",
       "      <th>rooms</th>\n",
       "      <th>ceiling_height</th>\n",
       "      <th>floors_total</th>\n",
       "      <th>living_area</th>\n",
       "      <th>floor</th>\n",
       "      <th>is_apartment</th>\n",
       "      <th>...</th>\n",
       "      <th>days_exposition</th>\n",
       "      <th>total_area_group</th>\n",
       "      <th>oblast</th>\n",
       "      <th>type_floor</th>\n",
       "      <th>day_week</th>\n",
       "      <th>month</th>\n",
       "      <th>year</th>\n",
       "      <th>price_m2</th>\n",
       "      <th>% living</th>\n",
       "      <th>% kitchen</th>\n",
       "    </tr>\n",
       "  </thead>\n",
       "  <tbody>\n",
       "    <tr>\n",
       "      <td>0</td>\n",
       "      <td>20</td>\n",
       "      <td>13000000</td>\n",
       "      <td>108.0</td>\n",
       "      <td>2019-03-07</td>\n",
       "      <td>3</td>\n",
       "      <td>2.70</td>\n",
       "      <td>16</td>\n",
       "      <td>51.0</td>\n",
       "      <td>8</td>\n",
       "      <td>False</td>\n",
       "      <td>...</td>\n",
       "      <td>0</td>\n",
       "      <td>4 кат</td>\n",
       "      <td>Санкт-Петербург</td>\n",
       "      <td>Другой</td>\n",
       "      <td>3</td>\n",
       "      <td>3</td>\n",
       "      <td>2019</td>\n",
       "      <td>120370.370370</td>\n",
       "      <td>0.472222</td>\n",
       "      <td>0.231481</td>\n",
       "    </tr>\n",
       "    <tr>\n",
       "      <td>1</td>\n",
       "      <td>7</td>\n",
       "      <td>3350000</td>\n",
       "      <td>40.4</td>\n",
       "      <td>2018-12-04</td>\n",
       "      <td>1</td>\n",
       "      <td>2.60</td>\n",
       "      <td>11</td>\n",
       "      <td>18.6</td>\n",
       "      <td>1</td>\n",
       "      <td>False</td>\n",
       "      <td>...</td>\n",
       "      <td>81</td>\n",
       "      <td>2 кат</td>\n",
       "      <td>Область</td>\n",
       "      <td>Первый</td>\n",
       "      <td>1</td>\n",
       "      <td>12</td>\n",
       "      <td>2018</td>\n",
       "      <td>82920.792079</td>\n",
       "      <td>0.460396</td>\n",
       "      <td>0.272277</td>\n",
       "    </tr>\n",
       "    <tr>\n",
       "      <td>2</td>\n",
       "      <td>10</td>\n",
       "      <td>5196000</td>\n",
       "      <td>56.0</td>\n",
       "      <td>2015-08-20</td>\n",
       "      <td>2</td>\n",
       "      <td>2.60</td>\n",
       "      <td>5</td>\n",
       "      <td>34.3</td>\n",
       "      <td>4</td>\n",
       "      <td>False</td>\n",
       "      <td>...</td>\n",
       "      <td>558</td>\n",
       "      <td>3 кат</td>\n",
       "      <td>Санкт-Петербург</td>\n",
       "      <td>Другой</td>\n",
       "      <td>3</td>\n",
       "      <td>8</td>\n",
       "      <td>2015</td>\n",
       "      <td>92785.714286</td>\n",
       "      <td>0.612500</td>\n",
       "      <td>0.148214</td>\n",
       "    </tr>\n",
       "    <tr>\n",
       "      <td>4</td>\n",
       "      <td>2</td>\n",
       "      <td>10000000</td>\n",
       "      <td>100.0</td>\n",
       "      <td>2018-06-19</td>\n",
       "      <td>2</td>\n",
       "      <td>3.03</td>\n",
       "      <td>14</td>\n",
       "      <td>32.0</td>\n",
       "      <td>13</td>\n",
       "      <td>False</td>\n",
       "      <td>...</td>\n",
       "      <td>121</td>\n",
       "      <td>4 кат</td>\n",
       "      <td>Санкт-Петербург</td>\n",
       "      <td>Другой</td>\n",
       "      <td>1</td>\n",
       "      <td>6</td>\n",
       "      <td>2018</td>\n",
       "      <td>100000.000000</td>\n",
       "      <td>0.320000</td>\n",
       "      <td>0.410000</td>\n",
       "    </tr>\n",
       "    <tr>\n",
       "      <td>5</td>\n",
       "      <td>10</td>\n",
       "      <td>2890000</td>\n",
       "      <td>30.4</td>\n",
       "      <td>2018-09-10</td>\n",
       "      <td>1</td>\n",
       "      <td>2.60</td>\n",
       "      <td>12</td>\n",
       "      <td>14.4</td>\n",
       "      <td>5</td>\n",
       "      <td>False</td>\n",
       "      <td>...</td>\n",
       "      <td>55</td>\n",
       "      <td>1 кат</td>\n",
       "      <td>Область</td>\n",
       "      <td>Другой</td>\n",
       "      <td>0</td>\n",
       "      <td>9</td>\n",
       "      <td>2018</td>\n",
       "      <td>95065.789474</td>\n",
       "      <td>0.473684</td>\n",
       "      <td>0.299342</td>\n",
       "    </tr>\n",
       "  </tbody>\n",
       "</table>\n",
       "<p>5 rows × 31 columns</p>\n",
       "</div>"
      ],
      "text/plain": [
       "   total_images  last_price  total_area first_day_exposition  rooms  \\\n",
       "0            20    13000000       108.0           2019-03-07      3   \n",
       "1             7     3350000        40.4           2018-12-04      1   \n",
       "2            10     5196000        56.0           2015-08-20      2   \n",
       "4             2    10000000       100.0           2018-06-19      2   \n",
       "5            10     2890000        30.4           2018-09-10      1   \n",
       "\n",
       "   ceiling_height  floors_total  living_area  floor  is_apartment  ...  \\\n",
       "0            2.70            16         51.0      8         False  ...   \n",
       "1            2.60            11         18.6      1         False  ...   \n",
       "2            2.60             5         34.3      4         False  ...   \n",
       "4            3.03            14         32.0     13         False  ...   \n",
       "5            2.60            12         14.4      5         False  ...   \n",
       "\n",
       "   days_exposition  total_area_group           oblast  type_floor day_week  \\\n",
       "0                0             4 кат  Санкт-Петербург      Другой        3   \n",
       "1               81             2 кат          Область      Первый        1   \n",
       "2              558             3 кат  Санкт-Петербург      Другой        3   \n",
       "4              121             4 кат  Санкт-Петербург      Другой        1   \n",
       "5               55             1 кат          Область      Другой        0   \n",
       "\n",
       "   month  year       price_m2  % living  % kitchen  \n",
       "0      3  2019  120370.370370  0.472222   0.231481  \n",
       "1     12  2018   82920.792079  0.460396   0.272277  \n",
       "2      8  2015   92785.714286  0.612500   0.148214  \n",
       "4      6  2018  100000.000000  0.320000   0.410000  \n",
       "5      9  2018   95065.789474  0.473684   0.299342  \n",
       "\n",
       "[5 rows x 31 columns]"
      ]
     },
     "execution_count": 81,
     "metadata": {},
     "output_type": "execute_result"
    }
   ],
   "source": [
    "df_filter.head()"
   ]
  },
  {
   "cell_type": "code",
   "execution_count": 82,
   "id": "6fb1f983",
   "metadata": {},
   "outputs": [],
   "source": [
    "sample_time = df_filter[\n",
    "    ['first_day_exposition', 'days_exposition', 'day_week', 'month', 'year']\n",
    "]"
   ]
  },
  {
   "cell_type": "code",
   "execution_count": 83,
   "id": "9f02d8fd",
   "metadata": {},
   "outputs": [
    {
     "data": {
      "text/html": [
       "<div>\n",
       "<style scoped>\n",
       "    .dataframe tbody tr th:only-of-type {\n",
       "        vertical-align: middle;\n",
       "    }\n",
       "\n",
       "    .dataframe tbody tr th {\n",
       "        vertical-align: top;\n",
       "    }\n",
       "\n",
       "    .dataframe thead th {\n",
       "        text-align: right;\n",
       "    }\n",
       "</style>\n",
       "<table border=\"1\" class=\"dataframe\">\n",
       "  <thead>\n",
       "    <tr style=\"text-align: right;\">\n",
       "      <th></th>\n",
       "      <th>days_exposition</th>\n",
       "      <th>day_week</th>\n",
       "      <th>month</th>\n",
       "      <th>year</th>\n",
       "    </tr>\n",
       "  </thead>\n",
       "  <tbody>\n",
       "    <tr>\n",
       "      <td>count</td>\n",
       "      <td>22839.000000</td>\n",
       "      <td>22839.000000</td>\n",
       "      <td>22839.000000</td>\n",
       "      <td>22839.000000</td>\n",
       "    </tr>\n",
       "    <tr>\n",
       "      <td>mean</td>\n",
       "      <td>154.827663</td>\n",
       "      <td>2.569596</td>\n",
       "      <td>6.399010</td>\n",
       "      <td>2017.379307</td>\n",
       "    </tr>\n",
       "    <tr>\n",
       "      <td>std</td>\n",
       "      <td>211.250892</td>\n",
       "      <td>1.790610</td>\n",
       "      <td>3.492256</td>\n",
       "      <td>1.031704</td>\n",
       "    </tr>\n",
       "    <tr>\n",
       "      <td>min</td>\n",
       "      <td>0.000000</td>\n",
       "      <td>0.000000</td>\n",
       "      <td>1.000000</td>\n",
       "      <td>2014.000000</td>\n",
       "    </tr>\n",
       "    <tr>\n",
       "      <td>25%</td>\n",
       "      <td>23.000000</td>\n",
       "      <td>1.000000</td>\n",
       "      <td>3.000000</td>\n",
       "      <td>2017.000000</td>\n",
       "    </tr>\n",
       "    <tr>\n",
       "      <td>50%</td>\n",
       "      <td>73.000000</td>\n",
       "      <td>3.000000</td>\n",
       "      <td>6.000000</td>\n",
       "      <td>2017.000000</td>\n",
       "    </tr>\n",
       "    <tr>\n",
       "      <td>75%</td>\n",
       "      <td>196.000000</td>\n",
       "      <td>4.000000</td>\n",
       "      <td>10.000000</td>\n",
       "      <td>2018.000000</td>\n",
       "    </tr>\n",
       "    <tr>\n",
       "      <td>max</td>\n",
       "      <td>1580.000000</td>\n",
       "      <td>6.000000</td>\n",
       "      <td>12.000000</td>\n",
       "      <td>2019.000000</td>\n",
       "    </tr>\n",
       "  </tbody>\n",
       "</table>\n",
       "</div>"
      ],
      "text/plain": [
       "       days_exposition      day_week         month          year\n",
       "count     22839.000000  22839.000000  22839.000000  22839.000000\n",
       "mean        154.827663      2.569596      6.399010   2017.379307\n",
       "std         211.250892      1.790610      3.492256      1.031704\n",
       "min           0.000000      0.000000      1.000000   2014.000000\n",
       "25%          23.000000      1.000000      3.000000   2017.000000\n",
       "50%          73.000000      3.000000      6.000000   2017.000000\n",
       "75%         196.000000      4.000000     10.000000   2018.000000\n",
       "max        1580.000000      6.000000     12.000000   2019.000000"
      ]
     },
     "execution_count": 83,
     "metadata": {},
     "output_type": "execute_result"
    }
   ],
   "source": [
    "sample_time.describe()"
   ]
  },
  {
   "cell_type": "markdown",
   "id": "f2c2fffb",
   "metadata": {},
   "source": [
    "По Году видим зависимость срок публикации уменьшаеться до 2019 года Когда срок публикакции уменьшился в среднем до 11 дней и очень много ноль дней."
   ]
  },
  {
   "cell_type": "markdown",
   "id": "c8bc5927",
   "metadata": {},
   "source": [
    "Линейные графики по времени публикации"
   ]
  },
  {
   "cell_type": "code",
   "execution_count": 84,
   "id": "09eb0d99",
   "metadata": {},
   "outputs": [
    {
     "data": {
      "text/plain": [
       "Text(0, 0.5, 'Срденее количество дней')"
      ]
     },
     "execution_count": 84,
     "metadata": {},
     "output_type": "execute_result"
    },
    {
     "data": {
      "image/png": "[encoded data removed]",
      "text/plain": [
       "<Figure size 432x288 with 1 Axes>"
      ]
     },
     "metadata": {
      "needs_background": "light"
     },
     "output_type": "display_data"
    },
    {
     "data": {
      "image/png": "[encoded data removed]",
      "text/plain": [
       "<Figure size 432x288 with 1 Axes>"
      ]
     },
     "metadata": {
      "needs_background": "light"
     },
     "output_type": "display_data"
    }
   ],
   "source": [
    "sample_time.pivot_table( index='year', values='days_exposition', aggfunc = 'mean').plot()\n",
    "plt.title('Средняя время продажи по годам')\n",
    "plt.xlabel('Год')\n",
    "plt.ylabel('Срденее количество дней')\n",
    "sample_time.pivot_table( index=['year', 'month'], values='days_exposition', aggfunc = 'mean').plot()\n",
    "plt.title('Средняя время жизни объявления по месяцам')\n",
    "plt.xlabel('Месяца')\n",
    "plt.ylabel('Срденее количество дней')"
   ]
  },
  {
   "cell_type": "code",
   "execution_count": 85,
   "id": "455f99d5",
   "metadata": {},
   "outputs": [
    {
     "data": {
      "text/plain": [
       "year\n",
       "2014    806.943548\n",
       "2015    614.912489\n",
       "2016    314.100643\n",
       "2017    152.857179\n",
       "2018     83.453954\n",
       "2019     11.761478\n",
       "Name: days_exposition, dtype: float64"
      ]
     },
     "execution_count": 85,
     "metadata": {},
     "output_type": "execute_result"
    }
   ],
   "source": [
    "sample_time.groupby('year')['days_exposition'].mean()"
   ]
  },
  {
   "cell_type": "code",
   "execution_count": 86,
   "id": "e5b18db4",
   "metadata": {},
   "outputs": [
    {
     "data": {
      "text/plain": [
       "0     2989\n",
       "45     874\n",
       "60     536\n",
       "7      232\n",
       "30     203\n",
       "90     177\n",
       "4      172\n",
       "3      157\n",
       "5      145\n",
       "14     141\n",
       "9      138\n",
       "44     136\n",
       "20     136\n",
       "8      135\n",
       "11     132\n",
       "10     127\n",
       "13     127\n",
       "22     124\n",
       "18     123\n",
       "28     123\n",
       "Name: days_exposition, dtype: int64"
      ]
     },
     "execution_count": 86,
     "metadata": {},
     "output_type": "execute_result"
    }
   ],
   "source": [
    "sample_time['days_exposition'].value_counts().sort_values(ascending = False).head(20)"
   ]
  },
  {
   "cell_type": "markdown",
   "id": "28997465",
   "metadata": {},
   "source": [
    "Группировка по времени публикации"
   ]
  },
  {
   "cell_type": "code",
   "execution_count": 87,
   "id": "2b9b3332",
   "metadata": {},
   "outputs": [],
   "source": [
    "df_filter['group_days'] = pd.qcut(df_filter['days_exposition'],\n",
    "                              q = [0, 0.25, 0.5, 0.75, 1], # процент разделение данных\n",
    "                              labels = ['быстрые', 'Средние1', 'Средние2', 'Долгие'] #наименование \n",
    "                              )"
   ]
  },
  {
   "cell_type": "code",
   "execution_count": 88,
   "id": "58b6153a",
   "metadata": {},
   "outputs": [
    {
     "data": {
      "text/html": [
       "<div>\n",
       "<style scoped>\n",
       "    .dataframe tbody tr th:only-of-type {\n",
       "        vertical-align: middle;\n",
       "    }\n",
       "\n",
       "    .dataframe tbody tr th {\n",
       "        vertical-align: top;\n",
       "    }\n",
       "\n",
       "    .dataframe thead th {\n",
       "        text-align: right;\n",
       "    }\n",
       "</style>\n",
       "<table border=\"1\" class=\"dataframe\">\n",
       "  <thead>\n",
       "    <tr style=\"text-align: right;\">\n",
       "      <th></th>\n",
       "      <th>count</th>\n",
       "      <th>mean</th>\n",
       "      <th>std</th>\n",
       "      <th>min</th>\n",
       "      <th>25%</th>\n",
       "      <th>50%</th>\n",
       "      <th>75%</th>\n",
       "      <th>max</th>\n",
       "    </tr>\n",
       "    <tr>\n",
       "      <th>group_days</th>\n",
       "      <th></th>\n",
       "      <th></th>\n",
       "      <th></th>\n",
       "      <th></th>\n",
       "      <th></th>\n",
       "      <th></th>\n",
       "      <th></th>\n",
       "      <th></th>\n",
       "    </tr>\n",
       "  </thead>\n",
       "  <tbody>\n",
       "    <tr>\n",
       "      <td>быстрые</td>\n",
       "      <td>5799.0</td>\n",
       "      <td>5.968098</td>\n",
       "      <td>7.498293</td>\n",
       "      <td>0.0</td>\n",
       "      <td>0.0</td>\n",
       "      <td>0.0</td>\n",
       "      <td>11.0</td>\n",
       "      <td>23.0</td>\n",
       "    </tr>\n",
       "    <tr>\n",
       "      <td>Средние1</td>\n",
       "      <td>5680.0</td>\n",
       "      <td>47.456338</td>\n",
       "      <td>13.324662</td>\n",
       "      <td>24.0</td>\n",
       "      <td>37.0</td>\n",
       "      <td>45.0</td>\n",
       "      <td>60.0</td>\n",
       "      <td>73.0</td>\n",
       "    </tr>\n",
       "    <tr>\n",
       "      <td>Средние2</td>\n",
       "      <td>5676.0</td>\n",
       "      <td>124.908562</td>\n",
       "      <td>34.893650</td>\n",
       "      <td>74.0</td>\n",
       "      <td>93.0</td>\n",
       "      <td>119.0</td>\n",
       "      <td>154.0</td>\n",
       "      <td>196.0</td>\n",
       "    </tr>\n",
       "    <tr>\n",
       "      <td>Долгие</td>\n",
       "      <td>5684.0</td>\n",
       "      <td>443.871745</td>\n",
       "      <td>243.516491</td>\n",
       "      <td>197.0</td>\n",
       "      <td>265.0</td>\n",
       "      <td>367.5</td>\n",
       "      <td>545.0</td>\n",
       "      <td>1580.0</td>\n",
       "    </tr>\n",
       "  </tbody>\n",
       "</table>\n",
       "</div>"
      ],
      "text/plain": [
       "             count        mean         std    min    25%    50%    75%     max\n",
       "group_days                                                                    \n",
       "быстрые     5799.0    5.968098    7.498293    0.0    0.0    0.0   11.0    23.0\n",
       "Средние1    5680.0   47.456338   13.324662   24.0   37.0   45.0   60.0    73.0\n",
       "Средние2    5676.0  124.908562   34.893650   74.0   93.0  119.0  154.0   196.0\n",
       "Долгие      5684.0  443.871745  243.516491  197.0  265.0  367.5  545.0  1580.0"
      ]
     },
     "execution_count": 88,
     "metadata": {},
     "output_type": "execute_result"
    }
   ],
   "source": [
    "df_filter.groupby('group_days')['days_exposition'].describe()"
   ]
  },
  {
   "cell_type": "markdown",
   "id": "eb18c397",
   "metadata": {},
   "source": [
    "Самые долгие минимальное количество дней 197. Расмотрим их подробнее 6 месяцев"
   ]
  },
  {
   "cell_type": "code",
   "execution_count": 89,
   "id": "46e404ca",
   "metadata": {},
   "outputs": [],
   "source": [
    "sample_time_long = df_filter.loc[df_filter['group_days'] == 'Долгие']"
   ]
  },
  {
   "cell_type": "code",
   "execution_count": 90,
   "id": "b78204a5",
   "metadata": {},
   "outputs": [],
   "source": [
    "sample_time_long = sample_time_long[['total_area', 'last_price', 'kitchen_area', 'oblast', 'days_exposition','type_floor']]"
   ]
  },
  {
   "cell_type": "code",
   "execution_count": 91,
   "id": "8b194fc1",
   "metadata": {},
   "outputs": [
    {
     "data": {
      "text/html": [
       "<div>\n",
       "<style scoped>\n",
       "    .dataframe tbody tr th:only-of-type {\n",
       "        vertical-align: middle;\n",
       "    }\n",
       "\n",
       "    .dataframe tbody tr th {\n",
       "        vertical-align: top;\n",
       "    }\n",
       "\n",
       "    .dataframe thead tr th {\n",
       "        text-align: left;\n",
       "    }\n",
       "\n",
       "    .dataframe thead tr:last-of-type th {\n",
       "        text-align: right;\n",
       "    }\n",
       "</style>\n",
       "<table border=\"1\" class=\"dataframe\">\n",
       "  <thead>\n",
       "    <tr>\n",
       "      <th></th>\n",
       "      <th colspan=\"2\" halign=\"left\">median</th>\n",
       "    </tr>\n",
       "    <tr>\n",
       "      <th></th>\n",
       "      <th>days_exposition</th>\n",
       "      <th>total_area</th>\n",
       "    </tr>\n",
       "    <tr>\n",
       "      <th>oblast</th>\n",
       "      <th></th>\n",
       "      <th></th>\n",
       "    </tr>\n",
       "  </thead>\n",
       "  <tbody>\n",
       "    <tr>\n",
       "      <td>Область</td>\n",
       "      <td>360</td>\n",
       "      <td>48.0</td>\n",
       "    </tr>\n",
       "    <tr>\n",
       "      <td>Санкт-Петербург</td>\n",
       "      <td>372</td>\n",
       "      <td>58.3</td>\n",
       "    </tr>\n",
       "  </tbody>\n",
       "</table>\n",
       "</div>"
      ],
      "text/plain": [
       "                         median           \n",
       "                days_exposition total_area\n",
       "oblast                                    \n",
       "Область                     360       48.0\n",
       "Санкт-Петербург             372       58.3"
      ]
     },
     "execution_count": 91,
     "metadata": {},
     "output_type": "execute_result"
    }
   ],
   "source": [
    "sample_time_long.pivot_table(\n",
    "    index = 'oblast', \n",
    "    values = ['total_area', 'days_exposition'],\n",
    "    aggfunc = ['median']\n",
    "                                       )"
   ]
  },
  {
   "cell_type": "code",
   "execution_count": 92,
   "id": "379ffea2",
   "metadata": {},
   "outputs": [
    {
     "data": {
      "text/html": [
       "<div>\n",
       "<style scoped>\n",
       "    .dataframe tbody tr th:only-of-type {\n",
       "        vertical-align: middle;\n",
       "    }\n",
       "\n",
       "    .dataframe tbody tr th {\n",
       "        vertical-align: top;\n",
       "    }\n",
       "\n",
       "    .dataframe thead tr th {\n",
       "        text-align: left;\n",
       "    }\n",
       "\n",
       "    .dataframe thead tr:last-of-type th {\n",
       "        text-align: right;\n",
       "    }\n",
       "</style>\n",
       "<table border=\"1\" class=\"dataframe\">\n",
       "  <thead>\n",
       "    <tr>\n",
       "      <th></th>\n",
       "      <th colspan=\"2\" halign=\"left\">median</th>\n",
       "    </tr>\n",
       "    <tr>\n",
       "      <th></th>\n",
       "      <th>days_exposition</th>\n",
       "      <th>last_price</th>\n",
       "    </tr>\n",
       "    <tr>\n",
       "      <th>oblast</th>\n",
       "      <th></th>\n",
       "      <th></th>\n",
       "    </tr>\n",
       "  </thead>\n",
       "  <tbody>\n",
       "    <tr>\n",
       "      <td>Область</td>\n",
       "      <td>360</td>\n",
       "      <td>3200000.0</td>\n",
       "    </tr>\n",
       "    <tr>\n",
       "      <td>Санкт-Петербург</td>\n",
       "      <td>372</td>\n",
       "      <td>5771378.5</td>\n",
       "    </tr>\n",
       "  </tbody>\n",
       "</table>\n",
       "</div>"
      ],
      "text/plain": [
       "                         median           \n",
       "                days_exposition last_price\n",
       "oblast                                    \n",
       "Область                     360  3200000.0\n",
       "Санкт-Петербург             372  5771378.5"
      ]
     },
     "execution_count": 92,
     "metadata": {},
     "output_type": "execute_result"
    }
   ],
   "source": [
    "sample_time_long.pivot_table(\n",
    "    index = 'oblast', \n",
    "    values = ['last_price', 'days_exposition'],\n",
    "    aggfunc = ['median']\n",
    "                                       )"
   ]
  },
  {
   "cell_type": "code",
   "execution_count": 93,
   "id": "8827367e",
   "metadata": {},
   "outputs": [
    {
     "data": {
      "text/html": [
       "<div>\n",
       "<style scoped>\n",
       "    .dataframe tbody tr th:only-of-type {\n",
       "        vertical-align: middle;\n",
       "    }\n",
       "\n",
       "    .dataframe tbody tr th {\n",
       "        vertical-align: top;\n",
       "    }\n",
       "\n",
       "    .dataframe thead tr th {\n",
       "        text-align: left;\n",
       "    }\n",
       "\n",
       "    .dataframe thead tr:last-of-type th {\n",
       "        text-align: right;\n",
       "    }\n",
       "</style>\n",
       "<table border=\"1\" class=\"dataframe\">\n",
       "  <thead>\n",
       "    <tr>\n",
       "      <th></th>\n",
       "      <th colspan=\"2\" halign=\"left\">median</th>\n",
       "    </tr>\n",
       "    <tr>\n",
       "      <th></th>\n",
       "      <th>days_exposition</th>\n",
       "      <th>kitchen_area</th>\n",
       "    </tr>\n",
       "    <tr>\n",
       "      <th>oblast</th>\n",
       "      <th></th>\n",
       "      <th></th>\n",
       "    </tr>\n",
       "  </thead>\n",
       "  <tbody>\n",
       "    <tr>\n",
       "      <td>Область</td>\n",
       "      <td>360</td>\n",
       "      <td>8.7</td>\n",
       "    </tr>\n",
       "    <tr>\n",
       "      <td>Санкт-Петербург</td>\n",
       "      <td>372</td>\n",
       "      <td>10.0</td>\n",
       "    </tr>\n",
       "  </tbody>\n",
       "</table>\n",
       "</div>"
      ],
      "text/plain": [
       "                         median             \n",
       "                days_exposition kitchen_area\n",
       "oblast                                      \n",
       "Область                     360          8.7\n",
       "Санкт-Петербург             372         10.0"
      ]
     },
     "execution_count": 93,
     "metadata": {},
     "output_type": "execute_result"
    }
   ],
   "source": [
    "sample_time_long.pivot_table(\n",
    "    index = 'oblast', \n",
    "    values = ['kitchen_area', 'days_exposition'],\n",
    "    aggfunc = ['median']\n",
    "                                       )"
   ]
  },
  {
   "cell_type": "code",
   "execution_count": 94,
   "id": "26854226",
   "metadata": {},
   "outputs": [
    {
     "data": {
      "text/html": [
       "<div>\n",
       "<style scoped>\n",
       "    .dataframe tbody tr th:only-of-type {\n",
       "        vertical-align: middle;\n",
       "    }\n",
       "\n",
       "    .dataframe tbody tr th {\n",
       "        vertical-align: top;\n",
       "    }\n",
       "\n",
       "    .dataframe thead tr th {\n",
       "        text-align: left;\n",
       "    }\n",
       "\n",
       "    .dataframe thead tr:last-of-type th {\n",
       "        text-align: right;\n",
       "    }\n",
       "</style>\n",
       "<table border=\"1\" class=\"dataframe\">\n",
       "  <thead>\n",
       "    <tr>\n",
       "      <th></th>\n",
       "      <th colspan=\"4\" halign=\"left\">median</th>\n",
       "    </tr>\n",
       "    <tr>\n",
       "      <th></th>\n",
       "      <th>days_exposition</th>\n",
       "      <th>kitchen_area</th>\n",
       "      <th>last_price</th>\n",
       "      <th>total_area</th>\n",
       "    </tr>\n",
       "    <tr>\n",
       "      <th>oblast</th>\n",
       "      <th></th>\n",
       "      <th></th>\n",
       "      <th></th>\n",
       "      <th></th>\n",
       "    </tr>\n",
       "  </thead>\n",
       "  <tbody>\n",
       "    <tr>\n",
       "      <td>Область</td>\n",
       "      <td>360</td>\n",
       "      <td>8.7</td>\n",
       "      <td>3200000.0</td>\n",
       "      <td>48.0</td>\n",
       "    </tr>\n",
       "    <tr>\n",
       "      <td>Санкт-Петербург</td>\n",
       "      <td>372</td>\n",
       "      <td>10.0</td>\n",
       "      <td>5771378.5</td>\n",
       "      <td>58.3</td>\n",
       "    </tr>\n",
       "  </tbody>\n",
       "</table>\n",
       "</div>"
      ],
      "text/plain": [
       "                         median                                   \n",
       "                days_exposition kitchen_area last_price total_area\n",
       "oblast                                                            \n",
       "Область                     360          8.7  3200000.0       48.0\n",
       "Санкт-Петербург             372         10.0  5771378.5       58.3"
      ]
     },
     "execution_count": 94,
     "metadata": {},
     "output_type": "execute_result"
    }
   ],
   "source": [
    "sample_time_long.pivot_table(\n",
    "    index = 'oblast', \n",
    "    values = ['kitchen_area', 'days_exposition', 'last_price', 'total_area'],\n",
    "    aggfunc = ['median']\n",
    "                                       )"
   ]
  },
  {
   "cell_type": "code",
   "execution_count": 95,
   "id": "94164884",
   "metadata": {},
   "outputs": [
    {
     "data": {
      "text/html": [
       "<div>\n",
       "<style scoped>\n",
       "    .dataframe tbody tr th:only-of-type {\n",
       "        vertical-align: middle;\n",
       "    }\n",
       "\n",
       "    .dataframe tbody tr th {\n",
       "        vertical-align: top;\n",
       "    }\n",
       "\n",
       "    .dataframe thead tr th {\n",
       "        text-align: left;\n",
       "    }\n",
       "\n",
       "    .dataframe thead tr:last-of-type th {\n",
       "        text-align: right;\n",
       "    }\n",
       "</style>\n",
       "<table border=\"1\" class=\"dataframe\">\n",
       "  <thead>\n",
       "    <tr>\n",
       "      <th></th>\n",
       "      <th colspan=\"4\" halign=\"left\">median</th>\n",
       "    </tr>\n",
       "    <tr>\n",
       "      <th></th>\n",
       "      <th>days_exposition</th>\n",
       "      <th>kitchen_area</th>\n",
       "      <th>last_price</th>\n",
       "      <th>total_area</th>\n",
       "    </tr>\n",
       "    <tr>\n",
       "      <th>type_floor</th>\n",
       "      <th></th>\n",
       "      <th></th>\n",
       "      <th></th>\n",
       "      <th></th>\n",
       "    </tr>\n",
       "  </thead>\n",
       "  <tbody>\n",
       "    <tr>\n",
       "      <td>Другой</td>\n",
       "      <td>365</td>\n",
       "      <td>10.0</td>\n",
       "      <td>5000000</td>\n",
       "      <td>55.00</td>\n",
       "    </tr>\n",
       "    <tr>\n",
       "      <td>Первый</td>\n",
       "      <td>374</td>\n",
       "      <td>8.3</td>\n",
       "      <td>3985000</td>\n",
       "      <td>52.05</td>\n",
       "    </tr>\n",
       "    <tr>\n",
       "      <td>Последний</td>\n",
       "      <td>379</td>\n",
       "      <td>9.0</td>\n",
       "      <td>4400000</td>\n",
       "      <td>55.00</td>\n",
       "    </tr>\n",
       "  </tbody>\n",
       "</table>\n",
       "</div>"
      ],
      "text/plain": [
       "                    median                                   \n",
       "           days_exposition kitchen_area last_price total_area\n",
       "type_floor                                                   \n",
       "Другой                 365         10.0    5000000      55.00\n",
       "Первый                 374          8.3    3985000      52.05\n",
       "Последний              379          9.0    4400000      55.00"
      ]
     },
     "execution_count": 95,
     "metadata": {},
     "output_type": "execute_result"
    }
   ],
   "source": [
    "sample_time_long.pivot_table(\n",
    "    index = 'type_floor', \n",
    "    values = ['kitchen_area', 'days_exposition', 'last_price', 'total_area'],\n",
    "    aggfunc = ['median']\n",
    "                                       )"
   ]
  },
  {
   "cell_type": "markdown",
   "id": "ce66d930",
   "metadata": {},
   "source": [
    "На время влияет цена и на каком этаже находиться, но это относиться ко всему фрейму.\n"
   ]
  },
  {
   "cell_type": "markdown",
   "id": "798d0b39",
   "metadata": {},
   "source": [
    "## Исследование факторов, влияющих на стоимость квартиры"
   ]
  },
  {
   "cell_type": "markdown",
   "id": "08b6315b",
   "metadata": {},
   "source": [
    "### Зависимость цены от площади"
   ]
  },
  {
   "cell_type": "code",
   "execution_count": 96,
   "id": "0dfb43f7",
   "metadata": {},
   "outputs": [
    {
     "data": {
      "text/plain": [
       "Text(0.5, 1.0, 'Зависимость цены кв.м2 от площади')"
      ]
     },
     "execution_count": 96,
     "metadata": {},
     "output_type": "execute_result"
    },
    {
     "data": {
      "image/png": "[encoded data removed]",
      "text/plain": [
       "<Figure size 432x288 with 1 Axes>"
      ]
     },
     "metadata": {
      "needs_background": "light"
     },
     "output_type": "display_data"
    }
   ],
   "source": [
    "df_filter.plot(x = 'price_m2', y = 'total_area', kind='scatter', alpha=0.09)\n",
    "plt.title('Зависимость цены кв.м2 от площади')"
   ]
  },
  {
   "cell_type": "code",
   "execution_count": 97,
   "id": "f6016b66",
   "metadata": {},
   "outputs": [
    {
     "data": {
      "text/plain": [
       "Text(0.5, 1.0, 'Зависимость цены от площади')"
      ]
     },
     "execution_count": 97,
     "metadata": {},
     "output_type": "execute_result"
    },
    {
     "data": {
      "image/png": "[encoded data removed]",
      "text/plain": [
       "<Figure size 432x288 with 1 Axes>"
      ]
     },
     "metadata": {
      "needs_background": "light"
     },
     "output_type": "display_data"
    }
   ],
   "source": [
    "df_filter.plot(x = 'last_price', y = 'total_area', kind='scatter', alpha=0.05)\n",
    "plt.title('Зависимость цены от площади')"
   ]
  },
  {
   "cell_type": "markdown",
   "id": "b939ca29",
   "metadata": {},
   "source": [
    " Основная масса предложений сконцентрировано в диапозоне до 2 млн.  \n",
    " Наблюдаеться резкий рост стоимости квартиры от 20 метров до 120. После этого диапозон цен начианает увеличиваться.\n"
   ]
  },
  {
   "cell_type": "code",
   "execution_count": 98,
   "id": "085fff13",
   "metadata": {},
   "outputs": [
    {
     "data": {
      "image/png": "[encoded data removed]",
      "text/plain": [
       "<Figure size 432x288 with 1 Axes>"
      ]
     },
     "metadata": {
      "needs_background": "light"
     },
     "output_type": "display_data"
    }
   ],
   "source": [
    "df_filter.plot(x = 'price_m2', y = 'kitchen_area', kind='scatter', alpha=0.03)\n",
    "plt.title('Зависимость цены кв.м2 от площади кухни')\n",
    "plt.show()"
   ]
  },
  {
   "cell_type": "code",
   "execution_count": 99,
   "id": "2ee36697",
   "metadata": {},
   "outputs": [
    {
     "data": {
      "image/png": "[encoded data removed]",
      "text/plain": [
       "<Figure size 432x288 with 1 Axes>"
      ]
     },
     "metadata": {
      "needs_background": "light"
     },
     "output_type": "display_data"
    }
   ],
   "source": [
    "df_filter.plot(x = 'price_m2', y = 'rooms', kind='scatter', alpha=0.1)\n",
    "plt.title('Зависимость цены кв.м2 от количества комнат')\n",
    "plt.show()"
   ]
  },
  {
   "cell_type": "markdown",
   "id": "fe466fbb",
   "metadata": {},
   "source": [
    "Количество комнат влияет на диапозон цен. Минимальный диапозон где нет комнат (Общая кухня и комната).\n",
    "С увеличением комант диапозон значительно увеличиветься. Начиная с 4 комнат начинает уменьшаться количество предложений. \n",
    "С пяти комнат диапозон начинает сужаться сдвигаясь вправо."
   ]
  },
  {
   "cell_type": "code",
   "execution_count": 100,
   "id": "b91bdfe6",
   "metadata": {},
   "outputs": [
    {
     "data": {
      "image/png": "[encoded data removed]",
      "text/plain": [
       "<Figure size 432x288 with 1 Axes>"
      ]
     },
     "metadata": {
      "needs_background": "light"
     },
     "output_type": "display_data"
    }
   ],
   "source": [
    "df_filter.plot(x = 'price_m2', y = 'ceiling_height', kind='scatter', alpha=0.05)\n",
    "plt.title('Зависимость цены кв.м2 от потолков')\n",
    "plt.show()"
   ]
  },
  {
   "cell_type": "markdown",
   "id": "44eedd5b",
   "metadata": {},
   "source": [
    "Высота потолков незначительно влияет на цену. Взаимосвязанный показатель от количества комнат и общей площади."
   ]
  },
  {
   "cell_type": "code",
   "execution_count": 101,
   "id": "247be3e4",
   "metadata": {},
   "outputs": [
    {
     "data": {
      "image/png": "[encoded data removed]",
      "text/plain": [
       "<Figure size 432x288 with 1 Axes>"
      ]
     },
     "metadata": {
      "needs_background": "light"
     },
     "output_type": "display_data"
    }
   ],
   "source": [
    "df_filter.boxplot(column='price_m2', by='type_floor' )\n",
    "plt.ylim(1, 250000)\n",
    "plt.title('Зависимость цены кв.м2 от типа этажа')\n",
    "plt.ylabel('price_m2')\n",
    "plt.show()"
   ]
  },
  {
   "cell_type": "markdown",
   "id": "8e3b81cd",
   "metadata": {},
   "source": [
    "Ожидаемо цена на первом и последнем этаже меньше. При этом выбросы по ценам на первом этаже меньше."
   ]
  },
  {
   "cell_type": "markdown",
   "id": "915580a2",
   "metadata": {},
   "source": [
    "## Анализ изменения цены по степени удалённости от центра"
   ]
  },
  {
   "cell_type": "markdown",
   "id": "0770a107",
   "metadata": {},
   "source": [
    "Переведем растояние до центра в км"
   ]
  },
  {
   "cell_type": "code",
   "execution_count": 102,
   "id": "6d9d1e93",
   "metadata": {},
   "outputs": [
    {
     "data": {
      "text/plain": [
       "count    17376.000000\n",
       "mean     14469.426105\n",
       "std       8530.758255\n",
       "min        181.000000\n",
       "25%       9791.000000\n",
       "50%      13261.000000\n",
       "75%      16425.000000\n",
       "max      65968.000000\n",
       "Name: cityCenters_nearest, dtype: float64"
      ]
     },
     "execution_count": 102,
     "metadata": {},
     "output_type": "execute_result"
    }
   ],
   "source": [
    " df_filter['cityCenters_nearest'].describe()"
   ]
  },
  {
   "cell_type": "code",
   "execution_count": 103,
   "id": "c32e64d3",
   "metadata": {},
   "outputs": [],
   "source": [
    "df_filter['center_nearest_km'] = df_filter.loc[~df['cityCenters_nearest'].isna()]['cityCenters_nearest'] // 1000\n",
    "    "
   ]
  },
  {
   "cell_type": "code",
   "execution_count": 104,
   "id": "0ee6bf46",
   "metadata": {},
   "outputs": [
    {
     "data": {
      "text/plain": [
       "0        16.0\n",
       "1        18.0\n",
       "2        13.0\n",
       "4         8.0\n",
       "5         NaN\n",
       "         ... \n",
       "23693    34.0\n",
       "23695     NaN\n",
       "23696     NaN\n",
       "23697    10.0\n",
       "23698     NaN\n",
       "Name: center_nearest_km, Length: 22839, dtype: float64"
      ]
     },
     "execution_count": 104,
     "metadata": {},
     "output_type": "execute_result"
    }
   ],
   "source": [
    "df_filter['center_nearest_km'].round()"
   ]
  },
  {
   "cell_type": "code",
   "execution_count": 105,
   "id": "c2fb8a86",
   "metadata": {},
   "outputs": [
    {
     "data": {
      "text/html": [
       "<div>\n",
       "<style scoped>\n",
       "    .dataframe tbody tr th:only-of-type {\n",
       "        vertical-align: middle;\n",
       "    }\n",
       "\n",
       "    .dataframe tbody tr th {\n",
       "        vertical-align: top;\n",
       "    }\n",
       "\n",
       "    .dataframe thead th {\n",
       "        text-align: right;\n",
       "    }\n",
       "</style>\n",
       "<table border=\"1\" class=\"dataframe\">\n",
       "  <thead>\n",
       "    <tr style=\"text-align: right;\">\n",
       "      <th></th>\n",
       "      <th>total_images</th>\n",
       "      <th>last_price</th>\n",
       "      <th>total_area</th>\n",
       "      <th>first_day_exposition</th>\n",
       "      <th>rooms</th>\n",
       "      <th>ceiling_height</th>\n",
       "      <th>floors_total</th>\n",
       "      <th>living_area</th>\n",
       "      <th>floor</th>\n",
       "      <th>is_apartment</th>\n",
       "      <th>...</th>\n",
       "      <th>oblast</th>\n",
       "      <th>type_floor</th>\n",
       "      <th>day_week</th>\n",
       "      <th>month</th>\n",
       "      <th>year</th>\n",
       "      <th>price_m2</th>\n",
       "      <th>% living</th>\n",
       "      <th>% kitchen</th>\n",
       "      <th>group_days</th>\n",
       "      <th>center_nearest_km</th>\n",
       "    </tr>\n",
       "  </thead>\n",
       "  <tbody>\n",
       "    <tr>\n",
       "      <td>0</td>\n",
       "      <td>20</td>\n",
       "      <td>13000000</td>\n",
       "      <td>108.0</td>\n",
       "      <td>2019-03-07</td>\n",
       "      <td>3</td>\n",
       "      <td>2.70</td>\n",
       "      <td>16</td>\n",
       "      <td>51.0</td>\n",
       "      <td>8</td>\n",
       "      <td>False</td>\n",
       "      <td>...</td>\n",
       "      <td>Санкт-Петербург</td>\n",
       "      <td>Другой</td>\n",
       "      <td>3</td>\n",
       "      <td>3</td>\n",
       "      <td>2019</td>\n",
       "      <td>120370.370370</td>\n",
       "      <td>0.472222</td>\n",
       "      <td>0.231481</td>\n",
       "      <td>быстрые</td>\n",
       "      <td>16.0</td>\n",
       "    </tr>\n",
       "    <tr>\n",
       "      <td>1</td>\n",
       "      <td>7</td>\n",
       "      <td>3350000</td>\n",
       "      <td>40.4</td>\n",
       "      <td>2018-12-04</td>\n",
       "      <td>1</td>\n",
       "      <td>2.60</td>\n",
       "      <td>11</td>\n",
       "      <td>18.6</td>\n",
       "      <td>1</td>\n",
       "      <td>False</td>\n",
       "      <td>...</td>\n",
       "      <td>Область</td>\n",
       "      <td>Первый</td>\n",
       "      <td>1</td>\n",
       "      <td>12</td>\n",
       "      <td>2018</td>\n",
       "      <td>82920.792079</td>\n",
       "      <td>0.460396</td>\n",
       "      <td>0.272277</td>\n",
       "      <td>Средние2</td>\n",
       "      <td>18.0</td>\n",
       "    </tr>\n",
       "    <tr>\n",
       "      <td>2</td>\n",
       "      <td>10</td>\n",
       "      <td>5196000</td>\n",
       "      <td>56.0</td>\n",
       "      <td>2015-08-20</td>\n",
       "      <td>2</td>\n",
       "      <td>2.60</td>\n",
       "      <td>5</td>\n",
       "      <td>34.3</td>\n",
       "      <td>4</td>\n",
       "      <td>False</td>\n",
       "      <td>...</td>\n",
       "      <td>Санкт-Петербург</td>\n",
       "      <td>Другой</td>\n",
       "      <td>3</td>\n",
       "      <td>8</td>\n",
       "      <td>2015</td>\n",
       "      <td>92785.714286</td>\n",
       "      <td>0.612500</td>\n",
       "      <td>0.148214</td>\n",
       "      <td>Долгие</td>\n",
       "      <td>13.0</td>\n",
       "    </tr>\n",
       "    <tr>\n",
       "      <td>4</td>\n",
       "      <td>2</td>\n",
       "      <td>10000000</td>\n",
       "      <td>100.0</td>\n",
       "      <td>2018-06-19</td>\n",
       "      <td>2</td>\n",
       "      <td>3.03</td>\n",
       "      <td>14</td>\n",
       "      <td>32.0</td>\n",
       "      <td>13</td>\n",
       "      <td>False</td>\n",
       "      <td>...</td>\n",
       "      <td>Санкт-Петербург</td>\n",
       "      <td>Другой</td>\n",
       "      <td>1</td>\n",
       "      <td>6</td>\n",
       "      <td>2018</td>\n",
       "      <td>100000.000000</td>\n",
       "      <td>0.320000</td>\n",
       "      <td>0.410000</td>\n",
       "      <td>Средние2</td>\n",
       "      <td>8.0</td>\n",
       "    </tr>\n",
       "    <tr>\n",
       "      <td>5</td>\n",
       "      <td>10</td>\n",
       "      <td>2890000</td>\n",
       "      <td>30.4</td>\n",
       "      <td>2018-09-10</td>\n",
       "      <td>1</td>\n",
       "      <td>2.60</td>\n",
       "      <td>12</td>\n",
       "      <td>14.4</td>\n",
       "      <td>5</td>\n",
       "      <td>False</td>\n",
       "      <td>...</td>\n",
       "      <td>Область</td>\n",
       "      <td>Другой</td>\n",
       "      <td>0</td>\n",
       "      <td>9</td>\n",
       "      <td>2018</td>\n",
       "      <td>95065.789474</td>\n",
       "      <td>0.473684</td>\n",
       "      <td>0.299342</td>\n",
       "      <td>Средние1</td>\n",
       "      <td>NaN</td>\n",
       "    </tr>\n",
       "  </tbody>\n",
       "</table>\n",
       "<p>5 rows × 33 columns</p>\n",
       "</div>"
      ],
      "text/plain": [
       "   total_images  last_price  total_area first_day_exposition  rooms  \\\n",
       "0            20    13000000       108.0           2019-03-07      3   \n",
       "1             7     3350000        40.4           2018-12-04      1   \n",
       "2            10     5196000        56.0           2015-08-20      2   \n",
       "4             2    10000000       100.0           2018-06-19      2   \n",
       "5            10     2890000        30.4           2018-09-10      1   \n",
       "\n",
       "   ceiling_height  floors_total  living_area  floor  is_apartment  ...  \\\n",
       "0            2.70            16         51.0      8         False  ...   \n",
       "1            2.60            11         18.6      1         False  ...   \n",
       "2            2.60             5         34.3      4         False  ...   \n",
       "4            3.03            14         32.0     13         False  ...   \n",
       "5            2.60            12         14.4      5         False  ...   \n",
       "\n",
       "            oblast  type_floor  day_week  month  year       price_m2  \\\n",
       "0  Санкт-Петербург      Другой         3      3  2019  120370.370370   \n",
       "1          Область      Первый         1     12  2018   82920.792079   \n",
       "2  Санкт-Петербург      Другой         3      8  2015   92785.714286   \n",
       "4  Санкт-Петербург      Другой         1      6  2018  100000.000000   \n",
       "5          Область      Другой         0      9  2018   95065.789474   \n",
       "\n",
       "   % living  % kitchen  group_days  center_nearest_km  \n",
       "0  0.472222   0.231481     быстрые               16.0  \n",
       "1  0.460396   0.272277    Средние2               18.0  \n",
       "2  0.612500   0.148214      Долгие               13.0  \n",
       "4  0.320000   0.410000    Средние2                8.0  \n",
       "5  0.473684   0.299342    Средние1                NaN  \n",
       "\n",
       "[5 rows x 33 columns]"
      ]
     },
     "execution_count": 105,
     "metadata": {},
     "output_type": "execute_result"
    }
   ],
   "source": [
    "df_filter.head()"
   ]
  },
  {
   "cell_type": "markdown",
   "id": "4bd0a9a2",
   "metadata": {},
   "source": [
    "Посчитаем цену за км"
   ]
  },
  {
   "cell_type": "code",
   "execution_count": 106,
   "id": "3c64ba10",
   "metadata": {},
   "outputs": [],
   "source": [
    "df_filter_piter = df_filter.loc[df_filter['locality_name'] == 'Санкт-Петербург']"
   ]
  },
  {
   "cell_type": "code",
   "execution_count": 107,
   "id": "ddd3f46e",
   "metadata": {},
   "outputs": [],
   "source": [
    "df_filter_piter['price_km'] = df_filter_piter['price_m2'] // df_filter_piter['center_nearest_km']"
   ]
  },
  {
   "cell_type": "code",
   "execution_count": 108,
   "id": "dcf610b8",
   "metadata": {},
   "outputs": [
    {
     "data": {
      "text/html": [
       "<div>\n",
       "<style scoped>\n",
       "    .dataframe tbody tr th:only-of-type {\n",
       "        vertical-align: middle;\n",
       "    }\n",
       "\n",
       "    .dataframe tbody tr th {\n",
       "        vertical-align: top;\n",
       "    }\n",
       "\n",
       "    .dataframe thead th {\n",
       "        text-align: right;\n",
       "    }\n",
       "</style>\n",
       "<table border=\"1\" class=\"dataframe\">\n",
       "  <thead>\n",
       "    <tr style=\"text-align: right;\">\n",
       "      <th></th>\n",
       "      <th>total_images</th>\n",
       "      <th>last_price</th>\n",
       "      <th>total_area</th>\n",
       "      <th>first_day_exposition</th>\n",
       "      <th>rooms</th>\n",
       "      <th>ceiling_height</th>\n",
       "      <th>floors_total</th>\n",
       "      <th>living_area</th>\n",
       "      <th>floor</th>\n",
       "      <th>is_apartment</th>\n",
       "      <th>...</th>\n",
       "      <th>type_floor</th>\n",
       "      <th>day_week</th>\n",
       "      <th>month</th>\n",
       "      <th>year</th>\n",
       "      <th>price_m2</th>\n",
       "      <th>% living</th>\n",
       "      <th>% kitchen</th>\n",
       "      <th>group_days</th>\n",
       "      <th>center_nearest_km</th>\n",
       "      <th>price_km</th>\n",
       "    </tr>\n",
       "  </thead>\n",
       "  <tbody>\n",
       "    <tr>\n",
       "      <td>0</td>\n",
       "      <td>20</td>\n",
       "      <td>13000000</td>\n",
       "      <td>108.0</td>\n",
       "      <td>2019-03-07</td>\n",
       "      <td>3</td>\n",
       "      <td>2.70</td>\n",
       "      <td>16</td>\n",
       "      <td>51.0</td>\n",
       "      <td>8</td>\n",
       "      <td>False</td>\n",
       "      <td>...</td>\n",
       "      <td>Другой</td>\n",
       "      <td>3</td>\n",
       "      <td>3</td>\n",
       "      <td>2019</td>\n",
       "      <td>120370.370370</td>\n",
       "      <td>0.472222</td>\n",
       "      <td>0.231481</td>\n",
       "      <td>быстрые</td>\n",
       "      <td>16.0</td>\n",
       "      <td>7523.0</td>\n",
       "    </tr>\n",
       "    <tr>\n",
       "      <td>2</td>\n",
       "      <td>10</td>\n",
       "      <td>5196000</td>\n",
       "      <td>56.0</td>\n",
       "      <td>2015-08-20</td>\n",
       "      <td>2</td>\n",
       "      <td>2.60</td>\n",
       "      <td>5</td>\n",
       "      <td>34.3</td>\n",
       "      <td>4</td>\n",
       "      <td>False</td>\n",
       "      <td>...</td>\n",
       "      <td>Другой</td>\n",
       "      <td>3</td>\n",
       "      <td>8</td>\n",
       "      <td>2015</td>\n",
       "      <td>92785.714286</td>\n",
       "      <td>0.612500</td>\n",
       "      <td>0.148214</td>\n",
       "      <td>Долгие</td>\n",
       "      <td>13.0</td>\n",
       "      <td>7137.0</td>\n",
       "    </tr>\n",
       "    <tr>\n",
       "      <td>4</td>\n",
       "      <td>2</td>\n",
       "      <td>10000000</td>\n",
       "      <td>100.0</td>\n",
       "      <td>2018-06-19</td>\n",
       "      <td>2</td>\n",
       "      <td>3.03</td>\n",
       "      <td>14</td>\n",
       "      <td>32.0</td>\n",
       "      <td>13</td>\n",
       "      <td>False</td>\n",
       "      <td>...</td>\n",
       "      <td>Другой</td>\n",
       "      <td>1</td>\n",
       "      <td>6</td>\n",
       "      <td>2018</td>\n",
       "      <td>100000.000000</td>\n",
       "      <td>0.320000</td>\n",
       "      <td>0.410000</td>\n",
       "      <td>Средние2</td>\n",
       "      <td>8.0</td>\n",
       "      <td>12500.0</td>\n",
       "    </tr>\n",
       "    <tr>\n",
       "      <td>7</td>\n",
       "      <td>5</td>\n",
       "      <td>7915000</td>\n",
       "      <td>71.6</td>\n",
       "      <td>2019-04-18</td>\n",
       "      <td>2</td>\n",
       "      <td>2.75</td>\n",
       "      <td>24</td>\n",
       "      <td>29.1</td>\n",
       "      <td>22</td>\n",
       "      <td>False</td>\n",
       "      <td>...</td>\n",
       "      <td>Другой</td>\n",
       "      <td>3</td>\n",
       "      <td>4</td>\n",
       "      <td>2019</td>\n",
       "      <td>110544.692737</td>\n",
       "      <td>0.406425</td>\n",
       "      <td>0.263966</td>\n",
       "      <td>быстрые</td>\n",
       "      <td>11.0</td>\n",
       "      <td>10049.0</td>\n",
       "    </tr>\n",
       "    <tr>\n",
       "      <td>9</td>\n",
       "      <td>18</td>\n",
       "      <td>5400000</td>\n",
       "      <td>61.0</td>\n",
       "      <td>2017-02-26</td>\n",
       "      <td>3</td>\n",
       "      <td>2.50</td>\n",
       "      <td>9</td>\n",
       "      <td>43.6</td>\n",
       "      <td>7</td>\n",
       "      <td>False</td>\n",
       "      <td>...</td>\n",
       "      <td>Другой</td>\n",
       "      <td>6</td>\n",
       "      <td>2</td>\n",
       "      <td>2017</td>\n",
       "      <td>88524.590164</td>\n",
       "      <td>0.714754</td>\n",
       "      <td>0.106557</td>\n",
       "      <td>Долгие</td>\n",
       "      <td>15.0</td>\n",
       "      <td>5901.0</td>\n",
       "    </tr>\n",
       "  </tbody>\n",
       "</table>\n",
       "<p>5 rows × 34 columns</p>\n",
       "</div>"
      ],
      "text/plain": [
       "   total_images  last_price  total_area first_day_exposition  rooms  \\\n",
       "0            20    13000000       108.0           2019-03-07      3   \n",
       "2            10     5196000        56.0           2015-08-20      2   \n",
       "4             2    10000000       100.0           2018-06-19      2   \n",
       "7             5     7915000        71.6           2019-04-18      2   \n",
       "9            18     5400000        61.0           2017-02-26      3   \n",
       "\n",
       "   ceiling_height  floors_total  living_area  floor  is_apartment  ...  \\\n",
       "0            2.70            16         51.0      8         False  ...   \n",
       "2            2.60             5         34.3      4         False  ...   \n",
       "4            3.03            14         32.0     13         False  ...   \n",
       "7            2.75            24         29.1     22         False  ...   \n",
       "9            2.50             9         43.6      7         False  ...   \n",
       "\n",
       "   type_floor  day_week  month  year       price_m2  % living  % kitchen  \\\n",
       "0      Другой         3      3  2019  120370.370370  0.472222   0.231481   \n",
       "2      Другой         3      8  2015   92785.714286  0.612500   0.148214   \n",
       "4      Другой         1      6  2018  100000.000000  0.320000   0.410000   \n",
       "7      Другой         3      4  2019  110544.692737  0.406425   0.263966   \n",
       "9      Другой         6      2  2017   88524.590164  0.714754   0.106557   \n",
       "\n",
       "   group_days  center_nearest_km  price_km  \n",
       "0     быстрые               16.0    7523.0  \n",
       "2      Долгие               13.0    7137.0  \n",
       "4    Средние2                8.0   12500.0  \n",
       "7     быстрые               11.0   10049.0  \n",
       "9      Долгие               15.0    5901.0  \n",
       "\n",
       "[5 rows x 34 columns]"
      ]
     },
     "execution_count": 108,
     "metadata": {},
     "output_type": "execute_result"
    }
   ],
   "source": [
    "df_filter_piter.head()"
   ]
  },
  {
   "cell_type": "code",
   "execution_count": 109,
   "id": "3f743a3e",
   "metadata": {},
   "outputs": [
    {
     "data": {
      "image/png": "[encoded data removed]",
      "text/plain": [
       "<Figure size 432x288 with 1 Axes>"
      ]
     },
     "metadata": {
      "needs_background": "light"
     },
     "output_type": "display_data"
    }
   ],
   "source": [
    "df_filter_piter.plot(x = 'center_nearest_km', y = 'price_km', kind='scatter', alpha=0.1)\n",
    "plt.title('Изменение диапозон цен на растояние в км')\n",
    "plt.xlabel('Растояние в км')\n",
    "plt.ylabel('Цена на км')\n",
    "plt.show()"
   ]
  },
  {
   "cell_type": "code",
   "execution_count": 110,
   "id": "995a3e14",
   "metadata": {},
   "outputs": [
    {
     "data": {
      "image/png": "[encoded data removed]",
      "text/plain": [
       "<Figure size 432x288 with 1 Axes>"
      ]
     },
     "metadata": {
      "needs_background": "light"
     },
     "output_type": "display_data"
    }
   ],
   "source": [
    "df_filter_piter.pivot_table( index='center_nearest_km', values='price_m2', aggfunc = 'median').plot()\n",
    "plt.title('Влияние цен на растояние в км')\n",
    "plt.xlabel('Растояние в км')\n",
    "plt.ylabel('Медиана цены на км')\n",
    "plt.show()"
   ]
  },
  {
   "cell_type": "markdown",
   "id": "2e426557",
   "metadata": {},
   "source": [
    "**Чем дальше от центра тем меньше цена**  )) \n",
    "Так же можно определить две группы обявлений. Примерно 2-3 км от центра где цена резко падает и 5 км, после которой цена продолжает падать, но видно что падение медленее  до границы в 15-18 км. И после км средняя цена не меняеться."
   ]
  },
  {
   "cell_type": "markdown",
   "id": "2c1664cf",
   "metadata": {},
   "source": [
    "## Анализ редких и выбивающихся значений"
   ]
  },
  {
   "cell_type": "code",
   "execution_count": 78,
   "id": "4c89f1bc",
   "metadata": {},
   "outputs": [
    {
     "data": {
      "text/plain": [
       "214285.7142857143"
      ]
     },
     "execution_count": 78,
     "metadata": {},
     "output_type": "execute_result"
    }
   ],
   "source": [
    "df_filter['price_m2'].quantile(0.99)"
   ]
  },
  {
   "cell_type": "code",
   "execution_count": 79,
   "id": "dbf207ab",
   "metadata": {},
   "outputs": [],
   "source": [
    "df_price_m2 = df.query('price_m2 > 214285')"
   ]
  },
  {
   "cell_type": "code",
   "execution_count": 80,
   "id": "97860c69",
   "metadata": {},
   "outputs": [
    {
     "data": {
      "text/plain": [
       "432"
      ]
     },
     "execution_count": 80,
     "metadata": {},
     "output_type": "execute_result"
    }
   ],
   "source": [
    "df_price_m2.shape[0]"
   ]
  },
  {
   "cell_type": "code",
   "execution_count": 81,
   "id": "595ab69b",
   "metadata": {},
   "outputs": [
    {
     "data": {
      "image/png": "[encoded data removed]",
      "text/plain": [
       "<Figure size 432x288 with 1 Axes>"
      ]
     },
     "metadata": {
      "needs_background": "light"
     },
     "output_type": "display_data"
    }
   ],
   "source": [
    "df_price_m2.boxplot(column='price_m2', by='type_floor' )\n",
    "plt.ylim(1, 2500000)\n",
    "plt.title('Зависимость цены кв.м2 от типа этажа')\n",
    "plt.ylabel('price_m2')\n",
    "plt.show()"
   ]
  },
  {
   "cell_type": "code",
   "execution_count": 115,
   "id": "a1ea21d9",
   "metadata": {},
   "outputs": [],
   "source": [
    "sample_price = df_price_m2[['total_area', 'last_price', 'kitchen_area', \n",
    "                            'oblast', 'days_exposition','type_floor', 'locality_name', 'is_apartment', 'rooms']]"
   ]
  },
  {
   "cell_type": "markdown",
   "id": "24c08a4c",
   "metadata": {},
   "source": [
    "Естественно большинство объявлений из Питера. Поэтому дальше буду иследовать по Питеру."
   ]
  },
  {
   "cell_type": "code",
   "execution_count": 117,
   "id": "2f4daf13",
   "metadata": {},
   "outputs": [],
   "source": [
    "sample_price = sample_price.loc[sample_price['locality_name'] == 'Санкт-Петербург']"
   ]
  },
  {
   "cell_type": "code",
   "execution_count": 118,
   "id": "8d7aeb43",
   "metadata": {},
   "outputs": [
    {
     "data": {
      "text/html": [
       "<div>\n",
       "<style scoped>\n",
       "    .dataframe tbody tr th:only-of-type {\n",
       "        vertical-align: middle;\n",
       "    }\n",
       "\n",
       "    .dataframe tbody tr th {\n",
       "        vertical-align: top;\n",
       "    }\n",
       "\n",
       "    .dataframe thead th {\n",
       "        text-align: right;\n",
       "    }\n",
       "</style>\n",
       "<table border=\"1\" class=\"dataframe\">\n",
       "  <thead>\n",
       "    <tr style=\"text-align: right;\">\n",
       "      <th></th>\n",
       "      <th>total_area</th>\n",
       "      <th>last_price</th>\n",
       "      <th>kitchen_area</th>\n",
       "      <th>days_exposition</th>\n",
       "      <th>is_apartment</th>\n",
       "      <th>rooms</th>\n",
       "    </tr>\n",
       "    <tr>\n",
       "      <th>locality_name</th>\n",
       "      <th></th>\n",
       "      <th></th>\n",
       "      <th></th>\n",
       "      <th></th>\n",
       "      <th></th>\n",
       "      <th></th>\n",
       "    </tr>\n",
       "  </thead>\n",
       "  <tbody>\n",
       "    <tr>\n",
       "      <td>Санкт-Петербург</td>\n",
       "      <td>115.0</td>\n",
       "      <td>33800000</td>\n",
       "      <td>16.6</td>\n",
       "      <td>102</td>\n",
       "      <td>False</td>\n",
       "      <td>3</td>\n",
       "    </tr>\n",
       "  </tbody>\n",
       "</table>\n",
       "</div>"
      ],
      "text/plain": [
       "                 total_area  last_price  kitchen_area  days_exposition  \\\n",
       "locality_name                                                            \n",
       "Санкт-Петербург       115.0    33800000          16.6              102   \n",
       "\n",
       "                 is_apartment  rooms  \n",
       "locality_name                         \n",
       "Санкт-Петербург         False      3  "
      ]
     },
     "execution_count": 118,
     "metadata": {},
     "output_type": "execute_result"
    }
   ],
   "source": [
    "sample_price.groupby('locality_name').median()"
   ]
  },
  {
   "cell_type": "code",
   "execution_count": 119,
   "id": "85c23213",
   "metadata": {},
   "outputs": [
    {
     "data": {
      "text/plain": [
       "4.0"
      ]
     },
     "execution_count": 119,
     "metadata": {},
     "output_type": "execute_result"
    }
   ],
   "source": [
    "df_filter['rooms'].quantile(0.99)"
   ]
  },
  {
   "cell_type": "code",
   "execution_count": 120,
   "id": "5f17ac9f",
   "metadata": {},
   "outputs": [],
   "source": [
    "vibrosi = df_filter_piter.loc[df_filter_piter['rooms'] >= 4]"
   ]
  },
  {
   "cell_type": "code",
   "execution_count": 121,
   "id": "a789c7a6",
   "metadata": {},
   "outputs": [
    {
     "data": {
      "text/html": [
       "<div>\n",
       "<style scoped>\n",
       "    .dataframe tbody tr th:only-of-type {\n",
       "        vertical-align: middle;\n",
       "    }\n",
       "\n",
       "    .dataframe tbody tr th {\n",
       "        vertical-align: top;\n",
       "    }\n",
       "\n",
       "    .dataframe thead th {\n",
       "        text-align: right;\n",
       "    }\n",
       "</style>\n",
       "<table border=\"1\" class=\"dataframe\">\n",
       "  <thead>\n",
       "    <tr style=\"text-align: right;\">\n",
       "      <th></th>\n",
       "      <th>center_nearest_km</th>\n",
       "      <th>kitchen_area</th>\n",
       "      <th>last_price</th>\n",
       "      <th>price_km</th>\n",
       "      <th>total_area</th>\n",
       "    </tr>\n",
       "    <tr>\n",
       "      <th>rooms</th>\n",
       "      <th></th>\n",
       "      <th></th>\n",
       "      <th></th>\n",
       "      <th></th>\n",
       "      <th></th>\n",
       "    </tr>\n",
       "  </thead>\n",
       "  <tbody>\n",
       "    <tr>\n",
       "      <td>4</td>\n",
       "      <td>8.0</td>\n",
       "      <td>10.10</td>\n",
       "      <td>9000000</td>\n",
       "      <td>15104.5</td>\n",
       "      <td>97.00</td>\n",
       "    </tr>\n",
       "    <tr>\n",
       "      <td>5</td>\n",
       "      <td>4.0</td>\n",
       "      <td>13.00</td>\n",
       "      <td>10995000</td>\n",
       "      <td>23913.0</td>\n",
       "      <td>123.00</td>\n",
       "    </tr>\n",
       "    <tr>\n",
       "      <td>6</td>\n",
       "      <td>3.0</td>\n",
       "      <td>11.25</td>\n",
       "      <td>12250000</td>\n",
       "      <td>28881.0</td>\n",
       "      <td>133.15</td>\n",
       "    </tr>\n",
       "    <tr>\n",
       "      <td>7</td>\n",
       "      <td>3.0</td>\n",
       "      <td>12.50</td>\n",
       "      <td>15350000</td>\n",
       "      <td>37313.0</td>\n",
       "      <td>135.00</td>\n",
       "    </tr>\n",
       "    <tr>\n",
       "      <td>8</td>\n",
       "      <td>4.0</td>\n",
       "      <td>7.20</td>\n",
       "      <td>16100000</td>\n",
       "      <td>26833.0</td>\n",
       "      <td>150.00</td>\n",
       "    </tr>\n",
       "  </tbody>\n",
       "</table>\n",
       "</div>"
      ],
      "text/plain": [
       "       center_nearest_km  kitchen_area  last_price  price_km  total_area\n",
       "rooms                                                                   \n",
       "4                    8.0         10.10     9000000   15104.5       97.00\n",
       "5                    4.0         13.00    10995000   23913.0      123.00\n",
       "6                    3.0         11.25    12250000   28881.0      133.15\n",
       "7                    3.0         12.50    15350000   37313.0      135.00\n",
       "8                    4.0          7.20    16100000   26833.0      150.00"
      ]
     },
     "execution_count": 121,
     "metadata": {},
     "output_type": "execute_result"
    }
   ],
   "source": [
    "vibrosi.pivot_table(\n",
    "    index='rooms', \n",
    "    values=['total_area', 'last_price', 'kitchen_area', 'center_nearest_km', 'price_km'],  \n",
    "    aggfunc='median'\n",
    ")"
   ]
  },
  {
   "cell_type": "markdown",
   "id": "967a8f35",
   "metadata": {},
   "source": [
    "Самые дорогие квартиры находяться в центре и также самые большие по площади."
   ]
  },
  {
   "cell_type": "markdown",
   "id": "62c41d1a",
   "metadata": {},
   "source": [
    "## Десять населённых пунктов с наибольшим числом объявлений"
   ]
  },
  {
   "cell_type": "markdown",
   "id": "c7de117c",
   "metadata": {},
   "source": [
    "получить наибольшее число городов по объявлениям, сгруппировать по городам с показателем цены"
   ]
  },
  {
   "cell_type": "code",
   "execution_count": 122,
   "id": "1775b6cb",
   "metadata": {},
   "outputs": [
    {
     "data": {
      "text/html": [
       "<style  type=\"text/css\" >\n",
       "</style><table id=\"T_d23153ea_d3fc_11eb_bfde_02420a390e37\" ><thead>    <tr>        <th class=\"blank level0\" ></th>        <th class=\"col_heading level0 col0\" >count</th>        <th class=\"col_heading level0 col1\" >mean_price_m2</th>    </tr>    <tr>        <th class=\"index_name level0\" >locality_name</th>        <th class=\"blank\" ></th>        <th class=\"blank\" ></th>    </tr></thead><tbody>\n",
       "                <tr>\n",
       "                        <th id=\"T_d23153ea_d3fc_11eb_bfde_02420a390e37level0_row0\" class=\"row_heading level0 row0\" >Санкт-Петербург</th>\n",
       "                        <td id=\"T_d23153ea_d3fc_11eb_bfde_02420a390e37row0_col0\" class=\"data row0 col0\" >14987</td>\n",
       "                        <td id=\"T_d23153ea_d3fc_11eb_bfde_02420a390e37row0_col1\" class=\"data row0 col1\" >110894</td>\n",
       "            </tr>\n",
       "            <tr>\n",
       "                        <th id=\"T_d23153ea_d3fc_11eb_bfde_02420a390e37level0_row1\" class=\"row_heading level0 row1\" >Пушкин</th>\n",
       "                        <td id=\"T_d23153ea_d3fc_11eb_bfde_02420a390e37row1_col0\" class=\"data row1 col0\" >357</td>\n",
       "                        <td id=\"T_d23153ea_d3fc_11eb_bfde_02420a390e37row1_col1\" class=\"data row1 col1\" >102524</td>\n",
       "            </tr>\n",
       "            <tr>\n",
       "                        <th id=\"T_d23153ea_d3fc_11eb_bfde_02420a390e37level0_row2\" class=\"row_heading level0 row2\" >деревня Кудрово</th>\n",
       "                        <td id=\"T_d23153ea_d3fc_11eb_bfde_02420a390e37row2_col0\" class=\"data row2 col0\" >299</td>\n",
       "                        <td id=\"T_d23153ea_d3fc_11eb_bfde_02420a390e37row2_col1\" class=\"data row2 col1\" >92473.5</td>\n",
       "            </tr>\n",
       "            <tr>\n",
       "                        <th id=\"T_d23153ea_d3fc_11eb_bfde_02420a390e37level0_row3\" class=\"row_heading level0 row3\" >посёлок Парголово</th>\n",
       "                        <td id=\"T_d23153ea_d3fc_11eb_bfde_02420a390e37row3_col0\" class=\"data row3 col0\" >326</td>\n",
       "                        <td id=\"T_d23153ea_d3fc_11eb_bfde_02420a390e37row3_col1\" class=\"data row3 col1\" >90332.3</td>\n",
       "            </tr>\n",
       "            <tr>\n",
       "                        <th id=\"T_d23153ea_d3fc_11eb_bfde_02420a390e37level0_row4\" class=\"row_heading level0 row4\" >посёлок Мурино</th>\n",
       "                        <td id=\"T_d23153ea_d3fc_11eb_bfde_02420a390e37row4_col0\" class=\"data row4 col0\" >518</td>\n",
       "                        <td id=\"T_d23153ea_d3fc_11eb_bfde_02420a390e37row4_col1\" class=\"data row4 col1\" >85645.9</td>\n",
       "            </tr>\n",
       "            <tr>\n",
       "                        <th id=\"T_d23153ea_d3fc_11eb_bfde_02420a390e37level0_row5\" class=\"row_heading level0 row5\" >посёлок Шушары</th>\n",
       "                        <td id=\"T_d23153ea_d3fc_11eb_bfde_02420a390e37row5_col0\" class=\"data row5 col0\" >438</td>\n",
       "                        <td id=\"T_d23153ea_d3fc_11eb_bfde_02420a390e37row5_col1\" class=\"data row5 col1\" >78528.7</td>\n",
       "            </tr>\n",
       "            <tr>\n",
       "                        <th id=\"T_d23153ea_d3fc_11eb_bfde_02420a390e37level0_row6\" class=\"row_heading level0 row6\" >Колпино</th>\n",
       "                        <td id=\"T_d23153ea_d3fc_11eb_bfde_02420a390e37row6_col0\" class=\"data row6 col0\" >337</td>\n",
       "                        <td id=\"T_d23153ea_d3fc_11eb_bfde_02420a390e37row6_col1\" class=\"data row6 col1\" >75333.3</td>\n",
       "            </tr>\n",
       "            <tr>\n",
       "                        <th id=\"T_d23153ea_d3fc_11eb_bfde_02420a390e37level0_row7\" class=\"row_heading level0 row7\" >Гатчина</th>\n",
       "                        <td id=\"T_d23153ea_d3fc_11eb_bfde_02420a390e37row7_col0\" class=\"data row7 col0\" >305</td>\n",
       "                        <td id=\"T_d23153ea_d3fc_11eb_bfde_02420a390e37row7_col1\" class=\"data row7 col1\" >68811.4</td>\n",
       "            </tr>\n",
       "            <tr>\n",
       "                        <th id=\"T_d23153ea_d3fc_11eb_bfde_02420a390e37level0_row8\" class=\"row_heading level0 row8\" >Всеволожск</th>\n",
       "                        <td id=\"T_d23153ea_d3fc_11eb_bfde_02420a390e37row8_col0\" class=\"data row8 col0\" >396</td>\n",
       "                        <td id=\"T_d23153ea_d3fc_11eb_bfde_02420a390e37row8_col1\" class=\"data row8 col1\" >68552.1</td>\n",
       "            </tr>\n",
       "            <tr>\n",
       "                        <th id=\"T_d23153ea_d3fc_11eb_bfde_02420a390e37level0_row9\" class=\"row_heading level0 row9\" >Выборг</th>\n",
       "                        <td id=\"T_d23153ea_d3fc_11eb_bfde_02420a390e37row9_col0\" class=\"data row9 col0\" >231</td>\n",
       "                        <td id=\"T_d23153ea_d3fc_11eb_bfde_02420a390e37row9_col1\" class=\"data row9 col1\" >58024.3</td>\n",
       "            </tr>\n",
       "    </tbody></table>"
      ],
      "text/plain": [
       "<pandas.io.formats.style.Styler at 0x7fb79fa60990>"
      ]
     },
     "execution_count": 122,
     "metadata": {},
     "output_type": "execute_result"
    }
   ],
   "source": [
    "report = df_filter.groupby('locality_name').agg({'price_m2': ['count', 'mean']})\n",
    "report.columns = ['count', 'mean_price_m2']\n",
    "#топ 10 городов\n",
    "report = report.sort_values(by = 'count', ascending=False).head(10)\n",
    "report = report.sort_values(by = 'mean_price_m2', ascending=False)\n",
    "report.style.format({'total_area': '{:.1f}'})"
   ]
  },
  {
   "cell_type": "code",
   "execution_count": 123,
   "id": "a0fcc327",
   "metadata": {},
   "outputs": [
    {
     "data": {
      "text/html": [
       "<style  type=\"text/css\" >\n",
       "</style><table id=\"T_d239a87e_d3fc_11eb_bfde_02420a390e37\" ><thead>    <tr>        <th class=\"blank level0\" ></th>        <th class=\"col_heading level0 col0\" >count</th>        <th class=\"col_heading level0 col1\" >mean_price_m2</th>        <th class=\"col_heading level0 col2\" >mean_days</th>    </tr>    <tr>        <th class=\"index_name level0\" >locality_name</th>        <th class=\"blank\" ></th>        <th class=\"blank\" ></th>        <th class=\"blank\" ></th>    </tr></thead><tbody>\n",
       "                <tr>\n",
       "                        <th id=\"T_d239a87e_d3fc_11eb_bfde_02420a390e37level0_row0\" class=\"row_heading level0 row0\" >Санкт-Петербург</th>\n",
       "                        <td id=\"T_d239a87e_d3fc_11eb_bfde_02420a390e37row0_col0\" class=\"data row0 col0\" >14987</td>\n",
       "                        <td id=\"T_d239a87e_d3fc_11eb_bfde_02420a390e37row0_col1\" class=\"data row0 col1\" >110894</td>\n",
       "                        <td id=\"T_d239a87e_d3fc_11eb_bfde_02420a390e37row0_col2\" class=\"data row0 col2\" >156.402</td>\n",
       "            </tr>\n",
       "            <tr>\n",
       "                        <th id=\"T_d239a87e_d3fc_11eb_bfde_02420a390e37level0_row1\" class=\"row_heading level0 row1\" >Пушкин</th>\n",
       "                        <td id=\"T_d239a87e_d3fc_11eb_bfde_02420a390e37row1_col0\" class=\"data row1 col0\" >357</td>\n",
       "                        <td id=\"T_d239a87e_d3fc_11eb_bfde_02420a390e37row1_col1\" class=\"data row1 col1\" >102524</td>\n",
       "                        <td id=\"T_d239a87e_d3fc_11eb_bfde_02420a390e37row1_col2\" class=\"data row1 col2\" >167.888</td>\n",
       "            </tr>\n",
       "            <tr>\n",
       "                        <th id=\"T_d239a87e_d3fc_11eb_bfde_02420a390e37level0_row2\" class=\"row_heading level0 row2\" >деревня Кудрово</th>\n",
       "                        <td id=\"T_d239a87e_d3fc_11eb_bfde_02420a390e37row2_col0\" class=\"data row2 col0\" >299</td>\n",
       "                        <td id=\"T_d239a87e_d3fc_11eb_bfde_02420a390e37row2_col1\" class=\"data row2 col1\" >92473.5</td>\n",
       "                        <td id=\"T_d239a87e_d3fc_11eb_bfde_02420a390e37row2_col2\" class=\"data row2 col2\" >180.873</td>\n",
       "            </tr>\n",
       "            <tr>\n",
       "                        <th id=\"T_d239a87e_d3fc_11eb_bfde_02420a390e37level0_row3\" class=\"row_heading level0 row3\" >посёлок Парголово</th>\n",
       "                        <td id=\"T_d239a87e_d3fc_11eb_bfde_02420a390e37row3_col0\" class=\"data row3 col0\" >326</td>\n",
       "                        <td id=\"T_d239a87e_d3fc_11eb_bfde_02420a390e37row3_col1\" class=\"data row3 col1\" >90332.3</td>\n",
       "                        <td id=\"T_d239a87e_d3fc_11eb_bfde_02420a390e37row3_col2\" class=\"data row3 col2\" >143.948</td>\n",
       "            </tr>\n",
       "            <tr>\n",
       "                        <th id=\"T_d239a87e_d3fc_11eb_bfde_02420a390e37level0_row4\" class=\"row_heading level0 row4\" >посёлок Мурино</th>\n",
       "                        <td id=\"T_d239a87e_d3fc_11eb_bfde_02420a390e37row4_col0\" class=\"data row4 col0\" >518</td>\n",
       "                        <td id=\"T_d239a87e_d3fc_11eb_bfde_02420a390e37row4_col1\" class=\"data row4 col1\" >85645.9</td>\n",
       "                        <td id=\"T_d239a87e_d3fc_11eb_bfde_02420a390e37row4_col2\" class=\"data row4 col2\" >147.01</td>\n",
       "            </tr>\n",
       "            <tr>\n",
       "                        <th id=\"T_d239a87e_d3fc_11eb_bfde_02420a390e37level0_row5\" class=\"row_heading level0 row5\" >посёлок Шушары</th>\n",
       "                        <td id=\"T_d239a87e_d3fc_11eb_bfde_02420a390e37row5_col0\" class=\"data row5 col0\" >438</td>\n",
       "                        <td id=\"T_d239a87e_d3fc_11eb_bfde_02420a390e37row5_col1\" class=\"data row5 col1\" >78528.7</td>\n",
       "                        <td id=\"T_d239a87e_d3fc_11eb_bfde_02420a390e37row5_col2\" class=\"data row5 col2\" >145.228</td>\n",
       "            </tr>\n",
       "            <tr>\n",
       "                        <th id=\"T_d239a87e_d3fc_11eb_bfde_02420a390e37level0_row6\" class=\"row_heading level0 row6\" >Колпино</th>\n",
       "                        <td id=\"T_d239a87e_d3fc_11eb_bfde_02420a390e37row6_col0\" class=\"data row6 col0\" >337</td>\n",
       "                        <td id=\"T_d239a87e_d3fc_11eb_bfde_02420a390e37row6_col1\" class=\"data row6 col1\" >75333.3</td>\n",
       "                        <td id=\"T_d239a87e_d3fc_11eb_bfde_02420a390e37row6_col2\" class=\"data row6 col2\" >130.504</td>\n",
       "            </tr>\n",
       "            <tr>\n",
       "                        <th id=\"T_d239a87e_d3fc_11eb_bfde_02420a390e37level0_row7\" class=\"row_heading level0 row7\" >Гатчина</th>\n",
       "                        <td id=\"T_d239a87e_d3fc_11eb_bfde_02420a390e37row7_col0\" class=\"data row7 col0\" >305</td>\n",
       "                        <td id=\"T_d239a87e_d3fc_11eb_bfde_02420a390e37row7_col1\" class=\"data row7 col1\" >68811.4</td>\n",
       "                        <td id=\"T_d239a87e_d3fc_11eb_bfde_02420a390e37row7_col2\" class=\"data row7 col2\" >165.767</td>\n",
       "            </tr>\n",
       "            <tr>\n",
       "                        <th id=\"T_d239a87e_d3fc_11eb_bfde_02420a390e37level0_row8\" class=\"row_heading level0 row8\" >Всеволожск</th>\n",
       "                        <td id=\"T_d239a87e_d3fc_11eb_bfde_02420a390e37row8_col0\" class=\"data row8 col0\" >396</td>\n",
       "                        <td id=\"T_d239a87e_d3fc_11eb_bfde_02420a390e37row8_col1\" class=\"data row8 col1\" >68552.1</td>\n",
       "                        <td id=\"T_d239a87e_d3fc_11eb_bfde_02420a390e37row8_col2\" class=\"data row8 col2\" >168.528</td>\n",
       "            </tr>\n",
       "            <tr>\n",
       "                        <th id=\"T_d239a87e_d3fc_11eb_bfde_02420a390e37level0_row9\" class=\"row_heading level0 row9\" >Выборг</th>\n",
       "                        <td id=\"T_d239a87e_d3fc_11eb_bfde_02420a390e37row9_col0\" class=\"data row9 col0\" >231</td>\n",
       "                        <td id=\"T_d239a87e_d3fc_11eb_bfde_02420a390e37row9_col1\" class=\"data row9 col1\" >58024.3</td>\n",
       "                        <td id=\"T_d239a87e_d3fc_11eb_bfde_02420a390e37row9_col2\" class=\"data row9 col2\" >154.913</td>\n",
       "            </tr>\n",
       "    </tbody></table>"
      ],
      "text/plain": [
       "<pandas.io.formats.style.Styler at 0x7fb808a9ead0>"
      ]
     },
     "execution_count": 123,
     "metadata": {},
     "output_type": "execute_result"
    }
   ],
   "source": [
    "report = df_filter.groupby('locality_name').agg({'price_m2': ['count', 'mean'], 'days_exposition': ['mean']}) \n",
    "report.columns = ['count', 'mean_price_m2', 'mean_days']\n",
    "report = report.sort_values(by = 'count', ascending=False).head(10)\n",
    "report = report.sort_values(by = 'mean_price_m2', ascending=False)\n",
    "report.style.format({'total_area': '{:.1f}'})"
   ]
  },
  {
   "cell_type": "markdown",
   "id": "c739e43c",
   "metadata": {},
   "source": [
    "## Сравнение центра и остального города"
   ]
  },
  {
   "cell_type": "markdown",
   "id": "553959c9",
   "metadata": {},
   "source": [
    "Выделим в центр и город в отдельный дата фрейм, с показателями площадь, комнаты, высота потолков и цена за кв.м"
   ]
  },
  {
   "cell_type": "code",
   "execution_count": 124,
   "id": "4febbffd",
   "metadata": {},
   "outputs": [
    {
     "data": {
      "text/html": [
       "<div>\n",
       "<style scoped>\n",
       "    .dataframe tbody tr th:only-of-type {\n",
       "        vertical-align: middle;\n",
       "    }\n",
       "\n",
       "    .dataframe tbody tr th {\n",
       "        vertical-align: top;\n",
       "    }\n",
       "\n",
       "    .dataframe thead th {\n",
       "        text-align: right;\n",
       "    }\n",
       "</style>\n",
       "<table border=\"1\" class=\"dataframe\">\n",
       "  <thead>\n",
       "    <tr style=\"text-align: right;\">\n",
       "      <th></th>\n",
       "      <th>total_images</th>\n",
       "      <th>last_price</th>\n",
       "      <th>total_area</th>\n",
       "      <th>first_day_exposition</th>\n",
       "      <th>rooms</th>\n",
       "      <th>ceiling_height</th>\n",
       "      <th>floors_total</th>\n",
       "      <th>living_area</th>\n",
       "      <th>floor</th>\n",
       "      <th>is_apartment</th>\n",
       "      <th>...</th>\n",
       "      <th>type_floor</th>\n",
       "      <th>day_week</th>\n",
       "      <th>month</th>\n",
       "      <th>year</th>\n",
       "      <th>price_m2</th>\n",
       "      <th>% living</th>\n",
       "      <th>% kitchen</th>\n",
       "      <th>group_days</th>\n",
       "      <th>center_nearest_km</th>\n",
       "      <th>price_km</th>\n",
       "    </tr>\n",
       "  </thead>\n",
       "  <tbody>\n",
       "    <tr>\n",
       "      <td>0</td>\n",
       "      <td>20</td>\n",
       "      <td>13000000</td>\n",
       "      <td>108.0</td>\n",
       "      <td>2019-03-07</td>\n",
       "      <td>3</td>\n",
       "      <td>2.70</td>\n",
       "      <td>16</td>\n",
       "      <td>51.0</td>\n",
       "      <td>8</td>\n",
       "      <td>False</td>\n",
       "      <td>...</td>\n",
       "      <td>Другой</td>\n",
       "      <td>3</td>\n",
       "      <td>3</td>\n",
       "      <td>2019</td>\n",
       "      <td>120370.370370</td>\n",
       "      <td>0.472222</td>\n",
       "      <td>0.231481</td>\n",
       "      <td>быстрые</td>\n",
       "      <td>16.0</td>\n",
       "      <td>7523.0</td>\n",
       "    </tr>\n",
       "    <tr>\n",
       "      <td>2</td>\n",
       "      <td>10</td>\n",
       "      <td>5196000</td>\n",
       "      <td>56.0</td>\n",
       "      <td>2015-08-20</td>\n",
       "      <td>2</td>\n",
       "      <td>2.60</td>\n",
       "      <td>5</td>\n",
       "      <td>34.3</td>\n",
       "      <td>4</td>\n",
       "      <td>False</td>\n",
       "      <td>...</td>\n",
       "      <td>Другой</td>\n",
       "      <td>3</td>\n",
       "      <td>8</td>\n",
       "      <td>2015</td>\n",
       "      <td>92785.714286</td>\n",
       "      <td>0.612500</td>\n",
       "      <td>0.148214</td>\n",
       "      <td>Долгие</td>\n",
       "      <td>13.0</td>\n",
       "      <td>7137.0</td>\n",
       "    </tr>\n",
       "    <tr>\n",
       "      <td>4</td>\n",
       "      <td>2</td>\n",
       "      <td>10000000</td>\n",
       "      <td>100.0</td>\n",
       "      <td>2018-06-19</td>\n",
       "      <td>2</td>\n",
       "      <td>3.03</td>\n",
       "      <td>14</td>\n",
       "      <td>32.0</td>\n",
       "      <td>13</td>\n",
       "      <td>False</td>\n",
       "      <td>...</td>\n",
       "      <td>Другой</td>\n",
       "      <td>1</td>\n",
       "      <td>6</td>\n",
       "      <td>2018</td>\n",
       "      <td>100000.000000</td>\n",
       "      <td>0.320000</td>\n",
       "      <td>0.410000</td>\n",
       "      <td>Средние2</td>\n",
       "      <td>8.0</td>\n",
       "      <td>12500.0</td>\n",
       "    </tr>\n",
       "    <tr>\n",
       "      <td>7</td>\n",
       "      <td>5</td>\n",
       "      <td>7915000</td>\n",
       "      <td>71.6</td>\n",
       "      <td>2019-04-18</td>\n",
       "      <td>2</td>\n",
       "      <td>2.75</td>\n",
       "      <td>24</td>\n",
       "      <td>29.1</td>\n",
       "      <td>22</td>\n",
       "      <td>False</td>\n",
       "      <td>...</td>\n",
       "      <td>Другой</td>\n",
       "      <td>3</td>\n",
       "      <td>4</td>\n",
       "      <td>2019</td>\n",
       "      <td>110544.692737</td>\n",
       "      <td>0.406425</td>\n",
       "      <td>0.263966</td>\n",
       "      <td>быстрые</td>\n",
       "      <td>11.0</td>\n",
       "      <td>10049.0</td>\n",
       "    </tr>\n",
       "    <tr>\n",
       "      <td>9</td>\n",
       "      <td>18</td>\n",
       "      <td>5400000</td>\n",
       "      <td>61.0</td>\n",
       "      <td>2017-02-26</td>\n",
       "      <td>3</td>\n",
       "      <td>2.50</td>\n",
       "      <td>9</td>\n",
       "      <td>43.6</td>\n",
       "      <td>7</td>\n",
       "      <td>False</td>\n",
       "      <td>...</td>\n",
       "      <td>Другой</td>\n",
       "      <td>6</td>\n",
       "      <td>2</td>\n",
       "      <td>2017</td>\n",
       "      <td>88524.590164</td>\n",
       "      <td>0.714754</td>\n",
       "      <td>0.106557</td>\n",
       "      <td>Долгие</td>\n",
       "      <td>15.0</td>\n",
       "      <td>5901.0</td>\n",
       "    </tr>\n",
       "  </tbody>\n",
       "</table>\n",
       "<p>5 rows × 34 columns</p>\n",
       "</div>"
      ],
      "text/plain": [
       "   total_images  last_price  total_area first_day_exposition  rooms  \\\n",
       "0            20    13000000       108.0           2019-03-07      3   \n",
       "2            10     5196000        56.0           2015-08-20      2   \n",
       "4             2    10000000       100.0           2018-06-19      2   \n",
       "7             5     7915000        71.6           2019-04-18      2   \n",
       "9            18     5400000        61.0           2017-02-26      3   \n",
       "\n",
       "   ceiling_height  floors_total  living_area  floor  is_apartment  ...  \\\n",
       "0            2.70            16         51.0      8         False  ...   \n",
       "2            2.60             5         34.3      4         False  ...   \n",
       "4            3.03            14         32.0     13         False  ...   \n",
       "7            2.75            24         29.1     22         False  ...   \n",
       "9            2.50             9         43.6      7         False  ...   \n",
       "\n",
       "   type_floor  day_week  month  year       price_m2  % living  % kitchen  \\\n",
       "0      Другой         3      3  2019  120370.370370  0.472222   0.231481   \n",
       "2      Другой         3      8  2015   92785.714286  0.612500   0.148214   \n",
       "4      Другой         1      6  2018  100000.000000  0.320000   0.410000   \n",
       "7      Другой         3      4  2019  110544.692737  0.406425   0.263966   \n",
       "9      Другой         6      2  2017   88524.590164  0.714754   0.106557   \n",
       "\n",
       "   group_days  center_nearest_km  price_km  \n",
       "0     быстрые               16.0    7523.0  \n",
       "2      Долгие               13.0    7137.0  \n",
       "4    Средние2                8.0   12500.0  \n",
       "7     быстрые               11.0   10049.0  \n",
       "9      Долгие               15.0    5901.0  \n",
       "\n",
       "[5 rows x 34 columns]"
      ]
     },
     "execution_count": 124,
     "metadata": {},
     "output_type": "execute_result"
    }
   ],
   "source": [
    "df_filter_piter.head()"
   ]
  },
  {
   "cell_type": "code",
   "execution_count": 125,
   "id": "3adf8938",
   "metadata": {},
   "outputs": [
    {
     "data": {
      "image/png": "[encoded data removed]",
      "text/plain": [
       "<Figure size 1080x288 with 1 Axes>"
      ]
     },
     "metadata": {
      "needs_background": "light"
     },
     "output_type": "display_data"
    }
   ],
   "source": [
    "report = (df_filter_piter.groupby('center_nearest_km')\n",
    "    .agg({'price_m2': 'mean'})\n",
    "    .rename(columns={'price_m2': 'Средняя цена за км'})\n",
    "         )\n",
    "report['Средняя цена за км'].plot(grid=True, figsize=(15,4))\n",
    "plt.xticks(report.index.values, report.index.values)\n",
    "plt.show()"
   ]
  },
  {
   "cell_type": "markdown",
   "id": "778eeb7e",
   "metadata": {},
   "source": [
    "Примерная грацница в диапозоне 7-8 км. Цена пересекает условную границу в 120000."
   ]
  },
  {
   "cell_type": "code",
   "execution_count": 126,
   "id": "8b487018",
   "metadata": {},
   "outputs": [],
   "source": [
    "center_cityGeneral = df_filter_piter.query('center_nearest_km <= 7 & locality_name == \"Санкт-Петербург\"')\n",
    "cityGeneral = df_filter_piter.query('center_nearest_km > 7 & locality_name == \"Санкт-Петербург\"')"
   ]
  },
  {
   "cell_type": "markdown",
   "id": "bf09d08c",
   "metadata": {},
   "source": [
    "### Разница в ценах"
   ]
  },
  {
   "cell_type": "code",
   "execution_count": 127,
   "id": "fb7645db",
   "metadata": {},
   "outputs": [],
   "source": [
    "center_city = center_cityGeneral[['total_area', 'rooms', 'ceiling_height', 'price_m2']]\n",
    "city = cityGeneral[['total_area', 'rooms', 'ceiling_height', 'price_m2']]"
   ]
  },
  {
   "cell_type": "code",
   "execution_count": 128,
   "id": "397bea37",
   "metadata": {},
   "outputs": [
    {
     "data": {
      "text/plain": [
       "total_area            72.000000\n",
       "rooms                  2.000000\n",
       "ceiling_height         2.750000\n",
       "price_m2          121328.224777\n",
       "dtype: float64"
      ]
     },
     "execution_count": 128,
     "metadata": {},
     "output_type": "execute_result"
    }
   ],
   "source": [
    "center_city.median()"
   ]
  },
  {
   "cell_type": "code",
   "execution_count": 129,
   "id": "8e6dfec0",
   "metadata": {},
   "outputs": [
    {
     "data": {
      "text/plain": [
       "total_area            50.00000\n",
       "rooms                  2.00000\n",
       "ceiling_height         2.60000\n",
       "price_m2          101580.13544\n",
       "dtype: float64"
      ]
     },
     "execution_count": 129,
     "metadata": {},
     "output_type": "execute_result"
    }
   ],
   "source": [
    "city.median()"
   ]
  },
  {
   "cell_type": "markdown",
   "id": "4e671bfe",
   "metadata": {},
   "source": [
    "В среднем в центре всего больше. И цена и площадь и потолки. Комнаты только подкачали."
   ]
  },
  {
   "cell_type": "code",
   "execution_count": 130,
   "id": "2c2187c4",
   "metadata": {},
   "outputs": [
    {
     "name": "stdout",
     "output_type": "stream",
     "text": [
      "количество данных в центре 3171\n",
      "количество данных в остальной части города 11768\n"
     ]
    }
   ],
   "source": [
    "center_city = center_cityGeneral[['total_area', 'rooms', 'ceiling_height', 'price_m2']]\n",
    "city = cityGeneral[['total_area', 'rooms', 'ceiling_height', 'price_m2']]\n",
    "print('количество данных в центре', center_city.shape[0])\n",
    "print('количество данных в остальной части города', city.shape[0])"
   ]
  },
  {
   "cell_type": "code",
   "execution_count": 131,
   "id": "19d04495",
   "metadata": {},
   "outputs": [],
   "source": [
    "report_center = center_city.groupby('rooms').median()\n",
    "report_city = city.groupby('rooms').median()"
   ]
  },
  {
   "cell_type": "code",
   "execution_count": 132,
   "id": "4b7f8e65",
   "metadata": {},
   "outputs": [
    {
     "data": {
      "text/html": [
       "<div>\n",
       "<style scoped>\n",
       "    .dataframe tbody tr th:only-of-type {\n",
       "        vertical-align: middle;\n",
       "    }\n",
       "\n",
       "    .dataframe tbody tr th {\n",
       "        vertical-align: top;\n",
       "    }\n",
       "\n",
       "    .dataframe thead th {\n",
       "        text-align: right;\n",
       "    }\n",
       "</style>\n",
       "<table border=\"1\" class=\"dataframe\">\n",
       "  <thead>\n",
       "    <tr style=\"text-align: right;\">\n",
       "      <th></th>\n",
       "      <th>total_area</th>\n",
       "      <th>ceiling_height</th>\n",
       "      <th>price_m2</th>\n",
       "    </tr>\n",
       "    <tr>\n",
       "      <th>rooms</th>\n",
       "      <th></th>\n",
       "      <th></th>\n",
       "      <th></th>\n",
       "    </tr>\n",
       "  </thead>\n",
       "  <tbody>\n",
       "    <tr>\n",
       "      <td>0</td>\n",
       "      <td>25.50</td>\n",
       "      <td>2.80</td>\n",
       "      <td>136078.548495</td>\n",
       "    </tr>\n",
       "    <tr>\n",
       "      <td>1</td>\n",
       "      <td>41.75</td>\n",
       "      <td>2.60</td>\n",
       "      <td>142099.143207</td>\n",
       "    </tr>\n",
       "    <tr>\n",
       "      <td>2</td>\n",
       "      <td>61.00</td>\n",
       "      <td>2.75</td>\n",
       "      <td>124750.000000</td>\n",
       "    </tr>\n",
       "    <tr>\n",
       "      <td>3</td>\n",
       "      <td>85.00</td>\n",
       "      <td>2.80</td>\n",
       "      <td>113333.333333</td>\n",
       "    </tr>\n",
       "    <tr>\n",
       "      <td>4</td>\n",
       "      <td>107.30</td>\n",
       "      <td>3.00</td>\n",
       "      <td>102500.000000</td>\n",
       "    </tr>\n",
       "    <tr>\n",
       "      <td>5</td>\n",
       "      <td>126.00</td>\n",
       "      <td>3.00</td>\n",
       "      <td>91904.761905</td>\n",
       "    </tr>\n",
       "    <tr>\n",
       "      <td>6</td>\n",
       "      <td>138.00</td>\n",
       "      <td>3.09</td>\n",
       "      <td>89354.151881</td>\n",
       "    </tr>\n",
       "    <tr>\n",
       "      <td>7</td>\n",
       "      <td>135.00</td>\n",
       "      <td>2.95</td>\n",
       "      <td>119617.224880</td>\n",
       "    </tr>\n",
       "    <tr>\n",
       "      <td>8</td>\n",
       "      <td>150.00</td>\n",
       "      <td>2.92</td>\n",
       "      <td>107333.333333</td>\n",
       "    </tr>\n",
       "  </tbody>\n",
       "</table>\n",
       "</div>"
      ],
      "text/plain": [
       "       total_area  ceiling_height       price_m2\n",
       "rooms                                           \n",
       "0           25.50            2.80  136078.548495\n",
       "1           41.75            2.60  142099.143207\n",
       "2           61.00            2.75  124750.000000\n",
       "3           85.00            2.80  113333.333333\n",
       "4          107.30            3.00  102500.000000\n",
       "5          126.00            3.00   91904.761905\n",
       "6          138.00            3.09   89354.151881\n",
       "7          135.00            2.95  119617.224880\n",
       "8          150.00            2.92  107333.333333"
      ]
     },
     "execution_count": 132,
     "metadata": {},
     "output_type": "execute_result"
    }
   ],
   "source": [
    "report_center"
   ]
  },
  {
   "cell_type": "markdown",
   "id": "a424b816",
   "metadata": {},
   "source": [
    "Объединяю фреймы город и центр в один по \"комнатам\""
   ]
  },
  {
   "cell_type": "code",
   "execution_count": 133,
   "id": "debadc7b",
   "metadata": {},
   "outputs": [
    {
     "data": {
      "text/html": [
       "<style  type=\"text/css\" >\n",
       "</style><table id=\"T_d29dd754_d3fc_11eb_bfde_02420a390e37\" ><thead>    <tr>        <th class=\"blank level0\" ></th>        <th class=\"col_heading level0 col0\" >area_center</th>        <th class=\"col_heading level0 col1\" >ceiling_center</th>        <th class=\"col_heading level0 col2\" >price_m2_center</th>        <th class=\"col_heading level0 col3\" >area_city</th>        <th class=\"col_heading level0 col4\" >ceiling_ceity</th>        <th class=\"col_heading level0 col5\" >price_m2_city</th>    </tr>    <tr>        <th class=\"index_name level0\" >rooms</th>        <th class=\"blank\" ></th>        <th class=\"blank\" ></th>        <th class=\"blank\" ></th>        <th class=\"blank\" ></th>        <th class=\"blank\" ></th>        <th class=\"blank\" ></th>    </tr></thead><tbody>\n",
       "                <tr>\n",
       "                        <th id=\"T_d29dd754_d3fc_11eb_bfde_02420a390e37level0_row0\" class=\"row_heading level0 row0\" >0</th>\n",
       "                        <td id=\"T_d29dd754_d3fc_11eb_bfde_02420a390e37row0_col0\" class=\"data row0 col0\" >25.5</td>\n",
       "                        <td id=\"T_d29dd754_d3fc_11eb_bfde_02420a390e37row0_col1\" class=\"data row0 col1\" >2.8</td>\n",
       "                        <td id=\"T_d29dd754_d3fc_11eb_bfde_02420a390e37row0_col2\" class=\"data row0 col2\" >136078.5</td>\n",
       "                        <td id=\"T_d29dd754_d3fc_11eb_bfde_02420a390e37row0_col3\" class=\"data row0 col3\" >27.1</td>\n",
       "                        <td id=\"T_d29dd754_d3fc_11eb_bfde_02420a390e37row0_col4\" class=\"data row0 col4\" >2.7</td>\n",
       "                        <td id=\"T_d29dd754_d3fc_11eb_bfde_02420a390e37row0_col5\" class=\"data row0 col5\" >121818.2</td>\n",
       "            </tr>\n",
       "            <tr>\n",
       "                        <th id=\"T_d29dd754_d3fc_11eb_bfde_02420a390e37level0_row1\" class=\"row_heading level0 row1\" >1</th>\n",
       "                        <td id=\"T_d29dd754_d3fc_11eb_bfde_02420a390e37row1_col0\" class=\"data row1 col0\" >41.8</td>\n",
       "                        <td id=\"T_d29dd754_d3fc_11eb_bfde_02420a390e37row1_col1\" class=\"data row1 col1\" >2.6</td>\n",
       "                        <td id=\"T_d29dd754_d3fc_11eb_bfde_02420a390e37row1_col2\" class=\"data row1 col2\" >142099.1</td>\n",
       "                        <td id=\"T_d29dd754_d3fc_11eb_bfde_02420a390e37row1_col3\" class=\"data row1 col3\" >37.0</td>\n",
       "                        <td id=\"T_d29dd754_d3fc_11eb_bfde_02420a390e37row1_col4\" class=\"data row1 col4\" >2.6</td>\n",
       "                        <td id=\"T_d29dd754_d3fc_11eb_bfde_02420a390e37row1_col5\" class=\"data row1 col5\" >108571.4</td>\n",
       "            </tr>\n",
       "            <tr>\n",
       "                        <th id=\"T_d29dd754_d3fc_11eb_bfde_02420a390e37level0_row2\" class=\"row_heading level0 row2\" >2</th>\n",
       "                        <td id=\"T_d29dd754_d3fc_11eb_bfde_02420a390e37row2_col0\" class=\"data row2 col0\" >61.0</td>\n",
       "                        <td id=\"T_d29dd754_d3fc_11eb_bfde_02420a390e37row2_col1\" class=\"data row2 col1\" >2.8</td>\n",
       "                        <td id=\"T_d29dd754_d3fc_11eb_bfde_02420a390e37row2_col2\" class=\"data row2 col2\" >124750.0</td>\n",
       "                        <td id=\"T_d29dd754_d3fc_11eb_bfde_02420a390e37row2_col3\" class=\"data row2 col3\" >52.4</td>\n",
       "                        <td id=\"T_d29dd754_d3fc_11eb_bfde_02420a390e37row2_col4\" class=\"data row2 col4\" >2.6</td>\n",
       "                        <td id=\"T_d29dd754_d3fc_11eb_bfde_02420a390e37row2_col5\" class=\"data row2 col5\" >100000.0</td>\n",
       "            </tr>\n",
       "            <tr>\n",
       "                        <th id=\"T_d29dd754_d3fc_11eb_bfde_02420a390e37level0_row3\" class=\"row_heading level0 row3\" >3</th>\n",
       "                        <td id=\"T_d29dd754_d3fc_11eb_bfde_02420a390e37row3_col0\" class=\"data row3 col0\" >85.0</td>\n",
       "                        <td id=\"T_d29dd754_d3fc_11eb_bfde_02420a390e37row3_col1\" class=\"data row3 col1\" >2.8</td>\n",
       "                        <td id=\"T_d29dd754_d3fc_11eb_bfde_02420a390e37row3_col2\" class=\"data row3 col2\" >113333.3</td>\n",
       "                        <td id=\"T_d29dd754_d3fc_11eb_bfde_02420a390e37row3_col3\" class=\"data row3 col3\" >70.0</td>\n",
       "                        <td id=\"T_d29dd754_d3fc_11eb_bfde_02420a390e37row3_col4\" class=\"data row3 col4\" >2.6</td>\n",
       "                        <td id=\"T_d29dd754_d3fc_11eb_bfde_02420a390e37row3_col5\" class=\"data row3 col5\" >92592.6</td>\n",
       "            </tr>\n",
       "            <tr>\n",
       "                        <th id=\"T_d29dd754_d3fc_11eb_bfde_02420a390e37level0_row4\" class=\"row_heading level0 row4\" >4</th>\n",
       "                        <td id=\"T_d29dd754_d3fc_11eb_bfde_02420a390e37row4_col0\" class=\"data row4 col0\" >107.3</td>\n",
       "                        <td id=\"T_d29dd754_d3fc_11eb_bfde_02420a390e37row4_col1\" class=\"data row4 col1\" >3.0</td>\n",
       "                        <td id=\"T_d29dd754_d3fc_11eb_bfde_02420a390e37row4_col2\" class=\"data row4 col2\" >102500.0</td>\n",
       "                        <td id=\"T_d29dd754_d3fc_11eb_bfde_02420a390e37row4_col3\" class=\"data row4 col3\" >86.6</td>\n",
       "                        <td id=\"T_d29dd754_d3fc_11eb_bfde_02420a390e37row4_col4\" class=\"data row4 col4\" >2.5</td>\n",
       "                        <td id=\"T_d29dd754_d3fc_11eb_bfde_02420a390e37row4_col5\" class=\"data row4 col5\" >87090.2</td>\n",
       "            </tr>\n",
       "            <tr>\n",
       "                        <th id=\"T_d29dd754_d3fc_11eb_bfde_02420a390e37level0_row5\" class=\"row_heading level0 row5\" >5</th>\n",
       "                        <td id=\"T_d29dd754_d3fc_11eb_bfde_02420a390e37row5_col0\" class=\"data row5 col0\" >126.0</td>\n",
       "                        <td id=\"T_d29dd754_d3fc_11eb_bfde_02420a390e37row5_col1\" class=\"data row5 col1\" >3.0</td>\n",
       "                        <td id=\"T_d29dd754_d3fc_11eb_bfde_02420a390e37row5_col2\" class=\"data row5 col2\" >91904.8</td>\n",
       "                        <td id=\"T_d29dd754_d3fc_11eb_bfde_02420a390e37row5_col3\" class=\"data row5 col3\" >113.6</td>\n",
       "                        <td id=\"T_d29dd754_d3fc_11eb_bfde_02420a390e37row5_col4\" class=\"data row5 col4\" >2.6</td>\n",
       "                        <td id=\"T_d29dd754_d3fc_11eb_bfde_02420a390e37row5_col5\" class=\"data row5 col5\" >81716.7</td>\n",
       "            </tr>\n",
       "            <tr>\n",
       "                        <th id=\"T_d29dd754_d3fc_11eb_bfde_02420a390e37level0_row6\" class=\"row_heading level0 row6\" >6</th>\n",
       "                        <td id=\"T_d29dd754_d3fc_11eb_bfde_02420a390e37row6_col0\" class=\"data row6 col0\" >138.0</td>\n",
       "                        <td id=\"T_d29dd754_d3fc_11eb_bfde_02420a390e37row6_col1\" class=\"data row6 col1\" >3.1</td>\n",
       "                        <td id=\"T_d29dd754_d3fc_11eb_bfde_02420a390e37row6_col2\" class=\"data row6 col2\" >89354.2</td>\n",
       "                        <td id=\"T_d29dd754_d3fc_11eb_bfde_02420a390e37row6_col3\" class=\"data row6 col3\" >120.0</td>\n",
       "                        <td id=\"T_d29dd754_d3fc_11eb_bfde_02420a390e37row6_col4\" class=\"data row6 col4\" >2.5</td>\n",
       "                        <td id=\"T_d29dd754_d3fc_11eb_bfde_02420a390e37row6_col5\" class=\"data row6 col5\" >72252.6</td>\n",
       "            </tr>\n",
       "    </tbody></table>"
      ],
      "text/plain": [
       "<pandas.io.formats.style.Styler at 0x7fb7a0685bd0>"
      ]
     },
     "execution_count": 133,
     "metadata": {},
     "output_type": "execute_result"
    }
   ],
   "source": [
    "report = pd.merge(report_center, report_city, on='rooms')\n",
    "report.columns = ['area_center', 'ceiling_center', 'price_m2_center', 'area_city', 'ceiling_ceity', 'price_m2_city']\n",
    "#report['price_m2_center', 'price_m2_city']\n",
    "report.style.format('{:.1f}')"
   ]
  },
  {
   "cell_type": "code",
   "execution_count": 134,
   "id": "f408c9e1",
   "metadata": {},
   "outputs": [
    {
     "data": {
      "image/png": "[encoded data removed]",
      "text/plain": [
       "<Figure size 432x288 with 1 Axes>"
      ]
     },
     "metadata": {
      "needs_background": "light"
     },
     "output_type": "display_data"
    }
   ],
   "source": [
    "df_filter_piter.plot(x = 'center_nearest_km', y = 'price_km', kind='scatter', alpha=0.1)\n",
    "plt.title('Зависимость цены от растояние до центра')\n",
    "plt.ylabel('price_m2')\n",
    "plt.show()"
   ]
  },
  {
   "cell_type": "code",
   "execution_count": 135,
   "id": "3c281074",
   "metadata": {
    "scrolled": true
   },
   "outputs": [
    {
     "data": {
      "image/png": "[encoded data removed]",
      "text/plain": [
       "<Figure size 432x288 with 1 Axes>"
      ]
     },
     "metadata": {
      "needs_background": "light"
     },
     "output_type": "display_data"
    }
   ],
   "source": [
    "report['price_m2_center'].plot(color='red', grid=True)\n",
    "plt.title('Зависимость цены от количества комант в центре')\n",
    "plt.ylabel('price_m2')\n",
    "plt.show()"
   ]
  },
  {
   "cell_type": "code",
   "execution_count": 136,
   "id": "1950b4e5",
   "metadata": {},
   "outputs": [
    {
     "data": {
      "image/png": "[encoded data removed]",
      "text/plain": [
       "<Figure size 432x288 with 1 Axes>"
      ]
     },
     "metadata": {
      "needs_background": "light"
     },
     "output_type": "display_data"
    }
   ],
   "source": [
    "report['price_m2_city'].plot(color='blue', grid=True)\n",
    "plt.title('Зависимость цены от количества комант в остальной части города')\n",
    "plt.ylabel('price_m2')\n",
    "plt.show()"
   ]
  },
  {
   "cell_type": "markdown",
   "id": "9aa11f4a",
   "metadata": {},
   "source": [
    "Больше всего на цену влияет площадь, и комнаты и чем ближе к центру тем дороже. ))\n",
    "Поведение цен в центре и в остальной части города похоже, только стоимость кв.метра по разному снижается при увелечение комнат в квратире. цены на 6-комнатные квартиры почти не отличаються."
   ]
  },
  {
   "cell_type": "markdown",
   "id": "532099f6",
   "metadata": {},
   "source": [
    "<div class=\"alert alert-info\">\n",
    "    \n",
    "Как можно объединить эти графики? С легендой. \n",
    "</div>"
   ]
  },
  {
   "cell_type": "code",
   "execution_count": 137,
   "id": "e276c651",
   "metadata": {},
   "outputs": [
    {
     "data": {
      "image/png": "[encoded data removed]",
      "text/plain": [
       "<Figure size 432x288 with 1 Axes>"
      ]
     },
     "metadata": {
      "needs_background": "light"
     },
     "output_type": "display_data"
    }
   ],
   "source": [
    "report[['price_m2_center', 'price_m2_city']].plot()\n",
    "plt.title('Пример объединения двух графикаов')\n",
    "plt.ylabel('price_m2')\n",
    "plt.show()"
   ]
  },
  {
   "cell_type": "markdown",
   "id": "40f39fa3",
   "metadata": {},
   "source": [
    "Разница в ценах на однакомнатные квартиры в центре и остальной части города больше всего. на 5-комнатные меньше."
   ]
  },
  {
   "cell_type": "markdown",
   "id": "b2e3ae07",
   "metadata": {},
   "source": [
    "Расчитаю корреляцию по горду и центру"
   ]
  },
  {
   "cell_type": "code",
   "execution_count": 138,
   "id": "8bd76a19",
   "metadata": {},
   "outputs": [
    {
     "data": {
      "text/plain": [
       "price_km               1.000000\n",
       "price_m2               0.516242\n",
       "ceiling_height         0.138246\n",
       "kitchen_area           0.080034\n",
       "total_area             0.020769\n",
       "living_area            0.019406\n",
       "cityCenters_nearest   -0.581422\n",
       "Name: price_km, dtype: float64"
      ]
     },
     "execution_count": 138,
     "metadata": {},
     "output_type": "execute_result"
    }
   ],
   "source": [
    "#center_cityGeneral[['total_area', 'rooms', 'ceiling_height', 'price_m2']].corr()\n",
    "report_cor = center_cityGeneral[['total_area', 'ceiling_height', 'price_m2', 'living_area', 'kitchen_area', 'cityCenters_nearest', 'price_km']].corr()\n",
    "#report_cor.sort_values(by='price_km', ascending = False)\n",
    "report_cor['price_km'].sort_values(ascending = False)"
   ]
  },
  {
   "cell_type": "code",
   "execution_count": 139,
   "id": "3d3764a9",
   "metadata": {},
   "outputs": [
    {
     "data": {
      "text/plain": [
       "price_km               1.000000\n",
       "price_m2               0.776888\n",
       "ceiling_height         0.306120\n",
       "kitchen_area           0.223875\n",
       "total_area             0.109915\n",
       "living_area            0.019386\n",
       "cityCenters_nearest   -0.724027\n",
       "Name: price_km, dtype: float64"
      ]
     },
     "execution_count": 139,
     "metadata": {},
     "output_type": "execute_result"
    }
   ],
   "source": [
    "report_cor = cityGeneral[['total_area', 'ceiling_height', 'price_m2', 'living_area', 'kitchen_area', 'cityCenters_nearest', 'price_km']].corr()\n",
    "#report_cor.sort_values(by='price_km', ascending = False)\n",
    "report_cor['price_km'].sort_values(ascending = False)"
   ]
  },
  {
   "cell_type": "code",
   "execution_count": 140,
   "id": "bfd64c12",
   "metadata": {},
   "outputs": [
    {
     "data": {
      "text/html": [
       "<div>\n",
       "<style scoped>\n",
       "    .dataframe tbody tr th:only-of-type {\n",
       "        vertical-align: middle;\n",
       "    }\n",
       "\n",
       "    .dataframe tbody tr th {\n",
       "        vertical-align: top;\n",
       "    }\n",
       "\n",
       "    .dataframe thead th {\n",
       "        text-align: right;\n",
       "    }\n",
       "</style>\n",
       "<table border=\"1\" class=\"dataframe\">\n",
       "  <thead>\n",
       "    <tr style=\"text-align: right;\">\n",
       "      <th></th>\n",
       "      <th>total_images</th>\n",
       "      <th>last_price</th>\n",
       "      <th>total_area</th>\n",
       "      <th>first_day_exposition</th>\n",
       "      <th>rooms</th>\n",
       "      <th>ceiling_height</th>\n",
       "      <th>floors_total</th>\n",
       "      <th>living_area</th>\n",
       "      <th>floor</th>\n",
       "      <th>is_apartment</th>\n",
       "      <th>...</th>\n",
       "      <th>type_floor</th>\n",
       "      <th>day_week</th>\n",
       "      <th>month</th>\n",
       "      <th>year</th>\n",
       "      <th>price_m2</th>\n",
       "      <th>% living</th>\n",
       "      <th>% kitchen</th>\n",
       "      <th>group_days</th>\n",
       "      <th>center_nearest_km</th>\n",
       "      <th>price_km</th>\n",
       "    </tr>\n",
       "  </thead>\n",
       "  <tbody>\n",
       "    <tr>\n",
       "      <td>24</td>\n",
       "      <td>8</td>\n",
       "      <td>6500000</td>\n",
       "      <td>97.2</td>\n",
       "      <td>2015-10-31</td>\n",
       "      <td>2</td>\n",
       "      <td>2.75</td>\n",
       "      <td>3</td>\n",
       "      <td>46.5</td>\n",
       "      <td>1</td>\n",
       "      <td>False</td>\n",
       "      <td>...</td>\n",
       "      <td>Первый</td>\n",
       "      <td>5</td>\n",
       "      <td>10</td>\n",
       "      <td>2015</td>\n",
       "      <td>66872.427984</td>\n",
       "      <td>0.478395</td>\n",
       "      <td>0.201646</td>\n",
       "      <td>Долгие</td>\n",
       "      <td>2.0</td>\n",
       "      <td>33436.0</td>\n",
       "    </tr>\n",
       "    <tr>\n",
       "      <td>35</td>\n",
       "      <td>6</td>\n",
       "      <td>15500000</td>\n",
       "      <td>149.0</td>\n",
       "      <td>2017-06-26</td>\n",
       "      <td>5</td>\n",
       "      <td>2.50</td>\n",
       "      <td>5</td>\n",
       "      <td>104.0</td>\n",
       "      <td>4</td>\n",
       "      <td>False</td>\n",
       "      <td>...</td>\n",
       "      <td>Другой</td>\n",
       "      <td>0</td>\n",
       "      <td>6</td>\n",
       "      <td>2017</td>\n",
       "      <td>104026.845638</td>\n",
       "      <td>0.697987</td>\n",
       "      <td>0.114094</td>\n",
       "      <td>Долгие</td>\n",
       "      <td>3.0</td>\n",
       "      <td>34675.0</td>\n",
       "    </tr>\n",
       "    <tr>\n",
       "      <td>52</td>\n",
       "      <td>20</td>\n",
       "      <td>11795000</td>\n",
       "      <td>136.0</td>\n",
       "      <td>2017-09-22</td>\n",
       "      <td>6</td>\n",
       "      <td>3.00</td>\n",
       "      <td>2</td>\n",
       "      <td>94.0</td>\n",
       "      <td>2</td>\n",
       "      <td>False</td>\n",
       "      <td>...</td>\n",
       "      <td>Последний</td>\n",
       "      <td>4</td>\n",
       "      <td>9</td>\n",
       "      <td>2017</td>\n",
       "      <td>86727.941176</td>\n",
       "      <td>0.691176</td>\n",
       "      <td>0.080882</td>\n",
       "      <td>быстрые</td>\n",
       "      <td>6.0</td>\n",
       "      <td>14454.0</td>\n",
       "    </tr>\n",
       "    <tr>\n",
       "      <td>61</td>\n",
       "      <td>18</td>\n",
       "      <td>7990000</td>\n",
       "      <td>74.0</td>\n",
       "      <td>2017-08-24</td>\n",
       "      <td>2</td>\n",
       "      <td>2.75</td>\n",
       "      <td>4</td>\n",
       "      <td>43.0</td>\n",
       "      <td>4</td>\n",
       "      <td>False</td>\n",
       "      <td>...</td>\n",
       "      <td>Последний</td>\n",
       "      <td>3</td>\n",
       "      <td>8</td>\n",
       "      <td>2017</td>\n",
       "      <td>107972.972973</td>\n",
       "      <td>0.581081</td>\n",
       "      <td>0.270270</td>\n",
       "      <td>Долгие</td>\n",
       "      <td>4.0</td>\n",
       "      <td>26993.0</td>\n",
       "    </tr>\n",
       "    <tr>\n",
       "      <td>63</td>\n",
       "      <td>2</td>\n",
       "      <td>20000000</td>\n",
       "      <td>118.0</td>\n",
       "      <td>2018-09-11</td>\n",
       "      <td>3</td>\n",
       "      <td>3.00</td>\n",
       "      <td>9</td>\n",
       "      <td>68.0</td>\n",
       "      <td>7</td>\n",
       "      <td>False</td>\n",
       "      <td>...</td>\n",
       "      <td>Другой</td>\n",
       "      <td>1</td>\n",
       "      <td>9</td>\n",
       "      <td>2018</td>\n",
       "      <td>169491.525424</td>\n",
       "      <td>0.576271</td>\n",
       "      <td>0.135593</td>\n",
       "      <td>Средние1</td>\n",
       "      <td>4.0</td>\n",
       "      <td>42372.0</td>\n",
       "    </tr>\n",
       "  </tbody>\n",
       "</table>\n",
       "<p>5 rows × 34 columns</p>\n",
       "</div>"
      ],
      "text/plain": [
       "    total_images  last_price  total_area first_day_exposition  rooms  \\\n",
       "24             8     6500000        97.2           2015-10-31      2   \n",
       "35             6    15500000       149.0           2017-06-26      5   \n",
       "52            20    11795000       136.0           2017-09-22      6   \n",
       "61            18     7990000        74.0           2017-08-24      2   \n",
       "63             2    20000000       118.0           2018-09-11      3   \n",
       "\n",
       "    ceiling_height  floors_total  living_area  floor  is_apartment  ...  \\\n",
       "24            2.75             3         46.5      1         False  ...   \n",
       "35            2.50             5        104.0      4         False  ...   \n",
       "52            3.00             2         94.0      2         False  ...   \n",
       "61            2.75             4         43.0      4         False  ...   \n",
       "63            3.00             9         68.0      7         False  ...   \n",
       "\n",
       "    type_floor  day_week  month  year       price_m2  % living  % kitchen  \\\n",
       "24      Первый         5     10  2015   66872.427984  0.478395   0.201646   \n",
       "35      Другой         0      6  2017  104026.845638  0.697987   0.114094   \n",
       "52   Последний         4      9  2017   86727.941176  0.691176   0.080882   \n",
       "61   Последний         3      8  2017  107972.972973  0.581081   0.270270   \n",
       "63      Другой         1      9  2018  169491.525424  0.576271   0.135593   \n",
       "\n",
       "    group_days  center_nearest_km  price_km  \n",
       "24      Долгие                2.0   33436.0  \n",
       "35      Долгие                3.0   34675.0  \n",
       "52     быстрые                6.0   14454.0  \n",
       "61      Долгие                4.0   26993.0  \n",
       "63    Средние1                4.0   42372.0  \n",
       "\n",
       "[5 rows x 34 columns]"
      ]
     },
     "execution_count": 140,
     "metadata": {},
     "output_type": "execute_result"
    }
   ],
   "source": [
    "center_cityGeneral.head()"
   ]
  },
  {
   "cell_type": "markdown",
   "id": "6b79a043",
   "metadata": {},
   "source": [
    "Самое большое влияние на цену оказывает стоимость в км. \n",
    "В центре сильнее зависимость цены от площади недвижимости, "
   ]
  },
  {
   "cell_type": "markdown",
   "id": "5dedc579",
   "metadata": {},
   "source": [
    "Зависимость цены за метр в питере"
   ]
  },
  {
   "cell_type": "code",
   "execution_count": 141,
   "id": "146e21eb",
   "metadata": {},
   "outputs": [
    {
     "data": {
      "text/html": [
       "<div>\n",
       "<style scoped>\n",
       "    .dataframe tbody tr th:only-of-type {\n",
       "        vertical-align: middle;\n",
       "    }\n",
       "\n",
       "    .dataframe tbody tr th {\n",
       "        vertical-align: top;\n",
       "    }\n",
       "\n",
       "    .dataframe thead th {\n",
       "        text-align: right;\n",
       "    }\n",
       "</style>\n",
       "<table border=\"1\" class=\"dataframe\">\n",
       "  <thead>\n",
       "    <tr style=\"text-align: right;\">\n",
       "      <th></th>\n",
       "      <th>total_images</th>\n",
       "      <th>last_price</th>\n",
       "      <th>total_area</th>\n",
       "      <th>first_day_exposition</th>\n",
       "      <th>rooms</th>\n",
       "      <th>ceiling_height</th>\n",
       "      <th>floors_total</th>\n",
       "      <th>living_area</th>\n",
       "      <th>floor</th>\n",
       "      <th>is_apartment</th>\n",
       "      <th>...</th>\n",
       "      <th>type_floor</th>\n",
       "      <th>day_week</th>\n",
       "      <th>month</th>\n",
       "      <th>year</th>\n",
       "      <th>price_m2</th>\n",
       "      <th>% living</th>\n",
       "      <th>% kitchen</th>\n",
       "      <th>group_days</th>\n",
       "      <th>center_nearest_km</th>\n",
       "      <th>price_km</th>\n",
       "    </tr>\n",
       "  </thead>\n",
       "  <tbody>\n",
       "    <tr>\n",
       "      <td>0</td>\n",
       "      <td>20</td>\n",
       "      <td>13000000</td>\n",
       "      <td>108.00</td>\n",
       "      <td>2019-03-07</td>\n",
       "      <td>3</td>\n",
       "      <td>2.70</td>\n",
       "      <td>16</td>\n",
       "      <td>51.0</td>\n",
       "      <td>8</td>\n",
       "      <td>False</td>\n",
       "      <td>...</td>\n",
       "      <td>Другой</td>\n",
       "      <td>3</td>\n",
       "      <td>3</td>\n",
       "      <td>2019</td>\n",
       "      <td>120370.370370</td>\n",
       "      <td>0.472222</td>\n",
       "      <td>0.231481</td>\n",
       "      <td>быстрые</td>\n",
       "      <td>16.0</td>\n",
       "      <td>7523.0</td>\n",
       "    </tr>\n",
       "    <tr>\n",
       "      <td>2</td>\n",
       "      <td>10</td>\n",
       "      <td>5196000</td>\n",
       "      <td>56.00</td>\n",
       "      <td>2015-08-20</td>\n",
       "      <td>2</td>\n",
       "      <td>2.60</td>\n",
       "      <td>5</td>\n",
       "      <td>34.3</td>\n",
       "      <td>4</td>\n",
       "      <td>False</td>\n",
       "      <td>...</td>\n",
       "      <td>Другой</td>\n",
       "      <td>3</td>\n",
       "      <td>8</td>\n",
       "      <td>2015</td>\n",
       "      <td>92785.714286</td>\n",
       "      <td>0.612500</td>\n",
       "      <td>0.148214</td>\n",
       "      <td>Долгие</td>\n",
       "      <td>13.0</td>\n",
       "      <td>7137.0</td>\n",
       "    </tr>\n",
       "    <tr>\n",
       "      <td>4</td>\n",
       "      <td>2</td>\n",
       "      <td>10000000</td>\n",
       "      <td>100.00</td>\n",
       "      <td>2018-06-19</td>\n",
       "      <td>2</td>\n",
       "      <td>3.03</td>\n",
       "      <td>14</td>\n",
       "      <td>32.0</td>\n",
       "      <td>13</td>\n",
       "      <td>False</td>\n",
       "      <td>...</td>\n",
       "      <td>Другой</td>\n",
       "      <td>1</td>\n",
       "      <td>6</td>\n",
       "      <td>2018</td>\n",
       "      <td>100000.000000</td>\n",
       "      <td>0.320000</td>\n",
       "      <td>0.410000</td>\n",
       "      <td>Средние2</td>\n",
       "      <td>8.0</td>\n",
       "      <td>12500.0</td>\n",
       "    </tr>\n",
       "    <tr>\n",
       "      <td>7</td>\n",
       "      <td>5</td>\n",
       "      <td>7915000</td>\n",
       "      <td>71.60</td>\n",
       "      <td>2019-04-18</td>\n",
       "      <td>2</td>\n",
       "      <td>2.75</td>\n",
       "      <td>24</td>\n",
       "      <td>29.1</td>\n",
       "      <td>22</td>\n",
       "      <td>False</td>\n",
       "      <td>...</td>\n",
       "      <td>Другой</td>\n",
       "      <td>3</td>\n",
       "      <td>4</td>\n",
       "      <td>2019</td>\n",
       "      <td>110544.692737</td>\n",
       "      <td>0.406425</td>\n",
       "      <td>0.263966</td>\n",
       "      <td>быстрые</td>\n",
       "      <td>11.0</td>\n",
       "      <td>10049.0</td>\n",
       "    </tr>\n",
       "    <tr>\n",
       "      <td>9</td>\n",
       "      <td>18</td>\n",
       "      <td>5400000</td>\n",
       "      <td>61.00</td>\n",
       "      <td>2017-02-26</td>\n",
       "      <td>3</td>\n",
       "      <td>2.50</td>\n",
       "      <td>9</td>\n",
       "      <td>43.6</td>\n",
       "      <td>7</td>\n",
       "      <td>False</td>\n",
       "      <td>...</td>\n",
       "      <td>Другой</td>\n",
       "      <td>6</td>\n",
       "      <td>2</td>\n",
       "      <td>2017</td>\n",
       "      <td>88524.590164</td>\n",
       "      <td>0.714754</td>\n",
       "      <td>0.106557</td>\n",
       "      <td>Долгие</td>\n",
       "      <td>15.0</td>\n",
       "      <td>5901.0</td>\n",
       "    </tr>\n",
       "    <tr>\n",
       "      <td>...</td>\n",
       "      <td>...</td>\n",
       "      <td>...</td>\n",
       "      <td>...</td>\n",
       "      <td>...</td>\n",
       "      <td>...</td>\n",
       "      <td>...</td>\n",
       "      <td>...</td>\n",
       "      <td>...</td>\n",
       "      <td>...</td>\n",
       "      <td>...</td>\n",
       "      <td>...</td>\n",
       "      <td>...</td>\n",
       "      <td>...</td>\n",
       "      <td>...</td>\n",
       "      <td>...</td>\n",
       "      <td>...</td>\n",
       "      <td>...</td>\n",
       "      <td>...</td>\n",
       "      <td>...</td>\n",
       "      <td>...</td>\n",
       "      <td>...</td>\n",
       "    </tr>\n",
       "    <tr>\n",
       "      <td>23688</td>\n",
       "      <td>19</td>\n",
       "      <td>9200000</td>\n",
       "      <td>101.00</td>\n",
       "      <td>2019-04-01</td>\n",
       "      <td>3</td>\n",
       "      <td>3.05</td>\n",
       "      <td>15</td>\n",
       "      <td>63.0</td>\n",
       "      <td>12</td>\n",
       "      <td>False</td>\n",
       "      <td>...</td>\n",
       "      <td>Другой</td>\n",
       "      <td>0</td>\n",
       "      <td>4</td>\n",
       "      <td>2019</td>\n",
       "      <td>91089.108911</td>\n",
       "      <td>0.623762</td>\n",
       "      <td>0.148515</td>\n",
       "      <td>быстрые</td>\n",
       "      <td>14.0</td>\n",
       "      <td>6506.0</td>\n",
       "    </tr>\n",
       "    <tr>\n",
       "      <td>23689</td>\n",
       "      <td>13</td>\n",
       "      <td>3550000</td>\n",
       "      <td>35.30</td>\n",
       "      <td>2018-02-28</td>\n",
       "      <td>1</td>\n",
       "      <td>2.86</td>\n",
       "      <td>15</td>\n",
       "      <td>16.3</td>\n",
       "      <td>4</td>\n",
       "      <td>False</td>\n",
       "      <td>...</td>\n",
       "      <td>Другой</td>\n",
       "      <td>2</td>\n",
       "      <td>2</td>\n",
       "      <td>2018</td>\n",
       "      <td>100566.572238</td>\n",
       "      <td>0.461756</td>\n",
       "      <td>0.257790</td>\n",
       "      <td>Средние1</td>\n",
       "      <td>16.0</td>\n",
       "      <td>6285.0</td>\n",
       "    </tr>\n",
       "    <tr>\n",
       "      <td>23690</td>\n",
       "      <td>3</td>\n",
       "      <td>5500000</td>\n",
       "      <td>52.00</td>\n",
       "      <td>2018-07-19</td>\n",
       "      <td>2</td>\n",
       "      <td>2.60</td>\n",
       "      <td>5</td>\n",
       "      <td>31.0</td>\n",
       "      <td>2</td>\n",
       "      <td>False</td>\n",
       "      <td>...</td>\n",
       "      <td>Другой</td>\n",
       "      <td>3</td>\n",
       "      <td>7</td>\n",
       "      <td>2018</td>\n",
       "      <td>105769.230769</td>\n",
       "      <td>0.596154</td>\n",
       "      <td>0.115385</td>\n",
       "      <td>быстрые</td>\n",
       "      <td>6.0</td>\n",
       "      <td>17628.0</td>\n",
       "    </tr>\n",
       "    <tr>\n",
       "      <td>23691</td>\n",
       "      <td>11</td>\n",
       "      <td>9470000</td>\n",
       "      <td>72.90</td>\n",
       "      <td>2016-10-13</td>\n",
       "      <td>2</td>\n",
       "      <td>2.75</td>\n",
       "      <td>25</td>\n",
       "      <td>40.3</td>\n",
       "      <td>7</td>\n",
       "      <td>False</td>\n",
       "      <td>...</td>\n",
       "      <td>Другой</td>\n",
       "      <td>3</td>\n",
       "      <td>10</td>\n",
       "      <td>2016</td>\n",
       "      <td>129903.978052</td>\n",
       "      <td>0.552812</td>\n",
       "      <td>0.145405</td>\n",
       "      <td>Долгие</td>\n",
       "      <td>4.0</td>\n",
       "      <td>32475.0</td>\n",
       "    </tr>\n",
       "    <tr>\n",
       "      <td>23697</td>\n",
       "      <td>13</td>\n",
       "      <td>11475000</td>\n",
       "      <td>76.75</td>\n",
       "      <td>2017-03-28</td>\n",
       "      <td>2</td>\n",
       "      <td>3.00</td>\n",
       "      <td>17</td>\n",
       "      <td>29.1</td>\n",
       "      <td>12</td>\n",
       "      <td>False</td>\n",
       "      <td>...</td>\n",
       "      <td>Другой</td>\n",
       "      <td>1</td>\n",
       "      <td>3</td>\n",
       "      <td>2017</td>\n",
       "      <td>149511.400651</td>\n",
       "      <td>0.379153</td>\n",
       "      <td>0.303583</td>\n",
       "      <td>Долгие</td>\n",
       "      <td>10.0</td>\n",
       "      <td>14951.0</td>\n",
       "    </tr>\n",
       "  </tbody>\n",
       "</table>\n",
       "<p>14987 rows × 34 columns</p>\n",
       "</div>"
      ],
      "text/plain": [
       "       total_images  last_price  total_area first_day_exposition  rooms  \\\n",
       "0                20    13000000      108.00           2019-03-07      3   \n",
       "2                10     5196000       56.00           2015-08-20      2   \n",
       "4                 2    10000000      100.00           2018-06-19      2   \n",
       "7                 5     7915000       71.60           2019-04-18      2   \n",
       "9                18     5400000       61.00           2017-02-26      3   \n",
       "...             ...         ...         ...                  ...    ...   \n",
       "23688            19     9200000      101.00           2019-04-01      3   \n",
       "23689            13     3550000       35.30           2018-02-28      1   \n",
       "23690             3     5500000       52.00           2018-07-19      2   \n",
       "23691            11     9470000       72.90           2016-10-13      2   \n",
       "23697            13    11475000       76.75           2017-03-28      2   \n",
       "\n",
       "       ceiling_height  floors_total  living_area  floor  is_apartment  ...  \\\n",
       "0                2.70            16         51.0      8         False  ...   \n",
       "2                2.60             5         34.3      4         False  ...   \n",
       "4                3.03            14         32.0     13         False  ...   \n",
       "7                2.75            24         29.1     22         False  ...   \n",
       "9                2.50             9         43.6      7         False  ...   \n",
       "...               ...           ...          ...    ...           ...  ...   \n",
       "23688            3.05            15         63.0     12         False  ...   \n",
       "23689            2.86            15         16.3      4         False  ...   \n",
       "23690            2.60             5         31.0      2         False  ...   \n",
       "23691            2.75            25         40.3      7         False  ...   \n",
       "23697            3.00            17         29.1     12         False  ...   \n",
       "\n",
       "       type_floor  day_week  month  year       price_m2  % living  % kitchen  \\\n",
       "0          Другой         3      3  2019  120370.370370  0.472222   0.231481   \n",
       "2          Другой         3      8  2015   92785.714286  0.612500   0.148214   \n",
       "4          Другой         1      6  2018  100000.000000  0.320000   0.410000   \n",
       "7          Другой         3      4  2019  110544.692737  0.406425   0.263966   \n",
       "9          Другой         6      2  2017   88524.590164  0.714754   0.106557   \n",
       "...           ...       ...    ...   ...            ...       ...        ...   \n",
       "23688      Другой         0      4  2019   91089.108911  0.623762   0.148515   \n",
       "23689      Другой         2      2  2018  100566.572238  0.461756   0.257790   \n",
       "23690      Другой         3      7  2018  105769.230769  0.596154   0.115385   \n",
       "23691      Другой         3     10  2016  129903.978052  0.552812   0.145405   \n",
       "23697      Другой         1      3  2017  149511.400651  0.379153   0.303583   \n",
       "\n",
       "       group_days  center_nearest_km  price_km  \n",
       "0         быстрые               16.0    7523.0  \n",
       "2          Долгие               13.0    7137.0  \n",
       "4        Средние2                8.0   12500.0  \n",
       "7         быстрые               11.0   10049.0  \n",
       "9          Долгие               15.0    5901.0  \n",
       "...           ...                ...       ...  \n",
       "23688     быстрые               14.0    6506.0  \n",
       "23689    Средние1               16.0    6285.0  \n",
       "23690     быстрые                6.0   17628.0  \n",
       "23691      Долгие                4.0   32475.0  \n",
       "23697      Долгие               10.0   14951.0  \n",
       "\n",
       "[14987 rows x 34 columns]"
      ]
     },
     "execution_count": 141,
     "metadata": {},
     "output_type": "execute_result"
    }
   ],
   "source": [
    "df_filter_piter"
   ]
  },
  {
   "cell_type": "markdown",
   "id": "d70c84dc",
   "metadata": {},
   "source": [
    "# Общий вывод"
   ]
  },
  {
   "cell_type": "markdown",
   "id": "486bdd45",
   "metadata": {},
   "source": [
    "Для анализа были предоставлены данны сервиса Яндекс-Недвижимост за несколько лет. Цель анализа выявить показатели влияющие на цену объявлений - недвижимости. "
   ]
  },
  {
   "cell_type": "markdown",
   "id": "a44f608d",
   "metadata": {},
   "source": [
    "### Предобработка данных"
   ]
  },
  {
   "cell_type": "markdown",
   "id": "7be6ce71",
   "metadata": {},
   "source": [
    "В предоставленных данных было большое количестов пропусков значений типа Null.\n",
    "\n",
    "Показатели - days_exposition, balcony, is_apartment были заполнены 0 или false\n",
    "Показатели - airports_nearest, kitchen_area, living_area, ceiling_height заполнены медианой.\n",
    "\n",
    "В показателях locality_name, floors_total есть небольшое количество пропуско. Так как заполнить по текущим данным не возможно. Решил их удалить. Это не скажеться на качестве исходных данных. "
   ]
  },
  {
   "cell_type": "markdown",
   "id": "f1d58e8f",
   "metadata": {},
   "source": [
    "### Изменение типов данных"
   ]
  },
  {
   "cell_type": "markdown",
   "id": "6ebfe912",
   "metadata": {},
   "source": [
    "Показатели - floors_total last_price balcony  parks_around3000  ponds_around3000 days_exposition поменял тип данных на целочисленные."
   ]
  },
  {
   "cell_type": "markdown",
   "id": "2880bf3a",
   "metadata": {},
   "source": [
    "### Выбросы"
   ]
  },
  {
   "cell_type": "markdown",
   "id": "71b12308",
   "metadata": {},
   "source": [
    "Убрал выбросы по 2% по показателю \n",
    "Убрал выбросы по \"общей жилой площади\" так как параметры взамосвязаны. Мне кажеться что убрать выбросы в 1% по верхней границы  будет недостаточно, а 5% уже слишком много. Остановлся на 2% После отсева выбросов датафрейм уменьшился на 726 значения."
   ]
  },
  {
   "cell_type": "markdown",
   "id": "009228c4",
   "metadata": {},
   "source": [
    "### Анализ"
   ]
  },
  {
   "cell_type": "markdown",
   "id": "d9890fb8",
   "metadata": {},
   "source": [
    "Самое большое влияние на цену оказывает растояние до центра, размер недвижимости. В центре Санкт-Петербурга влияние на цену оказывает размер жилой(0.49), общей (0.65) площади и кухни(0.46) значительно сильнее чем в остальной части города. Влияне общей площади в остальной части города 0.39. \n",
    "При этом нужно отметить что разница между средними ценах больше всего на квартиры небольшой площади с 1-2 комнатами. \n",
    "Минимальная разница в средних ценах на квартиры с 6 комнатами."
   ]
  },
  {
   "cell_type": "markdown",
   "id": "e47421c5",
   "metadata": {},
   "source": [
    "В течение нескольких лет срок нахождения объявления на сервисе ежегодно снижался c 2015 года 800 дней и 2018 - 83 дня"
   ]
  },
  {
   "cell_type": "markdown",
   "id": "c8093bf5",
   "metadata": {},
   "source": [
    "Кроме Санкт-Петербурга наибольшее количество объявления предствлено в таких городах Пушкино, Выборг и других. Большинство из них находятся рядом с большими \"зелеными зонами\""
   ]
  },
  {
   "cell_type": "code",
   "execution_count": null,
   "id": "18013b13",
   "metadata": {},
   "outputs": [],
   "source": []
  },
  {
   "cell_type": "code",
   "execution_count": null,
   "id": "46e00266",
   "metadata": {},
   "outputs": [],
   "source": []
  },
  {
   "cell_type": "code",
   "execution_count": null,
   "id": "91e599ea",
   "metadata": {},
   "outputs": [],
   "source": []
  },
  {
   "cell_type": "code",
   "execution_count": null,
   "id": "d1d80e62",
   "metadata": {},
   "outputs": [],
   "source": []
  }
 ],
 "metadata": {
  "ExecuteTimeLog": [
   {
    "duration": 1592,
    "start_time": "2021-06-20T02:33:50.564Z"
   },
   {
    "duration": 3757,
    "start_time": "2021-06-20T02:33:52.159Z"
   },
   {
    "duration": 1153,
    "start_time": "2021-06-20T02:33:54.774Z"
   },
   {
    "duration": 1147,
    "start_time": "2021-06-20T02:33:54.782Z"
   },
   {
    "duration": 1143,
    "start_time": "2021-06-20T02:33:54.789Z"
   },
   {
    "duration": 1139,
    "start_time": "2021-06-20T02:33:54.795Z"
   },
   {
    "duration": 1135,
    "start_time": "2021-06-20T02:33:54.801Z"
   },
   {
    "duration": 1131,
    "start_time": "2021-06-20T02:33:54.808Z"
   },
   {
    "duration": 1125,
    "start_time": "2021-06-20T02:33:54.816Z"
   },
   {
    "duration": 1120,
    "start_time": "2021-06-20T02:33:54.823Z"
   },
   {
    "duration": 1114,
    "start_time": "2021-06-20T02:33:54.831Z"
   },
   {
    "duration": 1108,
    "start_time": "2021-06-20T02:33:54.839Z"
   },
   {
    "duration": 1105,
    "start_time": "2021-06-20T02:33:54.845Z"
   },
   {
    "duration": 1100,
    "start_time": "2021-06-20T02:33:54.852Z"
   },
   {
    "duration": 1085,
    "start_time": "2021-06-20T02:33:54.869Z"
   },
   {
    "duration": 1079,
    "start_time": "2021-06-20T02:33:54.877Z"
   },
   {
    "duration": 1076,
    "start_time": "2021-06-20T02:33:54.883Z"
   },
   {
    "duration": 1053,
    "start_time": "2021-06-20T02:33:54.908Z"
   },
   {
    "duration": 1018,
    "start_time": "2021-06-20T02:33:54.945Z"
   },
   {
    "duration": 999,
    "start_time": "2021-06-20T02:33:54.966Z"
   },
   {
    "duration": 968,
    "start_time": "2021-06-20T02:33:54.999Z"
   },
   {
    "duration": 950,
    "start_time": "2021-06-20T02:33:55.020Z"
   },
   {
    "duration": 942,
    "start_time": "2021-06-20T02:33:55.030Z"
   },
   {
    "duration": 912,
    "start_time": "2021-06-20T02:33:55.062Z"
   },
   {
    "duration": 849,
    "start_time": "2021-06-20T02:33:55.127Z"
   },
   {
    "duration": 815,
    "start_time": "2021-06-20T02:33:55.164Z"
   },
   {
    "duration": 736,
    "start_time": "2021-06-20T02:33:55.245Z"
   },
   {
    "duration": 732,
    "start_time": "2021-06-20T02:33:55.251Z"
   },
   {
    "duration": 729,
    "start_time": "2021-06-20T02:33:55.256Z"
   },
   {
    "duration": 715,
    "start_time": "2021-06-20T02:33:55.272Z"
   },
   {
    "duration": 711,
    "start_time": "2021-06-20T02:33:55.278Z"
   },
   {
    "duration": 616,
    "start_time": "2021-06-20T02:33:55.376Z"
   },
   {
    "duration": 610,
    "start_time": "2021-06-20T02:33:55.384Z"
   },
   {
    "duration": 524,
    "start_time": "2021-06-20T02:33:55.472Z"
   },
   {
    "duration": 520,
    "start_time": "2021-06-20T02:33:55.478Z"
   },
   {
    "duration": 327,
    "start_time": "2021-06-20T02:33:55.673Z"
   },
   {
    "duration": 324,
    "start_time": "2021-06-20T02:33:55.678Z"
   },
   {
    "duration": 379,
    "start_time": "2021-06-20T02:33:55.682Z"
   },
   {
    "duration": 42,
    "start_time": "2021-06-20T02:33:56.022Z"
   },
   {
    "duration": -41,
    "start_time": "2021-06-20T02:33:56.107Z"
   },
   {
    "duration": -43,
    "start_time": "2021-06-20T02:33:56.111Z"
   },
   {
    "duration": -46,
    "start_time": "2021-06-20T02:33:56.117Z"
   },
   {
    "duration": -57,
    "start_time": "2021-06-20T02:33:56.130Z"
   },
   {
    "duration": -253,
    "start_time": "2021-06-20T02:33:56.328Z"
   },
   {
    "duration": -263,
    "start_time": "2021-06-20T02:33:56.340Z"
   },
   {
    "duration": -286,
    "start_time": "2021-06-20T02:33:56.365Z"
   },
   {
    "duration": -318,
    "start_time": "2021-06-20T02:33:56.399Z"
   },
   {
    "duration": -348,
    "start_time": "2021-06-20T02:33:56.431Z"
   },
   {
    "duration": -375,
    "start_time": "2021-06-20T02:33:56.460Z"
   },
   {
    "duration": -382,
    "start_time": "2021-06-20T02:33:56.470Z"
   },
   {
    "duration": -528,
    "start_time": "2021-06-20T02:33:56.618Z"
   },
   {
    "duration": -534,
    "start_time": "2021-06-20T02:33:56.626Z"
   },
   {
    "duration": -540,
    "start_time": "2021-06-20T02:33:56.635Z"
   },
   {
    "duration": -563,
    "start_time": "2021-06-20T02:33:56.660Z"
   },
   {
    "duration": -567,
    "start_time": "2021-06-20T02:33:56.666Z"
   },
   {
    "duration": -512,
    "start_time": "2021-06-20T02:33:56.674Z"
   },
   {
    "duration": -519,
    "start_time": "2021-06-20T02:33:56.684Z"
   },
   {
    "duration": -682,
    "start_time": "2021-06-20T02:33:56.849Z"
   },
   {
    "duration": -685,
    "start_time": "2021-06-20T02:33:56.854Z"
   },
   {
    "duration": -692,
    "start_time": "2021-06-20T02:33:56.864Z"
   },
   {
    "duration": -709,
    "start_time": "2021-06-20T02:33:56.883Z"
   },
   {
    "duration": -730,
    "start_time": "2021-06-20T02:33:56.907Z"
   },
   {
    "duration": -752,
    "start_time": "2021-06-20T02:33:56.931Z"
   },
   {
    "duration": -775,
    "start_time": "2021-06-20T02:33:56.957Z"
   },
   {
    "duration": -780,
    "start_time": "2021-06-20T02:33:56.964Z"
   },
   {
    "duration": -788,
    "start_time": "2021-06-20T02:33:56.973Z"
   },
   {
    "duration": -795,
    "start_time": "2021-06-20T02:33:56.982Z"
   },
   {
    "duration": -803,
    "start_time": "2021-06-20T02:33:56.992Z"
   },
   {
    "duration": -808,
    "start_time": "2021-06-20T02:33:56.998Z"
   },
   {
    "duration": -815,
    "start_time": "2021-06-20T02:33:57.007Z"
   },
   {
    "duration": -1015,
    "start_time": "2021-06-20T02:33:57.210Z"
   },
   {
    "duration": -1023,
    "start_time": "2021-06-20T02:33:57.220Z"
   },
   {
    "duration": -1028,
    "start_time": "2021-06-20T02:33:57.227Z"
   },
   {
    "duration": -1032,
    "start_time": "2021-06-20T02:33:57.233Z"
   },
   {
    "duration": -981,
    "start_time": "2021-06-20T02:33:57.242Z"
   },
   {
    "duration": -989,
    "start_time": "2021-06-20T02:33:57.252Z"
   },
   {
    "duration": -995,
    "start_time": "2021-06-20T02:33:57.259Z"
   },
   {
    "duration": -999,
    "start_time": "2021-06-20T02:33:57.264Z"
   },
   {
    "duration": -1001,
    "start_time": "2021-06-20T02:33:57.268Z"
   },
   {
    "duration": -1036,
    "start_time": "2021-06-20T02:33:57.304Z"
   },
   {
    "duration": -1049,
    "start_time": "2021-06-20T02:33:57.318Z"
   },
   {
    "duration": -1053,
    "start_time": "2021-06-20T02:33:57.323Z"
   },
   {
    "duration": -1057,
    "start_time": "2021-06-20T02:33:57.329Z"
   },
   {
    "duration": -1061,
    "start_time": "2021-06-20T02:33:57.334Z"
   },
   {
    "duration": -1064,
    "start_time": "2021-06-20T02:33:57.338Z"
   },
   {
    "duration": -1067,
    "start_time": "2021-06-20T02:33:57.343Z"
   },
   {
    "duration": -1071,
    "start_time": "2021-06-20T02:33:57.348Z"
   },
   {
    "duration": -1080,
    "start_time": "2021-06-20T02:33:57.358Z"
   },
   {
    "duration": -1084,
    "start_time": "2021-06-20T02:33:57.363Z"
   },
   {
    "duration": -1089,
    "start_time": "2021-06-20T02:33:57.370Z"
   },
   {
    "duration": -1093,
    "start_time": "2021-06-20T02:33:57.375Z"
   },
   {
    "duration": -1098,
    "start_time": "2021-06-20T02:33:57.381Z"
   },
   {
    "duration": -1106,
    "start_time": "2021-06-20T02:33:57.390Z"
   },
   {
    "duration": -1110,
    "start_time": "2021-06-20T02:33:57.396Z"
   },
   {
    "duration": -1115,
    "start_time": "2021-06-20T02:33:57.402Z"
   },
   {
    "duration": -1121,
    "start_time": "2021-06-20T02:33:57.409Z"
   },
   {
    "duration": -1178,
    "start_time": "2021-06-20T02:33:57.468Z"
   },
   {
    "duration": -1186,
    "start_time": "2021-06-20T02:33:57.477Z"
   },
   {
    "duration": -1191,
    "start_time": "2021-06-20T02:33:57.483Z"
   },
   {
    "duration": -1197,
    "start_time": "2021-06-20T02:33:57.490Z"
   },
   {
    "duration": -1204,
    "start_time": "2021-06-20T02:33:57.499Z"
   },
   {
    "duration": -1216,
    "start_time": "2021-06-20T02:33:57.512Z"
   },
   {
    "duration": -1220,
    "start_time": "2021-06-20T02:33:57.517Z"
   },
   {
    "duration": -1225,
    "start_time": "2021-06-20T02:33:57.523Z"
   },
   {
    "duration": -1165,
    "start_time": "2021-06-20T02:33:57.528Z"
   },
   {
    "duration": -1168,
    "start_time": "2021-06-20T02:33:57.532Z"
   },
   {
    "duration": -1229,
    "start_time": "2021-06-20T02:33:57.594Z"
   },
   {
    "duration": -1232,
    "start_time": "2021-06-20T02:33:57.599Z"
   },
   {
    "duration": -1235,
    "start_time": "2021-06-20T02:33:57.603Z"
   },
   {
    "duration": -1239,
    "start_time": "2021-06-20T02:33:57.609Z"
   },
   {
    "duration": -1243,
    "start_time": "2021-06-20T02:33:57.614Z"
   },
   {
    "duration": -1247,
    "start_time": "2021-06-20T02:33:57.619Z"
   },
   {
    "duration": -1253,
    "start_time": "2021-06-20T02:33:57.626Z"
   },
   {
    "duration": -1265,
    "start_time": "2021-06-20T02:33:57.640Z"
   },
   {
    "duration": -1273,
    "start_time": "2021-06-20T02:33:57.649Z"
   },
   {
    "duration": -1279,
    "start_time": "2021-06-20T02:33:57.656Z"
   },
   {
    "duration": -1283,
    "start_time": "2021-06-20T02:33:57.661Z"
   },
   {
    "duration": -1286,
    "start_time": "2021-06-20T02:33:57.666Z"
   },
   {
    "duration": -1290,
    "start_time": "2021-06-20T02:33:57.671Z"
   },
   {
    "duration": -1312,
    "start_time": "2021-06-20T02:33:57.694Z"
   },
   {
    "duration": -1319,
    "start_time": "2021-06-20T02:33:57.703Z"
   },
   {
    "duration": -1329,
    "start_time": "2021-06-20T02:33:57.714Z"
   },
   {
    "duration": -1337,
    "start_time": "2021-06-20T02:33:57.723Z"
   },
   {
    "duration": -1346,
    "start_time": "2021-06-20T02:33:57.733Z"
   },
   {
    "duration": -1353,
    "start_time": "2021-06-20T02:33:57.742Z"
   },
   {
    "duration": -1362,
    "start_time": "2021-06-20T02:33:57.752Z"
   },
   {
    "duration": -1370,
    "start_time": "2021-06-20T02:33:57.762Z"
   },
   {
    "duration": 1601,
    "start_time": "2021-06-20T02:35:08.239Z"
   },
   {
    "duration": 90,
    "start_time": "2021-06-20T02:35:09.843Z"
   },
   {
    "duration": 52,
    "start_time": "2021-06-20T02:35:09.937Z"
   },
   {
    "duration": 6,
    "start_time": "2021-06-20T02:35:09.993Z"
   },
   {
    "duration": 7,
    "start_time": "2021-06-20T02:35:10.003Z"
   },
   {
    "duration": 61,
    "start_time": "2021-06-20T02:35:10.013Z"
   },
   {
    "duration": 14,
    "start_time": "2021-06-20T02:35:10.077Z"
   },
   {
    "duration": 38,
    "start_time": "2021-06-20T02:35:10.095Z"
   },
   {
    "duration": 12,
    "start_time": "2021-06-20T02:35:10.162Z"
   },
   {
    "duration": 38,
    "start_time": "2021-06-20T02:35:10.177Z"
   },
   {
    "duration": 7,
    "start_time": "2021-06-20T02:35:10.217Z"
   },
   {
    "duration": 40,
    "start_time": "2021-06-20T02:35:10.226Z"
   },
   {
    "duration": 8,
    "start_time": "2021-06-20T02:35:10.269Z"
   },
   {
    "duration": 6,
    "start_time": "2021-06-20T02:35:10.280Z"
   },
   {
    "duration": 14,
    "start_time": "2021-06-20T02:35:10.288Z"
   },
   {
    "duration": 6,
    "start_time": "2021-06-20T02:35:10.305Z"
   },
   {
    "duration": 56,
    "start_time": "2021-06-20T02:35:10.314Z"
   },
   {
    "duration": 10,
    "start_time": "2021-06-20T02:35:10.372Z"
   },
   {
    "duration": 38,
    "start_time": "2021-06-20T02:35:10.384Z"
   },
   {
    "duration": 42,
    "start_time": "2021-06-20T02:35:10.424Z"
   },
   {
    "duration": 13,
    "start_time": "2021-06-20T02:35:10.469Z"
   },
   {
    "duration": 12,
    "start_time": "2021-06-20T02:35:10.484Z"
   },
   {
    "duration": 2,
    "start_time": "2021-06-20T02:35:10.503Z"
   },
   {
    "duration": 57,
    "start_time": "2021-06-20T02:35:10.509Z"
   },
   {
    "duration": 16,
    "start_time": "2021-06-20T02:35:10.568Z"
   },
   {
    "duration": 13,
    "start_time": "2021-06-20T02:35:10.587Z"
   },
   {
    "duration": 16,
    "start_time": "2021-06-20T02:35:10.603Z"
   },
   {
    "duration": 8,
    "start_time": "2021-06-20T02:35:10.622Z"
   },
   {
    "duration": 17,
    "start_time": "2021-06-20T02:35:10.662Z"
   },
   {
    "duration": 8,
    "start_time": "2021-06-20T02:35:10.681Z"
   },
   {
    "duration": 11,
    "start_time": "2021-06-20T02:35:10.692Z"
   },
   {
    "duration": 57,
    "start_time": "2021-06-20T02:35:10.705Z"
   },
   {
    "duration": 39,
    "start_time": "2021-06-20T02:35:10.764Z"
   },
   {
    "duration": 7,
    "start_time": "2021-06-20T02:35:10.805Z"
   },
   {
    "duration": 12,
    "start_time": "2021-06-20T02:35:10.814Z"
   },
   {
    "duration": 69,
    "start_time": "2021-06-20T02:35:10.829Z"
   },
   {
    "duration": 11,
    "start_time": "2021-06-20T02:35:10.900Z"
   },
   {
    "duration": 5,
    "start_time": "2021-06-20T02:35:10.914Z"
   },
   {
    "duration": 3951,
    "start_time": "2021-06-20T02:35:10.921Z"
   },
   {
    "duration": 37,
    "start_time": "2021-06-20T02:35:14.875Z"
   },
   {
    "duration": 5,
    "start_time": "2021-06-20T02:35:14.914Z"
   },
   {
    "duration": 48,
    "start_time": "2021-06-20T02:35:14.921Z"
   },
   {
    "duration": 5,
    "start_time": "2021-06-20T02:35:14.972Z"
   },
   {
    "duration": 7,
    "start_time": "2021-06-20T02:35:14.980Z"
   },
   {
    "duration": 7,
    "start_time": "2021-06-20T02:35:14.989Z"
   },
   {
    "duration": 44,
    "start_time": "2021-06-20T02:35:14.999Z"
   },
   {
    "duration": 403,
    "start_time": "2021-06-20T02:35:15.062Z"
   },
   {
    "duration": 380,
    "start_time": "2021-06-20T02:35:15.467Z"
   },
   {
    "duration": 17,
    "start_time": "2021-06-20T02:35:15.850Z"
   },
   {
    "duration": 760,
    "start_time": "2021-06-20T02:35:15.869Z"
   },
   {
    "duration": 436,
    "start_time": "2021-06-20T02:35:16.632Z"
   },
   {
    "duration": 3,
    "start_time": "2021-06-20T02:35:17.071Z"
   },
   {
    "duration": 241,
    "start_time": "2021-06-20T02:35:17.076Z"
   },
   {
    "duration": 13,
    "start_time": "2021-06-20T02:35:17.320Z"
   },
   {
    "duration": 8,
    "start_time": "2021-06-20T02:35:17.336Z"
   },
   {
    "duration": 608,
    "start_time": "2021-06-20T02:35:17.363Z"
   },
   {
    "duration": 20,
    "start_time": "2021-06-20T02:35:17.973Z"
   },
   {
    "duration": 520,
    "start_time": "2021-06-20T02:35:17.995Z"
   },
   {
    "duration": 227,
    "start_time": "2021-06-20T02:35:18.518Z"
   },
   {
    "duration": 24,
    "start_time": "2021-06-20T02:35:18.748Z"
   },
   {
    "duration": 420,
    "start_time": "2021-06-20T02:35:18.775Z"
   },
   {
    "duration": 242,
    "start_time": "2021-06-20T02:35:19.198Z"
   },
   {
    "duration": 26,
    "start_time": "2021-06-20T02:35:19.442Z"
   },
   {
    "duration": 394,
    "start_time": "2021-06-20T02:35:19.471Z"
   },
   {
    "duration": 237,
    "start_time": "2021-06-20T02:35:19.868Z"
   },
   {
    "duration": 8,
    "start_time": "2021-06-20T02:35:20.107Z"
   },
   {
    "duration": 9,
    "start_time": "2021-06-20T02:35:20.118Z"
   },
   {
    "duration": 8,
    "start_time": "2021-06-20T02:35:20.166Z"
   },
   {
    "duration": 8,
    "start_time": "2021-06-20T02:35:20.178Z"
   },
   {
    "duration": 7,
    "start_time": "2021-06-20T02:35:20.189Z"
   },
   {
    "duration": 8,
    "start_time": "2021-06-20T02:35:20.199Z"
   },
   {
    "duration": 51,
    "start_time": "2021-06-20T02:35:20.211Z"
   },
   {
    "duration": 8,
    "start_time": "2021-06-20T02:35:20.265Z"
   },
   {
    "duration": 16,
    "start_time": "2021-06-20T02:35:20.276Z"
   },
   {
    "duration": 6,
    "start_time": "2021-06-20T02:35:20.294Z"
   },
   {
    "duration": 7,
    "start_time": "2021-06-20T02:35:20.303Z"
   },
   {
    "duration": 91,
    "start_time": "2021-06-20T02:35:20.312Z"
   },
   {
    "duration": 9,
    "start_time": "2021-06-20T02:35:20.406Z"
   },
   {
    "duration": 59,
    "start_time": "2021-06-20T02:35:20.417Z"
   },
   {
    "duration": 5,
    "start_time": "2021-06-20T02:35:20.479Z"
   },
   {
    "duration": 35,
    "start_time": "2021-06-20T02:35:20.487Z"
   },
   {
    "duration": 69,
    "start_time": "2021-06-20T02:35:20.525Z"
   },
   {
    "duration": 9,
    "start_time": "2021-06-20T02:35:20.597Z"
   },
   {
    "duration": 9,
    "start_time": "2021-06-20T02:35:20.609Z"
   },
   {
    "duration": 107,
    "start_time": "2021-06-20T02:35:20.621Z"
   },
   {
    "duration": 827,
    "start_time": "2021-06-20T02:35:19.904Z"
   },
   {
    "duration": 824,
    "start_time": "2021-06-20T02:35:19.908Z"
   },
   {
    "duration": 821,
    "start_time": "2021-06-20T02:35:19.913Z"
   },
   {
    "duration": 818,
    "start_time": "2021-06-20T02:35:19.918Z"
   },
   {
    "duration": 815,
    "start_time": "2021-06-20T02:35:19.922Z"
   },
   {
    "duration": 812,
    "start_time": "2021-06-20T02:35:19.927Z"
   },
   {
    "duration": 786,
    "start_time": "2021-06-20T02:35:19.954Z"
   },
   {
    "duration": 782,
    "start_time": "2021-06-20T02:35:19.960Z"
   },
   {
    "duration": 778,
    "start_time": "2021-06-20T02:35:19.966Z"
   },
   {
    "duration": 774,
    "start_time": "2021-06-20T02:35:19.971Z"
   },
   {
    "duration": 772,
    "start_time": "2021-06-20T02:35:19.975Z"
   },
   {
    "duration": 767,
    "start_time": "2021-06-20T02:35:19.981Z"
   },
   {
    "duration": 765,
    "start_time": "2021-06-20T02:35:19.985Z"
   },
   {
    "duration": 760,
    "start_time": "2021-06-20T02:35:19.991Z"
   },
   {
    "duration": 757,
    "start_time": "2021-06-20T02:35:19.996Z"
   },
   {
    "duration": 754,
    "start_time": "2021-06-20T02:35:20.001Z"
   },
   {
    "duration": 751,
    "start_time": "2021-06-20T02:35:20.005Z"
   },
   {
    "duration": 748,
    "start_time": "2021-06-20T02:35:20.010Z"
   },
   {
    "duration": 744,
    "start_time": "2021-06-20T02:35:20.015Z"
   },
   {
    "duration": 741,
    "start_time": "2021-06-20T02:35:20.020Z"
   },
   {
    "duration": 735,
    "start_time": "2021-06-20T02:35:20.027Z"
   },
   {
    "duration": 729,
    "start_time": "2021-06-20T02:35:20.035Z"
   },
   {
    "duration": 726,
    "start_time": "2021-06-20T02:35:20.039Z"
   },
   {
    "duration": 722,
    "start_time": "2021-06-20T02:35:20.045Z"
   },
   {
    "duration": 709,
    "start_time": "2021-06-20T02:35:20.060Z"
   },
   {
    "duration": 703,
    "start_time": "2021-06-20T02:35:20.067Z"
   },
   {
    "duration": 700,
    "start_time": "2021-06-20T02:35:20.072Z"
   },
   {
    "duration": 696,
    "start_time": "2021-06-20T02:35:20.077Z"
   },
   {
    "duration": 694,
    "start_time": "2021-06-20T02:35:20.081Z"
   },
   {
    "duration": 691,
    "start_time": "2021-06-20T02:35:20.086Z"
   },
   {
    "duration": 682,
    "start_time": "2021-06-20T02:35:20.096Z"
   },
   {
    "duration": 676,
    "start_time": "2021-06-20T02:35:20.104Z"
   },
   {
    "duration": 670,
    "start_time": "2021-06-20T02:35:20.112Z"
   },
   {
    "duration": 663,
    "start_time": "2021-06-20T02:35:20.120Z"
   },
   {
    "duration": 658,
    "start_time": "2021-06-20T02:35:20.127Z"
   },
   {
    "duration": 652,
    "start_time": "2021-06-20T02:35:20.135Z"
   },
   {
    "duration": 647,
    "start_time": "2021-06-20T02:35:20.141Z"
   },
   {
    "duration": 644,
    "start_time": "2021-06-20T02:35:20.146Z"
   },
   {
    "duration": 637,
    "start_time": "2021-06-20T02:35:20.154Z"
   },
   {
    "duration": 625,
    "start_time": "2021-06-20T02:35:20.168Z"
   },
   {
    "duration": 622,
    "start_time": "2021-06-20T02:35:20.172Z"
   },
   {
    "duration": 618,
    "start_time": "2021-06-20T02:35:20.177Z"
   },
   {
    "duration": 20,
    "start_time": "2021-06-20T02:37:35.937Z"
   },
   {
    "duration": 21,
    "start_time": "2021-06-20T02:55:06.711Z"
   },
   {
    "duration": 470,
    "start_time": "2021-06-20T02:56:22.429Z"
   },
   {
    "duration": 325,
    "start_time": "2021-06-20T02:56:26.761Z"
   },
   {
    "duration": 21,
    "start_time": "2021-06-20T03:09:07.109Z"
   },
   {
    "duration": 36,
    "start_time": "2021-06-20T03:09:23.244Z"
   },
   {
    "duration": 14,
    "start_time": "2021-06-20T03:14:14.658Z"
   },
   {
    "duration": 12,
    "start_time": "2021-06-20T03:14:19.585Z"
   },
   {
    "duration": 5,
    "start_time": "2021-06-20T03:16:26.460Z"
   },
   {
    "duration": 1501,
    "start_time": "2021-06-21T08:25:02.350Z"
   },
   {
    "duration": 82,
    "start_time": "2021-06-21T08:25:03.854Z"
   },
   {
    "duration": 42,
    "start_time": "2021-06-21T08:25:03.939Z"
   },
   {
    "duration": 6,
    "start_time": "2021-06-21T08:25:04.000Z"
   },
   {
    "duration": 13,
    "start_time": "2021-06-21T08:25:04.008Z"
   },
   {
    "duration": 21,
    "start_time": "2021-06-21T08:25:04.023Z"
   },
   {
    "duration": 13,
    "start_time": "2021-06-21T08:25:04.047Z"
   },
   {
    "duration": 70,
    "start_time": "2021-06-21T08:25:04.066Z"
   },
   {
    "duration": 15,
    "start_time": "2021-06-21T08:25:04.140Z"
   },
   {
    "duration": 67,
    "start_time": "2021-06-21T08:25:04.158Z"
   },
   {
    "duration": 7,
    "start_time": "2021-06-21T08:25:04.227Z"
   },
   {
    "duration": 12,
    "start_time": "2021-06-21T08:25:04.236Z"
   },
   {
    "duration": 9,
    "start_time": "2021-06-21T08:25:04.250Z"
   },
   {
    "duration": 38,
    "start_time": "2021-06-21T08:25:04.262Z"
   },
   {
    "duration": 5,
    "start_time": "2021-06-21T08:25:04.303Z"
   },
   {
    "duration": 16,
    "start_time": "2021-06-21T08:25:04.310Z"
   },
   {
    "duration": 10,
    "start_time": "2021-06-21T08:25:04.328Z"
   },
   {
    "duration": 62,
    "start_time": "2021-06-21T08:25:04.340Z"
   },
   {
    "duration": 13,
    "start_time": "2021-06-21T08:25:04.404Z"
   },
   {
    "duration": 110,
    "start_time": "2021-06-21T08:25:04.419Z"
   },
   {
    "duration": 14,
    "start_time": "2021-06-21T08:25:04.531Z"
   },
   {
    "duration": 16,
    "start_time": "2021-06-21T08:25:04.548Z"
   },
   {
    "duration": 8,
    "start_time": "2021-06-21T08:25:04.572Z"
   },
   {
    "duration": 29,
    "start_time": "2021-06-21T08:25:04.584Z"
   },
   {
    "duration": 8,
    "start_time": "2021-06-21T08:25:04.615Z"
   },
   {
    "duration": 12,
    "start_time": "2021-06-21T08:25:04.626Z"
   },
   {
    "duration": 18,
    "start_time": "2021-06-21T08:25:04.641Z"
   },
   {
    "duration": 45,
    "start_time": "2021-06-21T08:25:04.661Z"
   },
   {
    "duration": 12,
    "start_time": "2021-06-21T08:25:04.709Z"
   },
   {
    "duration": 20,
    "start_time": "2021-06-21T08:25:04.724Z"
   },
   {
    "duration": 6,
    "start_time": "2021-06-21T08:25:04.746Z"
   },
   {
    "duration": 55,
    "start_time": "2021-06-21T08:25:04.754Z"
   },
   {
    "duration": 5,
    "start_time": "2021-06-21T08:25:04.812Z"
   },
   {
    "duration": 16,
    "start_time": "2021-06-21T08:25:04.819Z"
   },
   {
    "duration": 7,
    "start_time": "2021-06-21T08:25:04.837Z"
   },
   {
    "duration": 8,
    "start_time": "2021-06-21T08:25:04.846Z"
   },
   {
    "duration": 5,
    "start_time": "2021-06-21T08:25:04.856Z"
   },
   {
    "duration": 52,
    "start_time": "2021-06-21T08:25:04.863Z"
   },
   {
    "duration": 11,
    "start_time": "2021-06-21T08:25:04.918Z"
   },
   {
    "duration": 10,
    "start_time": "2021-06-21T08:25:04.932Z"
   },
   {
    "duration": 3640,
    "start_time": "2021-06-21T08:25:04.945Z"
   },
   {
    "duration": 40,
    "start_time": "2021-06-21T08:25:08.588Z"
   },
   {
    "duration": 17,
    "start_time": "2021-06-21T08:25:08.630Z"
   },
   {
    "duration": 5,
    "start_time": "2021-06-21T08:25:08.649Z"
   },
   {
    "duration": 8,
    "start_time": "2021-06-21T08:25:08.657Z"
   },
   {
    "duration": 33,
    "start_time": "2021-06-21T08:25:08.668Z"
   },
   {
    "duration": 36,
    "start_time": "2021-06-21T08:25:08.703Z"
   },
   {
    "duration": 397,
    "start_time": "2021-06-21T08:25:08.742Z"
   },
   {
    "duration": 361,
    "start_time": "2021-06-21T08:25:09.141Z"
   },
   {
    "duration": 7,
    "start_time": "2021-06-21T08:25:09.504Z"
   },
   {
    "duration": 812,
    "start_time": "2021-06-21T08:25:09.513Z"
   },
   {
    "duration": 417,
    "start_time": "2021-06-21T08:25:10.328Z"
   },
   {
    "duration": 3,
    "start_time": "2021-06-21T08:25:10.747Z"
   },
   {
    "duration": 226,
    "start_time": "2021-06-21T08:25:10.752Z"
   },
   {
    "duration": 24,
    "start_time": "2021-06-21T08:25:10.980Z"
   },
   {
    "duration": 8,
    "start_time": "2021-06-21T08:25:11.006Z"
   },
   {
    "duration": 816,
    "start_time": "2021-06-21T08:25:11.017Z"
   },
   {
    "duration": 22,
    "start_time": "2021-06-21T08:25:11.836Z"
   },
   {
    "duration": 400,
    "start_time": "2021-06-21T08:25:11.861Z"
   },
   {
    "duration": 210,
    "start_time": "2021-06-21T08:25:12.263Z"
   },
   {
    "duration": 30,
    "start_time": "2021-06-21T08:25:12.476Z"
   },
   {
    "duration": 407,
    "start_time": "2021-06-21T08:25:12.508Z"
   },
   {
    "duration": 220,
    "start_time": "2021-06-21T08:25:12.918Z"
   },
   {
    "duration": 17,
    "start_time": "2021-06-21T08:25:13.140Z"
   },
   {
    "duration": 401,
    "start_time": "2021-06-21T08:25:13.159Z"
   },
   {
    "duration": 226,
    "start_time": "2021-06-21T08:25:13.562Z"
   },
   {
    "duration": 11,
    "start_time": "2021-06-21T08:25:13.791Z"
   },
   {
    "duration": 6,
    "start_time": "2021-06-21T08:25:13.812Z"
   },
   {
    "duration": 8,
    "start_time": "2021-06-21T08:25:13.822Z"
   },
   {
    "duration": 13,
    "start_time": "2021-06-21T08:25:13.833Z"
   },
   {
    "duration": 9,
    "start_time": "2021-06-21T08:25:13.848Z"
   },
   {
    "duration": 44,
    "start_time": "2021-06-21T08:25:13.859Z"
   },
   {
    "duration": 6,
    "start_time": "2021-06-21T08:25:13.906Z"
   },
   {
    "duration": 7,
    "start_time": "2021-06-21T08:25:13.915Z"
   },
   {
    "duration": 15,
    "start_time": "2021-06-21T08:25:13.925Z"
   },
   {
    "duration": 6,
    "start_time": "2021-06-21T08:25:13.942Z"
   },
   {
    "duration": 52,
    "start_time": "2021-06-21T08:25:13.950Z"
   },
   {
    "duration": 5,
    "start_time": "2021-06-21T08:25:14.004Z"
   },
   {
    "duration": 48,
    "start_time": "2021-06-21T08:25:14.012Z"
   },
   {
    "duration": 10,
    "start_time": "2021-06-21T08:25:14.062Z"
   },
   {
    "duration": 58,
    "start_time": "2021-06-21T08:25:14.075Z"
   },
   {
    "duration": 5,
    "start_time": "2021-06-21T08:25:14.136Z"
   },
   {
    "duration": 58,
    "start_time": "2021-06-21T08:25:14.144Z"
   },
   {
    "duration": 552,
    "start_time": "2021-06-21T08:25:14.205Z"
   },
   {
    "duration": 11,
    "start_time": "2021-06-21T08:25:14.760Z"
   },
   {
    "duration": 37,
    "start_time": "2021-06-21T08:25:14.774Z"
   },
   {
    "duration": 13,
    "start_time": "2021-06-21T08:25:14.814Z"
   },
   {
    "duration": 36,
    "start_time": "2021-06-21T08:25:14.829Z"
   },
   {
    "duration": 39,
    "start_time": "2021-06-21T08:25:14.868Z"
   },
   {
    "duration": 10,
    "start_time": "2021-06-21T08:25:14.909Z"
   },
   {
    "duration": 28,
    "start_time": "2021-06-21T08:25:14.922Z"
   },
   {
    "duration": 54,
    "start_time": "2021-06-21T08:25:14.953Z"
   },
   {
    "duration": 26,
    "start_time": "2021-06-21T08:25:15.010Z"
   },
   {
    "duration": 29,
    "start_time": "2021-06-21T08:25:15.038Z"
   },
   {
    "duration": 26,
    "start_time": "2021-06-21T08:25:15.101Z"
   },
   {
    "duration": 732,
    "start_time": "2021-06-21T08:25:15.130Z"
   },
   {
    "duration": 750,
    "start_time": "2021-06-21T08:25:15.864Z"
   },
   {
    "duration": 802,
    "start_time": "2021-06-21T08:25:16.617Z"
   },
   {
    "duration": 685,
    "start_time": "2021-06-21T08:25:17.422Z"
   },
   {
    "duration": 681,
    "start_time": "2021-06-21T08:25:18.109Z"
   },
   {
    "duration": 290,
    "start_time": "2021-06-21T08:25:18.800Z"
   },
   {
    "duration": 16,
    "start_time": "2021-06-21T08:25:19.092Z"
   },
   {
    "duration": 13,
    "start_time": "2021-06-21T08:25:19.110Z"
   },
   {
    "duration": 6,
    "start_time": "2021-06-21T08:25:19.125Z"
   },
   {
    "duration": 39,
    "start_time": "2021-06-21T08:25:19.134Z"
   },
   {
    "duration": 36,
    "start_time": "2021-06-21T08:25:19.175Z"
   },
   {
    "duration": 12,
    "start_time": "2021-06-21T08:25:19.213Z"
   },
   {
    "duration": 45,
    "start_time": "2021-06-21T08:25:19.228Z"
   },
   {
    "duration": 600,
    "start_time": "2021-06-21T08:25:19.276Z"
   },
   {
    "duration": 293,
    "start_time": "2021-06-21T08:25:19.879Z"
   },
   {
    "duration": 8,
    "start_time": "2021-06-21T08:25:20.174Z"
   },
   {
    "duration": 26,
    "start_time": "2021-06-21T08:25:20.184Z"
   },
   {
    "duration": 19,
    "start_time": "2021-06-21T08:25:20.213Z"
   },
   {
    "duration": 298,
    "start_time": "2021-06-21T08:25:20.234Z"
   },
   {
    "duration": 6,
    "start_time": "2021-06-21T08:25:20.534Z"
   },
   {
    "duration": 19,
    "start_time": "2021-06-21T08:25:20.542Z"
   },
   {
    "duration": 17,
    "start_time": "2021-06-21T08:25:20.563Z"
   },
   {
    "duration": 34,
    "start_time": "2021-06-21T08:25:20.582Z"
   },
   {
    "duration": 8,
    "start_time": "2021-06-21T08:25:20.618Z"
   },
   {
    "duration": 17,
    "start_time": "2021-06-21T08:25:20.628Z"
   },
   {
    "duration": 40,
    "start_time": "2021-06-21T08:25:20.647Z"
   },
   {
    "duration": 27,
    "start_time": "2021-06-21T08:25:20.690Z"
   },
   {
    "duration": 23,
    "start_time": "2021-06-21T08:25:20.719Z"
   },
   {
    "duration": 19,
    "start_time": "2021-06-21T08:25:20.744Z"
   },
   {
    "duration": 43,
    "start_time": "2021-06-21T08:25:20.765Z"
   },
   {
    "duration": 35,
    "start_time": "2021-06-21T08:25:20.810Z"
   },
   {
    "duration": 18,
    "start_time": "2021-06-21T08:25:20.848Z"
   },
   {
    "duration": 29,
    "start_time": "2021-06-21T08:25:20.869Z"
   },
   {
    "duration": 630,
    "start_time": "2021-06-21T08:25:20.901Z"
   },
   {
    "duration": 289,
    "start_time": "2021-06-21T08:25:21.534Z"
   },
   {
    "duration": 280,
    "start_time": "2021-06-21T08:25:21.825Z"
   },
   {
    "duration": 21,
    "start_time": "2021-06-21T08:25:22.107Z"
   },
   {
    "duration": 37,
    "start_time": "2021-06-21T08:25:22.130Z"
   },
   {
    "duration": 627,
    "start_time": "2021-06-21T08:31:36.730Z"
   },
   {
    "duration": 312,
    "start_time": "2021-06-21T08:31:55.658Z"
   },
   {
    "duration": 6,
    "start_time": "2021-06-21T08:32:15.304Z"
   },
   {
    "duration": 42,
    "start_time": "2021-06-21T08:33:24.688Z"
   },
   {
    "duration": 33,
    "start_time": "2021-06-21T08:33:58.937Z"
   },
   {
    "duration": 413,
    "start_time": "2021-06-21T09:24:46.773Z"
   },
   {
    "duration": 10,
    "start_time": "2021-06-21T09:24:54.042Z"
   },
   {
    "duration": 306,
    "start_time": "2021-06-21T09:24:58.384Z"
   },
   {
    "duration": 317,
    "start_time": "2021-06-21T09:25:11.706Z"
   },
   {
    "duration": 317,
    "start_time": "2021-06-21T09:28:35.616Z"
   },
   {
    "duration": 326,
    "start_time": "2021-06-21T09:46:10.096Z"
   },
   {
    "duration": 1476,
    "start_time": "2021-06-22T19:56:23.376Z"
   },
   {
    "duration": 83,
    "start_time": "2021-06-22T19:56:24.855Z"
   },
   {
    "duration": 39,
    "start_time": "2021-06-22T19:56:24.941Z"
   },
   {
    "duration": 19,
    "start_time": "2021-06-22T19:56:24.982Z"
   },
   {
    "duration": 6,
    "start_time": "2021-06-22T19:56:25.004Z"
   },
   {
    "duration": 18,
    "start_time": "2021-06-22T19:56:25.012Z"
   },
   {
    "duration": 11,
    "start_time": "2021-06-22T19:56:25.032Z"
   },
   {
    "duration": 79,
    "start_time": "2021-06-22T19:56:25.047Z"
   },
   {
    "duration": 11,
    "start_time": "2021-06-22T19:56:25.129Z"
   },
   {
    "duration": 60,
    "start_time": "2021-06-22T19:56:25.142Z"
   },
   {
    "duration": 7,
    "start_time": "2021-06-22T19:56:25.204Z"
   },
   {
    "duration": 10,
    "start_time": "2021-06-22T19:56:25.214Z"
   },
   {
    "duration": 4,
    "start_time": "2021-06-22T19:56:25.227Z"
   },
   {
    "duration": 16,
    "start_time": "2021-06-22T19:56:25.233Z"
   },
   {
    "duration": 5,
    "start_time": "2021-06-22T19:56:25.251Z"
   },
   {
    "duration": 44,
    "start_time": "2021-06-22T19:56:25.259Z"
   },
   {
    "duration": 9,
    "start_time": "2021-06-22T19:56:25.306Z"
   },
   {
    "duration": 37,
    "start_time": "2021-06-22T19:56:25.318Z"
   },
   {
    "duration": 15,
    "start_time": "2021-06-22T19:56:25.357Z"
   },
   {
    "duration": 13,
    "start_time": "2021-06-22T19:56:25.401Z"
   },
   {
    "duration": 11,
    "start_time": "2021-06-22T19:56:25.416Z"
   },
   {
    "duration": 16,
    "start_time": "2021-06-22T19:56:25.429Z"
   },
   {
    "duration": 7,
    "start_time": "2021-06-22T19:56:25.451Z"
   },
   {
    "duration": 51,
    "start_time": "2021-06-22T19:56:25.462Z"
   },
   {
    "duration": 8,
    "start_time": "2021-06-22T19:56:25.515Z"
   },
   {
    "duration": 14,
    "start_time": "2021-06-22T19:56:25.525Z"
   },
   {
    "duration": 15,
    "start_time": "2021-06-22T19:56:25.541Z"
   },
   {
    "duration": 48,
    "start_time": "2021-06-22T19:56:25.558Z"
   },
   {
    "duration": 12,
    "start_time": "2021-06-22T19:56:25.608Z"
   },
   {
    "duration": 15,
    "start_time": "2021-06-22T19:56:25.622Z"
   },
   {
    "duration": 6,
    "start_time": "2021-06-22T19:56:25.639Z"
   },
   {
    "duration": 58,
    "start_time": "2021-06-22T19:56:25.647Z"
   },
   {
    "duration": 3,
    "start_time": "2021-06-22T19:56:25.708Z"
   },
   {
    "duration": 12,
    "start_time": "2021-06-22T19:56:25.713Z"
   },
   {
    "duration": 6,
    "start_time": "2021-06-22T19:56:25.727Z"
   },
   {
    "duration": 7,
    "start_time": "2021-06-22T19:56:25.735Z"
   },
   {
    "duration": 5,
    "start_time": "2021-06-22T19:56:25.744Z"
   },
   {
    "duration": 58,
    "start_time": "2021-06-22T19:56:25.751Z"
   },
   {
    "duration": 11,
    "start_time": "2021-06-22T19:56:25.811Z"
   },
   {
    "duration": 7,
    "start_time": "2021-06-22T19:56:25.824Z"
   },
   {
    "duration": 3630,
    "start_time": "2021-06-22T19:56:25.833Z"
   },
   {
    "duration": 48,
    "start_time": "2021-06-22T19:56:29.465Z"
   },
   {
    "duration": 17,
    "start_time": "2021-06-22T19:56:29.516Z"
   },
   {
    "duration": 6,
    "start_time": "2021-06-22T19:56:29.535Z"
   },
   {
    "duration": 10,
    "start_time": "2021-06-22T19:56:29.543Z"
   },
   {
    "duration": 8,
    "start_time": "2021-06-22T19:56:29.555Z"
   },
   {
    "duration": 66,
    "start_time": "2021-06-22T19:56:29.565Z"
   },
   {
    "duration": 373,
    "start_time": "2021-06-22T19:56:29.633Z"
   },
   {
    "duration": 345,
    "start_time": "2021-06-22T19:56:30.008Z"
   },
   {
    "duration": 9,
    "start_time": "2021-06-22T19:56:30.355Z"
   },
   {
    "duration": 742,
    "start_time": "2021-06-22T19:56:30.366Z"
   },
   {
    "duration": 396,
    "start_time": "2021-06-22T19:56:31.112Z"
   },
   {
    "duration": 3,
    "start_time": "2021-06-22T19:56:31.511Z"
   },
   {
    "duration": 223,
    "start_time": "2021-06-22T19:56:31.516Z"
   },
   {
    "duration": 12,
    "start_time": "2021-06-22T19:56:31.741Z"
   },
   {
    "duration": 26,
    "start_time": "2021-06-22T19:56:31.756Z"
   },
   {
    "duration": 650,
    "start_time": "2021-06-22T19:56:31.784Z"
   },
   {
    "duration": 19,
    "start_time": "2021-06-22T19:56:32.436Z"
   },
   {
    "duration": 398,
    "start_time": "2021-06-22T19:56:32.458Z"
   },
   {
    "duration": 210,
    "start_time": "2021-06-22T19:56:32.858Z"
   },
   {
    "duration": 31,
    "start_time": "2021-06-22T19:56:33.071Z"
   },
   {
    "duration": 393,
    "start_time": "2021-06-22T19:56:33.104Z"
   },
   {
    "duration": 220,
    "start_time": "2021-06-22T19:56:33.500Z"
   },
   {
    "duration": 17,
    "start_time": "2021-06-22T19:56:33.722Z"
   },
   {
    "duration": 379,
    "start_time": "2021-06-22T19:56:33.742Z"
   },
   {
    "duration": 234,
    "start_time": "2021-06-22T19:56:34.124Z"
   },
   {
    "duration": 8,
    "start_time": "2021-06-22T19:56:34.361Z"
   },
   {
    "duration": 6,
    "start_time": "2021-06-22T19:56:34.400Z"
   },
   {
    "duration": 12,
    "start_time": "2021-06-22T19:56:34.410Z"
   },
   {
    "duration": 11,
    "start_time": "2021-06-22T19:56:34.424Z"
   },
   {
    "duration": 8,
    "start_time": "2021-06-22T19:56:34.437Z"
   },
   {
    "duration": 7,
    "start_time": "2021-06-22T19:56:34.447Z"
   },
   {
    "duration": 49,
    "start_time": "2021-06-22T19:56:34.456Z"
   },
   {
    "duration": 8,
    "start_time": "2021-06-22T19:56:34.507Z"
   },
   {
    "duration": 19,
    "start_time": "2021-06-22T19:56:34.517Z"
   },
   {
    "duration": 8,
    "start_time": "2021-06-22T19:56:34.538Z"
   },
   {
    "duration": 11,
    "start_time": "2021-06-22T19:56:34.548Z"
   },
   {
    "duration": 46,
    "start_time": "2021-06-22T19:56:34.562Z"
   },
   {
    "duration": 53,
    "start_time": "2021-06-22T19:56:34.610Z"
   },
   {
    "duration": 9,
    "start_time": "2021-06-22T19:56:34.666Z"
   },
   {
    "duration": 51,
    "start_time": "2021-06-22T19:56:34.678Z"
   },
   {
    "duration": 5,
    "start_time": "2021-06-22T19:56:34.732Z"
   },
   {
    "duration": 35,
    "start_time": "2021-06-22T19:56:34.739Z"
   },
   {
    "duration": 698,
    "start_time": "2021-06-22T19:56:34.776Z"
   },
   {
    "duration": -1803,
    "start_time": "2021-06-22T19:56:37.280Z"
   },
   {
    "duration": -1838,
    "start_time": "2021-06-22T19:56:37.316Z"
   },
   {
    "duration": -1890,
    "start_time": "2021-06-22T19:56:37.369Z"
   },
   {
    "duration": -1929,
    "start_time": "2021-06-22T19:56:37.409Z"
   },
   {
    "duration": -1971,
    "start_time": "2021-06-22T19:56:37.453Z"
   },
   {
    "duration": -1976,
    "start_time": "2021-06-22T19:56:37.459Z"
   },
   {
    "duration": -1968,
    "start_time": "2021-06-22T19:56:37.468Z"
   },
   {
    "duration": -1972,
    "start_time": "2021-06-22T19:56:37.474Z"
   },
   {
    "duration": -1977,
    "start_time": "2021-06-22T19:56:37.481Z"
   },
   {
    "duration": -1983,
    "start_time": "2021-06-22T19:56:37.488Z"
   },
   {
    "duration": -1987,
    "start_time": "2021-06-22T19:56:37.494Z"
   },
   {
    "duration": -1992,
    "start_time": "2021-06-22T19:56:37.501Z"
   },
   {
    "duration": -1996,
    "start_time": "2021-06-22T19:56:37.507Z"
   },
   {
    "duration": -2000,
    "start_time": "2021-06-22T19:56:37.513Z"
   },
   {
    "duration": -2005,
    "start_time": "2021-06-22T19:56:37.520Z"
   },
   {
    "duration": -2009,
    "start_time": "2021-06-22T19:56:37.526Z"
   },
   {
    "duration": -2014,
    "start_time": "2021-06-22T19:56:37.533Z"
   },
   {
    "duration": -2019,
    "start_time": "2021-06-22T19:56:37.539Z"
   },
   {
    "duration": -2043,
    "start_time": "2021-06-22T19:56:37.565Z"
   },
   {
    "duration": -2050,
    "start_time": "2021-06-22T19:56:37.574Z"
   },
   {
    "duration": -2058,
    "start_time": "2021-06-22T19:56:37.584Z"
   },
   {
    "duration": -2067,
    "start_time": "2021-06-22T19:56:37.595Z"
   },
   {
    "duration": -2076,
    "start_time": "2021-06-22T19:56:37.605Z"
   },
   {
    "duration": -2081,
    "start_time": "2021-06-22T19:56:37.612Z"
   },
   {
    "duration": -2087,
    "start_time": "2021-06-22T19:56:37.619Z"
   },
   {
    "duration": -2092,
    "start_time": "2021-06-22T19:56:37.625Z"
   },
   {
    "duration": -2097,
    "start_time": "2021-06-22T19:56:37.632Z"
   },
   {
    "duration": -2102,
    "start_time": "2021-06-22T19:56:37.638Z"
   },
   {
    "duration": -2107,
    "start_time": "2021-06-22T19:56:37.644Z"
   },
   {
    "duration": -2112,
    "start_time": "2021-06-22T19:56:37.650Z"
   },
   {
    "duration": -2117,
    "start_time": "2021-06-22T19:56:37.657Z"
   },
   {
    "duration": -2081,
    "start_time": "2021-06-22T19:56:37.681Z"
   },
   {
    "duration": -2087,
    "start_time": "2021-06-22T19:56:37.689Z"
   },
   {
    "duration": -2092,
    "start_time": "2021-06-22T19:56:37.695Z"
   },
   {
    "duration": -2097,
    "start_time": "2021-06-22T19:56:37.702Z"
   },
   {
    "duration": -2102,
    "start_time": "2021-06-22T19:56:37.708Z"
   },
   {
    "duration": -2107,
    "start_time": "2021-06-22T19:56:37.715Z"
   },
   {
    "duration": -2112,
    "start_time": "2021-06-22T19:56:37.721Z"
   },
   {
    "duration": -2117,
    "start_time": "2021-06-22T19:56:37.728Z"
   },
   {
    "duration": -2122,
    "start_time": "2021-06-22T19:56:37.734Z"
   },
   {
    "duration": -2128,
    "start_time": "2021-06-22T19:56:37.741Z"
   },
   {
    "duration": -2133,
    "start_time": "2021-06-22T19:56:37.747Z"
   },
   {
    "duration": -2138,
    "start_time": "2021-06-22T19:56:37.754Z"
   },
   {
    "duration": -2143,
    "start_time": "2021-06-22T19:56:37.760Z"
   },
   {
    "duration": -2149,
    "start_time": "2021-06-22T19:56:37.767Z"
   },
   {
    "duration": -2154,
    "start_time": "2021-06-22T19:56:37.774Z"
   },
   {
    "duration": -2172,
    "start_time": "2021-06-22T19:56:37.793Z"
   },
   {
    "duration": -2178,
    "start_time": "2021-06-22T19:56:37.800Z"
   },
   {
    "duration": -2183,
    "start_time": "2021-06-22T19:56:37.807Z"
   },
   {
    "duration": -2210,
    "start_time": "2021-06-22T19:56:37.836Z"
   },
   {
    "duration": -2243,
    "start_time": "2021-06-22T19:56:37.870Z"
   },
   {
    "duration": -2293,
    "start_time": "2021-06-22T19:56:37.921Z"
   },
   {
    "duration": -2341,
    "start_time": "2021-06-22T19:56:37.971Z"
   },
   {
    "duration": -2384,
    "start_time": "2021-06-22T19:56:38.015Z"
   },
   {
    "duration": -2420,
    "start_time": "2021-06-22T19:56:38.053Z"
   },
   {
    "duration": -2426,
    "start_time": "2021-06-22T19:56:38.060Z"
   },
   {
    "duration": -2433,
    "start_time": "2021-06-22T19:56:38.069Z"
   },
   {
    "duration": 11,
    "start_time": "2021-06-22T19:59:11.579Z"
   },
   {
    "duration": 11,
    "start_time": "2021-06-22T19:59:11.592Z"
   },
   {
    "duration": 11,
    "start_time": "2021-06-22T19:59:11.607Z"
   },
   {
    "duration": 37,
    "start_time": "2021-06-22T19:59:11.621Z"
   },
   {
    "duration": 45,
    "start_time": "2021-06-22T19:59:11.661Z"
   },
   {
    "duration": 12,
    "start_time": "2021-06-22T19:59:11.709Z"
   },
   {
    "duration": 29,
    "start_time": "2021-06-22T19:59:11.724Z"
   },
   {
    "duration": 62,
    "start_time": "2021-06-22T19:59:11.756Z"
   },
   {
    "duration": 23,
    "start_time": "2021-06-22T19:59:11.822Z"
   },
   {
    "duration": 64,
    "start_time": "2021-06-22T19:59:11.848Z"
   },
   {
    "duration": 25,
    "start_time": "2021-06-22T19:59:11.915Z"
   },
   {
    "duration": 995,
    "start_time": "2021-06-22T19:59:11.943Z"
   },
   {
    "duration": -932,
    "start_time": "2021-06-22T19:59:13.875Z"
   },
   {
    "duration": -937,
    "start_time": "2021-06-22T19:59:13.882Z"
   },
   {
    "duration": -946,
    "start_time": "2021-06-22T19:59:13.892Z"
   },
   {
    "duration": -951,
    "start_time": "2021-06-22T19:59:13.899Z"
   },
   {
    "duration": -958,
    "start_time": "2021-06-22T19:59:13.907Z"
   },
   {
    "duration": -963,
    "start_time": "2021-06-22T19:59:13.914Z"
   },
   {
    "duration": -970,
    "start_time": "2021-06-22T19:59:13.922Z"
   },
   {
    "duration": -975,
    "start_time": "2021-06-22T19:59:13.929Z"
   },
   {
    "duration": -992,
    "start_time": "2021-06-22T19:59:13.947Z"
   },
   {
    "duration": -996,
    "start_time": "2021-06-22T19:59:13.953Z"
   },
   {
    "duration": -1004,
    "start_time": "2021-06-22T19:59:13.962Z"
   },
   {
    "duration": -1010,
    "start_time": "2021-06-22T19:59:13.969Z"
   },
   {
    "duration": -1016,
    "start_time": "2021-06-22T19:59:13.977Z"
   },
   {
    "duration": -1022,
    "start_time": "2021-06-22T19:59:13.984Z"
   },
   {
    "duration": -1028,
    "start_time": "2021-06-22T19:59:13.992Z"
   },
   {
    "duration": -999,
    "start_time": "2021-06-22T19:59:13.999Z"
   },
   {
    "duration": -1006,
    "start_time": "2021-06-22T19:59:14.007Z"
   },
   {
    "duration": -1011,
    "start_time": "2021-06-22T19:59:14.014Z"
   },
   {
    "duration": -1017,
    "start_time": "2021-06-22T19:59:14.021Z"
   },
   {
    "duration": -1023,
    "start_time": "2021-06-22T19:59:14.028Z"
   },
   {
    "duration": -1028,
    "start_time": "2021-06-22T19:59:14.035Z"
   },
   {
    "duration": -1034,
    "start_time": "2021-06-22T19:59:14.042Z"
   },
   {
    "duration": -1053,
    "start_time": "2021-06-22T19:59:14.062Z"
   },
   {
    "duration": -1058,
    "start_time": "2021-06-22T19:59:14.069Z"
   },
   {
    "duration": -1065,
    "start_time": "2021-06-22T19:59:14.077Z"
   },
   {
    "duration": -1070,
    "start_time": "2021-06-22T19:59:14.084Z"
   },
   {
    "duration": -1102,
    "start_time": "2021-06-22T19:59:14.117Z"
   },
   {
    "duration": -1133,
    "start_time": "2021-06-22T19:59:14.149Z"
   },
   {
    "duration": -1138,
    "start_time": "2021-06-22T19:59:14.156Z"
   },
   {
    "duration": -1155,
    "start_time": "2021-06-22T19:59:14.174Z"
   },
   {
    "duration": -1183,
    "start_time": "2021-06-22T19:59:14.203Z"
   },
   {
    "duration": -1187,
    "start_time": "2021-06-22T19:59:14.209Z"
   },
   {
    "duration": -1194,
    "start_time": "2021-06-22T19:59:14.217Z"
   },
   {
    "duration": -1215,
    "start_time": "2021-06-22T19:59:14.240Z"
   },
   {
    "duration": -1221,
    "start_time": "2021-06-22T19:59:14.247Z"
   },
   {
    "duration": -1226,
    "start_time": "2021-06-22T19:59:14.253Z"
   },
   {
    "duration": -1232,
    "start_time": "2021-06-22T19:59:14.261Z"
   },
   {
    "duration": -1237,
    "start_time": "2021-06-22T19:59:14.267Z"
   },
   {
    "duration": -1254,
    "start_time": "2021-06-22T19:59:14.285Z"
   },
   {
    "duration": -1268,
    "start_time": "2021-06-22T19:59:14.301Z"
   },
   {
    "duration": -1276,
    "start_time": "2021-06-22T19:59:14.310Z"
   },
   {
    "duration": -1280,
    "start_time": "2021-06-22T19:59:14.316Z"
   },
   {
    "duration": -1287,
    "start_time": "2021-06-22T19:59:14.324Z"
   },
   {
    "duration": -1297,
    "start_time": "2021-06-22T19:59:14.335Z"
   },
   {
    "duration": -1242,
    "start_time": "2021-06-22T19:59:14.342Z"
   },
   {
    "duration": -33609,
    "start_time": "2021-06-22T20:06:30.313Z"
   },
   {
    "duration": -33618,
    "start_time": "2021-06-22T20:06:30.323Z"
   },
   {
    "duration": -33623,
    "start_time": "2021-06-22T20:06:30.330Z"
   },
   {
    "duration": -33630,
    "start_time": "2021-06-22T20:06:30.338Z"
   },
   {
    "duration": -33636,
    "start_time": "2021-06-22T20:06:30.345Z"
   },
   {
    "duration": -33642,
    "start_time": "2021-06-22T20:06:30.353Z"
   },
   {
    "duration": -33662,
    "start_time": "2021-06-22T20:06:30.374Z"
   },
   {
    "duration": -33669,
    "start_time": "2021-06-22T20:06:30.383Z"
   },
   {
    "duration": -33677,
    "start_time": "2021-06-22T20:06:30.392Z"
   },
   {
    "duration": -33684,
    "start_time": "2021-06-22T20:06:30.400Z"
   },
   {
    "duration": -33690,
    "start_time": "2021-06-22T20:06:30.408Z"
   },
   {
    "duration": -33697,
    "start_time": "2021-06-22T20:06:30.416Z"
   },
   {
    "duration": -33703,
    "start_time": "2021-06-22T20:06:30.424Z"
   },
   {
    "duration": -33709,
    "start_time": "2021-06-22T20:06:30.431Z"
   },
   {
    "duration": -33716,
    "start_time": "2021-06-22T20:06:30.439Z"
   },
   {
    "duration": -33723,
    "start_time": "2021-06-22T20:06:30.448Z"
   },
   {
    "duration": -33730,
    "start_time": "2021-06-22T20:06:30.456Z"
   },
   {
    "duration": -33735,
    "start_time": "2021-06-22T20:06:30.462Z"
   },
   {
    "duration": -33760,
    "start_time": "2021-06-22T20:06:30.488Z"
   },
   {
    "duration": -33768,
    "start_time": "2021-06-22T20:06:30.498Z"
   },
   {
    "duration": -33776,
    "start_time": "2021-06-22T20:06:30.507Z"
   },
   {
    "duration": -33782,
    "start_time": "2021-06-22T20:06:30.515Z"
   },
   {
    "duration": -33789,
    "start_time": "2021-06-22T20:06:30.523Z"
   },
   {
    "duration": -33795,
    "start_time": "2021-06-22T20:06:30.530Z"
   },
   {
    "duration": -33801,
    "start_time": "2021-06-22T20:06:30.538Z"
   },
   {
    "duration": -33808,
    "start_time": "2021-06-22T20:06:30.546Z"
   },
   {
    "duration": -33814,
    "start_time": "2021-06-22T20:06:30.553Z"
   },
   {
    "duration": -33822,
    "start_time": "2021-06-22T20:06:30.562Z"
   },
   {
    "duration": -33769,
    "start_time": "2021-06-22T20:06:30.570Z"
   },
   {
    "duration": -33775,
    "start_time": "2021-06-22T20:06:30.577Z"
   },
   {
    "duration": -33792,
    "start_time": "2021-06-22T20:06:30.596Z"
   },
   {
    "duration": -33800,
    "start_time": "2021-06-22T20:06:30.605Z"
   },
   {
    "duration": -33806,
    "start_time": "2021-06-22T20:06:30.613Z"
   },
   {
    "duration": -33813,
    "start_time": "2021-06-22T20:06:30.621Z"
   },
   {
    "duration": -33818,
    "start_time": "2021-06-22T20:06:30.627Z"
   },
   {
    "duration": -33823,
    "start_time": "2021-06-22T20:06:30.634Z"
   },
   {
    "duration": -33829,
    "start_time": "2021-06-22T20:06:30.641Z"
   },
   {
    "duration": -33834,
    "start_time": "2021-06-22T20:06:30.648Z"
   },
   {
    "duration": -33840,
    "start_time": "2021-06-22T20:06:30.655Z"
   },
   {
    "duration": -33846,
    "start_time": "2021-06-22T20:06:30.663Z"
   },
   {
    "duration": -33853,
    "start_time": "2021-06-22T20:06:30.671Z"
   },
   {
    "duration": -33858,
    "start_time": "2021-06-22T20:06:30.678Z"
   },
   {
    "duration": -33865,
    "start_time": "2021-06-22T20:06:30.686Z"
   },
   {
    "duration": -33882,
    "start_time": "2021-06-22T20:06:30.705Z"
   },
   {
    "duration": -33888,
    "start_time": "2021-06-22T20:06:30.712Z"
   },
   {
    "duration": -33893,
    "start_time": "2021-06-22T20:06:30.719Z"
   },
   {
    "duration": -33899,
    "start_time": "2021-06-22T20:06:30.726Z"
   },
   {
    "duration": -33906,
    "start_time": "2021-06-22T20:06:30.734Z"
   },
   {
    "duration": -33911,
    "start_time": "2021-06-22T20:06:30.741Z"
   },
   {
    "duration": -33918,
    "start_time": "2021-06-22T20:06:30.749Z"
   },
   {
    "duration": -33924,
    "start_time": "2021-06-22T20:06:30.756Z"
   },
   {
    "duration": -33929,
    "start_time": "2021-06-22T20:06:30.763Z"
   },
   {
    "duration": -33935,
    "start_time": "2021-06-22T20:06:30.771Z"
   },
   {
    "duration": -34035,
    "start_time": "2021-06-22T20:06:30.872Z"
   },
   {
    "duration": -33976,
    "start_time": "2021-06-22T20:06:30.877Z"
   },
   {
    "duration": -33982,
    "start_time": "2021-06-22T20:06:30.884Z"
   },
   {
    "duration": -33989,
    "start_time": "2021-06-22T20:06:30.892Z"
   },
   {
    "duration": -33993,
    "start_time": "2021-06-22T20:06:30.898Z"
   },
   {
    "duration": -34091,
    "start_time": "2021-06-22T20:06:30.997Z"
   },
   {
    "duration": -34097,
    "start_time": "2021-06-22T20:06:31.005Z"
   },
   {
    "duration": -34103,
    "start_time": "2021-06-22T20:06:31.012Z"
   },
   {
    "duration": -34108,
    "start_time": "2021-06-22T20:06:31.019Z"
   },
   {
    "duration": -34114,
    "start_time": "2021-06-22T20:06:31.026Z"
   },
   {
    "duration": -34120,
    "start_time": "2021-06-22T20:06:31.033Z"
   },
   {
    "duration": -34233,
    "start_time": "2021-06-22T20:06:31.148Z"
   },
   {
    "duration": -34240,
    "start_time": "2021-06-22T20:06:31.156Z"
   },
   {
    "duration": -34245,
    "start_time": "2021-06-22T20:06:31.163Z"
   },
   {
    "duration": -34322,
    "start_time": "2021-06-22T20:06:31.241Z"
   },
   {
    "duration": -34337,
    "start_time": "2021-06-22T20:06:31.258Z"
   },
   {
    "duration": -34342,
    "start_time": "2021-06-22T20:06:31.265Z"
   },
   {
    "duration": -34418,
    "start_time": "2021-06-22T20:06:31.343Z"
   },
   {
    "duration": -34424,
    "start_time": "2021-06-22T20:06:31.350Z"
   },
   {
    "duration": -34439,
    "start_time": "2021-06-22T20:06:31.367Z"
   },
   {
    "duration": -34446,
    "start_time": "2021-06-22T20:06:31.375Z"
   },
   {
    "duration": -34452,
    "start_time": "2021-06-22T20:06:31.382Z"
   },
   {
    "duration": -34521,
    "start_time": "2021-06-22T20:06:31.453Z"
   },
   {
    "duration": -34527,
    "start_time": "2021-06-22T20:06:31.460Z"
   },
   {
    "duration": -34541,
    "start_time": "2021-06-22T20:06:31.476Z"
   },
   {
    "duration": -34549,
    "start_time": "2021-06-22T20:06:31.485Z"
   },
   {
    "duration": -34558,
    "start_time": "2021-06-22T20:06:31.496Z"
   },
   {
    "duration": -34565,
    "start_time": "2021-06-22T20:06:31.505Z"
   },
   {
    "duration": -34513,
    "start_time": "2021-06-22T20:06:31.513Z"
   },
   {
    "duration": -34517,
    "start_time": "2021-06-22T20:06:31.519Z"
   },
   {
    "duration": -34523,
    "start_time": "2021-06-22T20:06:31.526Z"
   },
   {
    "duration": -34528,
    "start_time": "2021-06-22T20:06:31.533Z"
   },
   {
    "duration": -34656,
    "start_time": "2021-06-22T20:06:31.662Z"
   },
   {
    "duration": -34660,
    "start_time": "2021-06-22T20:06:31.668Z"
   },
   {
    "duration": -34731,
    "start_time": "2021-06-22T20:06:31.740Z"
   },
   {
    "duration": -34737,
    "start_time": "2021-06-22T20:06:31.748Z"
   },
   {
    "duration": -34747,
    "start_time": "2021-06-22T20:06:31.759Z"
   },
   {
    "duration": -34753,
    "start_time": "2021-06-22T20:06:31.767Z"
   },
   {
    "duration": -34758,
    "start_time": "2021-06-22T20:06:31.774Z"
   },
   {
    "duration": -34763,
    "start_time": "2021-06-22T20:06:31.780Z"
   },
   {
    "duration": -34768,
    "start_time": "2021-06-22T20:06:31.786Z"
   },
   {
    "duration": -34773,
    "start_time": "2021-06-22T20:06:31.793Z"
   },
   {
    "duration": -34779,
    "start_time": "2021-06-22T20:06:31.800Z"
   },
   {
    "duration": -34783,
    "start_time": "2021-06-22T20:06:31.806Z"
   },
   {
    "duration": -34789,
    "start_time": "2021-06-22T20:06:31.813Z"
   },
   {
    "duration": -35170,
    "start_time": "2021-06-22T20:06:32.195Z"
   },
   {
    "duration": -35230,
    "start_time": "2021-06-22T20:06:32.257Z"
   },
   {
    "duration": -35236,
    "start_time": "2021-06-22T20:06:32.264Z"
   },
   {
    "duration": -35240,
    "start_time": "2021-06-22T20:06:32.270Z"
   },
   {
    "duration": -35246,
    "start_time": "2021-06-22T20:06:32.277Z"
   },
   {
    "duration": -35252,
    "start_time": "2021-06-22T20:06:32.284Z"
   },
   {
    "duration": -35256,
    "start_time": "2021-06-22T20:06:32.290Z"
   },
   {
    "duration": -35262,
    "start_time": "2021-06-22T20:06:32.297Z"
   },
   {
    "duration": -35268,
    "start_time": "2021-06-22T20:06:32.304Z"
   },
   {
    "duration": -35291,
    "start_time": "2021-06-22T20:06:32.329Z"
   },
   {
    "duration": -35298,
    "start_time": "2021-06-22T20:06:32.337Z"
   },
   {
    "duration": -35305,
    "start_time": "2021-06-22T20:06:32.345Z"
   },
   {
    "duration": -35252,
    "start_time": "2021-06-22T20:06:32.352Z"
   },
   {
    "duration": -35256,
    "start_time": "2021-06-22T20:06:32.358Z"
   },
   {
    "duration": -35262,
    "start_time": "2021-06-22T20:06:32.365Z"
   },
   {
    "duration": -35267,
    "start_time": "2021-06-22T20:06:32.372Z"
   },
   {
    "duration": -35273,
    "start_time": "2021-06-22T20:06:32.379Z"
   },
   {
    "duration": -35278,
    "start_time": "2021-06-22T20:06:32.385Z"
   },
   {
    "duration": -35283,
    "start_time": "2021-06-22T20:06:32.392Z"
   },
   {
    "duration": -35289,
    "start_time": "2021-06-22T20:06:32.399Z"
   },
   {
    "duration": -35295,
    "start_time": "2021-06-22T20:06:32.407Z"
   },
   {
    "duration": -35301,
    "start_time": "2021-06-22T20:06:32.414Z"
   },
   {
    "duration": -35307,
    "start_time": "2021-06-22T20:06:32.421Z"
   },
   {
    "duration": -35326,
    "start_time": "2021-06-22T20:06:32.442Z"
   },
   {
    "duration": -35331,
    "start_time": "2021-06-22T20:06:32.449Z"
   },
   {
    "duration": -35339,
    "start_time": "2021-06-22T20:06:32.458Z"
   },
   {
    "duration": -35344,
    "start_time": "2021-06-22T20:06:32.465Z"
   },
   {
    "duration": -35349,
    "start_time": "2021-06-22T20:06:32.472Z"
   },
   {
    "duration": -35355,
    "start_time": "2021-06-22T20:06:32.479Z"
   },
   {
    "duration": -35364,
    "start_time": "2021-06-22T20:06:32.490Z"
   },
   {
    "duration": -35370,
    "start_time": "2021-06-22T20:06:32.497Z"
   },
   {
    "duration": -35376,
    "start_time": "2021-06-22T20:06:32.504Z"
   },
   {
    "duration": -35381,
    "start_time": "2021-06-22T20:06:32.511Z"
   },
   {
    "duration": -35386,
    "start_time": "2021-06-22T20:06:32.517Z"
   },
   {
    "duration": -35390,
    "start_time": "2021-06-22T20:06:32.523Z"
   },
   {
    "duration": -35396,
    "start_time": "2021-06-22T20:06:32.530Z"
   },
   {
    "duration": -35401,
    "start_time": "2021-06-22T20:06:32.537Z"
   },
   {
    "duration": -35419,
    "start_time": "2021-06-22T20:06:32.557Z"
   },
   {
    "duration": -35362,
    "start_time": "2021-06-22T20:06:32.563Z"
   },
   {
    "duration": -35476,
    "start_time": "2021-06-22T20:06:32.679Z"
   },
   {
    "duration": -35493,
    "start_time": "2021-06-22T20:06:32.698Z"
   },
   {
    "duration": -35510,
    "start_time": "2021-06-22T20:06:32.717Z"
   },
   {
    "duration": -35521,
    "start_time": "2021-06-22T20:06:32.730Z"
   },
   {
    "duration": 1421,
    "start_time": "2021-06-22T20:07:37.049Z"
   },
   {
    "duration": 92,
    "start_time": "2021-06-22T20:07:38.472Z"
   },
   {
    "duration": 47,
    "start_time": "2021-06-22T20:07:38.567Z"
   },
   {
    "duration": 6,
    "start_time": "2021-06-22T20:07:38.617Z"
   },
   {
    "duration": 6,
    "start_time": "2021-06-22T20:07:38.625Z"
   },
   {
    "duration": 17,
    "start_time": "2021-06-22T20:07:38.634Z"
   },
   {
    "duration": 47,
    "start_time": "2021-06-22T20:07:38.653Z"
   },
   {
    "duration": 34,
    "start_time": "2021-06-22T20:07:38.704Z"
   },
   {
    "duration": 11,
    "start_time": "2021-06-22T20:07:38.741Z"
   },
   {
    "duration": 64,
    "start_time": "2021-06-22T20:07:38.754Z"
   },
   {
    "duration": 7,
    "start_time": "2021-06-22T20:07:38.820Z"
   },
   {
    "duration": 14,
    "start_time": "2021-06-22T20:07:38.829Z"
   },
   {
    "duration": 10,
    "start_time": "2021-06-22T20:07:38.845Z"
   },
   {
    "duration": 20,
    "start_time": "2021-06-22T20:07:38.858Z"
   },
   {
    "duration": 21,
    "start_time": "2021-06-22T20:07:38.880Z"
   },
   {
    "duration": 13,
    "start_time": "2021-06-22T20:07:38.904Z"
   },
   {
    "duration": 10,
    "start_time": "2021-06-22T20:07:38.919Z"
   },
   {
    "duration": 35,
    "start_time": "2021-06-22T20:07:38.931Z"
   },
   {
    "duration": 42,
    "start_time": "2021-06-22T20:07:38.969Z"
   },
   {
    "duration": 11,
    "start_time": "2021-06-22T20:07:39.013Z"
   },
   {
    "duration": 11,
    "start_time": "2021-06-22T20:07:39.027Z"
   },
   {
    "duration": 15,
    "start_time": "2021-06-22T20:07:39.040Z"
   },
   {
    "duration": 44,
    "start_time": "2021-06-22T20:07:39.062Z"
   },
   {
    "duration": 17,
    "start_time": "2021-06-22T20:07:39.111Z"
   },
   {
    "duration": 8,
    "start_time": "2021-06-22T20:07:39.130Z"
   },
   {
    "duration": 17,
    "start_time": "2021-06-22T20:07:39.140Z"
   },
   {
    "duration": 48,
    "start_time": "2021-06-22T20:07:39.160Z"
   },
   {
    "duration": 8,
    "start_time": "2021-06-22T20:07:39.210Z"
   },
   {
    "duration": 14,
    "start_time": "2021-06-22T20:07:39.221Z"
   },
   {
    "duration": 17,
    "start_time": "2021-06-22T20:07:39.238Z"
   },
   {
    "duration": 45,
    "start_time": "2021-06-22T20:07:39.258Z"
   },
   {
    "duration": 22,
    "start_time": "2021-06-22T20:07:39.306Z"
   },
   {
    "duration": 5,
    "start_time": "2021-06-22T20:07:39.331Z"
   },
   {
    "duration": 14,
    "start_time": "2021-06-22T20:07:39.339Z"
   },
   {
    "duration": 45,
    "start_time": "2021-06-22T20:07:39.356Z"
   },
   {
    "duration": 20,
    "start_time": "2021-06-22T20:07:39.405Z"
   },
   {
    "duration": 6,
    "start_time": "2021-06-22T20:07:39.428Z"
   },
   {
    "duration": 18,
    "start_time": "2021-06-22T20:07:39.437Z"
   },
   {
    "duration": 10,
    "start_time": "2021-06-22T20:07:39.457Z"
   },
   {
    "duration": 31,
    "start_time": "2021-06-22T20:07:39.470Z"
   },
   {
    "duration": 3781,
    "start_time": "2021-06-22T20:07:39.503Z"
   },
   {
    "duration": 41,
    "start_time": "2021-06-22T20:07:43.286Z"
   },
   {
    "duration": 16,
    "start_time": "2021-06-22T20:07:43.329Z"
   },
   {
    "duration": 5,
    "start_time": "2021-06-22T20:07:43.347Z"
   },
   {
    "duration": 8,
    "start_time": "2021-06-22T20:07:43.354Z"
   },
   {
    "duration": 36,
    "start_time": "2021-06-22T20:07:43.364Z"
   },
   {
    "duration": 35,
    "start_time": "2021-06-22T20:07:43.403Z"
   },
   {
    "duration": 386,
    "start_time": "2021-06-22T20:07:43.441Z"
   },
   {
    "duration": 341,
    "start_time": "2021-06-22T20:07:43.830Z"
   },
   {
    "duration": 7,
    "start_time": "2021-06-22T20:07:44.174Z"
   },
   {
    "duration": 714,
    "start_time": "2021-06-22T20:07:44.184Z"
   },
   {
    "duration": 392,
    "start_time": "2021-06-22T20:07:44.901Z"
   },
   {
    "duration": 3,
    "start_time": "2021-06-22T20:07:45.300Z"
   },
   {
    "duration": 211,
    "start_time": "2021-06-22T20:07:45.305Z"
   },
   {
    "duration": 12,
    "start_time": "2021-06-22T20:07:45.519Z"
   },
   {
    "duration": 7,
    "start_time": "2021-06-22T20:07:45.534Z"
   },
   {
    "duration": 660,
    "start_time": "2021-06-22T20:07:45.543Z"
   },
   {
    "duration": 19,
    "start_time": "2021-06-22T20:07:46.206Z"
   },
   {
    "duration": 444,
    "start_time": "2021-06-22T20:07:46.228Z"
   },
   {
    "duration": 208,
    "start_time": "2021-06-22T20:07:46.674Z"
   },
   {
    "duration": 27,
    "start_time": "2021-06-22T20:07:46.884Z"
   },
   {
    "duration": 393,
    "start_time": "2021-06-22T20:07:46.913Z"
   },
   {
    "duration": 220,
    "start_time": "2021-06-22T20:07:47.309Z"
   },
   {
    "duration": 19,
    "start_time": "2021-06-22T20:07:47.532Z"
   },
   {
    "duration": 384,
    "start_time": "2021-06-22T20:07:47.554Z"
   },
   {
    "duration": 219,
    "start_time": "2021-06-22T20:07:47.941Z"
   },
   {
    "duration": 8,
    "start_time": "2021-06-22T20:07:48.162Z"
   },
   {
    "duration": 23,
    "start_time": "2021-06-22T20:07:48.181Z"
   },
   {
    "duration": 10,
    "start_time": "2021-06-22T20:07:48.208Z"
   },
   {
    "duration": 8,
    "start_time": "2021-06-22T20:07:48.220Z"
   },
   {
    "duration": 8,
    "start_time": "2021-06-22T20:07:48.230Z"
   },
   {
    "duration": 11,
    "start_time": "2021-06-22T20:07:48.240Z"
   },
   {
    "duration": 49,
    "start_time": "2021-06-22T20:07:48.253Z"
   },
   {
    "duration": 8,
    "start_time": "2021-06-22T20:07:48.304Z"
   },
   {
    "duration": 16,
    "start_time": "2021-06-22T20:07:48.315Z"
   },
   {
    "duration": 4,
    "start_time": "2021-06-22T20:07:48.334Z"
   },
   {
    "duration": 6,
    "start_time": "2021-06-22T20:07:48.340Z"
   },
   {
    "duration": 6,
    "start_time": "2021-06-22T20:07:48.348Z"
   },
   {
    "duration": 83,
    "start_time": "2021-06-22T20:07:48.356Z"
   },
   {
    "duration": 9,
    "start_time": "2021-06-22T20:07:48.441Z"
   },
   {
    "duration": 60,
    "start_time": "2021-06-22T20:07:48.453Z"
   },
   {
    "duration": 5,
    "start_time": "2021-06-22T20:07:48.515Z"
   },
   {
    "duration": 33,
    "start_time": "2021-06-22T20:07:48.522Z"
   },
   {
    "duration": 711,
    "start_time": "2021-06-22T20:07:48.558Z"
   },
   {
    "duration": -1484,
    "start_time": "2021-06-22T20:07:50.756Z"
   },
   {
    "duration": -1489,
    "start_time": "2021-06-22T20:07:50.763Z"
   },
   {
    "duration": -1494,
    "start_time": "2021-06-22T20:07:50.769Z"
   },
   {
    "duration": -1500,
    "start_time": "2021-06-22T20:07:50.777Z"
   },
   {
    "duration": -1532,
    "start_time": "2021-06-22T20:07:50.810Z"
   },
   {
    "duration": -1538,
    "start_time": "2021-06-22T20:07:50.817Z"
   },
   {
    "duration": -1542,
    "start_time": "2021-06-22T20:07:50.823Z"
   },
   {
    "duration": -1530,
    "start_time": "2021-06-22T20:07:50.830Z"
   },
   {
    "duration": -1535,
    "start_time": "2021-06-22T20:07:50.837Z"
   },
   {
    "duration": -1541,
    "start_time": "2021-06-22T20:07:50.844Z"
   },
   {
    "duration": -1545,
    "start_time": "2021-06-22T20:07:50.850Z"
   },
   {
    "duration": -1551,
    "start_time": "2021-06-22T20:07:50.857Z"
   },
   {
    "duration": -1555,
    "start_time": "2021-06-22T20:07:50.863Z"
   },
   {
    "duration": -1561,
    "start_time": "2021-06-22T20:07:50.870Z"
   },
   {
    "duration": -1566,
    "start_time": "2021-06-22T20:07:50.876Z"
   },
   {
    "duration": -1575,
    "start_time": "2021-06-22T20:07:50.887Z"
   },
   {
    "duration": -1581,
    "start_time": "2021-06-22T20:07:50.894Z"
   },
   {
    "duration": -1591,
    "start_time": "2021-06-22T20:07:50.905Z"
   },
   {
    "duration": -1609,
    "start_time": "2021-06-22T20:07:50.925Z"
   },
   {
    "duration": -1616,
    "start_time": "2021-06-22T20:07:50.933Z"
   },
   {
    "duration": -1621,
    "start_time": "2021-06-22T20:07:50.939Z"
   },
   {
    "duration": -1627,
    "start_time": "2021-06-22T20:07:50.947Z"
   },
   {
    "duration": -1632,
    "start_time": "2021-06-22T20:07:50.953Z"
   },
   {
    "duration": -1638,
    "start_time": "2021-06-22T20:07:50.960Z"
   },
   {
    "duration": -1643,
    "start_time": "2021-06-22T20:07:50.967Z"
   },
   {
    "duration": -1648,
    "start_time": "2021-06-22T20:07:50.973Z"
   },
   {
    "duration": -1654,
    "start_time": "2021-06-22T20:07:50.980Z"
   },
   {
    "duration": -1659,
    "start_time": "2021-06-22T20:07:50.987Z"
   },
   {
    "duration": -1664,
    "start_time": "2021-06-22T20:07:50.993Z"
   },
   {
    "duration": -1670,
    "start_time": "2021-06-22T20:07:51.000Z"
   },
   {
    "duration": -1673,
    "start_time": "2021-06-22T20:07:51.005Z"
   },
   {
    "duration": -1679,
    "start_time": "2021-06-22T20:07:51.012Z"
   },
   {
    "duration": -1684,
    "start_time": "2021-06-22T20:07:51.018Z"
   },
   {
    "duration": -1701,
    "start_time": "2021-06-22T20:07:51.037Z"
   },
   {
    "duration": -1708,
    "start_time": "2021-06-22T20:07:51.045Z"
   },
   {
    "duration": -1713,
    "start_time": "2021-06-22T20:07:51.051Z"
   },
   {
    "duration": -1719,
    "start_time": "2021-06-22T20:07:51.058Z"
   },
   {
    "duration": -1664,
    "start_time": "2021-06-22T20:07:51.065Z"
   },
   {
    "duration": -1668,
    "start_time": "2021-06-22T20:07:51.071Z"
   },
   {
    "duration": -1674,
    "start_time": "2021-06-22T20:07:51.078Z"
   },
   {
    "duration": -1678,
    "start_time": "2021-06-22T20:07:51.084Z"
   },
   {
    "duration": -1684,
    "start_time": "2021-06-22T20:07:51.091Z"
   },
   {
    "duration": -1688,
    "start_time": "2021-06-22T20:07:51.097Z"
   },
   {
    "duration": -1694,
    "start_time": "2021-06-22T20:07:51.104Z"
   },
   {
    "duration": -1699,
    "start_time": "2021-06-22T20:07:51.110Z"
   },
   {
    "duration": -1703,
    "start_time": "2021-06-22T20:07:51.116Z"
   },
   {
    "duration": -1710,
    "start_time": "2021-06-22T20:07:51.124Z"
   },
   {
    "duration": -1718,
    "start_time": "2021-06-22T20:07:51.134Z"
   },
   {
    "duration": -1744,
    "start_time": "2021-06-22T20:07:51.161Z"
   },
   {
    "duration": -1753,
    "start_time": "2021-06-22T20:07:51.171Z"
   },
   {
    "duration": -1759,
    "start_time": "2021-06-22T20:07:51.178Z"
   },
   {
    "duration": -1764,
    "start_time": "2021-06-22T20:07:51.185Z"
   },
   {
    "duration": -1769,
    "start_time": "2021-06-22T20:07:51.191Z"
   },
   {
    "duration": -1775,
    "start_time": "2021-06-22T20:07:51.198Z"
   },
   {
    "duration": -1779,
    "start_time": "2021-06-22T20:07:51.204Z"
   },
   {
    "duration": -1785,
    "start_time": "2021-06-22T20:07:51.211Z"
   },
   {
    "duration": -1790,
    "start_time": "2021-06-22T20:07:51.218Z"
   },
   {
    "duration": 1502,
    "start_time": "2021-06-23T08:26:59.169Z"
   },
   {
    "duration": 88,
    "start_time": "2021-06-23T08:27:00.674Z"
   },
   {
    "duration": 51,
    "start_time": "2021-06-23T08:27:00.766Z"
   },
   {
    "duration": 6,
    "start_time": "2021-06-23T08:27:00.820Z"
   },
   {
    "duration": 27,
    "start_time": "2021-06-23T08:27:00.828Z"
   },
   {
    "duration": 32,
    "start_time": "2021-06-23T08:27:00.858Z"
   },
   {
    "duration": 13,
    "start_time": "2021-06-23T08:27:00.892Z"
   },
   {
    "duration": 40,
    "start_time": "2021-06-23T08:27:00.909Z"
   },
   {
    "duration": 11,
    "start_time": "2021-06-23T08:27:00.952Z"
   },
   {
    "duration": 57,
    "start_time": "2021-06-23T08:27:00.966Z"
   },
   {
    "duration": 7,
    "start_time": "2021-06-23T08:27:01.025Z"
   },
   {
    "duration": 11,
    "start_time": "2021-06-23T08:27:01.034Z"
   },
   {
    "duration": 11,
    "start_time": "2021-06-23T08:27:01.047Z"
   },
   {
    "duration": 21,
    "start_time": "2021-06-23T08:27:01.060Z"
   },
   {
    "duration": 21,
    "start_time": "2021-06-23T08:27:01.083Z"
   },
   {
    "duration": 17,
    "start_time": "2021-06-23T08:27:01.106Z"
   },
   {
    "duration": 9,
    "start_time": "2021-06-23T08:27:01.126Z"
   },
   {
    "duration": 63,
    "start_time": "2021-06-23T08:27:01.137Z"
   },
   {
    "duration": 12,
    "start_time": "2021-06-23T08:27:01.203Z"
   },
   {
    "duration": 16,
    "start_time": "2021-06-23T08:27:01.217Z"
   },
   {
    "duration": 21,
    "start_time": "2021-06-23T08:27:01.235Z"
   },
   {
    "duration": 42,
    "start_time": "2021-06-23T08:27:01.258Z"
   },
   {
    "duration": 9,
    "start_time": "2021-06-23T08:27:01.307Z"
   },
   {
    "duration": 35,
    "start_time": "2021-06-23T08:27:01.320Z"
   },
   {
    "duration": 9,
    "start_time": "2021-06-23T08:27:01.358Z"
   },
   {
    "duration": 31,
    "start_time": "2021-06-23T08:27:01.369Z"
   },
   {
    "duration": 22,
    "start_time": "2021-06-23T08:27:01.403Z"
   },
   {
    "duration": 13,
    "start_time": "2021-06-23T08:27:01.428Z"
   },
   {
    "duration": 40,
    "start_time": "2021-06-23T08:27:01.444Z"
   },
   {
    "duration": 25,
    "start_time": "2021-06-23T08:27:01.486Z"
   },
   {
    "duration": 15,
    "start_time": "2021-06-23T08:27:01.514Z"
   },
   {
    "duration": 29,
    "start_time": "2021-06-23T08:27:01.531Z"
   },
   {
    "duration": 25,
    "start_time": "2021-06-23T08:27:01.563Z"
   },
   {
    "duration": 42,
    "start_time": "2021-06-23T08:27:01.591Z"
   },
   {
    "duration": 7,
    "start_time": "2021-06-23T08:27:01.636Z"
   },
   {
    "duration": 24,
    "start_time": "2021-06-23T08:27:01.646Z"
   },
   {
    "duration": 33,
    "start_time": "2021-06-23T08:27:01.672Z"
   },
   {
    "duration": 30,
    "start_time": "2021-06-23T08:27:01.707Z"
   },
   {
    "duration": 17,
    "start_time": "2021-06-23T08:27:01.740Z"
   },
   {
    "duration": 13,
    "start_time": "2021-06-23T08:27:01.760Z"
   },
   {
    "duration": 3825,
    "start_time": "2021-06-23T08:27:01.775Z"
   },
   {
    "duration": 37,
    "start_time": "2021-06-23T08:27:05.603Z"
   },
   {
    "duration": 21,
    "start_time": "2021-06-23T08:27:05.642Z"
   },
   {
    "duration": 5,
    "start_time": "2021-06-23T08:27:05.666Z"
   },
   {
    "duration": 6,
    "start_time": "2021-06-23T08:27:05.700Z"
   },
   {
    "duration": 23,
    "start_time": "2021-06-23T08:27:05.709Z"
   },
   {
    "duration": 35,
    "start_time": "2021-06-23T08:27:05.735Z"
   },
   {
    "duration": 382,
    "start_time": "2021-06-23T08:27:05.773Z"
   },
   {
    "duration": 370,
    "start_time": "2021-06-23T08:27:06.157Z"
   },
   {
    "duration": 8,
    "start_time": "2021-06-23T08:27:06.529Z"
   },
   {
    "duration": 770,
    "start_time": "2021-06-23T08:27:06.540Z"
   },
   {
    "duration": 413,
    "start_time": "2021-06-23T08:27:07.314Z"
   },
   {
    "duration": 3,
    "start_time": "2021-06-23T08:27:07.730Z"
   },
   {
    "duration": 235,
    "start_time": "2021-06-23T08:27:07.735Z"
   },
   {
    "duration": 12,
    "start_time": "2021-06-23T08:27:07.973Z"
   },
   {
    "duration": 8,
    "start_time": "2021-06-23T08:27:08.001Z"
   },
   {
    "duration": 666,
    "start_time": "2021-06-23T08:27:08.012Z"
   },
   {
    "duration": 32,
    "start_time": "2021-06-23T08:27:08.682Z"
   },
   {
    "duration": 398,
    "start_time": "2021-06-23T08:27:08.717Z"
   },
   {
    "duration": 219,
    "start_time": "2021-06-23T08:27:09.118Z"
   },
   {
    "duration": 20,
    "start_time": "2021-06-23T08:27:09.340Z"
   },
   {
    "duration": 395,
    "start_time": "2021-06-23T08:27:09.363Z"
   },
   {
    "duration": 223,
    "start_time": "2021-06-23T08:27:09.761Z"
   },
   {
    "duration": 29,
    "start_time": "2021-06-23T08:27:09.986Z"
   },
   {
    "duration": 387,
    "start_time": "2021-06-23T08:27:10.017Z"
   },
   {
    "duration": 230,
    "start_time": "2021-06-23T08:27:10.406Z"
   },
   {
    "duration": 8,
    "start_time": "2021-06-23T08:27:10.638Z"
   },
   {
    "duration": 7,
    "start_time": "2021-06-23T08:27:10.656Z"
   },
   {
    "duration": 39,
    "start_time": "2021-06-23T08:27:10.667Z"
   },
   {
    "duration": 10,
    "start_time": "2021-06-23T08:27:10.709Z"
   },
   {
    "duration": 9,
    "start_time": "2021-06-23T08:27:10.722Z"
   },
   {
    "duration": 7,
    "start_time": "2021-06-23T08:27:10.733Z"
   },
   {
    "duration": 11,
    "start_time": "2021-06-23T08:27:10.742Z"
   },
   {
    "duration": 46,
    "start_time": "2021-06-23T08:27:10.756Z"
   },
   {
    "duration": 15,
    "start_time": "2021-06-23T08:27:10.805Z"
   },
   {
    "duration": 5,
    "start_time": "2021-06-23T08:27:10.823Z"
   },
   {
    "duration": 7,
    "start_time": "2021-06-23T08:27:10.830Z"
   },
   {
    "duration": 6,
    "start_time": "2021-06-23T08:27:10.839Z"
   },
   {
    "duration": 89,
    "start_time": "2021-06-23T08:27:10.847Z"
   },
   {
    "duration": 10,
    "start_time": "2021-06-23T08:27:10.939Z"
   },
   {
    "duration": 55,
    "start_time": "2021-06-23T08:27:10.951Z"
   },
   {
    "duration": 6,
    "start_time": "2021-06-23T08:27:11.009Z"
   },
   {
    "duration": 35,
    "start_time": "2021-06-23T08:27:11.018Z"
   },
   {
    "duration": 625,
    "start_time": "2021-06-23T08:27:11.055Z"
   },
   {
    "duration": 18,
    "start_time": "2021-06-23T08:27:11.683Z"
   },
   {
    "duration": 9,
    "start_time": "2021-06-23T08:27:11.704Z"
   },
   {
    "duration": 11,
    "start_time": "2021-06-23T08:27:11.716Z"
   },
   {
    "duration": 70,
    "start_time": "2021-06-23T08:27:11.730Z"
   },
   {
    "duration": 9,
    "start_time": "2021-06-23T08:27:11.802Z"
   },
   {
    "duration": 7,
    "start_time": "2021-06-23T08:27:11.813Z"
   },
   {
    "duration": 24,
    "start_time": "2021-06-23T08:27:11.823Z"
   },
   {
    "duration": 52,
    "start_time": "2021-06-23T08:27:11.850Z"
   },
   {
    "duration": 23,
    "start_time": "2021-06-23T08:27:11.905Z"
   },
   {
    "duration": 28,
    "start_time": "2021-06-23T08:27:11.930Z"
   },
   {
    "duration": 53,
    "start_time": "2021-06-23T08:27:11.960Z"
   },
   {
    "duration": 809,
    "start_time": "2021-06-23T08:27:12.016Z"
   },
   {
    "duration": 734,
    "start_time": "2021-06-23T08:27:12.828Z"
   },
   {
    "duration": 762,
    "start_time": "2021-06-23T08:27:13.564Z"
   },
   {
    "duration": 681,
    "start_time": "2021-06-23T08:27:14.328Z"
   },
   {
    "duration": 701,
    "start_time": "2021-06-23T08:27:15.012Z"
   },
   {
    "duration": 288,
    "start_time": "2021-06-23T08:27:15.715Z"
   },
   {
    "duration": 11,
    "start_time": "2021-06-23T08:27:16.006Z"
   },
   {
    "duration": 21,
    "start_time": "2021-06-23T08:27:16.019Z"
   },
   {
    "duration": 9,
    "start_time": "2021-06-23T08:27:16.042Z"
   },
   {
    "duration": 60,
    "start_time": "2021-06-23T08:27:16.054Z"
   },
   {
    "duration": 12,
    "start_time": "2021-06-23T08:27:16.117Z"
   },
   {
    "duration": 6,
    "start_time": "2021-06-23T08:27:16.132Z"
   },
   {
    "duration": 62,
    "start_time": "2021-06-23T08:27:16.140Z"
   },
   {
    "duration": 643,
    "start_time": "2021-06-23T08:27:16.204Z"
   },
   {
    "duration": 314,
    "start_time": "2021-06-23T08:27:16.850Z"
   },
   {
    "duration": 8,
    "start_time": "2021-06-23T08:27:17.167Z"
   },
   {
    "duration": 25,
    "start_time": "2021-06-23T08:27:17.178Z"
   },
   {
    "duration": 8,
    "start_time": "2021-06-23T08:27:17.206Z"
   },
   {
    "duration": 296,
    "start_time": "2021-06-23T08:27:17.217Z"
   },
   {
    "duration": 6,
    "start_time": "2021-06-23T08:27:17.515Z"
   },
   {
    "duration": 7,
    "start_time": "2021-06-23T08:27:17.524Z"
   },
   {
    "duration": 8,
    "start_time": "2021-06-23T08:27:17.533Z"
   },
   {
    "duration": 19,
    "start_time": "2021-06-23T08:27:17.544Z"
   },
   {
    "duration": 37,
    "start_time": "2021-06-23T08:27:17.565Z"
   },
   {
    "duration": 8,
    "start_time": "2021-06-23T08:27:17.605Z"
   },
   {
    "duration": 27,
    "start_time": "2021-06-23T08:27:17.615Z"
   },
   {
    "duration": 20,
    "start_time": "2021-06-23T08:27:17.645Z"
   },
   {
    "duration": 54,
    "start_time": "2021-06-23T08:27:17.667Z"
   },
   {
    "duration": 34,
    "start_time": "2021-06-23T08:27:17.724Z"
   },
   {
    "duration": 465,
    "start_time": "2021-06-23T08:27:17.760Z"
   },
   {
    "duration": 21,
    "start_time": "2021-06-23T08:27:18.227Z"
   },
   {
    "duration": 8,
    "start_time": "2021-06-23T08:27:18.250Z"
   },
   {
    "duration": 40,
    "start_time": "2021-06-23T08:27:18.260Z"
   },
   {
    "duration": 9,
    "start_time": "2021-06-23T08:27:18.302Z"
   },
   {
    "duration": 10,
    "start_time": "2021-06-23T08:27:18.313Z"
   },
   {
    "duration": 19,
    "start_time": "2021-06-23T08:27:18.325Z"
   },
   {
    "duration": 11,
    "start_time": "2021-06-23T08:27:18.346Z"
   },
   {
    "duration": 47,
    "start_time": "2021-06-23T08:27:18.360Z"
   },
   {
    "duration": 616,
    "start_time": "2021-06-23T08:27:18.410Z"
   },
   {
    "duration": 296,
    "start_time": "2021-06-23T08:27:19.029Z"
   },
   {
    "duration": 293,
    "start_time": "2021-06-23T08:27:19.327Z"
   },
   {
    "duration": 335,
    "start_time": "2021-06-23T08:27:19.623Z"
   },
   {
    "duration": 12,
    "start_time": "2021-06-23T08:27:19.961Z"
   },
   {
    "duration": 34,
    "start_time": "2021-06-23T08:27:19.977Z"
   },
   {
    "duration": 48,
    "start_time": "2021-06-23T08:27:20.014Z"
   },
   {
    "duration": 173,
    "start_time": "2021-06-23T08:27:20.065Z"
   },
   {
    "duration": 6,
    "start_time": "2021-06-23T08:45:58.747Z"
   },
   {
    "duration": 6,
    "start_time": "2021-06-23T08:46:16.993Z"
   },
   {
    "duration": 9,
    "start_time": "2021-06-23T08:46:30.688Z"
   },
   {
    "duration": 74,
    "start_time": "2021-06-23T08:47:24.644Z"
   },
   {
    "duration": 75,
    "start_time": "2021-06-23T08:47:45.498Z"
   },
   {
    "duration": 16,
    "start_time": "2021-06-23T08:47:48.045Z"
   },
   {
    "duration": 6,
    "start_time": "2021-06-23T08:51:53.520Z"
   },
   {
    "duration": 9,
    "start_time": "2021-06-23T08:52:02.474Z"
   },
   {
    "duration": 653,
    "start_time": "2021-06-23T08:52:18.179Z"
   },
   {
    "duration": 226,
    "start_time": "2021-06-23T08:52:25.195Z"
   },
   {
    "duration": 254,
    "start_time": "2021-07-08T19:08:27.489Z"
   },
   {
    "duration": 236,
    "start_time": "2021-07-08T19:08:46.196Z"
   }
  ],
  "kernelspec": {
   "display_name": "Python 3 (ipykernel)",
   "language": "python",
   "name": "python3"
  },
  "language_info": {
   "codemirror_mode": {
    "name": "ipython",
    "version": 3
   },
   "file_extension": ".py",
   "mimetype": "text/x-python",
   "name": "python",
   "nbconvert_exporter": "python",
   "pygments_lexer": "ipython3",
   "version": "3.9.7"
  },
  "toc": {
   "base_numbering": 1,
   "nav_menu": {},
   "number_sections": true,
   "sideBar": true,
   "skip_h1_title": true,
   "title_cell": "Table of Contents",
   "title_sidebar": "Contents",
   "toc_cell": false,
   "toc_position": {},
   "toc_section_display": true,
   "toc_window_display": false
  }
 },
 "nbformat": 4,
 "nbformat_minor": 5
}
