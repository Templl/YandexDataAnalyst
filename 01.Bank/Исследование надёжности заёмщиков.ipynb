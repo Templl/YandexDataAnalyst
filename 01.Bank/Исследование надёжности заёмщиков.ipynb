{
 "cells": [
  {
   "cell_type": "markdown",
   "metadata": {},
   "source": [
    "# Исследование надёжности заёмщиков\n",
    "Задача выявить зависимость признаков на факт погашения задолжености в срок. Результаты анализа будут использоваться при построении модели **кредитного скоринга**, машинного обучения."
   ]
  },
  {
   "cell_type": "markdown",
   "metadata": {},
   "source": [
    "Описание данных  \n",
    "- `children` — количество детей в семье  \n",
    "- `days_employed` — общий трудовой стаж в днях  \n",
    "- `dob_years` — возраст клиента в годах  \n",
    "- `education` — уровень образования клиента  \n",
    "- `education_id` — идентификатор уровня образования  \n",
    "- `family_status` — семейное положение  \n",
    "- `family_status_id` — идентификатор семейного положения  \n",
    "- `gender` — пол клиента  \n",
    "- `income_type` — тип занятости  \n",
    "- `debt` — имел ли задолженность по возврату кредитов  \n",
    "- `total_income` — ежемесячный доход  \n",
    "- `purpose` — цель получения кредита  "
   ]
  },
  {
   "cell_type": "markdown",
   "metadata": {},
   "source": [
    "## Шаг 1. Изучение общей информации\n"
   ]
  },
  {
   "cell_type": "code",
   "execution_count": 1,
   "metadata": {},
   "outputs": [],
   "source": [
    "import pandas as pd\n",
    "from collections import Counter\n",
    "from pymystem3 import Mystem\n",
    "m = Mystem()"
   ]
  },
  {
   "cell_type": "code",
   "execution_count": 2,
   "metadata": {},
   "outputs": [],
   "source": [
    "server_path = '/datasets/data.csv'\n",
    "filename = 'data.csv'\n",
    "\n",
    "try:\n",
    "    data = pd.read_csv(server_path) #пробуем найти данные по сетевому адресу\n",
    "except: \n",
    "    data = pd.read_csv(filename) #если не можем найти данные по сетевому адресу, ищем по локальному"
   ]
  },
  {
   "cell_type": "code",
   "execution_count": 3,
   "metadata": {},
   "outputs": [
    {
     "data": {
      "text/html": [
       "<div>\n",
       "<style scoped>\n",
       "    .dataframe tbody tr th:only-of-type {\n",
       "        vertical-align: middle;\n",
       "    }\n",
       "\n",
       "    .dataframe tbody tr th {\n",
       "        vertical-align: top;\n",
       "    }\n",
       "\n",
       "    .dataframe thead th {\n",
       "        text-align: right;\n",
       "    }\n",
       "</style>\n",
       "<table border=\"1\" class=\"dataframe\">\n",
       "  <thead>\n",
       "    <tr style=\"text-align: right;\">\n",
       "      <th></th>\n",
       "      <th>children</th>\n",
       "      <th>days_employed</th>\n",
       "      <th>dob_years</th>\n",
       "      <th>education</th>\n",
       "      <th>education_id</th>\n",
       "      <th>family_status</th>\n",
       "      <th>family_status_id</th>\n",
       "      <th>gender</th>\n",
       "      <th>income_type</th>\n",
       "      <th>debt</th>\n",
       "      <th>total_income</th>\n",
       "      <th>purpose</th>\n",
       "    </tr>\n",
       "  </thead>\n",
       "  <tbody>\n",
       "    <tr>\n",
       "      <th>0</th>\n",
       "      <td>1</td>\n",
       "      <td>-8437.673028</td>\n",
       "      <td>42</td>\n",
       "      <td>высшее</td>\n",
       "      <td>0</td>\n",
       "      <td>женат / замужем</td>\n",
       "      <td>0</td>\n",
       "      <td>F</td>\n",
       "      <td>сотрудник</td>\n",
       "      <td>0</td>\n",
       "      <td>253875.639453</td>\n",
       "      <td>покупка жилья</td>\n",
       "    </tr>\n",
       "    <tr>\n",
       "      <th>1</th>\n",
       "      <td>1</td>\n",
       "      <td>-4024.803754</td>\n",
       "      <td>36</td>\n",
       "      <td>среднее</td>\n",
       "      <td>1</td>\n",
       "      <td>женат / замужем</td>\n",
       "      <td>0</td>\n",
       "      <td>F</td>\n",
       "      <td>сотрудник</td>\n",
       "      <td>0</td>\n",
       "      <td>112080.014102</td>\n",
       "      <td>приобретение автомобиля</td>\n",
       "    </tr>\n",
       "    <tr>\n",
       "      <th>2</th>\n",
       "      <td>0</td>\n",
       "      <td>-5623.422610</td>\n",
       "      <td>33</td>\n",
       "      <td>Среднее</td>\n",
       "      <td>1</td>\n",
       "      <td>женат / замужем</td>\n",
       "      <td>0</td>\n",
       "      <td>M</td>\n",
       "      <td>сотрудник</td>\n",
       "      <td>0</td>\n",
       "      <td>145885.952297</td>\n",
       "      <td>покупка жилья</td>\n",
       "    </tr>\n",
       "    <tr>\n",
       "      <th>3</th>\n",
       "      <td>3</td>\n",
       "      <td>-4124.747207</td>\n",
       "      <td>32</td>\n",
       "      <td>среднее</td>\n",
       "      <td>1</td>\n",
       "      <td>женат / замужем</td>\n",
       "      <td>0</td>\n",
       "      <td>M</td>\n",
       "      <td>сотрудник</td>\n",
       "      <td>0</td>\n",
       "      <td>267628.550329</td>\n",
       "      <td>дополнительное образование</td>\n",
       "    </tr>\n",
       "    <tr>\n",
       "      <th>4</th>\n",
       "      <td>0</td>\n",
       "      <td>340266.072047</td>\n",
       "      <td>53</td>\n",
       "      <td>среднее</td>\n",
       "      <td>1</td>\n",
       "      <td>гражданский брак</td>\n",
       "      <td>1</td>\n",
       "      <td>F</td>\n",
       "      <td>пенсионер</td>\n",
       "      <td>0</td>\n",
       "      <td>158616.077870</td>\n",
       "      <td>сыграть свадьбу</td>\n",
       "    </tr>\n",
       "  </tbody>\n",
       "</table>\n",
       "</div>"
      ],
      "text/plain": [
       "   children  days_employed  dob_years education  education_id  \\\n",
       "0         1   -8437.673028         42    высшее             0   \n",
       "1         1   -4024.803754         36   среднее             1   \n",
       "2         0   -5623.422610         33   Среднее             1   \n",
       "3         3   -4124.747207         32   среднее             1   \n",
       "4         0  340266.072047         53   среднее             1   \n",
       "\n",
       "      family_status  family_status_id gender income_type  debt   total_income  \\\n",
       "0   женат / замужем                 0      F   сотрудник     0  253875.639453   \n",
       "1   женат / замужем                 0      F   сотрудник     0  112080.014102   \n",
       "2   женат / замужем                 0      M   сотрудник     0  145885.952297   \n",
       "3   женат / замужем                 0      M   сотрудник     0  267628.550329   \n",
       "4  гражданский брак                 1      F   пенсионер     0  158616.077870   \n",
       "\n",
       "                      purpose  \n",
       "0               покупка жилья  \n",
       "1     приобретение автомобиля  \n",
       "2               покупка жилья  \n",
       "3  дополнительное образование  \n",
       "4             сыграть свадьбу  "
      ]
     },
     "execution_count": 3,
     "metadata": {},
     "output_type": "execute_result"
    }
   ],
   "source": [
    "data.head()"
   ]
  },
  {
   "cell_type": "code",
   "execution_count": 4,
   "metadata": {},
   "outputs": [
    {
     "name": "stdout",
     "output_type": "stream",
     "text": [
      "<class 'pandas.core.frame.DataFrame'>\n",
      "RangeIndex: 21525 entries, 0 to 21524\n",
      "Data columns (total 12 columns):\n",
      " #   Column            Non-Null Count  Dtype  \n",
      "---  ------            --------------  -----  \n",
      " 0   children          21525 non-null  int64  \n",
      " 1   days_employed     19351 non-null  float64\n",
      " 2   dob_years         21525 non-null  int64  \n",
      " 3   education         21525 non-null  object \n",
      " 4   education_id      21525 non-null  int64  \n",
      " 5   family_status     21525 non-null  object \n",
      " 6   family_status_id  21525 non-null  int64  \n",
      " 7   gender            21525 non-null  object \n",
      " 8   income_type       21525 non-null  object \n",
      " 9   debt              21525 non-null  int64  \n",
      " 10  total_income      19351 non-null  float64\n",
      " 11  purpose           21525 non-null  object \n",
      "dtypes: float64(2), int64(5), object(5)\n",
      "memory usage: 2.0+ MB\n"
     ]
    }
   ],
   "source": [
    "data.info()"
   ]
  },
  {
   "cell_type": "code",
   "execution_count": null,
   "metadata": {},
   "outputs": [],
   "source": []
  },
  {
   "cell_type": "code",
   "execution_count": 5,
   "metadata": {},
   "outputs": [
    {
     "data": {
      "text/plain": [
       "children              int64\n",
       "days_employed       float64\n",
       "dob_years             int64\n",
       "education            object\n",
       "education_id          int64\n",
       "family_status        object\n",
       "family_status_id      int64\n",
       "gender               object\n",
       "income_type          object\n",
       "debt                  int64\n",
       "total_income        float64\n",
       "purpose              object\n",
       "dtype: object"
      ]
     },
     "execution_count": 5,
     "metadata": {},
     "output_type": "execute_result"
    }
   ],
   "source": [
    "data.dtypes"
   ]
  },
  {
   "cell_type": "code",
   "execution_count": 6,
   "metadata": {},
   "outputs": [
    {
     "data": {
      "text/plain": [
       "(21525, 12)"
      ]
     },
     "execution_count": 6,
     "metadata": {},
     "output_type": "execute_result"
    }
   ],
   "source": [
    "data.shape"
   ]
  },
  {
   "cell_type": "markdown",
   "metadata": {},
   "source": [
    "Общий итог: Кол-во строк 21525,  в двух колонках меньше количество значений - пропуски?, 12 колонок, 'days_employed' - есть отрицательные значения. В колонке \"education\" значения написаны в разных регистрах"
   ]
  },
  {
   "cell_type": "markdown",
   "metadata": {},
   "source": [
    "## Шаг 2. Предобработка данных"
   ]
  },
  {
   "cell_type": "markdown",
   "metadata": {},
   "source": [
    "### Обработка пропусков"
   ]
  },
  {
   "cell_type": "code",
   "execution_count": 7,
   "metadata": {},
   "outputs": [
    {
     "data": {
      "text/plain": [
       "children               0\n",
       "days_employed       2174\n",
       "dob_years              0\n",
       "education              0\n",
       "education_id           0\n",
       "family_status          0\n",
       "family_status_id       0\n",
       "gender                 0\n",
       "income_type            0\n",
       "debt                   0\n",
       "total_income        2174\n",
       "purpose                0\n",
       "dtype: int64"
      ]
     },
     "execution_count": 7,
     "metadata": {},
     "output_type": "execute_result"
    }
   ],
   "source": [
    "data.isnull().sum()"
   ]
  },
  {
   "cell_type": "markdown",
   "metadata": {},
   "source": [
    "    Обнаружены пропуски в двух колонках. days_employed - Общий трудовой стаж, total_income - ежемесячный доход. Скорее всего пропуск обозначает что нет данных по этим значениям. клиент не предоставил или данные не сохранились. Пропущенные значения составляют 10% от общего количества данных. \n",
    "   "
   ]
  },
  {
   "cell_type": "code",
   "execution_count": 8,
   "metadata": {},
   "outputs": [
    {
     "name": "stdout",
     "output_type": "stream",
     "text": [
      "пропуски в колонке days_employed до: 2174\n"
     ]
    }
   ],
   "source": [
    "print('пропуски в колонке days_employed до:', \n",
    "data['days_employed'].isna().sum())"
   ]
  },
  {
   "cell_type": "markdown",
   "metadata": {},
   "source": [
    "Избавляемся от минусов в колонке. Отрицательный трудовой стаж не может быть. Скорее всего это ошибка в знаке. Получить информацию от ответсвенного за выгрузку данных не получилось."
   ]
  },
  {
   "cell_type": "code",
   "execution_count": 9,
   "metadata": {},
   "outputs": [
    {
     "data": {
      "text/html": [
       "<div>\n",
       "<style scoped>\n",
       "    .dataframe tbody tr th:only-of-type {\n",
       "        vertical-align: middle;\n",
       "    }\n",
       "\n",
       "    .dataframe tbody tr th {\n",
       "        vertical-align: top;\n",
       "    }\n",
       "\n",
       "    .dataframe thead th {\n",
       "        text-align: right;\n",
       "    }\n",
       "</style>\n",
       "<table border=\"1\" class=\"dataframe\">\n",
       "  <thead>\n",
       "    <tr style=\"text-align: right;\">\n",
       "      <th></th>\n",
       "      <th>children</th>\n",
       "      <th>days_employed</th>\n",
       "      <th>dob_years</th>\n",
       "      <th>education</th>\n",
       "      <th>education_id</th>\n",
       "      <th>family_status</th>\n",
       "      <th>family_status_id</th>\n",
       "      <th>gender</th>\n",
       "      <th>income_type</th>\n",
       "      <th>debt</th>\n",
       "      <th>total_income</th>\n",
       "      <th>purpose</th>\n",
       "    </tr>\n",
       "  </thead>\n",
       "  <tbody>\n",
       "    <tr>\n",
       "      <th>0</th>\n",
       "      <td>1</td>\n",
       "      <td>-8437.673028</td>\n",
       "      <td>42</td>\n",
       "      <td>высшее</td>\n",
       "      <td>0</td>\n",
       "      <td>женат / замужем</td>\n",
       "      <td>0</td>\n",
       "      <td>F</td>\n",
       "      <td>сотрудник</td>\n",
       "      <td>0</td>\n",
       "      <td>253875.639453</td>\n",
       "      <td>покупка жилья</td>\n",
       "    </tr>\n",
       "    <tr>\n",
       "      <th>1</th>\n",
       "      <td>1</td>\n",
       "      <td>-4024.803754</td>\n",
       "      <td>36</td>\n",
       "      <td>среднее</td>\n",
       "      <td>1</td>\n",
       "      <td>женат / замужем</td>\n",
       "      <td>0</td>\n",
       "      <td>F</td>\n",
       "      <td>сотрудник</td>\n",
       "      <td>0</td>\n",
       "      <td>112080.014102</td>\n",
       "      <td>приобретение автомобиля</td>\n",
       "    </tr>\n",
       "    <tr>\n",
       "      <th>2</th>\n",
       "      <td>0</td>\n",
       "      <td>-5623.422610</td>\n",
       "      <td>33</td>\n",
       "      <td>Среднее</td>\n",
       "      <td>1</td>\n",
       "      <td>женат / замужем</td>\n",
       "      <td>0</td>\n",
       "      <td>M</td>\n",
       "      <td>сотрудник</td>\n",
       "      <td>0</td>\n",
       "      <td>145885.952297</td>\n",
       "      <td>покупка жилья</td>\n",
       "    </tr>\n",
       "    <tr>\n",
       "      <th>3</th>\n",
       "      <td>3</td>\n",
       "      <td>-4124.747207</td>\n",
       "      <td>32</td>\n",
       "      <td>среднее</td>\n",
       "      <td>1</td>\n",
       "      <td>женат / замужем</td>\n",
       "      <td>0</td>\n",
       "      <td>M</td>\n",
       "      <td>сотрудник</td>\n",
       "      <td>0</td>\n",
       "      <td>267628.550329</td>\n",
       "      <td>дополнительное образование</td>\n",
       "    </tr>\n",
       "    <tr>\n",
       "      <th>4</th>\n",
       "      <td>0</td>\n",
       "      <td>340266.072047</td>\n",
       "      <td>53</td>\n",
       "      <td>среднее</td>\n",
       "      <td>1</td>\n",
       "      <td>гражданский брак</td>\n",
       "      <td>1</td>\n",
       "      <td>F</td>\n",
       "      <td>пенсионер</td>\n",
       "      <td>0</td>\n",
       "      <td>158616.077870</td>\n",
       "      <td>сыграть свадьбу</td>\n",
       "    </tr>\n",
       "  </tbody>\n",
       "</table>\n",
       "</div>"
      ],
      "text/plain": [
       "   children  days_employed  dob_years education  education_id  \\\n",
       "0         1   -8437.673028         42    высшее             0   \n",
       "1         1   -4024.803754         36   среднее             1   \n",
       "2         0   -5623.422610         33   Среднее             1   \n",
       "3         3   -4124.747207         32   среднее             1   \n",
       "4         0  340266.072047         53   среднее             1   \n",
       "\n",
       "      family_status  family_status_id gender income_type  debt   total_income  \\\n",
       "0   женат / замужем                 0      F   сотрудник     0  253875.639453   \n",
       "1   женат / замужем                 0      F   сотрудник     0  112080.014102   \n",
       "2   женат / замужем                 0      M   сотрудник     0  145885.952297   \n",
       "3   женат / замужем                 0      M   сотрудник     0  267628.550329   \n",
       "4  гражданский брак                 1      F   пенсионер     0  158616.077870   \n",
       "\n",
       "                      purpose  \n",
       "0               покупка жилья  \n",
       "1     приобретение автомобиля  \n",
       "2               покупка жилья  \n",
       "3  дополнительное образование  \n",
       "4             сыграть свадьбу  "
      ]
     },
     "execution_count": 9,
     "metadata": {},
     "output_type": "execute_result"
    }
   ],
   "source": [
    "data.head()"
   ]
  },
  {
   "cell_type": "markdown",
   "metadata": {},
   "source": [
    "Посмотрим уникальные значения колонок образование и семейного статуса."
   ]
  },
  {
   "cell_type": "code",
   "execution_count": 10,
   "metadata": {},
   "outputs": [
    {
     "name": "stderr",
     "output_type": "stream",
     "text": [
      "C:\\Users\\mkt4\\AppData\\Local\\Temp/ipykernel_9028/2734662045.py:1: FutureWarning: Indexing with multiple keys (implicitly converted to a tuple of keys) will be deprecated, use a list instead.\n",
      "  data.groupby(['education', 'education_id'])['education', 'education_id'].count()\n"
     ]
    },
    {
     "data": {
      "text/html": [
       "<div>\n",
       "<style scoped>\n",
       "    .dataframe tbody tr th:only-of-type {\n",
       "        vertical-align: middle;\n",
       "    }\n",
       "\n",
       "    .dataframe tbody tr th {\n",
       "        vertical-align: top;\n",
       "    }\n",
       "\n",
       "    .dataframe thead th {\n",
       "        text-align: right;\n",
       "    }\n",
       "</style>\n",
       "<table border=\"1\" class=\"dataframe\">\n",
       "  <thead>\n",
       "    <tr style=\"text-align: right;\">\n",
       "      <th></th>\n",
       "      <th></th>\n",
       "      <th>education</th>\n",
       "      <th>education_id</th>\n",
       "    </tr>\n",
       "    <tr>\n",
       "      <th>education</th>\n",
       "      <th>education_id</th>\n",
       "      <th></th>\n",
       "      <th></th>\n",
       "    </tr>\n",
       "  </thead>\n",
       "  <tbody>\n",
       "    <tr>\n",
       "      <th>ВЫСШЕЕ</th>\n",
       "      <th>0</th>\n",
       "      <td>274</td>\n",
       "      <td>274</td>\n",
       "    </tr>\n",
       "    <tr>\n",
       "      <th>Высшее</th>\n",
       "      <th>0</th>\n",
       "      <td>268</td>\n",
       "      <td>268</td>\n",
       "    </tr>\n",
       "    <tr>\n",
       "      <th>НАЧАЛЬНОЕ</th>\n",
       "      <th>3</th>\n",
       "      <td>17</td>\n",
       "      <td>17</td>\n",
       "    </tr>\n",
       "    <tr>\n",
       "      <th>НЕОКОНЧЕННОЕ ВЫСШЕЕ</th>\n",
       "      <th>2</th>\n",
       "      <td>29</td>\n",
       "      <td>29</td>\n",
       "    </tr>\n",
       "    <tr>\n",
       "      <th>Начальное</th>\n",
       "      <th>3</th>\n",
       "      <td>15</td>\n",
       "      <td>15</td>\n",
       "    </tr>\n",
       "    <tr>\n",
       "      <th>Неоконченное высшее</th>\n",
       "      <th>2</th>\n",
       "      <td>47</td>\n",
       "      <td>47</td>\n",
       "    </tr>\n",
       "    <tr>\n",
       "      <th>СРЕДНЕЕ</th>\n",
       "      <th>1</th>\n",
       "      <td>772</td>\n",
       "      <td>772</td>\n",
       "    </tr>\n",
       "    <tr>\n",
       "      <th>Среднее</th>\n",
       "      <th>1</th>\n",
       "      <td>711</td>\n",
       "      <td>711</td>\n",
       "    </tr>\n",
       "    <tr>\n",
       "      <th>УЧЕНАЯ СТЕПЕНЬ</th>\n",
       "      <th>4</th>\n",
       "      <td>1</td>\n",
       "      <td>1</td>\n",
       "    </tr>\n",
       "    <tr>\n",
       "      <th>Ученая степень</th>\n",
       "      <th>4</th>\n",
       "      <td>1</td>\n",
       "      <td>1</td>\n",
       "    </tr>\n",
       "    <tr>\n",
       "      <th>высшее</th>\n",
       "      <th>0</th>\n",
       "      <td>4718</td>\n",
       "      <td>4718</td>\n",
       "    </tr>\n",
       "    <tr>\n",
       "      <th>начальное</th>\n",
       "      <th>3</th>\n",
       "      <td>250</td>\n",
       "      <td>250</td>\n",
       "    </tr>\n",
       "    <tr>\n",
       "      <th>неоконченное высшее</th>\n",
       "      <th>2</th>\n",
       "      <td>668</td>\n",
       "      <td>668</td>\n",
       "    </tr>\n",
       "    <tr>\n",
       "      <th>среднее</th>\n",
       "      <th>1</th>\n",
       "      <td>13750</td>\n",
       "      <td>13750</td>\n",
       "    </tr>\n",
       "    <tr>\n",
       "      <th>ученая степень</th>\n",
       "      <th>4</th>\n",
       "      <td>4</td>\n",
       "      <td>4</td>\n",
       "    </tr>\n",
       "  </tbody>\n",
       "</table>\n",
       "</div>"
      ],
      "text/plain": [
       "                                  education  education_id\n",
       "education           education_id                         \n",
       "ВЫСШЕЕ              0                   274           274\n",
       "Высшее              0                   268           268\n",
       "НАЧАЛЬНОЕ           3                    17            17\n",
       "НЕОКОНЧЕННОЕ ВЫСШЕЕ 2                    29            29\n",
       "Начальное           3                    15            15\n",
       "Неоконченное высшее 2                    47            47\n",
       "СРЕДНЕЕ             1                   772           772\n",
       "Среднее             1                   711           711\n",
       "УЧЕНАЯ СТЕПЕНЬ      4                     1             1\n",
       "Ученая степень      4                     1             1\n",
       "высшее              0                  4718          4718\n",
       "начальное           3                   250           250\n",
       "неоконченное высшее 2                   668           668\n",
       "среднее             1                 13750         13750\n",
       "ученая степень      4                     4             4"
      ]
     },
     "execution_count": 10,
     "metadata": {},
     "output_type": "execute_result"
    }
   ],
   "source": [
    "data.groupby(['education', 'education_id'])['education', 'education_id'].count()"
   ]
  },
  {
   "cell_type": "code",
   "execution_count": 11,
   "metadata": {},
   "outputs": [],
   "source": [
    "#Приведем значения в education к единому регистру\n",
    "data['education'] = data['education'].str.lower() "
   ]
  },
  {
   "cell_type": "code",
   "execution_count": 12,
   "metadata": {},
   "outputs": [
    {
     "name": "stderr",
     "output_type": "stream",
     "text": [
      "C:\\Users\\mkt4\\AppData\\Local\\Temp/ipykernel_9028/2734662045.py:1: FutureWarning: Indexing with multiple keys (implicitly converted to a tuple of keys) will be deprecated, use a list instead.\n",
      "  data.groupby(['education', 'education_id'])['education', 'education_id'].count()\n"
     ]
    },
    {
     "data": {
      "text/html": [
       "<div>\n",
       "<style scoped>\n",
       "    .dataframe tbody tr th:only-of-type {\n",
       "        vertical-align: middle;\n",
       "    }\n",
       "\n",
       "    .dataframe tbody tr th {\n",
       "        vertical-align: top;\n",
       "    }\n",
       "\n",
       "    .dataframe thead th {\n",
       "        text-align: right;\n",
       "    }\n",
       "</style>\n",
       "<table border=\"1\" class=\"dataframe\">\n",
       "  <thead>\n",
       "    <tr style=\"text-align: right;\">\n",
       "      <th></th>\n",
       "      <th></th>\n",
       "      <th>education</th>\n",
       "      <th>education_id</th>\n",
       "    </tr>\n",
       "    <tr>\n",
       "      <th>education</th>\n",
       "      <th>education_id</th>\n",
       "      <th></th>\n",
       "      <th></th>\n",
       "    </tr>\n",
       "  </thead>\n",
       "  <tbody>\n",
       "    <tr>\n",
       "      <th>высшее</th>\n",
       "      <th>0</th>\n",
       "      <td>5260</td>\n",
       "      <td>5260</td>\n",
       "    </tr>\n",
       "    <tr>\n",
       "      <th>начальное</th>\n",
       "      <th>3</th>\n",
       "      <td>282</td>\n",
       "      <td>282</td>\n",
       "    </tr>\n",
       "    <tr>\n",
       "      <th>неоконченное высшее</th>\n",
       "      <th>2</th>\n",
       "      <td>744</td>\n",
       "      <td>744</td>\n",
       "    </tr>\n",
       "    <tr>\n",
       "      <th>среднее</th>\n",
       "      <th>1</th>\n",
       "      <td>15233</td>\n",
       "      <td>15233</td>\n",
       "    </tr>\n",
       "    <tr>\n",
       "      <th>ученая степень</th>\n",
       "      <th>4</th>\n",
       "      <td>6</td>\n",
       "      <td>6</td>\n",
       "    </tr>\n",
       "  </tbody>\n",
       "</table>\n",
       "</div>"
      ],
      "text/plain": [
       "                                  education  education_id\n",
       "education           education_id                         \n",
       "высшее              0                  5260          5260\n",
       "начальное           3                   282           282\n",
       "неоконченное высшее 2                   744           744\n",
       "среднее             1                 15233         15233\n",
       "ученая степень      4                     6             6"
      ]
     },
     "execution_count": 12,
     "metadata": {},
     "output_type": "execute_result"
    }
   ],
   "source": [
    "data.groupby(['education', 'education_id'])['education', 'education_id'].count()"
   ]
  },
  {
   "cell_type": "code",
   "execution_count": 13,
   "metadata": {},
   "outputs": [
    {
     "name": "stderr",
     "output_type": "stream",
     "text": [
      "C:\\Users\\mkt4\\AppData\\Local\\Temp/ipykernel_9028/3477493686.py:1: FutureWarning: Indexing with multiple keys (implicitly converted to a tuple of keys) will be deprecated, use a list instead.\n",
      "  data.groupby(['family_status', 'family_status_id'])['family_status', 'family_status_id'].count()\n"
     ]
    },
    {
     "data": {
      "text/html": [
       "<div>\n",
       "<style scoped>\n",
       "    .dataframe tbody tr th:only-of-type {\n",
       "        vertical-align: middle;\n",
       "    }\n",
       "\n",
       "    .dataframe tbody tr th {\n",
       "        vertical-align: top;\n",
       "    }\n",
       "\n",
       "    .dataframe thead th {\n",
       "        text-align: right;\n",
       "    }\n",
       "</style>\n",
       "<table border=\"1\" class=\"dataframe\">\n",
       "  <thead>\n",
       "    <tr style=\"text-align: right;\">\n",
       "      <th></th>\n",
       "      <th></th>\n",
       "      <th>family_status</th>\n",
       "      <th>family_status_id</th>\n",
       "    </tr>\n",
       "    <tr>\n",
       "      <th>family_status</th>\n",
       "      <th>family_status_id</th>\n",
       "      <th></th>\n",
       "      <th></th>\n",
       "    </tr>\n",
       "  </thead>\n",
       "  <tbody>\n",
       "    <tr>\n",
       "      <th>Не женат / не замужем</th>\n",
       "      <th>4</th>\n",
       "      <td>2813</td>\n",
       "      <td>2813</td>\n",
       "    </tr>\n",
       "    <tr>\n",
       "      <th>в разводе</th>\n",
       "      <th>3</th>\n",
       "      <td>1195</td>\n",
       "      <td>1195</td>\n",
       "    </tr>\n",
       "    <tr>\n",
       "      <th>вдовец / вдова</th>\n",
       "      <th>2</th>\n",
       "      <td>960</td>\n",
       "      <td>960</td>\n",
       "    </tr>\n",
       "    <tr>\n",
       "      <th>гражданский брак</th>\n",
       "      <th>1</th>\n",
       "      <td>4177</td>\n",
       "      <td>4177</td>\n",
       "    </tr>\n",
       "    <tr>\n",
       "      <th>женат / замужем</th>\n",
       "      <th>0</th>\n",
       "      <td>12380</td>\n",
       "      <td>12380</td>\n",
       "    </tr>\n",
       "  </tbody>\n",
       "</table>\n",
       "</div>"
      ],
      "text/plain": [
       "                                        family_status  family_status_id\n",
       "family_status         family_status_id                                 \n",
       "Не женат / не замужем 4                          2813              2813\n",
       "в разводе             3                          1195              1195\n",
       "вдовец / вдова        2                           960               960\n",
       "гражданский брак      1                          4177              4177\n",
       "женат / замужем       0                         12380             12380"
      ]
     },
     "execution_count": 13,
     "metadata": {},
     "output_type": "execute_result"
    }
   ],
   "source": [
    "data.groupby(['family_status', 'family_status_id'])['family_status', 'family_status_id'].count()"
   ]
  },
  {
   "cell_type": "code",
   "execution_count": 14,
   "metadata": {},
   "outputs": [],
   "source": [
    "#Для заполнения пропусков в days_employed расчитаем медиану по группе образования и семейный статус\n",
    "#Для данной задачи считаю что эти группы значимы и \n",
    "median = data.groupby(['education', 'family_status']).agg({'days_employed': 'median'}).rename(\n",
    "    columns = {'days_employed': 'median_days_employed'}\n",
    ")"
   ]
  },
  {
   "cell_type": "markdown",
   "metadata": {},
   "source": [
    "присоединяем таблицу к исходной таблице дата"
   ]
  },
  {
   "cell_type": "code",
   "execution_count": 15,
   "metadata": {},
   "outputs": [],
   "source": [
    "data = data.merge(median, on = ['education', 'family_status'])"
   ]
  },
  {
   "cell_type": "code",
   "execution_count": 16,
   "metadata": {},
   "outputs": [
    {
     "data": {
      "text/html": [
       "<div>\n",
       "<style scoped>\n",
       "    .dataframe tbody tr th:only-of-type {\n",
       "        vertical-align: middle;\n",
       "    }\n",
       "\n",
       "    .dataframe tbody tr th {\n",
       "        vertical-align: top;\n",
       "    }\n",
       "\n",
       "    .dataframe thead th {\n",
       "        text-align: right;\n",
       "    }\n",
       "</style>\n",
       "<table border=\"1\" class=\"dataframe\">\n",
       "  <thead>\n",
       "    <tr style=\"text-align: right;\">\n",
       "      <th></th>\n",
       "      <th>family_status</th>\n",
       "      <th>education</th>\n",
       "      <th>days_employed</th>\n",
       "      <th>median_days_employed</th>\n",
       "    </tr>\n",
       "  </thead>\n",
       "  <tbody>\n",
       "    <tr>\n",
       "      <th>6</th>\n",
       "      <td>женат / замужем</td>\n",
       "      <td>высшее</td>\n",
       "      <td>NaN</td>\n",
       "      <td>-1443.773383</td>\n",
       "    </tr>\n",
       "    <tr>\n",
       "      <th>9</th>\n",
       "      <td>женат / замужем</td>\n",
       "      <td>высшее</td>\n",
       "      <td>NaN</td>\n",
       "      <td>-1443.773383</td>\n",
       "    </tr>\n",
       "    <tr>\n",
       "      <th>12</th>\n",
       "      <td>женат / замужем</td>\n",
       "      <td>высшее</td>\n",
       "      <td>NaN</td>\n",
       "      <td>-1443.773383</td>\n",
       "    </tr>\n",
       "    <tr>\n",
       "      <th>13</th>\n",
       "      <td>женат / замужем</td>\n",
       "      <td>высшее</td>\n",
       "      <td>NaN</td>\n",
       "      <td>-1443.773383</td>\n",
       "    </tr>\n",
       "    <tr>\n",
       "      <th>15</th>\n",
       "      <td>женат / замужем</td>\n",
       "      <td>высшее</td>\n",
       "      <td>NaN</td>\n",
       "      <td>-1443.773383</td>\n",
       "    </tr>\n",
       "  </tbody>\n",
       "</table>\n",
       "</div>"
      ],
      "text/plain": [
       "      family_status education  days_employed  median_days_employed\n",
       "6   женат / замужем    высшее            NaN          -1443.773383\n",
       "9   женат / замужем    высшее            NaN          -1443.773383\n",
       "12  женат / замужем    высшее            NaN          -1443.773383\n",
       "13  женат / замужем    высшее            NaN          -1443.773383\n",
       "15  женат / замужем    высшее            NaN          -1443.773383"
      ]
     },
     "execution_count": 16,
     "metadata": {},
     "output_type": "execute_result"
    }
   ],
   "source": [
    "data[['family_status', 'education', 'days_employed', 'median_days_employed']][data['days_employed'].isna()].head()"
   ]
  },
  {
   "cell_type": "code",
   "execution_count": 17,
   "metadata": {},
   "outputs": [],
   "source": [
    "# значения где days_employed пусто заполняем медианой \n",
    "data.loc[data['days_employed'].isna(), 'days_employed'] = data.loc[data['days_employed'].isna(), 'median_days_employed']"
   ]
  },
  {
   "cell_type": "code",
   "execution_count": 18,
   "metadata": {},
   "outputs": [
    {
     "name": "stdout",
     "output_type": "stream",
     "text": [
      "Пропуски после: 0\n"
     ]
    }
   ],
   "source": [
    "print('Пропуски после:', data['days_employed'].isna().sum())"
   ]
  },
  {
   "cell_type": "markdown",
   "metadata": {},
   "source": [
    "Убираем пропуски по колонке total_income"
   ]
  },
  {
   "cell_type": "code",
   "execution_count": 19,
   "metadata": {},
   "outputs": [
    {
     "name": "stderr",
     "output_type": "stream",
     "text": [
      "C:\\Users\\mkt4\\AppData\\Local\\Temp/ipykernel_9028/2734662045.py:1: FutureWarning: Indexing with multiple keys (implicitly converted to a tuple of keys) will be deprecated, use a list instead.\n",
      "  data.groupby(['education', 'education_id'])['education', 'education_id'].count()\n"
     ]
    },
    {
     "data": {
      "text/html": [
       "<div>\n",
       "<style scoped>\n",
       "    .dataframe tbody tr th:only-of-type {\n",
       "        vertical-align: middle;\n",
       "    }\n",
       "\n",
       "    .dataframe tbody tr th {\n",
       "        vertical-align: top;\n",
       "    }\n",
       "\n",
       "    .dataframe thead th {\n",
       "        text-align: right;\n",
       "    }\n",
       "</style>\n",
       "<table border=\"1\" class=\"dataframe\">\n",
       "  <thead>\n",
       "    <tr style=\"text-align: right;\">\n",
       "      <th></th>\n",
       "      <th></th>\n",
       "      <th>education</th>\n",
       "      <th>education_id</th>\n",
       "    </tr>\n",
       "    <tr>\n",
       "      <th>education</th>\n",
       "      <th>education_id</th>\n",
       "      <th></th>\n",
       "      <th></th>\n",
       "    </tr>\n",
       "  </thead>\n",
       "  <tbody>\n",
       "    <tr>\n",
       "      <th>высшее</th>\n",
       "      <th>0</th>\n",
       "      <td>5260</td>\n",
       "      <td>5260</td>\n",
       "    </tr>\n",
       "    <tr>\n",
       "      <th>начальное</th>\n",
       "      <th>3</th>\n",
       "      <td>282</td>\n",
       "      <td>282</td>\n",
       "    </tr>\n",
       "    <tr>\n",
       "      <th>неоконченное высшее</th>\n",
       "      <th>2</th>\n",
       "      <td>744</td>\n",
       "      <td>744</td>\n",
       "    </tr>\n",
       "    <tr>\n",
       "      <th>среднее</th>\n",
       "      <th>1</th>\n",
       "      <td>15233</td>\n",
       "      <td>15233</td>\n",
       "    </tr>\n",
       "    <tr>\n",
       "      <th>ученая степень</th>\n",
       "      <th>4</th>\n",
       "      <td>6</td>\n",
       "      <td>6</td>\n",
       "    </tr>\n",
       "  </tbody>\n",
       "</table>\n",
       "</div>"
      ],
      "text/plain": [
       "                                  education  education_id\n",
       "education           education_id                         \n",
       "высшее              0                  5260          5260\n",
       "начальное           3                   282           282\n",
       "неоконченное высшее 2                   744           744\n",
       "среднее             1                 15233         15233\n",
       "ученая степень      4                     6             6"
      ]
     },
     "execution_count": 19,
     "metadata": {},
     "output_type": "execute_result"
    }
   ],
   "source": [
    "data.groupby(['education', 'education_id'])['education', 'education_id'].count()"
   ]
  },
  {
   "cell_type": "code",
   "execution_count": 20,
   "metadata": {},
   "outputs": [
    {
     "data": {
      "text/html": [
       "<div>\n",
       "<style scoped>\n",
       "    .dataframe tbody tr th:only-of-type {\n",
       "        vertical-align: middle;\n",
       "    }\n",
       "\n",
       "    .dataframe tbody tr th {\n",
       "        vertical-align: top;\n",
       "    }\n",
       "\n",
       "    .dataframe thead th {\n",
       "        text-align: right;\n",
       "    }\n",
       "</style>\n",
       "<table border=\"1\" class=\"dataframe\">\n",
       "  <thead>\n",
       "    <tr style=\"text-align: right;\">\n",
       "      <th></th>\n",
       "      <th></th>\n",
       "      <th>median_total_income</th>\n",
       "    </tr>\n",
       "    <tr>\n",
       "      <th>education</th>\n",
       "      <th>family_status</th>\n",
       "      <th></th>\n",
       "    </tr>\n",
       "  </thead>\n",
       "  <tbody>\n",
       "    <tr>\n",
       "      <th rowspan=\"5\" valign=\"top\">высшее</th>\n",
       "      <th>Не женат / не замужем</th>\n",
       "      <td>170389.247495</td>\n",
       "    </tr>\n",
       "    <tr>\n",
       "      <th>в разводе</th>\n",
       "      <td>172704.712824</td>\n",
       "    </tr>\n",
       "    <tr>\n",
       "      <th>вдовец / вдова</th>\n",
       "      <td>148683.729577</td>\n",
       "    </tr>\n",
       "    <tr>\n",
       "      <th>гражданский брак</th>\n",
       "      <td>177208.278286</td>\n",
       "    </tr>\n",
       "    <tr>\n",
       "      <th>женат / замужем</th>\n",
       "      <td>177914.294250</td>\n",
       "    </tr>\n",
       "    <tr>\n",
       "      <th rowspan=\"5\" valign=\"top\">начальное</th>\n",
       "      <th>Не женат / не замужем</th>\n",
       "      <td>117928.036701</td>\n",
       "    </tr>\n",
       "    <tr>\n",
       "      <th>в разводе</th>\n",
       "      <td>115007.537199</td>\n",
       "    </tr>\n",
       "    <tr>\n",
       "      <th>вдовец / вдова</th>\n",
       "      <td>103954.539610</td>\n",
       "    </tr>\n",
       "    <tr>\n",
       "      <th>гражданский брак</th>\n",
       "      <td>105533.860430</td>\n",
       "    </tr>\n",
       "    <tr>\n",
       "      <th>женат / замужем</th>\n",
       "      <td>125077.231066</td>\n",
       "    </tr>\n",
       "    <tr>\n",
       "      <th rowspan=\"5\" valign=\"top\">неоконченное высшее</th>\n",
       "      <th>Не женат / не замужем</th>\n",
       "      <td>153523.086246</td>\n",
       "    </tr>\n",
       "    <tr>\n",
       "      <th>в разводе</th>\n",
       "      <td>195932.994615</td>\n",
       "    </tr>\n",
       "    <tr>\n",
       "      <th>вдовец / вдова</th>\n",
       "      <td>128324.048065</td>\n",
       "    </tr>\n",
       "    <tr>\n",
       "      <th>гражданский брак</th>\n",
       "      <td>162187.952277</td>\n",
       "    </tr>\n",
       "    <tr>\n",
       "      <th>женат / замужем</th>\n",
       "      <td>163208.764705</td>\n",
       "    </tr>\n",
       "    <tr>\n",
       "      <th rowspan=\"5\" valign=\"top\">среднее</th>\n",
       "      <th>Не женат / не замужем</th>\n",
       "      <td>135824.153943</td>\n",
       "    </tr>\n",
       "    <tr>\n",
       "      <th>в разводе</th>\n",
       "      <td>136964.250298</td>\n",
       "    </tr>\n",
       "    <tr>\n",
       "      <th>вдовец / вдова</th>\n",
       "      <td>127269.501241</td>\n",
       "    </tr>\n",
       "    <tr>\n",
       "      <th>гражданский брак</th>\n",
       "      <td>136548.656488</td>\n",
       "    </tr>\n",
       "    <tr>\n",
       "      <th>женат / замужем</th>\n",
       "      <td>137419.686830</td>\n",
       "    </tr>\n",
       "    <tr>\n",
       "      <th rowspan=\"3\" valign=\"top\">ученая степень</th>\n",
       "      <th>Не женат / не замужем</th>\n",
       "      <td>198570.757322</td>\n",
       "    </tr>\n",
       "    <tr>\n",
       "      <th>в разводе</th>\n",
       "      <td>115949.039788</td>\n",
       "    </tr>\n",
       "    <tr>\n",
       "      <th>женат / замужем</th>\n",
       "      <td>183408.713832</td>\n",
       "    </tr>\n",
       "  </tbody>\n",
       "</table>\n",
       "</div>"
      ],
      "text/plain": [
       "                                           median_total_income\n",
       "education           family_status                             \n",
       "высшее              Не женат / не замужем        170389.247495\n",
       "                    в разводе                    172704.712824\n",
       "                    вдовец / вдова               148683.729577\n",
       "                    гражданский брак             177208.278286\n",
       "                    женат / замужем              177914.294250\n",
       "начальное           Не женат / не замужем        117928.036701\n",
       "                    в разводе                    115007.537199\n",
       "                    вдовец / вдова               103954.539610\n",
       "                    гражданский брак             105533.860430\n",
       "                    женат / замужем              125077.231066\n",
       "неоконченное высшее Не женат / не замужем        153523.086246\n",
       "                    в разводе                    195932.994615\n",
       "                    вдовец / вдова               128324.048065\n",
       "                    гражданский брак             162187.952277\n",
       "                    женат / замужем              163208.764705\n",
       "среднее             Не женат / не замужем        135824.153943\n",
       "                    в разводе                    136964.250298\n",
       "                    вдовец / вдова               127269.501241\n",
       "                    гражданский брак             136548.656488\n",
       "                    женат / замужем              137419.686830\n",
       "ученая степень      Не женат / не замужем        198570.757322\n",
       "                    в разводе                    115949.039788\n",
       "                    женат / замужем              183408.713832"
      ]
     },
     "execution_count": 20,
     "metadata": {},
     "output_type": "execute_result"
    }
   ],
   "source": [
    "#Расчитаем медиану по колонке total_income. Также по группам 'education', 'family_status'\n",
    "median = median = data.groupby(['education', 'family_status']).agg({'total_income': 'median'}).rename(\n",
    "    columns = {'total_income': 'median_total_income'}\n",
    ")\n",
    "median"
   ]
  },
  {
   "cell_type": "code",
   "execution_count": 21,
   "metadata": {},
   "outputs": [
    {
     "name": "stdout",
     "output_type": "stream",
     "text": [
      "Пропуски после: 0\n"
     ]
    }
   ],
   "source": [
    "data = data.merge(median, on = ['education', 'family_status'])\n",
    "data[['family_status', 'education', 'total_income', 'median_total_income']][data['total_income'].isna()].head()\n",
    "# значения где total_income пусто заполняем медианой расчитанной по группам education family_status\n",
    "data.loc[data['total_income'].isna(), 'total_income'] = data.loc[data['total_income'].isna(), 'median_total_income']\n",
    "\n",
    "print('Пропуски после:', data['total_income'].isna().sum())"
   ]
  },
  {
   "cell_type": "markdown",
   "metadata": {},
   "source": [
    "### Замена типа данных"
   ]
  },
  {
   "cell_type": "code",
   "execution_count": 22,
   "metadata": {},
   "outputs": [
    {
     "name": "stdout",
     "output_type": "stream",
     "text": [
      "<class 'pandas.core.frame.DataFrame'>\n",
      "Int64Index: 21525 entries, 0 to 21524\n",
      "Data columns (total 14 columns):\n",
      " #   Column                Non-Null Count  Dtype  \n",
      "---  ------                --------------  -----  \n",
      " 0   children              21525 non-null  int64  \n",
      " 1   days_employed         21525 non-null  float64\n",
      " 2   dob_years             21525 non-null  int64  \n",
      " 3   education             21525 non-null  object \n",
      " 4   education_id          21525 non-null  int64  \n",
      " 5   family_status         21525 non-null  object \n",
      " 6   family_status_id      21525 non-null  int64  \n",
      " 7   gender                21525 non-null  object \n",
      " 8   income_type           21525 non-null  object \n",
      " 9   debt                  21525 non-null  int64  \n",
      " 10  total_income          21525 non-null  float64\n",
      " 11  purpose               21525 non-null  object \n",
      " 12  median_days_employed  21525 non-null  float64\n",
      " 13  median_total_income   21525 non-null  float64\n",
      "dtypes: float64(4), int64(5), object(5)\n",
      "memory usage: 2.5+ MB\n"
     ]
    }
   ],
   "source": [
    "data.info()"
   ]
  },
  {
   "cell_type": "code",
   "execution_count": 23,
   "metadata": {},
   "outputs": [],
   "source": [
    "#Изменяем тип данных в колонке total_income на целочисленный используем метод \n",
    "data['total_income'] = data['total_income'].astype('int')"
   ]
  },
  {
   "cell_type": "code",
   "execution_count": 24,
   "metadata": {},
   "outputs": [],
   "source": [
    "data['days_employed'] = data['days_employed'].astype('int')"
   ]
  },
  {
   "cell_type": "code",
   "execution_count": 25,
   "metadata": {},
   "outputs": [
    {
     "name": "stdout",
     "output_type": "stream",
     "text": [
      "<class 'pandas.core.frame.DataFrame'>\n",
      "Int64Index: 21525 entries, 0 to 21524\n",
      "Data columns (total 14 columns):\n",
      " #   Column                Non-Null Count  Dtype  \n",
      "---  ------                --------------  -----  \n",
      " 0   children              21525 non-null  int64  \n",
      " 1   days_employed         21525 non-null  int32  \n",
      " 2   dob_years             21525 non-null  int64  \n",
      " 3   education             21525 non-null  object \n",
      " 4   education_id          21525 non-null  int64  \n",
      " 5   family_status         21525 non-null  object \n",
      " 6   family_status_id      21525 non-null  int64  \n",
      " 7   gender                21525 non-null  object \n",
      " 8   income_type           21525 non-null  object \n",
      " 9   debt                  21525 non-null  int64  \n",
      " 10  total_income          21525 non-null  int32  \n",
      " 11  purpose               21525 non-null  object \n",
      " 12  median_days_employed  21525 non-null  float64\n",
      " 13  median_total_income   21525 non-null  float64\n",
      "dtypes: float64(2), int32(2), int64(5), object(5)\n",
      "memory usage: 2.3+ MB\n"
     ]
    }
   ],
   "source": [
    "data.info()"
   ]
  },
  {
   "cell_type": "markdown",
   "metadata": {},
   "source": [
    "### Обработка дубликатов"
   ]
  },
  {
   "cell_type": "code",
   "execution_count": 26,
   "metadata": {},
   "outputs": [
    {
     "name": "stdout",
     "output_type": "stream",
     "text": [
      "Всего дубликатов в data 71\n"
     ]
    }
   ],
   "source": [
    "#Поиск дубликатов\n",
    "print('Всего дубликатов в data', data.duplicated().sum())"
   ]
  },
  {
   "cell_type": "markdown",
   "metadata": {},
   "source": [
    "Обнаружено 71 одинаковая строка. Индетификаторов уникальности записи нет. (например индетификатор клиента) Количество дубликатов составляет 0,3% от всего датафрейма. Думаю можно удалить строки методом drop_duplicates. "
   ]
  },
  {
   "cell_type": "code",
   "execution_count": 27,
   "metadata": {},
   "outputs": [],
   "source": [
    "data = data.drop_duplicates()"
   ]
  },
  {
   "cell_type": "code",
   "execution_count": 28,
   "metadata": {},
   "outputs": [
    {
     "name": "stdout",
     "output_type": "stream",
     "text": [
      "всего дубликаторв в data после удаления 0\n"
     ]
    }
   ],
   "source": [
    "print('всего дубликаторв в data после удаления', data.duplicated().sum())"
   ]
  },
  {
   "cell_type": "markdown",
   "metadata": {},
   "source": [
    "### Лемматизация"
   ]
  },
  {
   "cell_type": "markdown",
   "metadata": {},
   "source": [
    "Выделим из колонки purpose (цель получения кредита) основные цели при помощи лематизации. \n",
    "Найдем уникальные значения в колонке, превратем лист с уникальными значениями в текст и после этого лематизируем слова"
   ]
  },
  {
   "cell_type": "code",
   "execution_count": 29,
   "metadata": {},
   "outputs": [
    {
     "data": {
      "text/plain": [
       "array(['покупка жилья', 'операции с жильем', 'покупка недвижимости',\n",
       "       'строительство собственной недвижимости', 'недвижимость',\n",
       "       'покупка жилья для семьи', 'операции с коммерческой недвижимостью',\n",
       "       'покупка коммерческой недвижимости',\n",
       "       'на покупку подержанного автомобиля', 'сделка с автомобилем',\n",
       "       'жилье', 'автомобиль', 'профильное образование',\n",
       "       'покупка жилья для сдачи', 'операции со своей недвижимостью',\n",
       "       'автомобили', 'приобретение автомобиля',\n",
       "       'на покупку своего автомобиля', 'покупка своего жилья',\n",
       "       'покупка жилой недвижимости', 'заняться высшим образованием',\n",
       "       'получение высшего образования',\n",
       "       'сделка с подержанным автомобилем', 'ремонт жилью',\n",
       "       'свой автомобиль', 'строительство жилой недвижимости',\n",
       "       'высшее образование', 'строительство недвижимости',\n",
       "       'операции с недвижимостью', 'получение образования', 'образование',\n",
       "       'заняться образованием', 'на покупку автомобиля',\n",
       "       'дополнительное образование',\n",
       "       'получение дополнительного образования', 'сыграть свадьбу',\n",
       "       'на проведение свадьбы', 'свадьба'], dtype=object)"
      ]
     },
     "execution_count": 29,
     "metadata": {},
     "output_type": "execute_result"
    }
   ],
   "source": [
    "text = data['purpose'].unique()\n",
    "text"
   ]
  },
  {
   "cell_type": "code",
   "execution_count": 30,
   "metadata": {},
   "outputs": [
    {
     "name": "stdout",
     "output_type": "stream",
     "text": [
      "Counter({' ': 96, 'покупка': 10, 'недвижимость': 10, 'автомобиль': 9, 'образование': 9, 'жилье': 7, 'с': 5, 'операция': 4, 'на': 4, 'свой': 4, 'строительство': 3, 'высокий': 3, 'получение': 3, 'свадьба': 3, 'для': 2, 'коммерческий': 2, 'подержать': 2, 'сделка': 2, 'жилой': 2, 'заниматься': 2, 'дополнительный': 2, 'собственный': 1, 'семья': 1, 'профильный': 1, 'сдача': 1, 'со': 1, 'приобретение': 1, 'ремонт': 1, 'сыграть': 1, 'проведение': 1, '\\n': 1})\n"
     ]
    }
   ],
   "source": [
    "text = data['purpose'].unique()\n",
    "purpose_text = \" \".join(text)\n",
    "lemas = m.lemmatize(purpose_text)\n",
    "print(Counter(lemas)) "
   ]
  },
  {
   "cell_type": "markdown",
   "metadata": {},
   "source": [
    "### Категоризация данных"
   ]
  },
  {
   "cell_type": "markdown",
   "metadata": {},
   "source": [
    "Выдлелил цели кредиты:  'покупка': 10, 'недвижимость': 10, 'автомобиль': 9, 'образование': 9, 'жилье': 7, 'операция': 4, 'свадьба': 3, 'строительство'"
   ]
  },
  {
   "cell_type": "markdown",
   "metadata": {},
   "source": [
    "'недвижимость': 10, 'автомобиль': 9, 'образование': 9, 'свадьба': 3, 'ремонт':"
   ]
  },
  {
   "cell_type": "markdown",
   "metadata": {},
   "source": [
    "Создание функции для категоризации"
   ]
  },
  {
   "cell_type": "code",
   "execution_count": 31,
   "metadata": {},
   "outputs": [],
   "source": [
    "def purpose_category(purpose):\n",
    "    lemmas = m.lemmatize(purpose)\n",
    "    if 'недвижимость' in lemmas or 'жилье' in lemmas:\n",
    "        return 'недвижимость'\n",
    "    if 'автомобиль' in lemmas:\n",
    "        return 'автомобиль'\n",
    "    if 'образование' in lemmas:\n",
    "        return 'образование'\n",
    "    if 'свадьба' in lemmas:\n",
    "        return 'свадьба'     \n",
    "    return 'Прочее'        "
   ]
  },
  {
   "cell_type": "code",
   "execution_count": 32,
   "metadata": {},
   "outputs": [],
   "source": [
    "data['purpose_cat'] = data['purpose'].apply(purpose_category, )"
   ]
  },
  {
   "cell_type": "code",
   "execution_count": 33,
   "metadata": {},
   "outputs": [
    {
     "data": {
      "text/html": [
       "<div>\n",
       "<style scoped>\n",
       "    .dataframe tbody tr th:only-of-type {\n",
       "        vertical-align: middle;\n",
       "    }\n",
       "\n",
       "    .dataframe tbody tr th {\n",
       "        vertical-align: top;\n",
       "    }\n",
       "\n",
       "    .dataframe thead th {\n",
       "        text-align: right;\n",
       "    }\n",
       "</style>\n",
       "<table border=\"1\" class=\"dataframe\">\n",
       "  <thead>\n",
       "    <tr style=\"text-align: right;\">\n",
       "      <th></th>\n",
       "      <th>children</th>\n",
       "      <th>days_employed</th>\n",
       "      <th>dob_years</th>\n",
       "      <th>education</th>\n",
       "      <th>education_id</th>\n",
       "      <th>family_status</th>\n",
       "      <th>family_status_id</th>\n",
       "      <th>gender</th>\n",
       "      <th>income_type</th>\n",
       "      <th>debt</th>\n",
       "      <th>total_income</th>\n",
       "      <th>purpose</th>\n",
       "      <th>median_days_employed</th>\n",
       "      <th>median_total_income</th>\n",
       "      <th>purpose_cat</th>\n",
       "    </tr>\n",
       "  </thead>\n",
       "  <tbody>\n",
       "    <tr>\n",
       "      <th>0</th>\n",
       "      <td>1</td>\n",
       "      <td>-8437</td>\n",
       "      <td>42</td>\n",
       "      <td>высшее</td>\n",
       "      <td>0</td>\n",
       "      <td>женат / замужем</td>\n",
       "      <td>0</td>\n",
       "      <td>F</td>\n",
       "      <td>сотрудник</td>\n",
       "      <td>0</td>\n",
       "      <td>253875</td>\n",
       "      <td>покупка жилья</td>\n",
       "      <td>-1443.773383</td>\n",
       "      <td>177914.29425</td>\n",
       "      <td>недвижимость</td>\n",
       "    </tr>\n",
       "    <tr>\n",
       "      <th>1</th>\n",
       "      <td>0</td>\n",
       "      <td>-2879</td>\n",
       "      <td>43</td>\n",
       "      <td>высшее</td>\n",
       "      <td>0</td>\n",
       "      <td>женат / замужем</td>\n",
       "      <td>0</td>\n",
       "      <td>F</td>\n",
       "      <td>компаньон</td>\n",
       "      <td>0</td>\n",
       "      <td>240525</td>\n",
       "      <td>операции с жильем</td>\n",
       "      <td>-1443.773383</td>\n",
       "      <td>177914.29425</td>\n",
       "      <td>недвижимость</td>\n",
       "    </tr>\n",
       "    <tr>\n",
       "      <th>2</th>\n",
       "      <td>2</td>\n",
       "      <td>-4171</td>\n",
       "      <td>36</td>\n",
       "      <td>высшее</td>\n",
       "      <td>0</td>\n",
       "      <td>женат / замужем</td>\n",
       "      <td>0</td>\n",
       "      <td>M</td>\n",
       "      <td>компаньон</td>\n",
       "      <td>0</td>\n",
       "      <td>113943</td>\n",
       "      <td>покупка недвижимости</td>\n",
       "      <td>-1443.773383</td>\n",
       "      <td>177914.29425</td>\n",
       "      <td>недвижимость</td>\n",
       "    </tr>\n",
       "    <tr>\n",
       "      <th>3</th>\n",
       "      <td>0</td>\n",
       "      <td>-529</td>\n",
       "      <td>28</td>\n",
       "      <td>высшее</td>\n",
       "      <td>0</td>\n",
       "      <td>женат / замужем</td>\n",
       "      <td>0</td>\n",
       "      <td>M</td>\n",
       "      <td>сотрудник</td>\n",
       "      <td>0</td>\n",
       "      <td>308848</td>\n",
       "      <td>строительство собственной недвижимости</td>\n",
       "      <td>-1443.773383</td>\n",
       "      <td>177914.29425</td>\n",
       "      <td>недвижимость</td>\n",
       "    </tr>\n",
       "    <tr>\n",
       "      <th>4</th>\n",
       "      <td>1</td>\n",
       "      <td>-717</td>\n",
       "      <td>26</td>\n",
       "      <td>высшее</td>\n",
       "      <td>0</td>\n",
       "      <td>женат / замужем</td>\n",
       "      <td>0</td>\n",
       "      <td>F</td>\n",
       "      <td>сотрудник</td>\n",
       "      <td>0</td>\n",
       "      <td>187863</td>\n",
       "      <td>строительство собственной недвижимости</td>\n",
       "      <td>-1443.773383</td>\n",
       "      <td>177914.29425</td>\n",
       "      <td>недвижимость</td>\n",
       "    </tr>\n",
       "  </tbody>\n",
       "</table>\n",
       "</div>"
      ],
      "text/plain": [
       "   children  days_employed  dob_years education  education_id  \\\n",
       "0         1          -8437         42    высшее             0   \n",
       "1         0          -2879         43    высшее             0   \n",
       "2         2          -4171         36    высшее             0   \n",
       "3         0           -529         28    высшее             0   \n",
       "4         1           -717         26    высшее             0   \n",
       "\n",
       "     family_status  family_status_id gender income_type  debt  total_income  \\\n",
       "0  женат / замужем                 0      F   сотрудник     0        253875   \n",
       "1  женат / замужем                 0      F   компаньон     0        240525   \n",
       "2  женат / замужем                 0      M   компаньон     0        113943   \n",
       "3  женат / замужем                 0      M   сотрудник     0        308848   \n",
       "4  женат / замужем                 0      F   сотрудник     0        187863   \n",
       "\n",
       "                                  purpose  median_days_employed  \\\n",
       "0                           покупка жилья          -1443.773383   \n",
       "1                       операции с жильем          -1443.773383   \n",
       "2                    покупка недвижимости          -1443.773383   \n",
       "3  строительство собственной недвижимости          -1443.773383   \n",
       "4  строительство собственной недвижимости          -1443.773383   \n",
       "\n",
       "   median_total_income   purpose_cat  \n",
       "0         177914.29425  недвижимость  \n",
       "1         177914.29425  недвижимость  \n",
       "2         177914.29425  недвижимость  \n",
       "3         177914.29425  недвижимость  \n",
       "4         177914.29425  недвижимость  "
      ]
     },
     "execution_count": 33,
     "metadata": {},
     "output_type": "execute_result"
    }
   ],
   "source": [
    "data.head()"
   ]
  },
  {
   "cell_type": "code",
   "execution_count": 34,
   "metadata": {},
   "outputs": [
    {
     "name": "stdout",
     "output_type": "stream",
     "text": [
      "недвижимость    10811\n",
      "автомобиль       4306\n",
      "образование      4013\n",
      "свадьба          2324\n",
      "Name: purpose_cat, dtype: int64\n"
     ]
    }
   ],
   "source": [
    "#Проверим категоризацию по столбцу цели. Получилось 4 категории\n",
    "print(data['purpose_cat'].value_counts())"
   ]
  },
  {
   "cell_type": "code",
   "execution_count": 35,
   "metadata": {},
   "outputs": [
    {
     "name": "stdout",
     "output_type": "stream",
     "text": [
      " 0     14091\n",
      " 1      4808\n",
      " 2      2052\n",
      " 3       330\n",
      " 20       76\n",
      "-1        47\n",
      " 4        41\n",
      " 5         9\n",
      "Name: children, dtype: int64\n"
     ]
    }
   ],
   "source": [
    "print(data['children'].value_counts())"
   ]
  },
  {
   "cell_type": "code",
   "execution_count": 36,
   "metadata": {},
   "outputs": [],
   "source": [
    "# не может быть -1 ребенок в семье. Принимаем это за ошибку должен быть +1. \n",
    "data['children'] = data['children'].abs()"
   ]
  },
  {
   "cell_type": "code",
   "execution_count": 37,
   "metadata": {},
   "outputs": [
    {
     "name": "stdout",
     "output_type": "stream",
     "text": [
      "0    19713\n",
      "1     1741\n",
      "Name: debt, dtype: int64\n"
     ]
    }
   ],
   "source": [
    "print(data['debt'].value_counts())"
   ]
  },
  {
   "cell_type": "code",
   "execution_count": null,
   "metadata": {},
   "outputs": [],
   "source": []
  },
  {
   "cell_type": "markdown",
   "metadata": {},
   "source": [
    "## Шаг 3. Анализ данных"
   ]
  },
  {
   "cell_type": "markdown",
   "metadata": {},
   "source": [
    "- Есть ли зависимость между наличием детей и возвратом кредита в срок?"
   ]
  },
  {
   "cell_type": "code",
   "execution_count": 38,
   "metadata": {
    "scrolled": true
   },
   "outputs": [
    {
     "data": {
      "text/html": [
       "<style type=\"text/css\">\n",
       "</style>\n",
       "<table id=\"T_bd14f_\">\n",
       "  <thead>\n",
       "    <tr>\n",
       "      <th class=\"blank level0\" >&nbsp;</th>\n",
       "      <th class=\"col_heading level0 col0\" >% невозврата</th>\n",
       "      <th class=\"col_heading level0 col1\" >Кол-во заемщиков</th>\n",
       "    </tr>\n",
       "    <tr>\n",
       "      <th class=\"index_name level0\" >children</th>\n",
       "      <th class=\"blank col0\" >&nbsp;</th>\n",
       "      <th class=\"blank col1\" >&nbsp;</th>\n",
       "    </tr>\n",
       "  </thead>\n",
       "  <tbody>\n",
       "    <tr>\n",
       "      <th id=\"T_bd14f_level0_row0\" class=\"row_heading level0 row0\" >20</th>\n",
       "      <td id=\"T_bd14f_row0_col0\" class=\"data row0 col0\" >10.53%</td>\n",
       "      <td id=\"T_bd14f_row0_col1\" class=\"data row0 col1\" >76</td>\n",
       "    </tr>\n",
       "    <tr>\n",
       "      <th id=\"T_bd14f_level0_row1\" class=\"row_heading level0 row1\" >4</th>\n",
       "      <td id=\"T_bd14f_row1_col0\" class=\"data row1 col0\" >9.76%</td>\n",
       "      <td id=\"T_bd14f_row1_col1\" class=\"data row1 col1\" >41</td>\n",
       "    </tr>\n",
       "    <tr>\n",
       "      <th id=\"T_bd14f_level0_row2\" class=\"row_heading level0 row2\" >2</th>\n",
       "      <td id=\"T_bd14f_row2_col0\" class=\"data row2 col0\" >9.45%</td>\n",
       "      <td id=\"T_bd14f_row2_col1\" class=\"data row2 col1\" >2052</td>\n",
       "    </tr>\n",
       "    <tr>\n",
       "      <th id=\"T_bd14f_level0_row3\" class=\"row_heading level0 row3\" >1</th>\n",
       "      <td id=\"T_bd14f_row3_col0\" class=\"data row3 col0\" >9.17%</td>\n",
       "      <td id=\"T_bd14f_row3_col1\" class=\"data row3 col1\" >4855</td>\n",
       "    </tr>\n",
       "    <tr>\n",
       "      <th id=\"T_bd14f_level0_row4\" class=\"row_heading level0 row4\" >3</th>\n",
       "      <td id=\"T_bd14f_row4_col0\" class=\"data row4 col0\" >8.18%</td>\n",
       "      <td id=\"T_bd14f_row4_col1\" class=\"data row4 col1\" >330</td>\n",
       "    </tr>\n",
       "    <tr>\n",
       "      <th id=\"T_bd14f_level0_row5\" class=\"row_heading level0 row5\" >0</th>\n",
       "      <td id=\"T_bd14f_row5_col0\" class=\"data row5 col0\" >7.54%</td>\n",
       "      <td id=\"T_bd14f_row5_col1\" class=\"data row5 col1\" >14091</td>\n",
       "    </tr>\n",
       "    <tr>\n",
       "      <th id=\"T_bd14f_level0_row6\" class=\"row_heading level0 row6\" >5</th>\n",
       "      <td id=\"T_bd14f_row6_col0\" class=\"data row6 col0\" >0.00%</td>\n",
       "      <td id=\"T_bd14f_row6_col1\" class=\"data row6 col1\" >9</td>\n",
       "    </tr>\n",
       "  </tbody>\n",
       "</table>\n"
      ],
      "text/plain": [
       "<pandas.io.formats.style.Styler at 0x1f59b64efd0>"
      ]
     },
     "execution_count": 38,
     "metadata": {},
     "output_type": "execute_result"
    }
   ],
   "source": [
    "report = data.groupby('children').agg({'debt': ['mean', 'count']})\n",
    "report.columns = ['% невозврата', 'Кол-во заемщиков']\n",
    "report = report.sort_values(by = '% невозврата', ascending = False)\n",
    "report.style.format({'% невозврата':'{:.2%}'})"
   ]
  },
  {
   "cell_type": "code",
   "execution_count": 39,
   "metadata": {},
   "outputs": [],
   "source": [
    "# Из сформированной таблицы видно что с увеличением количество детей увеличиваеться процент просроченных платежей.\n",
    "# Для налглядности сформируем таблицу сгруппированной по наличию детей и отсутсвию детей."
   ]
  },
  {
   "cell_type": "code",
   "execution_count": 40,
   "metadata": {},
   "outputs": [],
   "source": [
    "def child_group(value):\n",
    "    if value == 0:\n",
    "        return 0\n",
    "    return 1"
   ]
  },
  {
   "cell_type": "code",
   "execution_count": 41,
   "metadata": {},
   "outputs": [],
   "source": [
    "#report['child_group'] = report['children'].apply(child_group)"
   ]
  },
  {
   "cell_type": "code",
   "execution_count": 42,
   "metadata": {},
   "outputs": [],
   "source": [
    "#print(type(report))"
   ]
  },
  {
   "cell_type": "code",
   "execution_count": 43,
   "metadata": {},
   "outputs": [],
   "source": [
    "#report['child_group'] = report['children'].apply(child_group)"
   ]
  },
  {
   "cell_type": "code",
   "execution_count": 44,
   "metadata": {},
   "outputs": [],
   "source": [
    "data['child_group'] = data['children'].apply(child_group)"
   ]
  },
  {
   "cell_type": "code",
   "execution_count": 45,
   "metadata": {},
   "outputs": [
    {
     "data": {
      "text/html": [
       "<style type=\"text/css\">\n",
       "</style>\n",
       "<table id=\"T_b29be_\">\n",
       "  <thead>\n",
       "    <tr>\n",
       "      <th class=\"blank level0\" >&nbsp;</th>\n",
       "      <th class=\"col_heading level0 col0\" >% невозврата</th>\n",
       "      <th class=\"col_heading level0 col1\" >Кол-во заемщиков</th>\n",
       "    </tr>\n",
       "    <tr>\n",
       "      <th class=\"index_name level0\" >child_group</th>\n",
       "      <th class=\"blank col0\" >&nbsp;</th>\n",
       "      <th class=\"blank col1\" >&nbsp;</th>\n",
       "    </tr>\n",
       "  </thead>\n",
       "  <tbody>\n",
       "    <tr>\n",
       "      <th id=\"T_b29be_level0_row0\" class=\"row_heading level0 row0\" >1</th>\n",
       "      <td id=\"T_b29be_row0_col0\" class=\"data row0 col0\" >9.21%</td>\n",
       "      <td id=\"T_b29be_row0_col1\" class=\"data row0 col1\" >7363</td>\n",
       "    </tr>\n",
       "    <tr>\n",
       "      <th id=\"T_b29be_level0_row1\" class=\"row_heading level0 row1\" >0</th>\n",
       "      <td id=\"T_b29be_row1_col0\" class=\"data row1 col0\" >7.54%</td>\n",
       "      <td id=\"T_b29be_row1_col1\" class=\"data row1 col1\" >14091</td>\n",
       "    </tr>\n",
       "  </tbody>\n",
       "</table>\n"
      ],
      "text/plain": [
       "<pandas.io.formats.style.Styler at 0x1f59b64ee20>"
      ]
     },
     "execution_count": 45,
     "metadata": {},
     "output_type": "execute_result"
    }
   ],
   "source": [
    "report = data.groupby('child_group').agg({'debt': ['mean', 'count']})\n",
    "report.columns = ['% невозврата', 'Кол-во заемщиков']\n",
    "report = report.sort_values(by = '% невозврата', ascending = False)\n",
    "report.style.format({'% невозврата':'{:.2%}'})"
   ]
  },
  {
   "cell_type": "code",
   "execution_count": 46,
   "metadata": {},
   "outputs": [],
   "source": [
    "# Здесь мы можем увидеть что наличие детей увеличивает процент просроченных платежей. \n",
    "# Разница между максимальным и минимальным % невозврата составляет на 1.67%"
   ]
  },
  {
   "cell_type": "markdown",
   "metadata": {},
   "source": [
    "Есть ли зависимость между семейным положением и возвратом кредита в срок?"
   ]
  },
  {
   "cell_type": "code",
   "execution_count": 47,
   "metadata": {},
   "outputs": [
    {
     "name": "stdout",
     "output_type": "stream",
     "text": [
      "0    12339\n",
      "1     4151\n",
      "4     2810\n",
      "3     1195\n",
      "2      959\n",
      "Name: family_status_id, dtype: int64\n"
     ]
    }
   ],
   "source": [
    "print(data['family_status_id'].value_counts())"
   ]
  },
  {
   "cell_type": "code",
   "execution_count": 48,
   "metadata": {},
   "outputs": [
    {
     "name": "stdout",
     "output_type": "stream",
     "text": [
      "женат / замужем          12339\n",
      "гражданский брак          4151\n",
      "Не женат / не замужем     2810\n",
      "в разводе                 1195\n",
      "вдовец / вдова             959\n",
      "Name: family_status, dtype: int64\n"
     ]
    }
   ],
   "source": [
    "print(data['family_status'].value_counts())"
   ]
  },
  {
   "cell_type": "code",
   "execution_count": 49,
   "metadata": {},
   "outputs": [
    {
     "data": {
      "text/html": [
       "<style type=\"text/css\">\n",
       "</style>\n",
       "<table id=\"T_0cadd_\">\n",
       "  <thead>\n",
       "    <tr>\n",
       "      <th class=\"blank level0\" >&nbsp;</th>\n",
       "      <th class=\"col_heading level0 col0\" >% невозврата</th>\n",
       "      <th class=\"col_heading level0 col1\" >Кол-во заемщиков</th>\n",
       "    </tr>\n",
       "    <tr>\n",
       "      <th class=\"index_name level0\" >family_status</th>\n",
       "      <th class=\"blank col0\" >&nbsp;</th>\n",
       "      <th class=\"blank col1\" >&nbsp;</th>\n",
       "    </tr>\n",
       "  </thead>\n",
       "  <tbody>\n",
       "    <tr>\n",
       "      <th id=\"T_0cadd_level0_row0\" class=\"row_heading level0 row0\" >Не женат / не замужем</th>\n",
       "      <td id=\"T_0cadd_row0_col0\" class=\"data row0 col0\" >9.75%</td>\n",
       "      <td id=\"T_0cadd_row0_col1\" class=\"data row0 col1\" >2810</td>\n",
       "    </tr>\n",
       "    <tr>\n",
       "      <th id=\"T_0cadd_level0_row1\" class=\"row_heading level0 row1\" >гражданский брак</th>\n",
       "      <td id=\"T_0cadd_row1_col0\" class=\"data row1 col0\" >9.35%</td>\n",
       "      <td id=\"T_0cadd_row1_col1\" class=\"data row1 col1\" >4151</td>\n",
       "    </tr>\n",
       "    <tr>\n",
       "      <th id=\"T_0cadd_level0_row2\" class=\"row_heading level0 row2\" >женат / замужем</th>\n",
       "      <td id=\"T_0cadd_row2_col0\" class=\"data row2 col0\" >7.55%</td>\n",
       "      <td id=\"T_0cadd_row2_col1\" class=\"data row2 col1\" >12339</td>\n",
       "    </tr>\n",
       "    <tr>\n",
       "      <th id=\"T_0cadd_level0_row3\" class=\"row_heading level0 row3\" >в разводе</th>\n",
       "      <td id=\"T_0cadd_row3_col0\" class=\"data row3 col0\" >7.11%</td>\n",
       "      <td id=\"T_0cadd_row3_col1\" class=\"data row3 col1\" >1195</td>\n",
       "    </tr>\n",
       "    <tr>\n",
       "      <th id=\"T_0cadd_level0_row4\" class=\"row_heading level0 row4\" >вдовец / вдова</th>\n",
       "      <td id=\"T_0cadd_row4_col0\" class=\"data row4 col0\" >6.57%</td>\n",
       "      <td id=\"T_0cadd_row4_col1\" class=\"data row4 col1\" >959</td>\n",
       "    </tr>\n",
       "  </tbody>\n",
       "</table>\n"
      ],
      "text/plain": [
       "<pandas.io.formats.style.Styler at 0x1f59b62ddf0>"
      ]
     },
     "execution_count": 49,
     "metadata": {},
     "output_type": "execute_result"
    }
   ],
   "source": [
    "report = data.groupby('family_status').agg({'debt': ['mean', 'count']})\n",
    "report.columns = ['% невозврата', 'Кол-во заемщиков']\n",
    "report = report.sort_values(by = '% невозврата', ascending = False)\n",
    "report.style.format({'% невозврата':'{:.2%}'})"
   ]
  },
  {
   "cell_type": "code",
   "execution_count": 50,
   "metadata": {},
   "outputs": [],
   "source": [
    "# Интересные данные получились. Из приведенной таблицы видно что семейный статус влияет на возврат кредитов.\n",
    "# Семья повышает ответсвенности у людей \n",
    "# статус не женат не замужем характеризует в большинстве случаем молодых людей и с возрастом ответсвенность увеличиваеться.\n",
    "# Разница между максимальным и минимальным % невозврата составляет на 1.6%, \n",
    "# Проверим связь с возрастом"
   ]
  },
  {
   "cell_type": "code",
   "execution_count": 51,
   "metadata": {},
   "outputs": [],
   "source": [
    "data['dob_years_group'] = pd.qcut(data['dob_years'],\n",
    "                              q = [0, 0.25, 0.5, 0.75, 1], # процент разделение данных\n",
    "                              labels = ['До 33', 'От 33 до 42', 'от 42 до 53', 'от 53'] #наименование \n",
    "                              )"
   ]
  },
  {
   "cell_type": "code",
   "execution_count": 52,
   "metadata": {},
   "outputs": [
    {
     "data": {
      "text/html": [
       "<div>\n",
       "<style scoped>\n",
       "    .dataframe tbody tr th:only-of-type {\n",
       "        vertical-align: middle;\n",
       "    }\n",
       "\n",
       "    .dataframe tbody tr th {\n",
       "        vertical-align: top;\n",
       "    }\n",
       "\n",
       "    .dataframe thead th {\n",
       "        text-align: right;\n",
       "    }\n",
       "</style>\n",
       "<table border=\"1\" class=\"dataframe\">\n",
       "  <thead>\n",
       "    <tr style=\"text-align: right;\">\n",
       "      <th></th>\n",
       "      <th>count</th>\n",
       "      <th>mean</th>\n",
       "      <th>std</th>\n",
       "      <th>min</th>\n",
       "      <th>25%</th>\n",
       "      <th>50%</th>\n",
       "      <th>75%</th>\n",
       "      <th>max</th>\n",
       "    </tr>\n",
       "    <tr>\n",
       "      <th>dob_years_group</th>\n",
       "      <th></th>\n",
       "      <th></th>\n",
       "      <th></th>\n",
       "      <th></th>\n",
       "      <th></th>\n",
       "      <th></th>\n",
       "      <th></th>\n",
       "      <th></th>\n",
       "    </tr>\n",
       "  </thead>\n",
       "  <tbody>\n",
       "    <tr>\n",
       "      <th>До 33</th>\n",
       "      <td>5467.0</td>\n",
       "      <td>27.689592</td>\n",
       "      <td>5.085012</td>\n",
       "      <td>0.0</td>\n",
       "      <td>26.0</td>\n",
       "      <td>28.0</td>\n",
       "      <td>31.0</td>\n",
       "      <td>33.0</td>\n",
       "    </tr>\n",
       "    <tr>\n",
       "      <th>От 33 до 42</th>\n",
       "      <td>5284.0</td>\n",
       "      <td>38.016843</td>\n",
       "      <td>2.606487</td>\n",
       "      <td>34.0</td>\n",
       "      <td>36.0</td>\n",
       "      <td>38.0</td>\n",
       "      <td>40.0</td>\n",
       "      <td>42.0</td>\n",
       "    </tr>\n",
       "    <tr>\n",
       "      <th>от 42 до 53</th>\n",
       "      <td>5448.0</td>\n",
       "      <td>47.899780</td>\n",
       "      <td>3.151149</td>\n",
       "      <td>43.0</td>\n",
       "      <td>45.0</td>\n",
       "      <td>48.0</td>\n",
       "      <td>51.0</td>\n",
       "      <td>53.0</td>\n",
       "    </tr>\n",
       "    <tr>\n",
       "      <th>от 53</th>\n",
       "      <td>5255.0</td>\n",
       "      <td>59.966318</td>\n",
       "      <td>4.453051</td>\n",
       "      <td>54.0</td>\n",
       "      <td>56.0</td>\n",
       "      <td>59.0</td>\n",
       "      <td>63.0</td>\n",
       "      <td>75.0</td>\n",
       "    </tr>\n",
       "  </tbody>\n",
       "</table>\n",
       "</div>"
      ],
      "text/plain": [
       "                  count       mean       std   min   25%   50%   75%   max\n",
       "dob_years_group                                                           \n",
       "До 33            5467.0  27.689592  5.085012   0.0  26.0  28.0  31.0  33.0\n",
       "От 33 до 42      5284.0  38.016843  2.606487  34.0  36.0  38.0  40.0  42.0\n",
       "от 42 до 53      5448.0  47.899780  3.151149  43.0  45.0  48.0  51.0  53.0\n",
       "от 53            5255.0  59.966318  4.453051  54.0  56.0  59.0  63.0  75.0"
      ]
     },
     "execution_count": 52,
     "metadata": {},
     "output_type": "execute_result"
    }
   ],
   "source": [
    "data.groupby('dob_years_group')['dob_years'].describe()"
   ]
  },
  {
   "cell_type": "code",
   "execution_count": 53,
   "metadata": {},
   "outputs": [
    {
     "data": {
      "text/html": [
       "<style type=\"text/css\">\n",
       "</style>\n",
       "<table id=\"T_f60af_\">\n",
       "  <thead>\n",
       "    <tr>\n",
       "      <th class=\"blank level0\" >&nbsp;</th>\n",
       "      <th class=\"col_heading level0 col0\" >% невозврата</th>\n",
       "      <th class=\"col_heading level0 col1\" >Кол-во заемщиков</th>\n",
       "    </tr>\n",
       "    <tr>\n",
       "      <th class=\"index_name level0\" >dob_years_group</th>\n",
       "      <th class=\"blank col0\" >&nbsp;</th>\n",
       "      <th class=\"blank col1\" >&nbsp;</th>\n",
       "    </tr>\n",
       "  </thead>\n",
       "  <tbody>\n",
       "    <tr>\n",
       "      <th id=\"T_f60af_level0_row0\" class=\"row_heading level0 row0\" >До 33</th>\n",
       "      <td id=\"T_f60af_row0_col0\" class=\"data row0 col0\" >10.88%</td>\n",
       "      <td id=\"T_f60af_row0_col1\" class=\"data row0 col1\" >5467</td>\n",
       "    </tr>\n",
       "    <tr>\n",
       "      <th id=\"T_f60af_level0_row1\" class=\"row_heading level0 row1\" >От 33 до 42</th>\n",
       "      <td id=\"T_f60af_row1_col0\" class=\"data row1 col0\" >8.57%</td>\n",
       "      <td id=\"T_f60af_row1_col1\" class=\"data row1 col1\" >5284</td>\n",
       "    </tr>\n",
       "    <tr>\n",
       "      <th id=\"T_f60af_level0_row2\" class=\"row_heading level0 row2\" >от 42 до 53</th>\n",
       "      <td id=\"T_f60af_row2_col0\" class=\"data row2 col0\" >7.32%</td>\n",
       "      <td id=\"T_f60af_row2_col1\" class=\"data row2 col1\" >5448</td>\n",
       "    </tr>\n",
       "    <tr>\n",
       "      <th id=\"T_f60af_level0_row3\" class=\"row_heading level0 row3\" >от 53</th>\n",
       "      <td id=\"T_f60af_row3_col0\" class=\"data row3 col0\" >5.59%</td>\n",
       "      <td id=\"T_f60af_row3_col1\" class=\"data row3 col1\" >5255</td>\n",
       "    </tr>\n",
       "  </tbody>\n",
       "</table>\n"
      ],
      "text/plain": [
       "<pandas.io.formats.style.Styler at 0x1f59b3963d0>"
      ]
     },
     "execution_count": 53,
     "metadata": {},
     "output_type": "execute_result"
    }
   ],
   "source": [
    "report = data.groupby('dob_years_group').agg({'debt': ['mean', 'count']}) \n",
    "report.columns = ['% невозврата', 'Кол-во заемщиков']\n",
    "report = report.sort_values(by = '% невозврата', ascending = False)\n",
    "report.style.format({'% невозврата':'{:.2%}'})"
   ]
  },
  {
   "cell_type": "code",
   "execution_count": 54,
   "metadata": {},
   "outputs": [],
   "source": [
    "#  Разница между максимальным и минимальным % невозврата 5,29%\n",
    "#  Из этих данных мы видим что с возрастом доля просрочки уменьшаються."
   ]
  },
  {
   "cell_type": "markdown",
   "metadata": {},
   "source": [
    "Есть ли зависимость между уровнем дохода и возвратом кредита в срок?"
   ]
  },
  {
   "cell_type": "code",
   "execution_count": 55,
   "metadata": {},
   "outputs": [],
   "source": [
    "data['income_group'] = pd.qcut(data['total_income'],\n",
    "                              q = [0, 0.25, 0.5, 0.75, 1], # процент разделение данных\n",
    "                              labels = ['очень низкий', 'низкий', 'средний', 'высокий'] #наименование \n",
    "                              )"
   ]
  },
  {
   "cell_type": "code",
   "execution_count": 56,
   "metadata": {},
   "outputs": [
    {
     "data": {
      "text/html": [
       "<style type=\"text/css\">\n",
       "</style>\n",
       "<table id=\"T_91e8e_\">\n",
       "  <thead>\n",
       "    <tr>\n",
       "      <th class=\"blank level0\" >&nbsp;</th>\n",
       "      <th class=\"col_heading level0 col0\" >% невозврата</th>\n",
       "      <th class=\"col_heading level0 col1\" >Кол-во заемщиков</th>\n",
       "    </tr>\n",
       "    <tr>\n",
       "      <th class=\"index_name level0\" >income_group</th>\n",
       "      <th class=\"blank col0\" >&nbsp;</th>\n",
       "      <th class=\"blank col1\" >&nbsp;</th>\n",
       "    </tr>\n",
       "  </thead>\n",
       "  <tbody>\n",
       "    <tr>\n",
       "      <th id=\"T_91e8e_level0_row0\" class=\"row_heading level0 row0\" >низкий</th>\n",
       "      <td id=\"T_91e8e_row0_col0\" class=\"data row0 col0\" >8.78%</td>\n",
       "      <td id=\"T_91e8e_row0_col1\" class=\"data row0 col1\" >5363</td>\n",
       "    </tr>\n",
       "    <tr>\n",
       "      <th id=\"T_91e8e_level0_row1\" class=\"row_heading level0 row1\" >средний</th>\n",
       "      <td id=\"T_91e8e_row1_col0\" class=\"data row1 col0\" >8.50%</td>\n",
       "      <td id=\"T_91e8e_row1_col1\" class=\"data row1 col1\" >5363</td>\n",
       "    </tr>\n",
       "    <tr>\n",
       "      <th id=\"T_91e8e_level0_row2\" class=\"row_heading level0 row2\" >очень низкий</th>\n",
       "      <td id=\"T_91e8e_row2_col0\" class=\"data row2 col0\" >8.00%</td>\n",
       "      <td id=\"T_91e8e_row2_col1\" class=\"data row2 col1\" >5364</td>\n",
       "    </tr>\n",
       "    <tr>\n",
       "      <th id=\"T_91e8e_level0_row3\" class=\"row_heading level0 row3\" >высокий</th>\n",
       "      <td id=\"T_91e8e_row3_col0\" class=\"data row3 col0\" >7.18%</td>\n",
       "      <td id=\"T_91e8e_row3_col1\" class=\"data row3 col1\" >5364</td>\n",
       "    </tr>\n",
       "  </tbody>\n",
       "</table>\n"
      ],
      "text/plain": [
       "<pandas.io.formats.style.Styler at 0x1f59d433040>"
      ]
     },
     "execution_count": 56,
     "metadata": {},
     "output_type": "execute_result"
    }
   ],
   "source": [
    "report = data.groupby('income_group').agg({'debt': ['mean', 'count']}) \n",
    "report.columns = ['% невозврата', 'Кол-во заемщиков']\n",
    "report = report.sort_values(by = '% невозврата', ascending = False)\n",
    "report.style.format({'% невозврата':'{:.2%}'})"
   ]
  },
  {
   "cell_type": "code",
   "execution_count": 57,
   "metadata": {},
   "outputs": [],
   "source": [
    "# Разница между максимальным и минимальным % невозврата составляет на 3.18%, \n",
    "# все категории по кличеству заемщиков разделелились поровну.\n",
    "# Влияние семейного статуса на просрочку незначительная. Относительно других категорий из представленого ДатаФрейма."
   ]
  },
  {
   "cell_type": "markdown",
   "metadata": {},
   "source": [
    " Есть ли зависимость между целями и возвратом кредита в срок?"
   ]
  },
  {
   "cell_type": "code",
   "execution_count": 58,
   "metadata": {},
   "outputs": [
    {
     "data": {
      "text/html": [
       "<style type=\"text/css\">\n",
       "</style>\n",
       "<table id=\"T_c94f1_\">\n",
       "  <thead>\n",
       "    <tr>\n",
       "      <th class=\"blank level0\" >&nbsp;</th>\n",
       "      <th class=\"col_heading level0 col0\" >% невозврата</th>\n",
       "      <th class=\"col_heading level0 col1\" >Кол-во заемщиков</th>\n",
       "    </tr>\n",
       "    <tr>\n",
       "      <th class=\"index_name level0\" >purpose_cat</th>\n",
       "      <th class=\"blank col0\" >&nbsp;</th>\n",
       "      <th class=\"blank col1\" >&nbsp;</th>\n",
       "    </tr>\n",
       "  </thead>\n",
       "  <tbody>\n",
       "    <tr>\n",
       "      <th id=\"T_c94f1_level0_row0\" class=\"row_heading level0 row0\" >автомобиль</th>\n",
       "      <td id=\"T_c94f1_row0_col0\" class=\"data row0 col0\" >9.36%</td>\n",
       "      <td id=\"T_c94f1_row0_col1\" class=\"data row0 col1\" >4306</td>\n",
       "    </tr>\n",
       "    <tr>\n",
       "      <th id=\"T_c94f1_level0_row1\" class=\"row_heading level0 row1\" >образование</th>\n",
       "      <td id=\"T_c94f1_row1_col0\" class=\"data row1 col0\" >9.22%</td>\n",
       "      <td id=\"T_c94f1_row1_col1\" class=\"data row1 col1\" >4013</td>\n",
       "    </tr>\n",
       "    <tr>\n",
       "      <th id=\"T_c94f1_level0_row2\" class=\"row_heading level0 row2\" >свадьба</th>\n",
       "      <td id=\"T_c94f1_row2_col0\" class=\"data row2 col0\" >8.00%</td>\n",
       "      <td id=\"T_c94f1_row2_col1\" class=\"data row2 col1\" >2324</td>\n",
       "    </tr>\n",
       "    <tr>\n",
       "      <th id=\"T_c94f1_level0_row3\" class=\"row_heading level0 row3\" >недвижимость</th>\n",
       "      <td id=\"T_c94f1_row3_col0\" class=\"data row3 col0\" >7.23%</td>\n",
       "      <td id=\"T_c94f1_row3_col1\" class=\"data row3 col1\" >10811</td>\n",
       "    </tr>\n",
       "  </tbody>\n",
       "</table>\n"
      ],
      "text/plain": [
       "<pandas.io.formats.style.Styler at 0x1f59d433cd0>"
      ]
     },
     "execution_count": 58,
     "metadata": {},
     "output_type": "execute_result"
    }
   ],
   "source": [
    "report = data.groupby('purpose_cat').agg({'debt': ['mean', 'count']}) \n",
    "report.columns = ['% невозврата', 'Кол-во заемщиков']\n",
    "report = report.sort_values(by = '% невозврата', ascending = False)\n",
    "report.style.format({'% невозврата':'{:.2%}'})"
   ]
  },
  {
   "cell_type": "code",
   "execution_count": 59,
   "metadata": {},
   "outputs": [],
   "source": [
    "# Были выявлены 4 цели кредита - автомобиль, образование, свадьба и недвижимость. \n",
    "# Разница между максимальным и минимальным значением просрочки составляет 2.13 %"
   ]
  },
  {
   "cell_type": "markdown",
   "metadata": {},
   "source": [
    "Общая таблица данных по полученным данным в ходе анализа."
   ]
  },
  {
   "cell_type": "code",
   "execution_count": 60,
   "metadata": {},
   "outputs": [],
   "source": [
    "table = [\n",
    "    ['children', '9,21%', '7,54%','1,67'],\n",
    "    ['family_status', '9,75%', '6,57%', '3,18'],\n",
    "    ['income', '8,78%', '7,18%', '1,6'],\n",
    "    ['purpos', '9,36%', '7,23%', '2,13'],\n",
    "    ['age', '10.88%', '5.59%', '5,29']\n",
    "]\n",
    "columns = ['показатель', 'max', 'min', 'разница']\n",
    "result_table = pd.DataFrame(data = table, columns=columns)"
   ]
  },
  {
   "cell_type": "code",
   "execution_count": 61,
   "metadata": {},
   "outputs": [],
   "source": [
    "result_table = result_table.sort_values('разница', ascending = False)"
   ]
  },
  {
   "cell_type": "markdown",
   "metadata": {},
   "source": [
    "## Шаг 4. Общий вывод"
   ]
  },
  {
   "cell_type": "markdown",
   "metadata": {},
   "source": []
  },
  {
   "cell_type": "markdown",
   "metadata": {},
   "source": [
    "После анализа предоставленных исходных данных. Можно сделать следующие выводы:\n",
    "наибольшее влияние на платежеспособность заемщика оказывает симейный статус и возраст"
   ]
  },
  {
   "cell_type": "markdown",
   "metadata": {},
   "source": [
    "  **Рабочие задачи**\n",
    "* Есть ли зависимость между наличием детей и возвратом кредита в срок?\n",
    "* Есть ли зависимость между семейным положением и возвратом кредита в срок?\n",
    "* Есть ли зависимость между уровнем дохода и возвратом кредита в срок?\n",
    "* Как разные цели кредита влияют на его возврат в срок?"
   ]
  },
  {
   "cell_type": "markdown",
   "metadata": {},
   "source": [
    "**Общие результаты**\n",
    "Больше всего на возврат в срок кредита оказывает влияние возраста. Чем старше тем меньше просрочек платежа. Следующая категория которая оказывает влияние \"семейный статус\", цели, дети и доход.  Семейный статус связан с возрастом. Среди молодых людей меньше людей связаны семьей. С возрастом сейменый статус соответсвенно меняеться. \n",
    "Цели кредита - меньше всего просрочек с целью \"недвижимость\".\n",
    "Дети и доход. Чем больше у заемщика \"свободных средств\" (больше доход или меньше детей) тем меньше просрочек по кредиту.\n",
    "\n",
    "**Рекомендации**\n",
    "Внимательнее расматривать потенциального заемщика с детьми т.к. это повышает расходы; Молодежь до 30 лет возможно менее ответсвенны и нет стабильного дохода. "
   ]
  },
  {
   "cell_type": "code",
   "execution_count": 62,
   "metadata": {},
   "outputs": [
    {
     "data": {
      "text/html": [
       "<div>\n",
       "<style scoped>\n",
       "    .dataframe tbody tr th:only-of-type {\n",
       "        vertical-align: middle;\n",
       "    }\n",
       "\n",
       "    .dataframe tbody tr th {\n",
       "        vertical-align: top;\n",
       "    }\n",
       "\n",
       "    .dataframe thead th {\n",
       "        text-align: right;\n",
       "    }\n",
       "</style>\n",
       "<table border=\"1\" class=\"dataframe\">\n",
       "  <thead>\n",
       "    <tr style=\"text-align: right;\">\n",
       "      <th></th>\n",
       "      <th>показатель</th>\n",
       "      <th>max</th>\n",
       "      <th>min</th>\n",
       "      <th>разница</th>\n",
       "    </tr>\n",
       "  </thead>\n",
       "  <tbody>\n",
       "    <tr>\n",
       "      <th>4</th>\n",
       "      <td>age</td>\n",
       "      <td>10.88%</td>\n",
       "      <td>5.59%</td>\n",
       "      <td>5,29</td>\n",
       "    </tr>\n",
       "    <tr>\n",
       "      <th>1</th>\n",
       "      <td>family_status</td>\n",
       "      <td>9,75%</td>\n",
       "      <td>6,57%</td>\n",
       "      <td>3,18</td>\n",
       "    </tr>\n",
       "    <tr>\n",
       "      <th>3</th>\n",
       "      <td>purpos</td>\n",
       "      <td>9,36%</td>\n",
       "      <td>7,23%</td>\n",
       "      <td>2,13</td>\n",
       "    </tr>\n",
       "    <tr>\n",
       "      <th>0</th>\n",
       "      <td>children</td>\n",
       "      <td>9,21%</td>\n",
       "      <td>7,54%</td>\n",
       "      <td>1,67</td>\n",
       "    </tr>\n",
       "    <tr>\n",
       "      <th>2</th>\n",
       "      <td>income</td>\n",
       "      <td>8,78%</td>\n",
       "      <td>7,18%</td>\n",
       "      <td>1,6</td>\n",
       "    </tr>\n",
       "  </tbody>\n",
       "</table>\n",
       "</div>"
      ],
      "text/plain": [
       "      показатель     max    min разница\n",
       "4            age  10.88%  5.59%    5,29\n",
       "1  family_status   9,75%  6,57%    3,18\n",
       "3         purpos   9,36%  7,23%    2,13\n",
       "0       children   9,21%  7,54%    1,67\n",
       "2         income   8,78%  7,18%     1,6"
      ]
     },
     "execution_count": 62,
     "metadata": {},
     "output_type": "execute_result"
    }
   ],
   "source": [
    "result_table"
   ]
  },
  {
   "cell_type": "code",
   "execution_count": null,
   "metadata": {},
   "outputs": [],
   "source": []
  }
 ],
 "metadata": {
  "kernelspec": {
   "display_name": "Python 3 (ipykernel)",
   "language": "python",
   "name": "python3"
  },
  "language_info": {
   "codemirror_mode": {
    "name": "ipython",
    "version": 3
   },
   "file_extension": ".py",
   "mimetype": "text/x-python",
   "name": "python",
   "nbconvert_exporter": "python",
   "pygments_lexer": "ipython3",
   "version": "3.9.7"
  },
  "toc": {
   "base_numbering": 1,
   "nav_menu": {},
   "number_sections": true,
   "sideBar": true,
   "skip_h1_title": true,
   "title_cell": "Table of Contents",
   "title_sidebar": "Contents",
   "toc_cell": false,
   "toc_position": {},
   "toc_section_display": true,
   "toc_window_display": false
  }
 },
 "nbformat": 4,
 "nbformat_minor": 4
}
